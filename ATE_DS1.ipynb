{
  "nbformat": 4,
  "nbformat_minor": 0,
  "metadata": {
    "colab": {
      "provenance": [],
      "mount_file_id": "1GNGL3j6oLuSmwb96UrSbxvPkcMkityff",
      "authorship_tag": "ABX9TyMFn+tLfeZPWo+OmY/WWNJ0",
      "include_colab_link": true
    },
    "kernelspec": {
      "name": "python3",
      "display_name": "Python 3"
    },
    "language_info": {
      "name": "python"
    }
  },
  "cells": [
    {
      "cell_type": "markdown",
      "metadata": {
        "id": "view-in-github",
        "colab_type": "text"
      },
      "source": [
        "<a href=\"https://colab.research.google.com/github/rober122pst/apredendo-pandas/blob/main/ATE_DS1.ipynb\" target=\"_parent\"><img src=\"https://colab.research.google.com/assets/colab-badge.svg\" alt=\"Open In Colab\"/></a>"
      ]
    },
    {
      "cell_type": "code",
      "source": [
        "import pandas as pd\n",
        "import seaborn as sns\n",
        "import numpy as np\n",
        "import matplotlib.pyplot as plt\n",
        "import plotly.express as px\n",
        "import plotly.figure_factory as ff"
      ],
      "metadata": {
        "id": "cemGKNiVS83C"
      },
      "execution_count": null,
      "outputs": []
    },
    {
      "cell_type": "code",
      "source": [
        "path = 'https://ocw.mit.edu/courses/15-071-the-analytics-edge-spring-2017/d4332a3056f44e1a1dec9600a31f21c8_boston.csv'"
      ],
      "metadata": {
        "id": "wnZsfIQPPHmT"
      },
      "execution_count": null,
      "outputs": []
    },
    {
      "cell_type": "code",
      "source": [
        "boston = pd.read_csv(path)"
      ],
      "metadata": {
        "id": "6pdLZT_6Qe4b"
      },
      "execution_count": null,
      "outputs": []
    },
    {
      "cell_type": "code",
      "source": [
        "boston"
      ],
      "metadata": {
        "colab": {
          "base_uri": "https://localhost:8080/",
          "height": 424
        },
        "id": "A4BKR5BHSkAK",
        "outputId": "fcfa6e78-7224-4da1-9add-5c538328c0e1"
      },
      "execution_count": null,
      "outputs": [
        {
          "output_type": "execute_result",
          "data": {
            "text/plain": [
              "           TOWN  TRACT      LON      LAT  MEDV     CRIM    ZN  INDUS  CHAS  \\\n",
              "0        Nahant   2011 -70.9550  42.2550  24.0  0.00632  18.0   2.31     0   \n",
              "1    Swampscott   2021 -70.9500  42.2875  21.6  0.02731   0.0   7.07     0   \n",
              "2    Swampscott   2022 -70.9360  42.2830  34.7  0.02729   0.0   7.07     0   \n",
              "3    Marblehead   2031 -70.9280  42.2930  33.4  0.03237   0.0   2.18     0   \n",
              "4    Marblehead   2032 -70.9220  42.2980  36.2  0.06905   0.0   2.18     0   \n",
              "..          ...    ...      ...      ...   ...      ...   ...    ...   ...   \n",
              "501    Winthrop   1801 -70.9860  42.2312  22.4  0.06263   0.0  11.93     0   \n",
              "502    Winthrop   1802 -70.9910  42.2275  20.6  0.04527   0.0  11.93     0   \n",
              "503    Winthrop   1803 -70.9948  42.2260  23.9  0.06076   0.0  11.93     0   \n",
              "504    Winthrop   1804 -70.9875  42.2240  22.0  0.10959   0.0  11.93     0   \n",
              "505    Winthrop   1805 -70.9825  42.2210  19.0  0.04741   0.0  11.93     0   \n",
              "\n",
              "       NOX     RM   AGE     DIS  RAD  TAX  PTRATIO  \n",
              "0    0.538  6.575  65.2  4.0900    1  296     15.3  \n",
              "1    0.469  6.421  78.9  4.9671    2  242     17.8  \n",
              "2    0.469  7.185  61.1  4.9671    2  242     17.8  \n",
              "3    0.458  6.998  45.8  6.0622    3  222     18.7  \n",
              "4    0.458  7.147  54.2  6.0622    3  222     18.7  \n",
              "..     ...    ...   ...     ...  ...  ...      ...  \n",
              "501  0.573  6.593  69.1  2.4786    1  273     21.0  \n",
              "502  0.573  6.120  76.7  2.2875    1  273     21.0  \n",
              "503  0.573  6.976  91.0  2.1675    1  273     21.0  \n",
              "504  0.573  6.794  89.3  2.3889    1  273     21.0  \n",
              "505  0.573  6.030  80.8  2.5050    1  273     21.0  \n",
              "\n",
              "[506 rows x 16 columns]"
            ],
            "text/html": [
              "\n",
              "  <div id=\"df-cf806672-3040-4153-86c9-b7e29828db6c\">\n",
              "    <div class=\"colab-df-container\">\n",
              "      <div>\n",
              "<style scoped>\n",
              "    .dataframe tbody tr th:only-of-type {\n",
              "        vertical-align: middle;\n",
              "    }\n",
              "\n",
              "    .dataframe tbody tr th {\n",
              "        vertical-align: top;\n",
              "    }\n",
              "\n",
              "    .dataframe thead th {\n",
              "        text-align: right;\n",
              "    }\n",
              "</style>\n",
              "<table border=\"1\" class=\"dataframe\">\n",
              "  <thead>\n",
              "    <tr style=\"text-align: right;\">\n",
              "      <th></th>\n",
              "      <th>TOWN</th>\n",
              "      <th>TRACT</th>\n",
              "      <th>LON</th>\n",
              "      <th>LAT</th>\n",
              "      <th>MEDV</th>\n",
              "      <th>CRIM</th>\n",
              "      <th>ZN</th>\n",
              "      <th>INDUS</th>\n",
              "      <th>CHAS</th>\n",
              "      <th>NOX</th>\n",
              "      <th>RM</th>\n",
              "      <th>AGE</th>\n",
              "      <th>DIS</th>\n",
              "      <th>RAD</th>\n",
              "      <th>TAX</th>\n",
              "      <th>PTRATIO</th>\n",
              "    </tr>\n",
              "  </thead>\n",
              "  <tbody>\n",
              "    <tr>\n",
              "      <th>0</th>\n",
              "      <td>Nahant</td>\n",
              "      <td>2011</td>\n",
              "      <td>-70.9550</td>\n",
              "      <td>42.2550</td>\n",
              "      <td>24.0</td>\n",
              "      <td>0.00632</td>\n",
              "      <td>18.0</td>\n",
              "      <td>2.31</td>\n",
              "      <td>0</td>\n",
              "      <td>0.538</td>\n",
              "      <td>6.575</td>\n",
              "      <td>65.2</td>\n",
              "      <td>4.0900</td>\n",
              "      <td>1</td>\n",
              "      <td>296</td>\n",
              "      <td>15.3</td>\n",
              "    </tr>\n",
              "    <tr>\n",
              "      <th>1</th>\n",
              "      <td>Swampscott</td>\n",
              "      <td>2021</td>\n",
              "      <td>-70.9500</td>\n",
              "      <td>42.2875</td>\n",
              "      <td>21.6</td>\n",
              "      <td>0.02731</td>\n",
              "      <td>0.0</td>\n",
              "      <td>7.07</td>\n",
              "      <td>0</td>\n",
              "      <td>0.469</td>\n",
              "      <td>6.421</td>\n",
              "      <td>78.9</td>\n",
              "      <td>4.9671</td>\n",
              "      <td>2</td>\n",
              "      <td>242</td>\n",
              "      <td>17.8</td>\n",
              "    </tr>\n",
              "    <tr>\n",
              "      <th>2</th>\n",
              "      <td>Swampscott</td>\n",
              "      <td>2022</td>\n",
              "      <td>-70.9360</td>\n",
              "      <td>42.2830</td>\n",
              "      <td>34.7</td>\n",
              "      <td>0.02729</td>\n",
              "      <td>0.0</td>\n",
              "      <td>7.07</td>\n",
              "      <td>0</td>\n",
              "      <td>0.469</td>\n",
              "      <td>7.185</td>\n",
              "      <td>61.1</td>\n",
              "      <td>4.9671</td>\n",
              "      <td>2</td>\n",
              "      <td>242</td>\n",
              "      <td>17.8</td>\n",
              "    </tr>\n",
              "    <tr>\n",
              "      <th>3</th>\n",
              "      <td>Marblehead</td>\n",
              "      <td>2031</td>\n",
              "      <td>-70.9280</td>\n",
              "      <td>42.2930</td>\n",
              "      <td>33.4</td>\n",
              "      <td>0.03237</td>\n",
              "      <td>0.0</td>\n",
              "      <td>2.18</td>\n",
              "      <td>0</td>\n",
              "      <td>0.458</td>\n",
              "      <td>6.998</td>\n",
              "      <td>45.8</td>\n",
              "      <td>6.0622</td>\n",
              "      <td>3</td>\n",
              "      <td>222</td>\n",
              "      <td>18.7</td>\n",
              "    </tr>\n",
              "    <tr>\n",
              "      <th>4</th>\n",
              "      <td>Marblehead</td>\n",
              "      <td>2032</td>\n",
              "      <td>-70.9220</td>\n",
              "      <td>42.2980</td>\n",
              "      <td>36.2</td>\n",
              "      <td>0.06905</td>\n",
              "      <td>0.0</td>\n",
              "      <td>2.18</td>\n",
              "      <td>0</td>\n",
              "      <td>0.458</td>\n",
              "      <td>7.147</td>\n",
              "      <td>54.2</td>\n",
              "      <td>6.0622</td>\n",
              "      <td>3</td>\n",
              "      <td>222</td>\n",
              "      <td>18.7</td>\n",
              "    </tr>\n",
              "    <tr>\n",
              "      <th>...</th>\n",
              "      <td>...</td>\n",
              "      <td>...</td>\n",
              "      <td>...</td>\n",
              "      <td>...</td>\n",
              "      <td>...</td>\n",
              "      <td>...</td>\n",
              "      <td>...</td>\n",
              "      <td>...</td>\n",
              "      <td>...</td>\n",
              "      <td>...</td>\n",
              "      <td>...</td>\n",
              "      <td>...</td>\n",
              "      <td>...</td>\n",
              "      <td>...</td>\n",
              "      <td>...</td>\n",
              "      <td>...</td>\n",
              "    </tr>\n",
              "    <tr>\n",
              "      <th>501</th>\n",
              "      <td>Winthrop</td>\n",
              "      <td>1801</td>\n",
              "      <td>-70.9860</td>\n",
              "      <td>42.2312</td>\n",
              "      <td>22.4</td>\n",
              "      <td>0.06263</td>\n",
              "      <td>0.0</td>\n",
              "      <td>11.93</td>\n",
              "      <td>0</td>\n",
              "      <td>0.573</td>\n",
              "      <td>6.593</td>\n",
              "      <td>69.1</td>\n",
              "      <td>2.4786</td>\n",
              "      <td>1</td>\n",
              "      <td>273</td>\n",
              "      <td>21.0</td>\n",
              "    </tr>\n",
              "    <tr>\n",
              "      <th>502</th>\n",
              "      <td>Winthrop</td>\n",
              "      <td>1802</td>\n",
              "      <td>-70.9910</td>\n",
              "      <td>42.2275</td>\n",
              "      <td>20.6</td>\n",
              "      <td>0.04527</td>\n",
              "      <td>0.0</td>\n",
              "      <td>11.93</td>\n",
              "      <td>0</td>\n",
              "      <td>0.573</td>\n",
              "      <td>6.120</td>\n",
              "      <td>76.7</td>\n",
              "      <td>2.2875</td>\n",
              "      <td>1</td>\n",
              "      <td>273</td>\n",
              "      <td>21.0</td>\n",
              "    </tr>\n",
              "    <tr>\n",
              "      <th>503</th>\n",
              "      <td>Winthrop</td>\n",
              "      <td>1803</td>\n",
              "      <td>-70.9948</td>\n",
              "      <td>42.2260</td>\n",
              "      <td>23.9</td>\n",
              "      <td>0.06076</td>\n",
              "      <td>0.0</td>\n",
              "      <td>11.93</td>\n",
              "      <td>0</td>\n",
              "      <td>0.573</td>\n",
              "      <td>6.976</td>\n",
              "      <td>91.0</td>\n",
              "      <td>2.1675</td>\n",
              "      <td>1</td>\n",
              "      <td>273</td>\n",
              "      <td>21.0</td>\n",
              "    </tr>\n",
              "    <tr>\n",
              "      <th>504</th>\n",
              "      <td>Winthrop</td>\n",
              "      <td>1804</td>\n",
              "      <td>-70.9875</td>\n",
              "      <td>42.2240</td>\n",
              "      <td>22.0</td>\n",
              "      <td>0.10959</td>\n",
              "      <td>0.0</td>\n",
              "      <td>11.93</td>\n",
              "      <td>0</td>\n",
              "      <td>0.573</td>\n",
              "      <td>6.794</td>\n",
              "      <td>89.3</td>\n",
              "      <td>2.3889</td>\n",
              "      <td>1</td>\n",
              "      <td>273</td>\n",
              "      <td>21.0</td>\n",
              "    </tr>\n",
              "    <tr>\n",
              "      <th>505</th>\n",
              "      <td>Winthrop</td>\n",
              "      <td>1805</td>\n",
              "      <td>-70.9825</td>\n",
              "      <td>42.2210</td>\n",
              "      <td>19.0</td>\n",
              "      <td>0.04741</td>\n",
              "      <td>0.0</td>\n",
              "      <td>11.93</td>\n",
              "      <td>0</td>\n",
              "      <td>0.573</td>\n",
              "      <td>6.030</td>\n",
              "      <td>80.8</td>\n",
              "      <td>2.5050</td>\n",
              "      <td>1</td>\n",
              "      <td>273</td>\n",
              "      <td>21.0</td>\n",
              "    </tr>\n",
              "  </tbody>\n",
              "</table>\n",
              "<p>506 rows × 16 columns</p>\n",
              "</div>\n",
              "      <button class=\"colab-df-convert\" onclick=\"convertToInteractive('df-cf806672-3040-4153-86c9-b7e29828db6c')\"\n",
              "              title=\"Convert this dataframe to an interactive table.\"\n",
              "              style=\"display:none;\">\n",
              "        \n",
              "  <svg xmlns=\"http://www.w3.org/2000/svg\" height=\"24px\"viewBox=\"0 0 24 24\"\n",
              "       width=\"24px\">\n",
              "    <path d=\"M0 0h24v24H0V0z\" fill=\"none\"/>\n",
              "    <path d=\"M18.56 5.44l.94 2.06.94-2.06 2.06-.94-2.06-.94-.94-2.06-.94 2.06-2.06.94zm-11 1L8.5 8.5l.94-2.06 2.06-.94-2.06-.94L8.5 2.5l-.94 2.06-2.06.94zm10 10l.94 2.06.94-2.06 2.06-.94-2.06-.94-.94-2.06-.94 2.06-2.06.94z\"/><path d=\"M17.41 7.96l-1.37-1.37c-.4-.4-.92-.59-1.43-.59-.52 0-1.04.2-1.43.59L10.3 9.45l-7.72 7.72c-.78.78-.78 2.05 0 2.83L4 21.41c.39.39.9.59 1.41.59.51 0 1.02-.2 1.41-.59l7.78-7.78 2.81-2.81c.8-.78.8-2.07 0-2.86zM5.41 20L4 18.59l7.72-7.72 1.47 1.35L5.41 20z\"/>\n",
              "  </svg>\n",
              "      </button>\n",
              "      \n",
              "  <style>\n",
              "    .colab-df-container {\n",
              "      display:flex;\n",
              "      flex-wrap:wrap;\n",
              "      gap: 12px;\n",
              "    }\n",
              "\n",
              "    .colab-df-convert {\n",
              "      background-color: #E8F0FE;\n",
              "      border: none;\n",
              "      border-radius: 50%;\n",
              "      cursor: pointer;\n",
              "      display: none;\n",
              "      fill: #1967D2;\n",
              "      height: 32px;\n",
              "      padding: 0 0 0 0;\n",
              "      width: 32px;\n",
              "    }\n",
              "\n",
              "    .colab-df-convert:hover {\n",
              "      background-color: #E2EBFA;\n",
              "      box-shadow: 0px 1px 2px rgba(60, 64, 67, 0.3), 0px 1px 3px 1px rgba(60, 64, 67, 0.15);\n",
              "      fill: #174EA6;\n",
              "    }\n",
              "\n",
              "    [theme=dark] .colab-df-convert {\n",
              "      background-color: #3B4455;\n",
              "      fill: #D2E3FC;\n",
              "    }\n",
              "\n",
              "    [theme=dark] .colab-df-convert:hover {\n",
              "      background-color: #434B5C;\n",
              "      box-shadow: 0px 1px 3px 1px rgba(0, 0, 0, 0.15);\n",
              "      filter: drop-shadow(0px 1px 2px rgba(0, 0, 0, 0.3));\n",
              "      fill: #FFFFFF;\n",
              "    }\n",
              "  </style>\n",
              "\n",
              "      <script>\n",
              "        const buttonEl =\n",
              "          document.querySelector('#df-cf806672-3040-4153-86c9-b7e29828db6c button.colab-df-convert');\n",
              "        buttonEl.style.display =\n",
              "          google.colab.kernel.accessAllowed ? 'block' : 'none';\n",
              "\n",
              "        async function convertToInteractive(key) {\n",
              "          const element = document.querySelector('#df-cf806672-3040-4153-86c9-b7e29828db6c');\n",
              "          const dataTable =\n",
              "            await google.colab.kernel.invokeFunction('convertToInteractive',\n",
              "                                                     [key], {});\n",
              "          if (!dataTable) return;\n",
              "\n",
              "          const docLinkHtml = 'Like what you see? Visit the ' +\n",
              "            '<a target=\"_blank\" href=https://colab.research.google.com/notebooks/data_table.ipynb>data table notebook</a>'\n",
              "            + ' to learn more about interactive tables.';\n",
              "          element.innerHTML = '';\n",
              "          dataTable['output_type'] = 'display_data';\n",
              "          await google.colab.output.renderOutput(dataTable, element);\n",
              "          const docLink = document.createElement('div');\n",
              "          docLink.innerHTML = docLinkHtml;\n",
              "          element.appendChild(docLink);\n",
              "        }\n",
              "      </script>\n",
              "    </div>\n",
              "  </div>\n",
              "  "
            ]
          },
          "metadata": {},
          "execution_count": 5
        }
      ]
    },
    {
      "cell_type": "code",
      "source": [
        "data = pd.DataFrame(data=boston)"
      ],
      "metadata": {
        "id": "3O74g99eSqpp"
      },
      "execution_count": null,
      "outputs": []
    },
    {
      "cell_type": "code",
      "source": [
        "# Correlações\n",
        "correlacoes = data.corr()"
      ],
      "metadata": {
        "colab": {
          "base_uri": "https://localhost:8080/"
        },
        "id": "9Co7qT9xXbRI",
        "outputId": "823d046f-d43c-46a1-cb4e-7552952d0468"
      },
      "execution_count": null,
      "outputs": [
        {
          "output_type": "stream",
          "name": "stderr",
          "text": [
            "<ipython-input-7-fa7c2499e070>:2: FutureWarning: The default value of numeric_only in DataFrame.corr is deprecated. In a future version, it will default to False. Select only valid columns or specify the value of numeric_only to silence this warning.\n",
            "  correlacoes = data.corr()\n"
          ]
        }
      ]
    },
    {
      "cell_type": "code",
      "source": [
        "#Grafico\n",
        "plt.figure(figsize=(16,6))\n",
        "sns.heatmap(data=correlacoes, annot=True)"
      ],
      "metadata": {
        "id": "6qjH9lnXXwdv",
        "colab": {
          "base_uri": "https://localhost:8080/",
          "height": 545
        },
        "outputId": "a91829e0-4a21-4c90-daad-c9b64c96833e"
      },
      "execution_count": null,
      "outputs": [
        {
          "output_type": "execute_result",
          "data": {
            "text/plain": [
              "<Axes: >"
            ]
          },
          "metadata": {},
          "execution_count": 8
        },
        {
          "output_type": "display_data",
          "data": {
            "text/plain": [
              "<Figure size 1600x600 with 2 Axes>"
            ],
            "image/png": "[encoded data removed]"
          },
          "metadata": {}
        }
      ]
    },
    {
      "cell_type": "code",
      "source": [
        "# RM vs MEDV (Número de quartos e valor médio do imóvel)\n",
        "fig = px.scatter(data, x=data.RM, y=data.MEDV)\n",
        "fig.show()"
      ],
      "metadata": {
        "colab": {
          "base_uri": "https://localhost:8080/",
          "height": 542
        },
        "id": "zIY9Q0wTU0IY",
        "outputId": "7785b15e-bfe2-4a7a-b496-3ca5dbeca532"
      },
      "execution_count": null,
      "outputs": [
        {
          "output_type": "display_data",
          "data": {
            "text/html": [
              "<html>\n",
              "<head><meta charset=\"utf-8\" /></head>\n",
              "<body>\n",
              "    <div>            <script src=\"https://cdnjs.cloudflare.com/ajax/libs/mathjax/2.7.5/MathJax.js?config=TeX-AMS-MML_SVG\"></script><script type=\"text/javascript\">if (window.MathJax && window.MathJax.Hub && window.MathJax.Hub.Config) {window.MathJax.Hub.Config({SVG: {font: \"STIX-Web\"}});}</script>                <script type=\"text/javascript\">window.PlotlyConfig = {MathJaxConfig: 'local'};</script>\n",
              "        <script src=\"https://cdn.plot.ly/plotly-2.18.2.min.js\"></script>                <div id=\"e9b6333c-8161-4843-9d84-853ef3dc600e\" class=\"plotly-graph-div\" style=\"height:525px; width:100%;\"></div>            <script type=\"text/javascript\">                                    window.PLOTLYENV=window.PLOTLYENV || {};                                    if (document.getElementById(\"e9b6333c-8161-4843-9d84-853ef3dc600e\")) {                    Plotly.newPlot(                        \"e9b6333c-8161-4843-9d84-853ef3dc600e\",                        [{\"hovertemplate\":\"RM=%{x}<br>MEDV=%{y}<extra></extra>\",\"legendgroup\":\"\",\"marker\":{\"color\":\"#636efa\",\"symbol\":\"circle\"},\"mode\":\"markers\",\"name\":\"\",\"orientation\":\"v\",\"showlegend\":false,\"x\":[6.575,6.421,7.185,6.998,7.147,6.43,6.012,6.172,5.631,6.004,6.377,6.009,5.889,5.949,6.096,5.834,5.935,5.99,5.456,5.727,5.57,5.965,6.142,5.813,5.924,5.599,5.813,6.047,6.495,6.674,5.713,6.072,5.95,5.701,6.096,5.933,5.841,5.85,5.966,6.595,7.024,6.77,6.169,6.211,6.069,5.682,5.786,6.03,5.399,5.602,5.963,6.115,6.511,5.998,5.888,7.249,6.383,6.816,6.145,5.927,5.741,5.966,6.456,6.762,7.104,6.29,5.787,5.878,5.594,5.885,6.417,5.961,6.065,6.245,6.273,6.286,6.279,6.14,6.232,5.874,6.727,6.619,6.302,6.167,6.389,6.63,6.015,6.121,7.007,7.079,6.417,6.405,6.442,6.211,6.249,6.625,6.163,8.069,7.82,7.416,6.727,6.781,6.405,6.137,6.167,5.851,5.836,6.127,6.474,6.229,6.195,6.715,5.913,6.092,6.254,5.928,6.176,6.021,5.872,5.731,5.87,6.004,5.961,5.856,5.879,5.986,5.613,5.693,6.431,5.637,6.458,6.326,6.372,5.822,5.757,6.335,5.942,6.454,5.857,6.151,6.174,5.019,5.403,5.468,4.903,6.13,5.628,4.926,5.186,5.597,6.122,5.404,5.012,5.709,6.129,6.152,5.272,6.943,6.066,6.51,6.25,7.489,7.802,8.375,5.854,6.101,7.929,5.877,6.319,6.402,5.875,5.88,5.572,6.416,5.859,6.546,6.02,6.315,6.86,6.98,7.765,6.144,7.155,6.563,5.604,6.153,7.831,6.782,6.556,7.185,6.951,6.739,7.178,6.8,6.604,7.875,7.287,7.107,7.274,6.975,7.135,6.162,7.61,7.853,8.034,5.891,6.326,5.783,6.064,5.344,5.96,5.404,5.807,6.375,5.412,6.182,5.888,6.642,5.951,6.373,6.951,6.164,6.879,6.618,8.266,8.725,8.04,7.163,7.686,6.552,5.981,7.412,8.337,8.247,6.726,6.086,6.631,7.358,6.481,6.606,6.897,6.095,6.358,6.393,5.593,5.605,6.108,6.226,6.433,6.718,6.487,6.438,6.957,8.259,6.108,5.876,7.454,8.704,7.333,6.842,7.203,7.52,8.398,7.327,7.206,5.56,7.014,8.297,7.47,5.92,5.856,6.24,6.538,7.691,6.758,6.854,7.267,6.826,6.482,6.812,7.82,6.968,7.645,7.923,7.088,6.453,6.23,6.209,6.315,6.565,6.861,7.148,6.63,6.127,6.009,6.678,6.549,5.79,6.345,7.041,6.871,6.59,6.495,6.982,7.236,6.616,7.42,6.849,6.635,5.972,4.973,6.122,6.023,6.266,6.567,5.705,5.914,5.782,6.382,6.113,6.426,6.376,6.041,5.708,6.415,6.431,6.312,6.083,5.868,6.333,6.144,5.706,6.031,6.316,6.31,6.037,5.869,5.895,6.059,5.985,5.968,7.241,6.54,6.696,6.874,6.014,5.898,6.516,6.635,6.939,6.49,6.579,5.884,6.728,5.663,5.936,6.212,6.395,6.127,6.112,6.398,6.251,5.362,5.803,8.78,3.561,4.963,3.863,4.97,6.683,7.016,6.216,5.875,4.906,4.138,7.313,6.649,6.794,6.38,6.223,6.968,6.545,5.536,5.52,4.368,5.277,4.652,5.0,4.88,5.39,5.713,6.051,5.036,6.193,5.887,6.471,6.405,5.747,5.453,5.852,5.987,6.343,6.404,5.349,5.531,5.683,4.138,5.608,5.617,6.852,5.757,6.657,4.628,5.155,4.519,6.434,6.782,5.304,5.957,6.824,6.411,6.006,5.648,6.103,5.565,5.896,5.837,6.202,6.193,6.38,6.348,6.833,6.425,6.436,6.208,6.629,6.461,6.152,5.935,5.627,5.818,6.406,6.219,6.485,5.854,6.459,6.341,6.251,6.185,6.417,6.749,6.655,6.297,7.393,6.728,6.525,5.976,5.936,6.301,6.081,6.701,6.376,6.317,6.513,6.209,5.759,5.952,6.003,5.926,5.713,6.167,6.229,6.437,6.98,5.427,6.162,6.484,5.304,6.185,6.229,6.242,6.75,7.061,5.762,5.871,6.312,6.114,5.905,5.454,5.414,5.093,5.983,5.983,5.707,5.926,5.67,5.39,5.794,6.019,5.569,6.027,6.593,6.12,6.976,6.794,6.03],\"xaxis\":\"x\",\"y\":[24.0,21.6,34.7,33.4,36.2,28.7,22.9,22.1,16.5,18.9,15.0,18.9,21.7,20.4,18.2,19.9,23.1,17.5,20.2,18.2,13.6,19.6,15.2,14.5,15.6,13.9,16.6,14.8,18.4,21.0,12.7,14.5,13.2,13.1,13.5,18.9,20.0,21.0,24.2,30.8,34.9,26.6,25.3,24.7,21.2,19.3,20.0,16.6,14.4,19.4,19.7,20.5,25.0,23.4,18.9,35.4,24.7,31.6,23.3,19.6,18.7,16.0,22.2,25.0,33.0,23.5,19.4,22.0,17.4,20.9,24.2,21.7,22.8,23.4,24.1,21.4,20.0,20.8,21.2,20.3,28.0,23.9,24.8,22.9,23.9,26.6,22.5,22.2,23.6,28.7,22.6,22.0,22.9,25.0,20.6,28.4,21.4,38.7,43.8,33.2,27.5,26.5,18.6,19.3,20.1,19.5,19.5,20.4,19.8,19.4,21.7,22.8,18.8,18.7,18.5,18.3,21.2,19.2,20.4,19.3,22.0,20.3,20.5,17.3,18.8,21.4,15.7,16.2,18.0,14.3,19.2,19.6,23.0,18.4,15.6,18.1,17.4,17.1,13.3,17.8,14.0,14.4,13.4,15.6,11.8,13.8,15.6,14.6,17.8,15.4,21.5,19.6,15.3,19.4,17.0,15.6,13.1,41.3,24.3,23.3,27.0,50.0,50.0,50.0,22.7,25.0,50.0,23.8,23.8,22.3,17.4,19.1,23.1,23.6,22.6,29.4,23.2,24.6,29.9,37.2,39.8,36.2,37.9,32.5,26.4,29.6,50.0,32.0,29.8,34.9,33.0,30.5,36.4,31.1,29.1,50.0,33.3,30.3,34.6,34.9,32.9,24.1,42.3,48.5,50.0,22.6,24.4,22.5,24.4,20.0,21.7,19.3,22.4,28.1,23.7,25.0,23.3,28.7,21.5,23.0,26.7,21.7,27.5,30.1,44.8,50.0,37.6,31.6,46.7,31.5,24.3,31.7,41.7,48.3,29.0,24.0,25.1,31.5,23.7,23.3,27.0,20.1,22.2,23.7,17.6,18.5,24.3,20.5,24.5,26.2,24.4,24.8,29.6,42.8,21.9,20.9,44.0,50.0,36.0,30.1,33.8,43.1,48.8,31.0,36.5,22.8,30.7,50.0,43.5,20.7,21.1,25.2,24.4,35.2,32.4,32.0,33.2,33.1,29.1,35.1,45.4,35.4,46.0,50.0,32.2,22.0,20.1,23.2,22.3,24.8,28.5,37.3,27.9,23.9,21.7,28.6,27.1,20.3,22.5,29.0,24.8,22.0,26.4,33.1,36.1,28.4,33.4,28.2,22.8,20.3,16.1,22.1,19.4,21.6,23.8,16.2,17.8,19.8,23.1,21.0,23.8,23.1,20.4,18.5,25.0,24.6,23.0,22.2,19.3,22.6,19.8,17.1,19.4,22.2,20.7,21.1,19.5,18.5,20.6,19.0,18.7,32.7,16.5,23.9,31.2,17.5,17.2,23.1,24.5,26.6,22.9,24.1,18.6,30.1,18.2,20.6,17.8,21.7,22.7,22.6,25.0,19.9,20.8,16.8,21.9,27.5,21.9,23.1,50.0,50.0,50.0,50.0,50.0,13.8,13.8,15.0,13.9,13.3,13.1,10.2,10.4,10.9,11.3,12.3,8.8,7.2,10.5,7.4,10.2,11.5,15.1,23.2,9.7,13.8,12.7,13.1,12.5,8.5,5.0,6.3,5.6,7.2,12.1,8.3,8.5,5.0,11.9,27.9,17.2,27.5,15.0,17.2,17.9,16.3,7.0,7.2,7.5,10.4,8.8,8.4,16.7,14.2,20.8,13.4,11.7,8.3,10.2,10.9,11.0,9.5,14.5,14.1,16.1,14.3,11.7,13.4,9.6,8.2,8.4,12.8,10.5,17.1,14.8,15.4,10.8,11.8,14.9,12.6,14.1,13.0,13.4,15.2,16.1,17.8,14.4,14.1,12.7,13.5,14.9,20.0,16.4,17.7,19.5,20.2,21.4,19.9,19.0,19.1,19.1,20.1,19.9,19.6,23.2,29.8,13.8,13.3,16.7,12.0,14.6,21.4,23.0,23.7,25.0,21.8,20.6,21.2,19.1,20.6,15.2,7.0,8.1,13.6,20.1,21.8,24.5,23.1,19.7,18.3,21.2,17.5,16.8,22.4,20.6,23.9,22.0,19.0],\"yaxis\":\"y\",\"type\":\"scatter\"}],                        {\"template\":{\"data\":{\"histogram2dcontour\":[{\"type\":\"histogram2dcontour\",\"colorbar\":{\"outlinewidth\":0,\"ticks\":\"\"},\"colorscale\":[[0.0,\"#0d0887\"],[0.1111111111111111,\"#46039f\"],[0.2222222222222222,\"#7201a8\"],[0.3333333333333333,\"#9c179e\"],[0.4444444444444444,\"#bd3786\"],[0.5555555555555556,\"#d8576b\"],[0.6666666666666666,\"#ed7953\"],[0.7777777777777778,\"#fb9f3a\"],[0.8888888888888888,\"#fdca26\"],[1.0,\"#f0f921\"]]}],\"choropleth\":[{\"type\":\"choropleth\",\"colorbar\":{\"outlinewidth\":0,\"ticks\":\"\"}}],\"histogram2d\":[{\"type\":\"histogram2d\",\"colorbar\":{\"outlinewidth\":0,\"ticks\":\"\"},\"colorscale\":[[0.0,\"#0d0887\"],[0.1111111111111111,\"#46039f\"],[0.2222222222222222,\"#7201a8\"],[0.3333333333333333,\"#9c179e\"],[0.4444444444444444,\"#bd3786\"],[0.5555555555555556,\"#d8576b\"],[0.6666666666666666,\"#ed7953\"],[0.7777777777777778,\"#fb9f3a\"],[0.8888888888888888,\"#fdca26\"],[1.0,\"#f0f921\"]]}],\"heatmap\":[{\"type\":\"heatmap\",\"colorbar\":{\"outlinewidth\":0,\"ticks\":\"\"},\"colorscale\":[[0.0,\"#0d0887\"],[0.1111111111111111,\"#46039f\"],[0.2222222222222222,\"#7201a8\"],[0.3333333333333333,\"#9c179e\"],[0.4444444444444444,\"#bd3786\"],[0.5555555555555556,\"#d8576b\"],[0.6666666666666666,\"#ed7953\"],[0.7777777777777778,\"#fb9f3a\"],[0.8888888888888888,\"#fdca26\"],[1.0,\"#f0f921\"]]}],\"heatmapgl\":[{\"type\":\"heatmapgl\",\"colorbar\":{\"outlinewidth\":0,\"ticks\":\"\"},\"colorscale\":[[0.0,\"#0d0887\"],[0.1111111111111111,\"#46039f\"],[0.2222222222222222,\"#7201a8\"],[0.3333333333333333,\"#9c179e\"],[0.4444444444444444,\"#bd3786\"],[0.5555555555555556,\"#d8576b\"],[0.6666666666666666,\"#ed7953\"],[0.7777777777777778,\"#fb9f3a\"],[0.8888888888888888,\"#fdca26\"],[1.0,\"#f0f921\"]]}],\"contourcarpet\":[{\"type\":\"contourcarpet\",\"colorbar\":{\"outlinewidth\":0,\"ticks\":\"\"}}],\"contour\":[{\"type\":\"contour\",\"colorbar\":{\"outlinewidth\":0,\"ticks\":\"\"},\"colorscale\":[[0.0,\"#0d0887\"],[0.1111111111111111,\"#46039f\"],[0.2222222222222222,\"#7201a8\"],[0.3333333333333333,\"#9c179e\"],[0.4444444444444444,\"#bd3786\"],[0.5555555555555556,\"#d8576b\"],[0.6666666666666666,\"#ed7953\"],[0.7777777777777778,\"#fb9f3a\"],[0.8888888888888888,\"#fdca26\"],[1.0,\"#f0f921\"]]}],\"surface\":[{\"type\":\"surface\",\"colorbar\":{\"outlinewidth\":0,\"ticks\":\"\"},\"colorscale\":[[0.0,\"#0d0887\"],[0.1111111111111111,\"#46039f\"],[0.2222222222222222,\"#7201a8\"],[0.3333333333333333,\"#9c179e\"],[0.4444444444444444,\"#bd3786\"],[0.5555555555555556,\"#d8576b\"],[0.6666666666666666,\"#ed7953\"],[0.7777777777777778,\"#fb9f3a\"],[0.8888888888888888,\"#fdca26\"],[1.0,\"#f0f921\"]]}],\"mesh3d\":[{\"type\":\"mesh3d\",\"colorbar\":{\"outlinewidth\":0,\"ticks\":\"\"}}],\"scatter\":[{\"fillpattern\":{\"fillmode\":\"overlay\",\"size\":10,\"solidity\":0.2},\"type\":\"scatter\"}],\"parcoords\":[{\"type\":\"parcoords\",\"line\":{\"colorbar\":{\"outlinewidth\":0,\"ticks\":\"\"}}}],\"scatterpolargl\":[{\"type\":\"scatterpolargl\",\"marker\":{\"colorbar\":{\"outlinewidth\":0,\"ticks\":\"\"}}}],\"bar\":[{\"error_x\":{\"color\":\"#2a3f5f\"},\"error_y\":{\"color\":\"#2a3f5f\"},\"marker\":{\"line\":{\"color\":\"#E5ECF6\",\"width\":0.5},\"pattern\":{\"fillmode\":\"overlay\",\"size\":10,\"solidity\":0.2}},\"type\":\"bar\"}],\"scattergeo\":[{\"type\":\"scattergeo\",\"marker\":{\"colorbar\":{\"outlinewidth\":0,\"ticks\":\"\"}}}],\"scatterpolar\":[{\"type\":\"scatterpolar\",\"marker\":{\"colorbar\":{\"outlinewidth\":0,\"ticks\":\"\"}}}],\"histogram\":[{\"marker\":{\"pattern\":{\"fillmode\":\"overlay\",\"size\":10,\"solidity\":0.2}},\"type\":\"histogram\"}],\"scattergl\":[{\"type\":\"scattergl\",\"marker\":{\"colorbar\":{\"outlinewidth\":0,\"ticks\":\"\"}}}],\"scatter3d\":[{\"type\":\"scatter3d\",\"line\":{\"colorbar\":{\"outlinewidth\":0,\"ticks\":\"\"}},\"marker\":{\"colorbar\":{\"outlinewidth\":0,\"ticks\":\"\"}}}],\"scattermapbox\":[{\"type\":\"scattermapbox\",\"marker\":{\"colorbar\":{\"outlinewidth\":0,\"ticks\":\"\"}}}],\"scatterternary\":[{\"type\":\"scatterternary\",\"marker\":{\"colorbar\":{\"outlinewidth\":0,\"ticks\":\"\"}}}],\"scattercarpet\":[{\"type\":\"scattercarpet\",\"marker\":{\"colorbar\":{\"outlinewidth\":0,\"ticks\":\"\"}}}],\"carpet\":[{\"aaxis\":{\"endlinecolor\":\"#2a3f5f\",\"gridcolor\":\"white\",\"linecolor\":\"white\",\"minorgridcolor\":\"white\",\"startlinecolor\":\"#2a3f5f\"},\"baxis\":{\"endlinecolor\":\"#2a3f5f\",\"gridcolor\":\"white\",\"linecolor\":\"white\",\"minorgridcolor\":\"white\",\"startlinecolor\":\"#2a3f5f\"},\"type\":\"carpet\"}],\"table\":[{\"cells\":{\"fill\":{\"color\":\"#EBF0F8\"},\"line\":{\"color\":\"white\"}},\"header\":{\"fill\":{\"color\":\"#C8D4E3\"},\"line\":{\"color\":\"white\"}},\"type\":\"table\"}],\"barpolar\":[{\"marker\":{\"line\":{\"color\":\"#E5ECF6\",\"width\":0.5},\"pattern\":{\"fillmode\":\"overlay\",\"size\":10,\"solidity\":0.2}},\"type\":\"barpolar\"}],\"pie\":[{\"automargin\":true,\"type\":\"pie\"}]},\"layout\":{\"autotypenumbers\":\"strict\",\"colorway\":[\"#636efa\",\"#EF553B\",\"#00cc96\",\"#ab63fa\",\"#FFA15A\",\"#19d3f3\",\"#FF6692\",\"#B6E880\",\"#FF97FF\",\"#FECB52\"],\"font\":{\"color\":\"#2a3f5f\"},\"hovermode\":\"closest\",\"hoverlabel\":{\"align\":\"left\"},\"paper_bgcolor\":\"white\",\"plot_bgcolor\":\"#E5ECF6\",\"polar\":{\"bgcolor\":\"#E5ECF6\",\"angularaxis\":{\"gridcolor\":\"white\",\"linecolor\":\"white\",\"ticks\":\"\"},\"radialaxis\":{\"gridcolor\":\"white\",\"linecolor\":\"white\",\"ticks\":\"\"}},\"ternary\":{\"bgcolor\":\"#E5ECF6\",\"aaxis\":{\"gridcolor\":\"white\",\"linecolor\":\"white\",\"ticks\":\"\"},\"baxis\":{\"gridcolor\":\"white\",\"linecolor\":\"white\",\"ticks\":\"\"},\"caxis\":{\"gridcolor\":\"white\",\"linecolor\":\"white\",\"ticks\":\"\"}},\"coloraxis\":{\"colorbar\":{\"outlinewidth\":0,\"ticks\":\"\"}},\"colorscale\":{\"sequential\":[[0.0,\"#0d0887\"],[0.1111111111111111,\"#46039f\"],[0.2222222222222222,\"#7201a8\"],[0.3333333333333333,\"#9c179e\"],[0.4444444444444444,\"#bd3786\"],[0.5555555555555556,\"#d8576b\"],[0.6666666666666666,\"#ed7953\"],[0.7777777777777778,\"#fb9f3a\"],[0.8888888888888888,\"#fdca26\"],[1.0,\"#f0f921\"]],\"sequentialminus\":[[0.0,\"#0d0887\"],[0.1111111111111111,\"#46039f\"],[0.2222222222222222,\"#7201a8\"],[0.3333333333333333,\"#9c179e\"],[0.4444444444444444,\"#bd3786\"],[0.5555555555555556,\"#d8576b\"],[0.6666666666666666,\"#ed7953\"],[0.7777777777777778,\"#fb9f3a\"],[0.8888888888888888,\"#fdca26\"],[1.0,\"#f0f921\"]],\"diverging\":[[0,\"#8e0152\"],[0.1,\"#c51b7d\"],[0.2,\"#de77ae\"],[0.3,\"#f1b6da\"],[0.4,\"#fde0ef\"],[0.5,\"#f7f7f7\"],[0.6,\"#e6f5d0\"],[0.7,\"#b8e186\"],[0.8,\"#7fbc41\"],[0.9,\"#4d9221\"],[1,\"#276419\"]]},\"xaxis\":{\"gridcolor\":\"white\",\"linecolor\":\"white\",\"ticks\":\"\",\"title\":{\"standoff\":15},\"zerolinecolor\":\"white\",\"automargin\":true,\"zerolinewidth\":2},\"yaxis\":{\"gridcolor\":\"white\",\"linecolor\":\"white\",\"ticks\":\"\",\"title\":{\"standoff\":15},\"zerolinecolor\":\"white\",\"automargin\":true,\"zerolinewidth\":2},\"scene\":{\"xaxis\":{\"backgroundcolor\":\"#E5ECF6\",\"gridcolor\":\"white\",\"linecolor\":\"white\",\"showbackground\":true,\"ticks\":\"\",\"zerolinecolor\":\"white\",\"gridwidth\":2},\"yaxis\":{\"backgroundcolor\":\"#E5ECF6\",\"gridcolor\":\"white\",\"linecolor\":\"white\",\"showbackground\":true,\"ticks\":\"\",\"zerolinecolor\":\"white\",\"gridwidth\":2},\"zaxis\":{\"backgroundcolor\":\"#E5ECF6\",\"gridcolor\":\"white\",\"linecolor\":\"white\",\"showbackground\":true,\"ticks\":\"\",\"zerolinecolor\":\"white\",\"gridwidth\":2}},\"shapedefaults\":{\"line\":{\"color\":\"#2a3f5f\"}},\"annotationdefaults\":{\"arrowcolor\":\"#2a3f5f\",\"arrowhead\":0,\"arrowwidth\":1},\"geo\":{\"bgcolor\":\"white\",\"landcolor\":\"#E5ECF6\",\"subunitcolor\":\"white\",\"showland\":true,\"showlakes\":true,\"lakecolor\":\"white\"},\"title\":{\"x\":0.05},\"mapbox\":{\"style\":\"light\"}}},\"xaxis\":{\"anchor\":\"y\",\"domain\":[0.0,1.0],\"title\":{\"text\":\"RM\"}},\"yaxis\":{\"anchor\":\"x\",\"domain\":[0.0,1.0],\"title\":{\"text\":\"MEDV\"}},\"legend\":{\"tracegroupgap\":0},\"margin\":{\"t\":60}},                        {\"responsive\": true}                    ).then(function(){\n",
              "                            \n",
              "var gd = document.getElementById('e9b6333c-8161-4843-9d84-853ef3dc600e');\n",
              "var x = new MutationObserver(function (mutations, observer) {{\n",
              "        var display = window.getComputedStyle(gd).display;\n",
              "        if (!display || display === 'none') {{\n",
              "            console.log([gd, 'removed!']);\n",
              "            Plotly.purge(gd);\n",
              "            observer.disconnect();\n",
              "        }}\n",
              "}});\n",
              "\n",
              "// Listen for the removal of the full notebook cells\n",
              "var notebookContainer = gd.closest('#notebook-container');\n",
              "if (notebookContainer) {{\n",
              "    x.observe(notebookContainer, {childList: true});\n",
              "}}\n",
              "\n",
              "// Listen for the clearing of the current output cell\n",
              "var outputEl = gd.closest('.output');\n",
              "if (outputEl) {{\n",
              "    x.observe(outputEl, {childList: true});\n",
              "}}\n",
              "\n",
              "                        })                };                            </script>        </div>\n",
              "</body>\n",
              "</html>"
            ]
          },
          "metadata": {}
        }
      ]
    },
    {
      "cell_type": "code",
      "source": [
        "# PTRATIO vs MEDV (percentual de proporção de alunos para professores)\n",
        "fig = px.scatter(data, x=data.PTRATIO, y=data.MEDV)\n",
        "fig.show()"
      ],
      "metadata": {
        "colab": {
          "base_uri": "https://localhost:8080/",
          "height": 542
        },
        "id": "ILOIYmZXVV-R",
        "outputId": "e20b4550-c43a-4f2a-db9f-64369813eaa0"
      },
      "execution_count": null,
      "outputs": [
        {
          "output_type": "display_data",
          "data": {
            "text/html": [
              "<html>\n",
              "<head><meta charset=\"utf-8\" /></head>\n",
              "<body>\n",
              "    <div>            <script src=\"https://cdnjs.cloudflare.com/ajax/libs/mathjax/2.7.5/MathJax.js?config=TeX-AMS-MML_SVG\"></script><script type=\"text/javascript\">if (window.MathJax && window.MathJax.Hub && window.MathJax.Hub.Config) {window.MathJax.Hub.Config({SVG: {font: \"STIX-Web\"}});}</script>                <script type=\"text/javascript\">window.PlotlyConfig = {MathJaxConfig: 'local'};</script>\n",
              "        <script src=\"https://cdn.plot.ly/plotly-2.18.2.min.js\"></script>                <div id=\"b6649fec-ecb8-446f-86f4-c6915cee218a\" class=\"plotly-graph-div\" style=\"height:525px; width:100%;\"></div>            <script type=\"text/javascript\">                                    window.PLOTLYENV=window.PLOTLYENV || {};                                    if (document.getElementById(\"b6649fec-ecb8-446f-86f4-c6915cee218a\")) {                    Plotly.newPlot(                        \"b6649fec-ecb8-446f-86f4-c6915cee218a\",                        [{\"hovertemplate\":\"PTRATIO=%{x}<br>MEDV=%{y}<extra></extra>\",\"legendgroup\":\"\",\"marker\":{\"color\":\"#636efa\",\"symbol\":\"circle\"},\"mode\":\"markers\",\"name\":\"\",\"orientation\":\"v\",\"showlegend\":false,\"x\":[15.3,17.8,17.8,18.7,18.7,18.7,15.2,15.2,15.2,15.2,15.2,15.2,15.2,21.0,21.0,21.0,21.0,21.0,21.0,21.0,21.0,21.0,21.0,21.0,21.0,21.0,21.0,21.0,21.0,21.0,21.0,21.0,21.0,21.0,21.0,19.2,19.2,19.2,19.2,18.3,18.3,17.9,17.9,17.9,17.9,17.9,17.9,17.9,17.9,17.9,16.8,16.8,16.8,16.8,21.1,17.9,17.3,15.1,19.7,19.7,19.7,19.7,19.7,19.7,18.6,16.1,16.1,18.9,18.9,18.9,19.2,19.2,19.2,19.2,18.7,18.7,18.7,18.7,18.7,18.7,19.0,19.0,19.0,19.0,18.5,18.5,18.5,18.5,17.8,17.8,17.8,17.8,18.2,18.2,18.2,18.0,18.0,18.0,18.0,18.0,20.9,20.9,20.9,20.9,20.9,20.9,20.9,20.9,20.9,20.9,20.9,17.8,17.8,17.8,17.8,17.8,17.8,17.8,17.8,17.8,19.1,19.1,19.1,19.1,19.1,19.1,19.1,21.2,21.2,21.2,21.2,21.2,21.2,21.2,21.2,21.2,21.2,21.2,21.2,21.2,21.2,21.2,14.7,14.7,14.7,14.7,14.7,14.7,14.7,14.7,14.7,14.7,14.7,14.7,14.7,14.7,14.7,14.7,14.7,14.7,14.7,14.7,14.7,14.7,14.7,14.7,14.7,14.7,14.7,14.7,14.7,14.7,16.6,16.6,16.6,16.6,16.6,16.6,16.6,17.8,17.8,17.8,17.8,17.8,17.8,17.8,17.8,15.2,15.2,15.2,15.2,15.2,15.2,15.6,15.6,14.4,12.6,12.6,12.6,17.0,17.0,14.7,14.7,14.7,14.7,18.6,18.6,18.6,18.6,18.6,18.6,18.6,18.6,18.6,18.6,18.6,16.4,16.4,16.4,16.4,17.4,17.4,17.4,17.4,17.4,17.4,17.4,17.4,17.4,17.4,17.4,17.4,17.4,17.4,17.4,17.4,17.4,17.4,16.6,16.6,16.6,16.6,16.6,16.6,19.1,19.1,19.1,19.1,19.1,19.1,19.1,19.1,19.1,19.1,16.4,16.4,15.9,13.0,13.0,13.0,13.0,13.0,13.0,13.0,13.0,13.0,13.0,13.0,13.0,18.6,18.6,18.6,18.6,18.6,17.6,17.6,17.6,17.6,17.6,14.9,14.9,14.9,14.9,13.6,15.3,15.3,18.2,16.6,16.6,16.6,19.2,19.2,19.2,16.0,16.0,16.0,16.0,16.0,14.8,14.8,14.8,16.1,16.1,16.1,18.4,18.4,18.4,18.4,18.4,18.4,18.4,18.4,18.4,18.4,18.4,18.4,18.4,18.4,18.4,18.4,19.6,19.6,19.6,19.6,19.6,19.6,19.6,19.6,16.9,16.9,16.9,16.9,16.9,20.2,20.2,20.2,20.2,20.2,20.2,20.2,20.2,15.5,15.9,17.6,17.6,18.8,18.8,17.9,17.0,19.7,19.7,18.3,18.3,17.0,22.0,22.0,20.2,20.2,20.2,20.2,20.2,20.2,20.2,20.2,20.2,20.2,20.2,20.2,20.2,20.2,20.2,20.2,20.2,20.2,20.2,20.2,20.2,20.2,20.2,20.2,20.2,20.2,20.2,20.2,20.2,20.2,20.2,20.2,20.2,20.2,20.2,20.2,20.2,20.2,20.2,20.2,20.2,20.2,20.2,20.2,20.2,20.2,20.2,20.2,20.2,20.2,20.2,20.2,20.2,20.2,20.2,20.2,20.2,20.2,20.2,20.2,20.2,20.2,20.2,20.2,20.2,20.2,20.2,20.2,20.2,20.2,20.2,20.2,20.2,20.2,20.2,20.2,20.2,20.2,20.2,20.2,20.2,20.2,20.2,20.2,20.2,20.2,20.2,20.2,20.2,20.2,20.2,20.2,20.2,20.2,20.2,20.2,20.2,20.2,20.2,20.2,20.2,20.2,20.2,20.2,20.2,20.2,20.2,20.2,20.2,20.2,20.2,20.2,20.2,20.2,20.2,20.2,20.2,20.2,20.2,20.2,20.2,20.2,20.2,20.2,20.2,20.2,20.2,20.2,20.2,20.2,20.2,20.2,20.1,20.1,20.1,20.1,20.1,19.2,19.2,19.2,19.2,19.2,19.2,19.2,19.2,21.0,21.0,21.0,21.0,21.0],\"xaxis\":\"x\",\"y\":[24.0,21.6,34.7,33.4,36.2,28.7,22.9,22.1,16.5,18.9,15.0,18.9,21.7,20.4,18.2,19.9,23.1,17.5,20.2,18.2,13.6,19.6,15.2,14.5,15.6,13.9,16.6,14.8,18.4,21.0,12.7,14.5,13.2,13.1,13.5,18.9,20.0,21.0,24.2,30.8,34.9,26.6,25.3,24.7,21.2,19.3,20.0,16.6,14.4,19.4,19.7,20.5,25.0,23.4,18.9,35.4,24.7,31.6,23.3,19.6,18.7,16.0,22.2,25.0,33.0,23.5,19.4,22.0,17.4,20.9,24.2,21.7,22.8,23.4,24.1,21.4,20.0,20.8,21.2,20.3,28.0,23.9,24.8,22.9,23.9,26.6,22.5,22.2,23.6,28.7,22.6,22.0,22.9,25.0,20.6,28.4,21.4,38.7,43.8,33.2,27.5,26.5,18.6,19.3,20.1,19.5,19.5,20.4,19.8,19.4,21.7,22.8,18.8,18.7,18.5,18.3,21.2,19.2,20.4,19.3,22.0,20.3,20.5,17.3,18.8,21.4,15.7,16.2,18.0,14.3,19.2,19.6,23.0,18.4,15.6,18.1,17.4,17.1,13.3,17.8,14.0,14.4,13.4,15.6,11.8,13.8,15.6,14.6,17.8,15.4,21.5,19.6,15.3,19.4,17.0,15.6,13.1,41.3,24.3,23.3,27.0,50.0,50.0,50.0,22.7,25.0,50.0,23.8,23.8,22.3,17.4,19.1,23.1,23.6,22.6,29.4,23.2,24.6,29.9,37.2,39.8,36.2,37.9,32.5,26.4,29.6,50.0,32.0,29.8,34.9,33.0,30.5,36.4,31.1,29.1,50.0,33.3,30.3,34.6,34.9,32.9,24.1,42.3,48.5,50.0,22.6,24.4,22.5,24.4,20.0,21.7,19.3,22.4,28.1,23.7,25.0,23.3,28.7,21.5,23.0,26.7,21.7,27.5,30.1,44.8,50.0,37.6,31.6,46.7,31.5,24.3,31.7,41.7,48.3,29.0,24.0,25.1,31.5,23.7,23.3,27.0,20.1,22.2,23.7,17.6,18.5,24.3,20.5,24.5,26.2,24.4,24.8,29.6,42.8,21.9,20.9,44.0,50.0,36.0,30.1,33.8,43.1,48.8,31.0,36.5,22.8,30.7,50.0,43.5,20.7,21.1,25.2,24.4,35.2,32.4,32.0,33.2,33.1,29.1,35.1,45.4,35.4,46.0,50.0,32.2,22.0,20.1,23.2,22.3,24.8,28.5,37.3,27.9,23.9,21.7,28.6,27.1,20.3,22.5,29.0,24.8,22.0,26.4,33.1,36.1,28.4,33.4,28.2,22.8,20.3,16.1,22.1,19.4,21.6,23.8,16.2,17.8,19.8,23.1,21.0,23.8,23.1,20.4,18.5,25.0,24.6,23.0,22.2,19.3,22.6,19.8,17.1,19.4,22.2,20.7,21.1,19.5,18.5,20.6,19.0,18.7,32.7,16.5,23.9,31.2,17.5,17.2,23.1,24.5,26.6,22.9,24.1,18.6,30.1,18.2,20.6,17.8,21.7,22.7,22.6,25.0,19.9,20.8,16.8,21.9,27.5,21.9,23.1,50.0,50.0,50.0,50.0,50.0,13.8,13.8,15.0,13.9,13.3,13.1,10.2,10.4,10.9,11.3,12.3,8.8,7.2,10.5,7.4,10.2,11.5,15.1,23.2,9.7,13.8,12.7,13.1,12.5,8.5,5.0,6.3,5.6,7.2,12.1,8.3,8.5,5.0,11.9,27.9,17.2,27.5,15.0,17.2,17.9,16.3,7.0,7.2,7.5,10.4,8.8,8.4,16.7,14.2,20.8,13.4,11.7,8.3,10.2,10.9,11.0,9.5,14.5,14.1,16.1,14.3,11.7,13.4,9.6,8.2,8.4,12.8,10.5,17.1,14.8,15.4,10.8,11.8,14.9,12.6,14.1,13.0,13.4,15.2,16.1,17.8,14.4,14.1,12.7,13.5,14.9,20.0,16.4,17.7,19.5,20.2,21.4,19.9,19.0,19.1,19.1,20.1,19.9,19.6,23.2,29.8,13.8,13.3,16.7,12.0,14.6,21.4,23.0,23.7,25.0,21.8,20.6,21.2,19.1,20.6,15.2,7.0,8.1,13.6,20.1,21.8,24.5,23.1,19.7,18.3,21.2,17.5,16.8,22.4,20.6,23.9,22.0,19.0],\"yaxis\":\"y\",\"type\":\"scatter\"}],                        {\"template\":{\"data\":{\"histogram2dcontour\":[{\"type\":\"histogram2dcontour\",\"colorbar\":{\"outlinewidth\":0,\"ticks\":\"\"},\"colorscale\":[[0.0,\"#0d0887\"],[0.1111111111111111,\"#46039f\"],[0.2222222222222222,\"#7201a8\"],[0.3333333333333333,\"#9c179e\"],[0.4444444444444444,\"#bd3786\"],[0.5555555555555556,\"#d8576b\"],[0.6666666666666666,\"#ed7953\"],[0.7777777777777778,\"#fb9f3a\"],[0.8888888888888888,\"#fdca26\"],[1.0,\"#f0f921\"]]}],\"choropleth\":[{\"type\":\"choropleth\",\"colorbar\":{\"outlinewidth\":0,\"ticks\":\"\"}}],\"histogram2d\":[{\"type\":\"histogram2d\",\"colorbar\":{\"outlinewidth\":0,\"ticks\":\"\"},\"colorscale\":[[0.0,\"#0d0887\"],[0.1111111111111111,\"#46039f\"],[0.2222222222222222,\"#7201a8\"],[0.3333333333333333,\"#9c179e\"],[0.4444444444444444,\"#bd3786\"],[0.5555555555555556,\"#d8576b\"],[0.6666666666666666,\"#ed7953\"],[0.7777777777777778,\"#fb9f3a\"],[0.8888888888888888,\"#fdca26\"],[1.0,\"#f0f921\"]]}],\"heatmap\":[{\"type\":\"heatmap\",\"colorbar\":{\"outlinewidth\":0,\"ticks\":\"\"},\"colorscale\":[[0.0,\"#0d0887\"],[0.1111111111111111,\"#46039f\"],[0.2222222222222222,\"#7201a8\"],[0.3333333333333333,\"#9c179e\"],[0.4444444444444444,\"#bd3786\"],[0.5555555555555556,\"#d8576b\"],[0.6666666666666666,\"#ed7953\"],[0.7777777777777778,\"#fb9f3a\"],[0.8888888888888888,\"#fdca26\"],[1.0,\"#f0f921\"]]}],\"heatmapgl\":[{\"type\":\"heatmapgl\",\"colorbar\":{\"outlinewidth\":0,\"ticks\":\"\"},\"colorscale\":[[0.0,\"#0d0887\"],[0.1111111111111111,\"#46039f\"],[0.2222222222222222,\"#7201a8\"],[0.3333333333333333,\"#9c179e\"],[0.4444444444444444,\"#bd3786\"],[0.5555555555555556,\"#d8576b\"],[0.6666666666666666,\"#ed7953\"],[0.7777777777777778,\"#fb9f3a\"],[0.8888888888888888,\"#fdca26\"],[1.0,\"#f0f921\"]]}],\"contourcarpet\":[{\"type\":\"contourcarpet\",\"colorbar\":{\"outlinewidth\":0,\"ticks\":\"\"}}],\"contour\":[{\"type\":\"contour\",\"colorbar\":{\"outlinewidth\":0,\"ticks\":\"\"},\"colorscale\":[[0.0,\"#0d0887\"],[0.1111111111111111,\"#46039f\"],[0.2222222222222222,\"#7201a8\"],[0.3333333333333333,\"#9c179e\"],[0.4444444444444444,\"#bd3786\"],[0.5555555555555556,\"#d8576b\"],[0.6666666666666666,\"#ed7953\"],[0.7777777777777778,\"#fb9f3a\"],[0.8888888888888888,\"#fdca26\"],[1.0,\"#f0f921\"]]}],\"surface\":[{\"type\":\"surface\",\"colorbar\":{\"outlinewidth\":0,\"ticks\":\"\"},\"colorscale\":[[0.0,\"#0d0887\"],[0.1111111111111111,\"#46039f\"],[0.2222222222222222,\"#7201a8\"],[0.3333333333333333,\"#9c179e\"],[0.4444444444444444,\"#bd3786\"],[0.5555555555555556,\"#d8576b\"],[0.6666666666666666,\"#ed7953\"],[0.7777777777777778,\"#fb9f3a\"],[0.8888888888888888,\"#fdca26\"],[1.0,\"#f0f921\"]]}],\"mesh3d\":[{\"type\":\"mesh3d\",\"colorbar\":{\"outlinewidth\":0,\"ticks\":\"\"}}],\"scatter\":[{\"fillpattern\":{\"fillmode\":\"overlay\",\"size\":10,\"solidity\":0.2},\"type\":\"scatter\"}],\"parcoords\":[{\"type\":\"parcoords\",\"line\":{\"colorbar\":{\"outlinewidth\":0,\"ticks\":\"\"}}}],\"scatterpolargl\":[{\"type\":\"scatterpolargl\",\"marker\":{\"colorbar\":{\"outlinewidth\":0,\"ticks\":\"\"}}}],\"bar\":[{\"error_x\":{\"color\":\"#2a3f5f\"},\"error_y\":{\"color\":\"#2a3f5f\"},\"marker\":{\"line\":{\"color\":\"#E5ECF6\",\"width\":0.5},\"pattern\":{\"fillmode\":\"overlay\",\"size\":10,\"solidity\":0.2}},\"type\":\"bar\"}],\"scattergeo\":[{\"type\":\"scattergeo\",\"marker\":{\"colorbar\":{\"outlinewidth\":0,\"ticks\":\"\"}}}],\"scatterpolar\":[{\"type\":\"scatterpolar\",\"marker\":{\"colorbar\":{\"outlinewidth\":0,\"ticks\":\"\"}}}],\"histogram\":[{\"marker\":{\"pattern\":{\"fillmode\":\"overlay\",\"size\":10,\"solidity\":0.2}},\"type\":\"histogram\"}],\"scattergl\":[{\"type\":\"scattergl\",\"marker\":{\"colorbar\":{\"outlinewidth\":0,\"ticks\":\"\"}}}],\"scatter3d\":[{\"type\":\"scatter3d\",\"line\":{\"colorbar\":{\"outlinewidth\":0,\"ticks\":\"\"}},\"marker\":{\"colorbar\":{\"outlinewidth\":0,\"ticks\":\"\"}}}],\"scattermapbox\":[{\"type\":\"scattermapbox\",\"marker\":{\"colorbar\":{\"outlinewidth\":0,\"ticks\":\"\"}}}],\"scatterternary\":[{\"type\":\"scatterternary\",\"marker\":{\"colorbar\":{\"outlinewidth\":0,\"ticks\":\"\"}}}],\"scattercarpet\":[{\"type\":\"scattercarpet\",\"marker\":{\"colorbar\":{\"outlinewidth\":0,\"ticks\":\"\"}}}],\"carpet\":[{\"aaxis\":{\"endlinecolor\":\"#2a3f5f\",\"gridcolor\":\"white\",\"linecolor\":\"white\",\"minorgridcolor\":\"white\",\"startlinecolor\":\"#2a3f5f\"},\"baxis\":{\"endlinecolor\":\"#2a3f5f\",\"gridcolor\":\"white\",\"linecolor\":\"white\",\"minorgridcolor\":\"white\",\"startlinecolor\":\"#2a3f5f\"},\"type\":\"carpet\"}],\"table\":[{\"cells\":{\"fill\":{\"color\":\"#EBF0F8\"},\"line\":{\"color\":\"white\"}},\"header\":{\"fill\":{\"color\":\"#C8D4E3\"},\"line\":{\"color\":\"white\"}},\"type\":\"table\"}],\"barpolar\":[{\"marker\":{\"line\":{\"color\":\"#E5ECF6\",\"width\":0.5},\"pattern\":{\"fillmode\":\"overlay\",\"size\":10,\"solidity\":0.2}},\"type\":\"barpolar\"}],\"pie\":[{\"automargin\":true,\"type\":\"pie\"}]},\"layout\":{\"autotypenumbers\":\"strict\",\"colorway\":[\"#636efa\",\"#EF553B\",\"#00cc96\",\"#ab63fa\",\"#FFA15A\",\"#19d3f3\",\"#FF6692\",\"#B6E880\",\"#FF97FF\",\"#FECB52\"],\"font\":{\"color\":\"#2a3f5f\"},\"hovermode\":\"closest\",\"hoverlabel\":{\"align\":\"left\"},\"paper_bgcolor\":\"white\",\"plot_bgcolor\":\"#E5ECF6\",\"polar\":{\"bgcolor\":\"#E5ECF6\",\"angularaxis\":{\"gridcolor\":\"white\",\"linecolor\":\"white\",\"ticks\":\"\"},\"radialaxis\":{\"gridcolor\":\"white\",\"linecolor\":\"white\",\"ticks\":\"\"}},\"ternary\":{\"bgcolor\":\"#E5ECF6\",\"aaxis\":{\"gridcolor\":\"white\",\"linecolor\":\"white\",\"ticks\":\"\"},\"baxis\":{\"gridcolor\":\"white\",\"linecolor\":\"white\",\"ticks\":\"\"},\"caxis\":{\"gridcolor\":\"white\",\"linecolor\":\"white\",\"ticks\":\"\"}},\"coloraxis\":{\"colorbar\":{\"outlinewidth\":0,\"ticks\":\"\"}},\"colorscale\":{\"sequential\":[[0.0,\"#0d0887\"],[0.1111111111111111,\"#46039f\"],[0.2222222222222222,\"#7201a8\"],[0.3333333333333333,\"#9c179e\"],[0.4444444444444444,\"#bd3786\"],[0.5555555555555556,\"#d8576b\"],[0.6666666666666666,\"#ed7953\"],[0.7777777777777778,\"#fb9f3a\"],[0.8888888888888888,\"#fdca26\"],[1.0,\"#f0f921\"]],\"sequentialminus\":[[0.0,\"#0d0887\"],[0.1111111111111111,\"#46039f\"],[0.2222222222222222,\"#7201a8\"],[0.3333333333333333,\"#9c179e\"],[0.4444444444444444,\"#bd3786\"],[0.5555555555555556,\"#d8576b\"],[0.6666666666666666,\"#ed7953\"],[0.7777777777777778,\"#fb9f3a\"],[0.8888888888888888,\"#fdca26\"],[1.0,\"#f0f921\"]],\"diverging\":[[0,\"#8e0152\"],[0.1,\"#c51b7d\"],[0.2,\"#de77ae\"],[0.3,\"#f1b6da\"],[0.4,\"#fde0ef\"],[0.5,\"#f7f7f7\"],[0.6,\"#e6f5d0\"],[0.7,\"#b8e186\"],[0.8,\"#7fbc41\"],[0.9,\"#4d9221\"],[1,\"#276419\"]]},\"xaxis\":{\"gridcolor\":\"white\",\"linecolor\":\"white\",\"ticks\":\"\",\"title\":{\"standoff\":15},\"zerolinecolor\":\"white\",\"automargin\":true,\"zerolinewidth\":2},\"yaxis\":{\"gridcolor\":\"white\",\"linecolor\":\"white\",\"ticks\":\"\",\"title\":{\"standoff\":15},\"zerolinecolor\":\"white\",\"automargin\":true,\"zerolinewidth\":2},\"scene\":{\"xaxis\":{\"backgroundcolor\":\"#E5ECF6\",\"gridcolor\":\"white\",\"linecolor\":\"white\",\"showbackground\":true,\"ticks\":\"\",\"zerolinecolor\":\"white\",\"gridwidth\":2},\"yaxis\":{\"backgroundcolor\":\"#E5ECF6\",\"gridcolor\":\"white\",\"linecolor\":\"white\",\"showbackground\":true,\"ticks\":\"\",\"zerolinecolor\":\"white\",\"gridwidth\":2},\"zaxis\":{\"backgroundcolor\":\"#E5ECF6\",\"gridcolor\":\"white\",\"linecolor\":\"white\",\"showbackground\":true,\"ticks\":\"\",\"zerolinecolor\":\"white\",\"gridwidth\":2}},\"shapedefaults\":{\"line\":{\"color\":\"#2a3f5f\"}},\"annotationdefaults\":{\"arrowcolor\":\"#2a3f5f\",\"arrowhead\":0,\"arrowwidth\":1},\"geo\":{\"bgcolor\":\"white\",\"landcolor\":\"#E5ECF6\",\"subunitcolor\":\"white\",\"showland\":true,\"showlakes\":true,\"lakecolor\":\"white\"},\"title\":{\"x\":0.05},\"mapbox\":{\"style\":\"light\"}}},\"xaxis\":{\"anchor\":\"y\",\"domain\":[0.0,1.0],\"title\":{\"text\":\"PTRATIO\"}},\"yaxis\":{\"anchor\":\"x\",\"domain\":[0.0,1.0],\"title\":{\"text\":\"MEDV\"}},\"legend\":{\"tracegroupgap\":0},\"margin\":{\"t\":60}},                        {\"responsive\": true}                    ).then(function(){\n",
              "                            \n",
              "var gd = document.getElementById('b6649fec-ecb8-446f-86f4-c6915cee218a');\n",
              "var x = new MutationObserver(function (mutations, observer) {{\n",
              "        var display = window.getComputedStyle(gd).display;\n",
              "        if (!display || display === 'none') {{\n",
              "            console.log([gd, 'removed!']);\n",
              "            Plotly.purge(gd);\n",
              "            observer.disconnect();\n",
              "        }}\n",
              "}});\n",
              "\n",
              "// Listen for the removal of the full notebook cells\n",
              "var notebookContainer = gd.closest('#notebook-container');\n",
              "if (notebookContainer) {{\n",
              "    x.observe(notebookContainer, {childList: true});\n",
              "}}\n",
              "\n",
              "// Listen for the clearing of the current output cell\n",
              "var outputEl = gd.closest('.output');\n",
              "if (outputEl) {{\n",
              "    x.observe(outputEl, {childList: true});\n",
              "}}\n",
              "\n",
              "                        })                };                            </script>        </div>\n",
              "</body>\n",
              "</html>"
            ]
          },
          "metadata": {}
        }
      ]
    },
    {
      "cell_type": "code",
      "source": [
        "# estatística descritiva da variável RM\n",
        "data.RM.describe()"
      ],
      "metadata": {
        "colab": {
          "base_uri": "https://localhost:8080/"
        },
        "id": "5rv_RKsBWIFY",
        "outputId": "99b2ab65-b5cf-4f81-fb2e-6ee3291fe65b"
      },
      "execution_count": null,
      "outputs": [
        {
          "output_type": "execute_result",
          "data": {
            "text/plain": [
              "count    506.000000\n",
              "mean       6.284634\n",
              "std        0.702617\n",
              "min        3.561000\n",
              "25%        5.885500\n",
              "50%        6.208500\n",
              "75%        6.623500\n",
              "max        8.780000\n",
              "Name: RM, dtype: float64"
            ]
          },
          "metadata": {},
          "execution_count": 11
        }
      ]
    },
    {
      "cell_type": "code",
      "source": [
        "# visualizando a distribuição da variável RM\n",
        "labels = ['Distribuição da variável RM (número de quartos)']\n",
        "fig = ff.create_distplot([data.RM], labels, bin_size=.2)\n",
        "fig.show()"
      ],
      "metadata": {
        "colab": {
          "base_uri": "https://localhost:8080/",
          "height": 542
        },
        "id": "2VNl0zgWWSf3",
        "outputId": "77330458-635c-44d0-a05f-260698266254"
      },
      "execution_count": null,
      "outputs": [
        {
          "output_type": "display_data",
          "data": {
            "text/html": [
              "<html>\n",
              "<head><meta charset=\"utf-8\" /></head>\n",
              "<body>\n",
              "    <div>            <script src=\"https://cdnjs.cloudflare.com/ajax/libs/mathjax/2.7.5/MathJax.js?config=TeX-AMS-MML_SVG\"></script><script type=\"text/javascript\">if (window.MathJax && window.MathJax.Hub && window.MathJax.Hub.Config) {window.MathJax.Hub.Config({SVG: {font: \"STIX-Web\"}});}</script>                <script type=\"text/javascript\">window.PlotlyConfig = {MathJaxConfig: 'local'};</script>\n",
              "        <script src=\"https://cdn.plot.ly/plotly-2.18.2.min.js\"></script>                <div id=\"b8001b3d-f06f-4ab8-a895-efbd56aea46e\" class=\"plotly-graph-div\" style=\"height:525px; width:100%;\"></div>            <script type=\"text/javascript\">                                    window.PLOTLYENV=window.PLOTLYENV || {};                                    if (document.getElementById(\"b8001b3d-f06f-4ab8-a895-efbd56aea46e\")) {                    Plotly.newPlot(                        \"b8001b3d-f06f-4ab8-a895-efbd56aea46e\",                        [{\"autobinx\":false,\"histnorm\":\"probability density\",\"legendgroup\":\"Distribui\\u00e7\\u00e3o da vari\\u00e1vel RM (n\\u00famero de quartos)\",\"marker\":{\"color\":\"rgb(31, 119, 180)\"},\"name\":\"Distribui\\u00e7\\u00e3o da vari\\u00e1vel RM (n\\u00famero de quartos)\",\"opacity\":0.7,\"x\":[6.575,6.421,7.185,6.998,7.147,6.43,6.012,6.172,5.631,6.004,6.377,6.009,5.889,5.949,6.096,5.834,5.935,5.99,5.456,5.727,5.57,5.965,6.142,5.813,5.924,5.599,5.813,6.047,6.495,6.674,5.713,6.072,5.95,5.701,6.096,5.933,5.841,5.85,5.966,6.595,7.024,6.77,6.169,6.211,6.069,5.682,5.786,6.03,5.399,5.602,5.963,6.115,6.511,5.998,5.888,7.249,6.383,6.816,6.145,5.927,5.741,5.966,6.456,6.762,7.104,6.29,5.787,5.878,5.594,5.885,6.417,5.961,6.065,6.245,6.273,6.286,6.279,6.14,6.232,5.874,6.727,6.619,6.302,6.167,6.389,6.63,6.015,6.121,7.007,7.079,6.417,6.405,6.442,6.211,6.249,6.625,6.163,8.069,7.82,7.416,6.727,6.781,6.405,6.137,6.167,5.851,5.836,6.127,6.474,6.229,6.195,6.715,5.913,6.092,6.254,5.928,6.176,6.021,5.872,5.731,5.87,6.004,5.961,5.856,5.879,5.986,5.613,5.693,6.431,5.637,6.458,6.326,6.372,5.822,5.757,6.335,5.942,6.454,5.857,6.151,6.174,5.019,5.403,5.468,4.903,6.13,5.628,4.926,5.186,5.597,6.122,5.404,5.012,5.709,6.129,6.152,5.272,6.943,6.066,6.51,6.25,7.489,7.802,8.375,5.854,6.101,7.929,5.877,6.319,6.402,5.875,5.88,5.572,6.416,5.859,6.546,6.02,6.315,6.86,6.98,7.765,6.144,7.155,6.563,5.604,6.153,7.831,6.782,6.556,7.185,6.951,6.739,7.178,6.8,6.604,7.875,7.287,7.107,7.274,6.975,7.135,6.162,7.61,7.853,8.034,5.891,6.326,5.783,6.064,5.344,5.96,5.404,5.807,6.375,5.412,6.182,5.888,6.642,5.951,6.373,6.951,6.164,6.879,6.618,8.266,8.725,8.04,7.163,7.686,6.552,5.981,7.412,8.337,8.247,6.726,6.086,6.631,7.358,6.481,6.606,6.897,6.095,6.358,6.393,5.593,5.605,6.108,6.226,6.433,6.718,6.487,6.438,6.957,8.259,6.108,5.876,7.454,8.704,7.333,6.842,7.203,7.52,8.398,7.327,7.206,5.56,7.014,8.297,7.47,5.92,5.856,6.24,6.538,7.691,6.758,6.854,7.267,6.826,6.482,6.812,7.82,6.968,7.645,7.923,7.088,6.453,6.23,6.209,6.315,6.565,6.861,7.148,6.63,6.127,6.009,6.678,6.549,5.79,6.345,7.041,6.871,6.59,6.495,6.982,7.236,6.616,7.42,6.849,6.635,5.972,4.973,6.122,6.023,6.266,6.567,5.705,5.914,5.782,6.382,6.113,6.426,6.376,6.041,5.708,6.415,6.431,6.312,6.083,5.868,6.333,6.144,5.706,6.031,6.316,6.31,6.037,5.869,5.895,6.059,5.985,5.968,7.241,6.54,6.696,6.874,6.014,5.898,6.516,6.635,6.939,6.49,6.579,5.884,6.728,5.663,5.936,6.212,6.395,6.127,6.112,6.398,6.251,5.362,5.803,8.78,3.561,4.963,3.863,4.97,6.683,7.016,6.216,5.875,4.906,4.138,7.313,6.649,6.794,6.38,6.223,6.968,6.545,5.536,5.52,4.368,5.277,4.652,5.0,4.88,5.39,5.713,6.051,5.036,6.193,5.887,6.471,6.405,5.747,5.453,5.852,5.987,6.343,6.404,5.349,5.531,5.683,4.138,5.608,5.617,6.852,5.757,6.657,4.628,5.155,4.519,6.434,6.782,5.304,5.957,6.824,6.411,6.006,5.648,6.103,5.565,5.896,5.837,6.202,6.193,6.38,6.348,6.833,6.425,6.436,6.208,6.629,6.461,6.152,5.935,5.627,5.818,6.406,6.219,6.485,5.854,6.459,6.341,6.251,6.185,6.417,6.749,6.655,6.297,7.393,6.728,6.525,5.976,5.936,6.301,6.081,6.701,6.376,6.317,6.513,6.209,5.759,5.952,6.003,5.926,5.713,6.167,6.229,6.437,6.98,5.427,6.162,6.484,5.304,6.185,6.229,6.242,6.75,7.061,5.762,5.871,6.312,6.114,5.905,5.454,5.414,5.093,5.983,5.983,5.707,5.926,5.67,5.39,5.794,6.019,5.569,6.027,6.593,6.12,6.976,6.794,6.03],\"xaxis\":\"x\",\"xbins\":{\"end\":8.78,\"size\":0.2,\"start\":3.561},\"yaxis\":\"y\",\"type\":\"histogram\"},{\"legendgroup\":\"Distribui\\u00e7\\u00e3o da vari\\u00e1vel RM (n\\u00famero de quartos)\",\"marker\":{\"color\":\"rgb(31, 119, 180)\"},\"mode\":\"lines\",\"name\":\"Distribui\\u00e7\\u00e3o da vari\\u00e1vel RM (n\\u00famero de quartos)\",\"showlegend\":false,\"x\":[3.561,3.571438,3.581876,3.592314,3.6027519999999997,3.61319,3.623628,3.634066,3.644504,3.654942,3.66538,3.675818,3.6862559999999998,3.696694,3.707132,3.71757,3.728008,3.7384459999999997,3.748884,3.759322,3.7697599999999998,3.780198,3.790636,3.801074,3.811512,3.82195,3.832388,3.842826,3.853264,3.863702,3.8741399999999997,3.884578,3.895016,3.9054539999999998,3.915892,3.92633,3.936768,3.947206,3.9576439999999997,3.968082,3.97852,3.988958,3.999396,4.009834,4.020272,4.03071,4.041148,4.051586,4.062024,4.072462,4.0829,4.093338,4.103776,4.114214,4.124652,4.13509,4.145528,4.155965999999999,4.166404,4.176842,4.1872799999999994,4.197718,4.208156,4.2185939999999995,4.229032,4.23947,4.249908,4.260346,4.270784,4.281222,4.29166,4.302098,4.312536,4.322974,4.333412,4.34385,4.3542879999999995,4.364726,4.375164,4.385602,4.39604,4.406478,4.416916,4.427354,4.437792,4.44823,4.458667999999999,4.469106,4.479544,4.4899819999999995,4.50042,4.510858,4.5212959999999995,4.531734,4.542172,4.55261,4.563048,4.573486,4.583924,4.594362,4.6048,4.615238,4.625676,4.636114,4.646552,4.6569899999999995,4.667428,4.677866,4.688304,4.698742,4.70918,4.719618,4.730055999999999,4.740494,4.750932,4.761369999999999,4.771808,4.782246,4.7926839999999995,4.803122,4.81356,4.823998,4.834436,4.844874,4.855312,4.86575,4.876188,4.886626,4.897064,4.907502,4.91794,4.928378,4.938815999999999,4.949254,4.9596919999999995,4.970129999999999,4.980568,4.991006,5.001443999999999,5.011882,5.02232,5.032757999999999,5.043196,5.053634,5.0640719999999995,5.07451,5.084948,5.0953859999999995,5.105824,5.116262,5.1267,5.137138,5.147576,5.158014,5.168452,5.17889,5.189328,5.199766,5.210203999999999,5.220642,5.23108,5.241517999999999,5.251956,5.262394,5.272831999999999,5.28327,5.293708,5.304145999999999,5.314584,5.325022,5.335459999999999,5.345898,5.356336,5.3667739999999995,5.377212,5.38765,5.3980879999999996,5.408526,5.418964,5.429402,5.439839999999999,5.450278,5.460716,5.471153999999999,5.481592,5.49203,5.5024679999999995,5.512905999999999,5.523344,5.5337819999999995,5.544219999999999,5.554658,5.565096,5.575533999999999,5.585972,5.59641,5.606847999999999,5.617286,5.627724,5.6381619999999995,5.6486,5.659037999999999,5.6694759999999995,5.679914,5.690352,5.70079,5.711228,5.721665999999999,5.732104,5.742542,5.752979999999999,5.763418,5.773856,5.784293999999999,5.794732,5.8051699999999995,5.815607999999999,5.826046,5.8364840000000004,5.846921999999999,5.85736,5.867798,5.878235999999999,5.888674,5.899112,5.909549999999999,5.919988,5.930426,5.9408639999999995,5.951302,5.96174,5.9721779999999995,5.982615999999999,5.993053999999999,6.003492,6.01393,6.024368,6.034806,6.045244,6.055681999999999,6.06612,6.0765579999999995,6.086995999999999,6.097434,6.107872,6.118309999999999,6.128748,6.139186,6.149623999999999,6.160062,6.1705,6.180937999999999,6.191376,6.201814,6.212251999999999,6.22269,6.233128,6.2435659999999995,6.254004,6.264441999999999,6.27488,6.285318,6.295756,6.306194,6.316631999999999,6.327069999999999,6.337508,6.347946,6.358383999999999,6.368822,6.3792599999999995,6.389697999999999,6.400136,6.4105739999999996,6.421011999999999,6.43145,6.441888,6.452325999999999,6.462764,6.473202,6.483639999999999,6.494078,6.504516,6.5149539999999995,6.525392,6.535829999999999,6.5462679999999995,6.556706,6.567144,6.577582,6.588019999999999,6.598457999999999,6.608896,6.619334,6.629771999999999,6.64021,6.6506479999999994,6.661085999999999,6.671524,6.6819619999999995,6.692399999999999,6.702838,6.713276,6.723713999999999,6.734152,6.74459,6.755027999999999,6.765466,6.775904,6.786341999999999,6.79678,6.807218,6.8176559999999995,6.828094,6.838532,6.84897,6.859407999999999,6.869845999999999,6.880284,6.890722,6.90116,6.911598,6.922035999999999,6.932473999999999,6.942912,6.9533499999999995,6.963787999999999,6.974226,6.9846639999999995,6.995101999999999,7.00554,7.015978,7.026415999999999,7.036854,7.047291999999999,7.057729999999999,7.068168,7.078606,7.0890439999999995,7.099482,7.109919999999999,7.1203579999999995,7.130796,7.141233999999999,7.151672,7.16211,7.172548,7.182986,7.193423999999999,7.203861999999999,7.2143,7.224737999999999,7.235175999999999,7.245614,7.2560519999999995,7.266489999999999,7.276928,7.287366,7.297803999999999,7.308242,7.318679999999999,7.329117999999999,7.339556,7.349994,7.360431999999999,7.37087,7.381307999999999,7.3917459999999995,7.402184,7.412621999999999,7.4230599999999995,7.433498,7.443935999999999,7.454374,7.464811999999999,7.475249999999999,7.485688,7.496126,7.506563999999999,7.517002,7.5274399999999995,7.537877999999999,7.548316,7.5587539999999995,7.569191999999999,7.57963,7.590068,7.600505999999999,7.610943999999999,7.621382,7.631819999999999,7.642257999999999,7.652696,7.6631339999999994,7.673571999999999,7.684009999999999,7.6944479999999995,7.704885999999999,7.715324,7.725762,7.7362,7.746638,7.757075999999999,7.767513999999999,7.777951999999999,7.78839,7.798827999999999,7.809265999999999,7.819704,7.8301419999999995,7.84058,7.851017999999999,7.8614559999999996,7.871893999999999,7.882331999999999,7.89277,7.903207999999999,7.913646,7.924084,7.934522,7.944959999999999,7.955397999999999,7.9658359999999995,7.976273999999999,7.986712,7.9971499999999995,8.007587999999998,8.018025999999999,8.028464,8.038902,8.049339999999999,8.059778,8.070215999999999,8.080654,8.091092,8.10153,8.111968000000001,8.122405999999998,8.132843999999999,8.143282,8.15372,8.164158,8.174596,8.185034,8.195471999999999,8.20591,8.216348,8.226785999999999,8.237224,8.247661999999998,8.258099999999999,8.268538,8.278976,8.289414,8.299852,8.310289999999998,8.320727999999999,8.331166,8.341604,8.352041999999999,8.36248,8.372917999999999,8.383356,8.393794,8.404231999999999,8.41467,8.425107999999998,8.435545999999999,8.445984,8.456422,8.46686,8.477298,8.487736,8.498173999999999,8.508612,8.51905,8.529488,8.539926,8.550363999999998,8.560801999999999,8.57124,8.581678,8.592115999999999,8.602553999999998,8.612991999999998,8.623429999999999,8.633868,8.644306,8.654744,8.665182,8.675619999999999,8.686058,8.696496,8.706934,8.717372,8.72781,8.738247999999999,8.748686,8.759124,8.769561999999999],\"xaxis\":\"x\",\"y\":[0.005311409187177657,0.005428056001875273,0.00554120583048713,0.0056510154361981094,0.005757692039482321,0.005861490052469539,0.005962707164097598,0.00606167985008513,0.006158778389700189,0.006254401476954015,0.006348970517172901,0.006442923700934874,0.0065367099462278625,0.006630782796592412,0.006725594358221728,0.006821589352826068,0.006919199355882463,0.007018837282064626,0.007120892171560254,0.007225724322998302,0.00733366081115917,0.007444991420807076,0.007559965022087577,0.007678786408120963,0.007801613611763041,0.007928555715984323,0.008059671170844633,0.008194966629441032,0.008334396315251362,0.00847786193369451,0.008625213141159889,0.008776248584881173,0.008930717526501394,0.009088322060682275,0.009248719937367828,0.009411527992104369,0.009576326182998562,0.009742662225401636,0.009910056806277412,0.010078009349575626,0.01024600429202166,0.010413517815870717,0.010580024971764784,0.01074500711134492,0.010907959536234375,0.011068399257968967,0.011225872752970338,0.011379963588274023,0.011530299787937725,0.01167656080730174,0.011818483982900476,0.01195587033008203,0.012088589568409296,0.012216584266694475,0.012339873014930912,0.012458552549168089,0.012572798777140017,0.012682866676693608,0.012789089065162868,0.012891874265095755,0.012991702719400724,0.01308912263623243,0.013184744769958222,0.013279236468523001,0.013373315138678761,0.013467741298144785,0.013563311397169858,0.013660850600640498,0.013761205725393027,0.013865238525452303,0.013973819510386168,0.014087822468831862,0.014208119850671011,0.014335579137604587,0.01447106030345811,0.01461541443301855,0.014769483532282926,0.014934101524515322,0.015110096386393638,0.015298293337788893,0.015499518958426016,0.01571460606593602,0.015944399153743904,0.016189760154956618,0.016451574270997835,0.016730755582190778,0.01702825214274393,0.0173450502554523,0.0176821776225579,0.018040705079114726,0.018421746634186095,0.01882645757336706,0.019256030413340623,0.01971168854507489,0.020194677456230613,0.020706253484504774,0.0212476701208597,0.021820161953529364,0.022424926418770863,0.023063103600768225,0.023735754398970296,0.024443837454396794,0.025188185294955923,0.02596948022144492,0.0267882305085461,0.027644747536789843,0.028539124500303555,0.029471217349595204,0.030440628627323062,0.03144669483701279,0.032488477949427524,0.033564761598651106,0.03467405245022647,0.03581458713773731,0.03698434506332175,0.038181067243551144,0.039402281257128115,0.04064533221759706,0.04190741955572116,0.04318563925563902,0.0444770310498645,0.045778629944243136,0.04708752131873325,0.048400898736885654,0.04971612349949631,0.051030784899133146,0.052342760074790114,0.05365027233195014,0.05495194678449866,0.05624686219223217,0.05753459791150976,0.058815274946551435,0.06008959018398054,0.0613588430117085,0.0626249536627743,0.06389047278234682,0.06515858188820796,0.06643308457775284,0.06771838852354241,0.06901947849020955,0.07034188079340786,0.07169161980189176,0.07307516725222804,0.0744993852978769,0.07597146434658725,0.07749885684889439,0.07908920828323275,0.08075028663766086,0.08248991171306169,0.08431588556729276,0.08623592538424418,0.08825759998701449,0.0903882711220712,0.09263504052363203,0.09500470362753219,0.09750371064497863,0.10013813553278426,0.10291365321207546,0.10583552519660176,0.10890859359908191,0.11213728329401688,0.11552561183241662,0.11907720653194437,0.1227953280087945,0.12668289927844129,0.1307425394338788,0.1349766008143382,0.13938720850620137,0.14397630097186093,0.14874567058195204,0.1536970028313883,0.15883191304918268,0.1641519794648582,0.1696587715686002,0.17535387279614617,0.1812388966804706,0.18731549573807124,0.1935853624955523,0.20005022220959845,0.20671181698780677,0.21357188117662756,0.22063210804359926,0.2278941079418727,0.2353593583036885,0.2430291459641204,0.2509045024653137,0.25898613313301694,0.2672743408499085,0.27576894557272597,0.284469200750961,0.29337370790269696,0.3024803306864486,0.31178610987538885,0.3212871806905411,0.3309786939809667,0.3408547427503462,0.35090829551919983,0.36113113797909097,0.3715138243386113,0.3820456396798181,0.3927145745377916,0.4035073127851226,0.4144092337478807,0.4254044293010866,0.4364757364916391,0.4476047860173066,0.45877206665480275,0.4699570054817776,0.481138063480929,0.4922928458539948,0.503398226114513,0.5144304827759153,0.5253654472116706,0.5361786610421676,0.5468455412040825,0.5573415506873153,0.5676423727865167,0.5777240866125639,0.587563341547261,0.5971375283038886,0.606424944278306,0.6154049509400319,0.6240581211192998,0.6323663741921477,0.6403130973485439,0.647883251344199,0.6550634593805328,0.6618420780240285,0.6682092493602004,0.6741569338724579,0.6796789238365827,0.6847708373208227,0.6894300931744067,0.6936558676679483,0.6974490337129674,0.7008120838302455,0.7037490382545042,0.7062653397528807,0.7083677368949484,0.710064157640923,0.7113635752117428,0.7122758682694789,0.712811677469728,0.7129822604498618,0.7127993472897697,0.7122749984263097,0.711421466921076,0.7102510668749685,0.7087760496546004,0.7070084894466852,0.7049601794894532,0.7026425401467998,0.7000665397937368,0.6972426292726359,0.6941806904615831,0.6908899992709459,0.6873792031549529,0.6836563129944285,0.6797287089778838,0.6756031598842392,0.6712858549548688,0.6667824473392014,0.6620981079101242,0.6572375880768867,0.6522052900774189,0.6470053431123667,0.6416416835928105,0.6361181377149914,0.6304385045505941,0.6246066378514378,0.6186265248135325,0.612502360126933,0.6062386137537566,0.5998400910249204,0.5933119838237786,0.5866599118281439,0.5798899530067188,0.5730086628064552,0.5660230817184176,0.5589407311650398,0.5517695979054543,0.5445181074012375,0.5371950868170347,0.529809718542956,0.522371485313922,0.5148901081604825,0.5073754785529256,0.49983758619289637,0.4922864439629747,0.4847320115638574,0.4771841193518856,0.469652393837639,0.4621461862220962,0.4546745052332592,0.4472459553873562,0.4398686816391408,0.4325503212103577,0.42529796319915275,0.41811811638152785,0.4110166854237221,0.40399895553673315,0.3970695854255744,0.3902326082202709,0.38349143992658813,0.3768488948048818,0.3703072069773606,0.3638680574788792,0.35753260590500374,0.35130152577330653,0.34517504269929755,0.33915297449578286,0.3332347723321082,0.3274195621356752,0.32170618547982627,0.316093239277067,0.3105791136818882,0.3051620277002686,0.2998400621005079,0.29461118931963254,0.28947330015872796,0.28442422715676385,0.2794617646238224,0.27458368539926115,0.2697877544767094,0.2650717397048836,0.2604334198299666,0.25587059019130026,0.2513810664170478,0.24696268649032876,0.24261331156926566,0.23833082594700197,0.2341131365305235,0.22995817220095513,0.2258638833937713,0.22182824220608513,0.21784924330091138,0.21392490583625298,0.21005327660102618,0.20623243449152137,0.20246049641229089,0.19873562463516853,0.19505603560057694,0.1914200100973153,0.18782590471143673,0.1842721643924861,0.18075733594686774,0.17728008223400596,0.1738391968117989,0.17043361875392235,0.16706244734310574,0.16372495633176237,0.16042060745438,0.15714906287482347,0.15391019625616997,0.15070410215064795,0.14753110342257378,0.14439175643753932,0.14128685377627354,0.13821742426118966,0.1351847301173376,0.13219026112681967,0.12923572567637961,0.12632303864132446,0.12345430609469443,0.12063180687822335,0.11785797112049935,0.11513535583732269,0.11246661779892976,0.10985448389784344,0.10730171929895198,0.10481109369923539,0.10238534606767682,0.10002714827539083,0.09773906806125233,0.09552353180837711,0.09338278763097434,0.09131886928865732,0.08933356145550177,0.0874283668734557,0.08560447591357682,0.08386273905368402,0.082203642757053,0.08062728920380464,0.0791333802846106,0.0777212062157045,0.07638963907534957,0.07513713149561208,0.07396172067041572,0.07286103776247613,0.0718323227090846,0.07087244434122744,0.06997792564369809,0.06914497389730144,0.06836951535960539,0.06764723405967614,0.06697361420646156,0.0663439856415967,0.06575357170686597,0.06519753884576177,0.06467104721869692,0.0641693015834616,0.06368760167723894,0.06322139133440173,0.06276630558569145,0.062318215009193545,0.06187326664150485,0.06142792080808107,0.060978983294157796,0.060523632350817466,0.06005944011346685,0.0595843881007552,0.05909687655920077,0.058595727520762926,0.05808018154549517,0.05754988822734412,0.05700489064624606,0.05644560405202134,0.055872789163353906,0.05528752055662133,0.054691150702872386,0.054085270285338,0.05347166549317223,0.05285227303850581,0.05222913368240352,0.051604345080216614,0.050980014767613546,0.050358214104975346,0.049740933979842444,0.04913004303490095,0.048527249143059205,0.04793406479218833,0.04735177697100489,0.04678142206551251,0.04622376618373732,0.045679291226758754,0.045148186917935665,0.04463034889165825,0.044125382829868776,0.04363261452108323,0.04315110560481844,0.04267967465633281,0.042216923164533106,0.04176126586183859,0.04131096478065235,0.04086416633867438,0.0404189406961662,0.039973322583823384,0.039525352771188633,0.0390731193333389,0.038614797878338464,0.03814868991975718,0.03767325861714708,0.03718716116208487,0.036689277157238805,0.036178732419526634,0.0356549177341193,0.03511750219183215,0.03456644085609198,0.034001976624736543,0.0334246362738135,0.032835220792597875,0.03223479023857361,0.031624643455417656,0.031006293103579313,0.030381436549428285,0.029751923243037083,0.029119719284568843,0.028486869933433207,0.02785546085169177,0.02722757889285369,0.026605273248889907,0.025990517752061508,0.02538517509454907,0.024790963678780063,0.024209427746112892,0.023641911352799534,0.023089536671882835,0.022553187000129538,0.02203349474265722,0.02153083453716652,0.0210453215672437,0.020576815002699242,0.020124926396915526,0.019689032769122178,0.019268294005666816,0.018861674130691578,0.018467965924902418,0.018085818312709088,0.0177137658939712,0.017350259967566794,0.01699370038029819,0.016642467536160853,0.016294953917261403,0.015949594497867398,0.015604895476066164,0.01525946080189509,0.01491201604492655,0.014561429216311497,0.014206728238244575,0.013847114835647474],\"yaxis\":\"y\",\"type\":\"scatter\"},{\"legendgroup\":\"Distribui\\u00e7\\u00e3o da vari\\u00e1vel RM (n\\u00famero de quartos)\",\"marker\":{\"color\":\"rgb(31, 119, 180)\",\"symbol\":\"line-ns-open\"},\"mode\":\"markers\",\"name\":\"Distribui\\u00e7\\u00e3o da vari\\u00e1vel RM (n\\u00famero de quartos)\",\"showlegend\":false,\"x\":[6.575,6.421,7.185,6.998,7.147,6.43,6.012,6.172,5.631,6.004,6.377,6.009,5.889,5.949,6.096,5.834,5.935,5.99,5.456,5.727,5.57,5.965,6.142,5.813,5.924,5.599,5.813,6.047,6.495,6.674,5.713,6.072,5.95,5.701,6.096,5.933,5.841,5.85,5.966,6.595,7.024,6.77,6.169,6.211,6.069,5.682,5.786,6.03,5.399,5.602,5.963,6.115,6.511,5.998,5.888,7.249,6.383,6.816,6.145,5.927,5.741,5.966,6.456,6.762,7.104,6.29,5.787,5.878,5.594,5.885,6.417,5.961,6.065,6.245,6.273,6.286,6.279,6.14,6.232,5.874,6.727,6.619,6.302,6.167,6.389,6.63,6.015,6.121,7.007,7.079,6.417,6.405,6.442,6.211,6.249,6.625,6.163,8.069,7.82,7.416,6.727,6.781,6.405,6.137,6.167,5.851,5.836,6.127,6.474,6.229,6.195,6.715,5.913,6.092,6.254,5.928,6.176,6.021,5.872,5.731,5.87,6.004,5.961,5.856,5.879,5.986,5.613,5.693,6.431,5.637,6.458,6.326,6.372,5.822,5.757,6.335,5.942,6.454,5.857,6.151,6.174,5.019,5.403,5.468,4.903,6.13,5.628,4.926,5.186,5.597,6.122,5.404,5.012,5.709,6.129,6.152,5.272,6.943,6.066,6.51,6.25,7.489,7.802,8.375,5.854,6.101,7.929,5.877,6.319,6.402,5.875,5.88,5.572,6.416,5.859,6.546,6.02,6.315,6.86,6.98,7.765,6.144,7.155,6.563,5.604,6.153,7.831,6.782,6.556,7.185,6.951,6.739,7.178,6.8,6.604,7.875,7.287,7.107,7.274,6.975,7.135,6.162,7.61,7.853,8.034,5.891,6.326,5.783,6.064,5.344,5.96,5.404,5.807,6.375,5.412,6.182,5.888,6.642,5.951,6.373,6.951,6.164,6.879,6.618,8.266,8.725,8.04,7.163,7.686,6.552,5.981,7.412,8.337,8.247,6.726,6.086,6.631,7.358,6.481,6.606,6.897,6.095,6.358,6.393,5.593,5.605,6.108,6.226,6.433,6.718,6.487,6.438,6.957,8.259,6.108,5.876,7.454,8.704,7.333,6.842,7.203,7.52,8.398,7.327,7.206,5.56,7.014,8.297,7.47,5.92,5.856,6.24,6.538,7.691,6.758,6.854,7.267,6.826,6.482,6.812,7.82,6.968,7.645,7.923,7.088,6.453,6.23,6.209,6.315,6.565,6.861,7.148,6.63,6.127,6.009,6.678,6.549,5.79,6.345,7.041,6.871,6.59,6.495,6.982,7.236,6.616,7.42,6.849,6.635,5.972,4.973,6.122,6.023,6.266,6.567,5.705,5.914,5.782,6.382,6.113,6.426,6.376,6.041,5.708,6.415,6.431,6.312,6.083,5.868,6.333,6.144,5.706,6.031,6.316,6.31,6.037,5.869,5.895,6.059,5.985,5.968,7.241,6.54,6.696,6.874,6.014,5.898,6.516,6.635,6.939,6.49,6.579,5.884,6.728,5.663,5.936,6.212,6.395,6.127,6.112,6.398,6.251,5.362,5.803,8.78,3.561,4.963,3.863,4.97,6.683,7.016,6.216,5.875,4.906,4.138,7.313,6.649,6.794,6.38,6.223,6.968,6.545,5.536,5.52,4.368,5.277,4.652,5.0,4.88,5.39,5.713,6.051,5.036,6.193,5.887,6.471,6.405,5.747,5.453,5.852,5.987,6.343,6.404,5.349,5.531,5.683,4.138,5.608,5.617,6.852,5.757,6.657,4.628,5.155,4.519,6.434,6.782,5.304,5.957,6.824,6.411,6.006,5.648,6.103,5.565,5.896,5.837,6.202,6.193,6.38,6.348,6.833,6.425,6.436,6.208,6.629,6.461,6.152,5.935,5.627,5.818,6.406,6.219,6.485,5.854,6.459,6.341,6.251,6.185,6.417,6.749,6.655,6.297,7.393,6.728,6.525,5.976,5.936,6.301,6.081,6.701,6.376,6.317,6.513,6.209,5.759,5.952,6.003,5.926,5.713,6.167,6.229,6.437,6.98,5.427,6.162,6.484,5.304,6.185,6.229,6.242,6.75,7.061,5.762,5.871,6.312,6.114,5.905,5.454,5.414,5.093,5.983,5.983,5.707,5.926,5.67,5.39,5.794,6.019,5.569,6.027,6.593,6.12,6.976,6.794,6.03],\"xaxis\":\"x\",\"y\":[\"Distribui\\u00e7\\u00e3o da vari\\u00e1vel RM (n\\u00famero de quartos)\",\"Distribui\\u00e7\\u00e3o da vari\\u00e1vel RM (n\\u00famero de quartos)\",\"Distribui\\u00e7\\u00e3o da vari\\u00e1vel RM (n\\u00famero de quartos)\",\"Distribui\\u00e7\\u00e3o da vari\\u00e1vel RM (n\\u00famero de quartos)\",\"Distribui\\u00e7\\u00e3o da vari\\u00e1vel RM (n\\u00famero de quartos)\",\"Distribui\\u00e7\\u00e3o da vari\\u00e1vel RM (n\\u00famero de quartos)\",\"Distribui\\u00e7\\u00e3o da vari\\u00e1vel RM (n\\u00famero de quartos)\",\"Distribui\\u00e7\\u00e3o da vari\\u00e1vel RM (n\\u00famero de quartos)\",\"Distribui\\u00e7\\u00e3o da vari\\u00e1vel RM (n\\u00famero de quartos)\",\"Distribui\\u00e7\\u00e3o da vari\\u00e1vel RM (n\\u00famero de quartos)\",\"Distribui\\u00e7\\u00e3o da vari\\u00e1vel RM (n\\u00famero de quartos)\",\"Distribui\\u00e7\\u00e3o da vari\\u00e1vel RM (n\\u00famero de quartos)\",\"Distribui\\u00e7\\u00e3o da vari\\u00e1vel RM (n\\u00famero de quartos)\",\"Distribui\\u00e7\\u00e3o da vari\\u00e1vel RM (n\\u00famero de quartos)\",\"Distribui\\u00e7\\u00e3o da vari\\u00e1vel RM (n\\u00famero de quartos)\",\"Distribui\\u00e7\\u00e3o da vari\\u00e1vel RM (n\\u00famero de quartos)\",\"Distribui\\u00e7\\u00e3o da vari\\u00e1vel RM (n\\u00famero de quartos)\",\"Distribui\\u00e7\\u00e3o da vari\\u00e1vel RM (n\\u00famero de quartos)\",\"Distribui\\u00e7\\u00e3o da vari\\u00e1vel RM (n\\u00famero de quartos)\",\"Distribui\\u00e7\\u00e3o da vari\\u00e1vel RM (n\\u00famero de quartos)\",\"Distribui\\u00e7\\u00e3o da vari\\u00e1vel RM (n\\u00famero de quartos)\",\"Distribui\\u00e7\\u00e3o da vari\\u00e1vel RM (n\\u00famero de quartos)\",\"Distribui\\u00e7\\u00e3o da vari\\u00e1vel RM (n\\u00famero de quartos)\",\"Distribui\\u00e7\\u00e3o da vari\\u00e1vel RM (n\\u00famero de quartos)\",\"Distribui\\u00e7\\u00e3o da vari\\u00e1vel RM (n\\u00famero de quartos)\",\"Distribui\\u00e7\\u00e3o da vari\\u00e1vel RM (n\\u00famero de quartos)\",\"Distribui\\u00e7\\u00e3o da vari\\u00e1vel RM (n\\u00famero de quartos)\",\"Distribui\\u00e7\\u00e3o da vari\\u00e1vel RM (n\\u00famero de quartos)\",\"Distribui\\u00e7\\u00e3o da vari\\u00e1vel RM (n\\u00famero de quartos)\",\"Distribui\\u00e7\\u00e3o da vari\\u00e1vel RM (n\\u00famero de quartos)\",\"Distribui\\u00e7\\u00e3o da vari\\u00e1vel RM (n\\u00famero de quartos)\",\"Distribui\\u00e7\\u00e3o da vari\\u00e1vel RM (n\\u00famero de quartos)\",\"Distribui\\u00e7\\u00e3o da vari\\u00e1vel RM (n\\u00famero de quartos)\",\"Distribui\\u00e7\\u00e3o da vari\\u00e1vel RM (n\\u00famero de quartos)\",\"Distribui\\u00e7\\u00e3o da vari\\u00e1vel RM (n\\u00famero de quartos)\",\"Distribui\\u00e7\\u00e3o da vari\\u00e1vel RM (n\\u00famero de quartos)\",\"Distribui\\u00e7\\u00e3o da vari\\u00e1vel RM (n\\u00famero de quartos)\",\"Distribui\\u00e7\\u00e3o da vari\\u00e1vel RM (n\\u00famero de quartos)\",\"Distribui\\u00e7\\u00e3o da vari\\u00e1vel RM (n\\u00famero de quartos)\",\"Distribui\\u00e7\\u00e3o da vari\\u00e1vel RM (n\\u00famero de quartos)\",\"Distribui\\u00e7\\u00e3o da vari\\u00e1vel RM (n\\u00famero de quartos)\",\"Distribui\\u00e7\\u00e3o da vari\\u00e1vel RM (n\\u00famero de quartos)\",\"Distribui\\u00e7\\u00e3o da vari\\u00e1vel RM (n\\u00famero de quartos)\",\"Distribui\\u00e7\\u00e3o da vari\\u00e1vel RM (n\\u00famero de quartos)\",\"Distribui\\u00e7\\u00e3o da vari\\u00e1vel RM (n\\u00famero de quartos)\",\"Distribui\\u00e7\\u00e3o da vari\\u00e1vel RM (n\\u00famero de quartos)\",\"Distribui\\u00e7\\u00e3o da vari\\u00e1vel RM (n\\u00famero de quartos)\",\"Distribui\\u00e7\\u00e3o da vari\\u00e1vel RM (n\\u00famero de quartos)\",\"Distribui\\u00e7\\u00e3o da vari\\u00e1vel RM (n\\u00famero de quartos)\",\"Distribui\\u00e7\\u00e3o da vari\\u00e1vel RM (n\\u00famero de quartos)\",\"Distribui\\u00e7\\u00e3o da vari\\u00e1vel RM (n\\u00famero de quartos)\",\"Distribui\\u00e7\\u00e3o da vari\\u00e1vel RM (n\\u00famero de quartos)\",\"Distribui\\u00e7\\u00e3o da vari\\u00e1vel RM (n\\u00famero de quartos)\",\"Distribui\\u00e7\\u00e3o da vari\\u00e1vel RM (n\\u00famero de quartos)\",\"Distribui\\u00e7\\u00e3o da vari\\u00e1vel RM (n\\u00famero de quartos)\",\"Distribui\\u00e7\\u00e3o da vari\\u00e1vel RM (n\\u00famero de quartos)\",\"Distribui\\u00e7\\u00e3o da vari\\u00e1vel RM (n\\u00famero de quartos)\",\"Distribui\\u00e7\\u00e3o da vari\\u00e1vel RM (n\\u00famero de quartos)\",\"Distribui\\u00e7\\u00e3o da vari\\u00e1vel RM (n\\u00famero de quartos)\",\"Distribui\\u00e7\\u00e3o da vari\\u00e1vel RM (n\\u00famero de quartos)\",\"Distribui\\u00e7\\u00e3o da vari\\u00e1vel RM (n\\u00famero de quartos)\",\"Distribui\\u00e7\\u00e3o da vari\\u00e1vel RM (n\\u00famero de quartos)\",\"Distribui\\u00e7\\u00e3o da vari\\u00e1vel RM (n\\u00famero de quartos)\",\"Distribui\\u00e7\\u00e3o da vari\\u00e1vel RM (n\\u00famero de quartos)\",\"Distribui\\u00e7\\u00e3o da vari\\u00e1vel RM (n\\u00famero de quartos)\",\"Distribui\\u00e7\\u00e3o da vari\\u00e1vel RM (n\\u00famero de quartos)\",\"Distribui\\u00e7\\u00e3o da vari\\u00e1vel RM (n\\u00famero de quartos)\",\"Distribui\\u00e7\\u00e3o da vari\\u00e1vel RM (n\\u00famero de quartos)\",\"Distribui\\u00e7\\u00e3o da vari\\u00e1vel RM (n\\u00famero de quartos)\",\"Distribui\\u00e7\\u00e3o da vari\\u00e1vel RM (n\\u00famero de quartos)\",\"Distribui\\u00e7\\u00e3o da vari\\u00e1vel RM (n\\u00famero de quartos)\",\"Distribui\\u00e7\\u00e3o da vari\\u00e1vel RM (n\\u00famero de quartos)\",\"Distribui\\u00e7\\u00e3o da vari\\u00e1vel RM (n\\u00famero de quartos)\",\"Distribui\\u00e7\\u00e3o da vari\\u00e1vel RM (n\\u00famero de quartos)\",\"Distribui\\u00e7\\u00e3o da vari\\u00e1vel RM (n\\u00famero de quartos)\",\"Distribui\\u00e7\\u00e3o da vari\\u00e1vel RM (n\\u00famero de quartos)\",\"Distribui\\u00e7\\u00e3o da vari\\u00e1vel RM (n\\u00famero de quartos)\",\"Distribui\\u00e7\\u00e3o da vari\\u00e1vel RM (n\\u00famero de quartos)\",\"Distribui\\u00e7\\u00e3o da vari\\u00e1vel RM (n\\u00famero de quartos)\",\"Distribui\\u00e7\\u00e3o da vari\\u00e1vel RM (n\\u00famero de quartos)\",\"Distribui\\u00e7\\u00e3o da vari\\u00e1vel RM (n\\u00famero de quartos)\",\"Distribui\\u00e7\\u00e3o da vari\\u00e1vel RM (n\\u00famero de quartos)\",\"Distribui\\u00e7\\u00e3o da vari\\u00e1vel RM (n\\u00famero de quartos)\",\"Distribui\\u00e7\\u00e3o da vari\\u00e1vel RM (n\\u00famero de quartos)\",\"Distribui\\u00e7\\u00e3o da vari\\u00e1vel RM (n\\u00famero de quartos)\",\"Distribui\\u00e7\\u00e3o da vari\\u00e1vel RM (n\\u00famero de quartos)\",\"Distribui\\u00e7\\u00e3o da vari\\u00e1vel RM (n\\u00famero de quartos)\",\"Distribui\\u00e7\\u00e3o da vari\\u00e1vel RM (n\\u00famero de quartos)\",\"Distribui\\u00e7\\u00e3o da vari\\u00e1vel RM (n\\u00famero de quartos)\",\"Distribui\\u00e7\\u00e3o da vari\\u00e1vel RM (n\\u00famero de quartos)\",\"Distribui\\u00e7\\u00e3o da vari\\u00e1vel RM (n\\u00famero de quartos)\",\"Distribui\\u00e7\\u00e3o da vari\\u00e1vel RM (n\\u00famero de quartos)\",\"Distribui\\u00e7\\u00e3o da vari\\u00e1vel RM (n\\u00famero de quartos)\",\"Distribui\\u00e7\\u00e3o da vari\\u00e1vel RM (n\\u00famero de quartos)\",\"Distribui\\u00e7\\u00e3o da vari\\u00e1vel RM (n\\u00famero de quartos)\",\"Distribui\\u00e7\\u00e3o da vari\\u00e1vel RM (n\\u00famero de quartos)\",\"Distribui\\u00e7\\u00e3o da vari\\u00e1vel RM (n\\u00famero de quartos)\",\"Distribui\\u00e7\\u00e3o da vari\\u00e1vel RM (n\\u00famero de quartos)\",\"Distribui\\u00e7\\u00e3o da vari\\u00e1vel RM (n\\u00famero de quartos)\",\"Distribui\\u00e7\\u00e3o da vari\\u00e1vel RM (n\\u00famero de quartos)\",\"Distribui\\u00e7\\u00e3o da vari\\u00e1vel RM (n\\u00famero de quartos)\",\"Distribui\\u00e7\\u00e3o da vari\\u00e1vel RM (n\\u00famero de quartos)\",\"Distribui\\u00e7\\u00e3o da vari\\u00e1vel RM (n\\u00famero de quartos)\",\"Distribui\\u00e7\\u00e3o da vari\\u00e1vel RM (n\\u00famero de quartos)\",\"Distribui\\u00e7\\u00e3o da vari\\u00e1vel RM (n\\u00famero de quartos)\",\"Distribui\\u00e7\\u00e3o da vari\\u00e1vel RM (n\\u00famero de quartos)\",\"Distribui\\u00e7\\u00e3o da vari\\u00e1vel RM (n\\u00famero de quartos)\",\"Distribui\\u00e7\\u00e3o da vari\\u00e1vel RM (n\\u00famero de quartos)\",\"Distribui\\u00e7\\u00e3o da vari\\u00e1vel RM (n\\u00famero de quartos)\",\"Distribui\\u00e7\\u00e3o da vari\\u00e1vel RM (n\\u00famero de quartos)\",\"Distribui\\u00e7\\u00e3o da vari\\u00e1vel RM (n\\u00famero de quartos)\",\"Distribui\\u00e7\\u00e3o da vari\\u00e1vel RM (n\\u00famero de quartos)\",\"Distribui\\u00e7\\u00e3o da vari\\u00e1vel RM (n\\u00famero de quartos)\",\"Distribui\\u00e7\\u00e3o da vari\\u00e1vel RM (n\\u00famero de quartos)\",\"Distribui\\u00e7\\u00e3o da vari\\u00e1vel RM (n\\u00famero de quartos)\",\"Distribui\\u00e7\\u00e3o da vari\\u00e1vel RM (n\\u00famero de quartos)\",\"Distribui\\u00e7\\u00e3o da vari\\u00e1vel RM (n\\u00famero de quartos)\",\"Distribui\\u00e7\\u00e3o da vari\\u00e1vel RM (n\\u00famero de quartos)\",\"Distribui\\u00e7\\u00e3o da vari\\u00e1vel RM (n\\u00famero de quartos)\",\"Distribui\\u00e7\\u00e3o da vari\\u00e1vel RM (n\\u00famero de quartos)\",\"Distribui\\u00e7\\u00e3o da vari\\u00e1vel RM (n\\u00famero de quartos)\",\"Distribui\\u00e7\\u00e3o da vari\\u00e1vel RM (n\\u00famero de quartos)\",\"Distribui\\u00e7\\u00e3o da vari\\u00e1vel RM (n\\u00famero de quartos)\",\"Distribui\\u00e7\\u00e3o da vari\\u00e1vel RM (n\\u00famero de quartos)\",\"Distribui\\u00e7\\u00e3o da vari\\u00e1vel RM (n\\u00famero de quartos)\",\"Distribui\\u00e7\\u00e3o da vari\\u00e1vel RM (n\\u00famero de quartos)\",\"Distribui\\u00e7\\u00e3o da vari\\u00e1vel RM (n\\u00famero de quartos)\",\"Distribui\\u00e7\\u00e3o da vari\\u00e1vel RM (n\\u00famero de quartos)\",\"Distribui\\u00e7\\u00e3o da vari\\u00e1vel RM (n\\u00famero de quartos)\",\"Distribui\\u00e7\\u00e3o da vari\\u00e1vel RM (n\\u00famero de quartos)\",\"Distribui\\u00e7\\u00e3o da vari\\u00e1vel RM (n\\u00famero de quartos)\",\"Distribui\\u00e7\\u00e3o da vari\\u00e1vel RM (n\\u00famero de quartos)\",\"Distribui\\u00e7\\u00e3o da vari\\u00e1vel RM (n\\u00famero de quartos)\",\"Distribui\\u00e7\\u00e3o da vari\\u00e1vel RM (n\\u00famero de quartos)\",\"Distribui\\u00e7\\u00e3o da vari\\u00e1vel RM (n\\u00famero de quartos)\",\"Distribui\\u00e7\\u00e3o da vari\\u00e1vel RM (n\\u00famero de quartos)\",\"Distribui\\u00e7\\u00e3o da vari\\u00e1vel RM (n\\u00famero de quartos)\",\"Distribui\\u00e7\\u00e3o da vari\\u00e1vel RM (n\\u00famero de quartos)\",\"Distribui\\u00e7\\u00e3o da vari\\u00e1vel RM (n\\u00famero de quartos)\",\"Distribui\\u00e7\\u00e3o da vari\\u00e1vel RM (n\\u00famero de quartos)\",\"Distribui\\u00e7\\u00e3o da vari\\u00e1vel RM (n\\u00famero de quartos)\",\"Distribui\\u00e7\\u00e3o da vari\\u00e1vel RM (n\\u00famero de quartos)\",\"Distribui\\u00e7\\u00e3o da vari\\u00e1vel RM (n\\u00famero de quartos)\",\"Distribui\\u00e7\\u00e3o da vari\\u00e1vel RM (n\\u00famero de quartos)\",\"Distribui\\u00e7\\u00e3o da vari\\u00e1vel RM (n\\u00famero de quartos)\",\"Distribui\\u00e7\\u00e3o da vari\\u00e1vel RM (n\\u00famero de quartos)\",\"Distribui\\u00e7\\u00e3o da vari\\u00e1vel RM (n\\u00famero de quartos)\",\"Distribui\\u00e7\\u00e3o da vari\\u00e1vel RM (n\\u00famero de quartos)\",\"Distribui\\u00e7\\u00e3o da vari\\u00e1vel RM (n\\u00famero de quartos)\",\"Distribui\\u00e7\\u00e3o da vari\\u00e1vel RM (n\\u00famero de quartos)\",\"Distribui\\u00e7\\u00e3o da vari\\u00e1vel RM (n\\u00famero de quartos)\",\"Distribui\\u00e7\\u00e3o da vari\\u00e1vel RM (n\\u00famero de quartos)\",\"Distribui\\u00e7\\u00e3o da vari\\u00e1vel RM (n\\u00famero de quartos)\",\"Distribui\\u00e7\\u00e3o da vari\\u00e1vel RM (n\\u00famero de quartos)\",\"Distribui\\u00e7\\u00e3o da vari\\u00e1vel RM (n\\u00famero de quartos)\",\"Distribui\\u00e7\\u00e3o da vari\\u00e1vel RM (n\\u00famero de quartos)\",\"Distribui\\u00e7\\u00e3o da vari\\u00e1vel RM (n\\u00famero de quartos)\",\"Distribui\\u00e7\\u00e3o da vari\\u00e1vel RM (n\\u00famero de quartos)\",\"Distribui\\u00e7\\u00e3o da vari\\u00e1vel RM (n\\u00famero de quartos)\",\"Distribui\\u00e7\\u00e3o da vari\\u00e1vel RM (n\\u00famero de quartos)\",\"Distribui\\u00e7\\u00e3o da vari\\u00e1vel RM (n\\u00famero de quartos)\",\"Distribui\\u00e7\\u00e3o da vari\\u00e1vel RM (n\\u00famero de quartos)\",\"Distribui\\u00e7\\u00e3o da vari\\u00e1vel RM (n\\u00famero de quartos)\",\"Distribui\\u00e7\\u00e3o da vari\\u00e1vel RM (n\\u00famero de quartos)\",\"Distribui\\u00e7\\u00e3o da vari\\u00e1vel RM (n\\u00famero de quartos)\",\"Distribui\\u00e7\\u00e3o da vari\\u00e1vel RM (n\\u00famero de quartos)\",\"Distribui\\u00e7\\u00e3o da vari\\u00e1vel RM (n\\u00famero de quartos)\",\"Distribui\\u00e7\\u00e3o da vari\\u00e1vel RM (n\\u00famero de quartos)\",\"Distribui\\u00e7\\u00e3o da vari\\u00e1vel RM (n\\u00famero de quartos)\",\"Distribui\\u00e7\\u00e3o da vari\\u00e1vel RM (n\\u00famero de quartos)\",\"Distribui\\u00e7\\u00e3o da vari\\u00e1vel RM (n\\u00famero de quartos)\",\"Distribui\\u00e7\\u00e3o da vari\\u00e1vel RM (n\\u00famero de quartos)\",\"Distribui\\u00e7\\u00e3o da vari\\u00e1vel RM (n\\u00famero de quartos)\",\"Distribui\\u00e7\\u00e3o da vari\\u00e1vel RM (n\\u00famero de quartos)\",\"Distribui\\u00e7\\u00e3o da vari\\u00e1vel RM (n\\u00famero de quartos)\",\"Distribui\\u00e7\\u00e3o da vari\\u00e1vel RM (n\\u00famero de quartos)\",\"Distribui\\u00e7\\u00e3o da vari\\u00e1vel RM (n\\u00famero de quartos)\",\"Distribui\\u00e7\\u00e3o da vari\\u00e1vel RM (n\\u00famero de quartos)\",\"Distribui\\u00e7\\u00e3o da vari\\u00e1vel RM (n\\u00famero de quartos)\",\"Distribui\\u00e7\\u00e3o da vari\\u00e1vel RM (n\\u00famero de quartos)\",\"Distribui\\u00e7\\u00e3o da vari\\u00e1vel RM (n\\u00famero de quartos)\",\"Distribui\\u00e7\\u00e3o da vari\\u00e1vel RM (n\\u00famero de quartos)\",\"Distribui\\u00e7\\u00e3o da vari\\u00e1vel RM (n\\u00famero de quartos)\",\"Distribui\\u00e7\\u00e3o da vari\\u00e1vel RM (n\\u00famero de quartos)\",\"Distribui\\u00e7\\u00e3o da vari\\u00e1vel RM (n\\u00famero de quartos)\",\"Distribui\\u00e7\\u00e3o da vari\\u00e1vel RM (n\\u00famero de quartos)\",\"Distribui\\u00e7\\u00e3o da vari\\u00e1vel RM (n\\u00famero de quartos)\",\"Distribui\\u00e7\\u00e3o da vari\\u00e1vel RM (n\\u00famero de quartos)\",\"Distribui\\u00e7\\u00e3o da vari\\u00e1vel RM (n\\u00famero de quartos)\",\"Distribui\\u00e7\\u00e3o da vari\\u00e1vel RM (n\\u00famero de quartos)\",\"Distribui\\u00e7\\u00e3o da vari\\u00e1vel RM (n\\u00famero de quartos)\",\"Distribui\\u00e7\\u00e3o da vari\\u00e1vel RM (n\\u00famero de quartos)\",\"Distribui\\u00e7\\u00e3o da vari\\u00e1vel RM (n\\u00famero de quartos)\",\"Distribui\\u00e7\\u00e3o da vari\\u00e1vel RM (n\\u00famero de quartos)\",\"Distribui\\u00e7\\u00e3o da vari\\u00e1vel RM (n\\u00famero de quartos)\",\"Distribui\\u00e7\\u00e3o da vari\\u00e1vel RM (n\\u00famero de quartos)\",\"Distribui\\u00e7\\u00e3o da vari\\u00e1vel RM (n\\u00famero de quartos)\",\"Distribui\\u00e7\\u00e3o da vari\\u00e1vel RM (n\\u00famero de quartos)\",\"Distribui\\u00e7\\u00e3o da vari\\u00e1vel RM (n\\u00famero de quartos)\",\"Distribui\\u00e7\\u00e3o da vari\\u00e1vel RM (n\\u00famero de quartos)\",\"Distribui\\u00e7\\u00e3o da vari\\u00e1vel RM (n\\u00famero de quartos)\",\"Distribui\\u00e7\\u00e3o da vari\\u00e1vel RM (n\\u00famero de quartos)\",\"Distribui\\u00e7\\u00e3o da vari\\u00e1vel RM (n\\u00famero de quartos)\",\"Distribui\\u00e7\\u00e3o da vari\\u00e1vel RM (n\\u00famero de quartos)\",\"Distribui\\u00e7\\u00e3o da vari\\u00e1vel RM (n\\u00famero de quartos)\",\"Distribui\\u00e7\\u00e3o da vari\\u00e1vel RM (n\\u00famero de quartos)\",\"Distribui\\u00e7\\u00e3o da vari\\u00e1vel RM (n\\u00famero de quartos)\",\"Distribui\\u00e7\\u00e3o da vari\\u00e1vel RM (n\\u00famero de quartos)\",\"Distribui\\u00e7\\u00e3o da vari\\u00e1vel RM (n\\u00famero de quartos)\",\"Distribui\\u00e7\\u00e3o da vari\\u00e1vel RM (n\\u00famero de quartos)\",\"Distribui\\u00e7\\u00e3o da vari\\u00e1vel RM (n\\u00famero de quartos)\",\"Distribui\\u00e7\\u00e3o da vari\\u00e1vel RM (n\\u00famero de quartos)\",\"Distribui\\u00e7\\u00e3o da vari\\u00e1vel RM (n\\u00famero de quartos)\",\"Distribui\\u00e7\\u00e3o da vari\\u00e1vel RM (n\\u00famero de quartos)\",\"Distribui\\u00e7\\u00e3o da vari\\u00e1vel RM (n\\u00famero de quartos)\",\"Distribui\\u00e7\\u00e3o da vari\\u00e1vel RM (n\\u00famero de quartos)\",\"Distribui\\u00e7\\u00e3o da vari\\u00e1vel RM (n\\u00famero de quartos)\",\"Distribui\\u00e7\\u00e3o da vari\\u00e1vel RM (n\\u00famero de quartos)\",\"Distribui\\u00e7\\u00e3o da vari\\u00e1vel RM (n\\u00famero de quartos)\",\"Distribui\\u00e7\\u00e3o da vari\\u00e1vel RM (n\\u00famero de quartos)\",\"Distribui\\u00e7\\u00e3o da vari\\u00e1vel RM (n\\u00famero de quartos)\",\"Distribui\\u00e7\\u00e3o da vari\\u00e1vel RM (n\\u00famero de quartos)\",\"Distribui\\u00e7\\u00e3o da vari\\u00e1vel RM (n\\u00famero de quartos)\",\"Distribui\\u00e7\\u00e3o da vari\\u00e1vel RM (n\\u00famero de quartos)\",\"Distribui\\u00e7\\u00e3o da vari\\u00e1vel RM (n\\u00famero de quartos)\",\"Distribui\\u00e7\\u00e3o da vari\\u00e1vel RM (n\\u00famero de quartos)\",\"Distribui\\u00e7\\u00e3o da vari\\u00e1vel RM (n\\u00famero de quartos)\",\"Distribui\\u00e7\\u00e3o da vari\\u00e1vel RM (n\\u00famero de quartos)\",\"Distribui\\u00e7\\u00e3o da vari\\u00e1vel RM (n\\u00famero de quartos)\",\"Distribui\\u00e7\\u00e3o da vari\\u00e1vel RM (n\\u00famero de quartos)\",\"Distribui\\u00e7\\u00e3o da vari\\u00e1vel RM (n\\u00famero de quartos)\",\"Distribui\\u00e7\\u00e3o da vari\\u00e1vel RM (n\\u00famero de quartos)\",\"Distribui\\u00e7\\u00e3o da vari\\u00e1vel RM (n\\u00famero de quartos)\",\"Distribui\\u00e7\\u00e3o da vari\\u00e1vel RM (n\\u00famero de quartos)\",\"Distribui\\u00e7\\u00e3o da vari\\u00e1vel RM (n\\u00famero de quartos)\",\"Distribui\\u00e7\\u00e3o da vari\\u00e1vel RM (n\\u00famero de quartos)\",\"Distribui\\u00e7\\u00e3o da vari\\u00e1vel RM (n\\u00famero de quartos)\",\"Distribui\\u00e7\\u00e3o da vari\\u00e1vel RM (n\\u00famero de quartos)\",\"Distribui\\u00e7\\u00e3o da vari\\u00e1vel RM (n\\u00famero de quartos)\",\"Distribui\\u00e7\\u00e3o da vari\\u00e1vel RM (n\\u00famero de quartos)\",\"Distribui\\u00e7\\u00e3o da vari\\u00e1vel RM (n\\u00famero de quartos)\",\"Distribui\\u00e7\\u00e3o da vari\\u00e1vel RM (n\\u00famero de quartos)\",\"Distribui\\u00e7\\u00e3o da vari\\u00e1vel RM (n\\u00famero de quartos)\",\"Distribui\\u00e7\\u00e3o da vari\\u00e1vel RM (n\\u00famero de quartos)\",\"Distribui\\u00e7\\u00e3o da vari\\u00e1vel RM (n\\u00famero de quartos)\",\"Distribui\\u00e7\\u00e3o da vari\\u00e1vel RM (n\\u00famero de quartos)\",\"Distribui\\u00e7\\u00e3o da vari\\u00e1vel RM (n\\u00famero de quartos)\",\"Distribui\\u00e7\\u00e3o da vari\\u00e1vel RM (n\\u00famero de quartos)\",\"Distribui\\u00e7\\u00e3o da vari\\u00e1vel RM (n\\u00famero de quartos)\",\"Distribui\\u00e7\\u00e3o da vari\\u00e1vel RM (n\\u00famero de quartos)\",\"Distribui\\u00e7\\u00e3o da vari\\u00e1vel RM (n\\u00famero de quartos)\",\"Distribui\\u00e7\\u00e3o da vari\\u00e1vel RM (n\\u00famero de quartos)\",\"Distribui\\u00e7\\u00e3o da vari\\u00e1vel RM (n\\u00famero de quartos)\",\"Distribui\\u00e7\\u00e3o da vari\\u00e1vel RM (n\\u00famero de quartos)\",\"Distribui\\u00e7\\u00e3o da vari\\u00e1vel RM (n\\u00famero de quartos)\",\"Distribui\\u00e7\\u00e3o da vari\\u00e1vel RM (n\\u00famero de quartos)\",\"Distribui\\u00e7\\u00e3o da vari\\u00e1vel RM (n\\u00famero de quartos)\",\"Distribui\\u00e7\\u00e3o da vari\\u00e1vel RM (n\\u00famero de quartos)\",\"Distribui\\u00e7\\u00e3o da vari\\u00e1vel RM (n\\u00famero de quartos)\",\"Distribui\\u00e7\\u00e3o da vari\\u00e1vel RM (n\\u00famero de quartos)\",\"Distribui\\u00e7\\u00e3o da vari\\u00e1vel RM (n\\u00famero de quartos)\",\"Distribui\\u00e7\\u00e3o da vari\\u00e1vel RM (n\\u00famero de quartos)\",\"Distribui\\u00e7\\u00e3o da vari\\u00e1vel RM (n\\u00famero de quartos)\",\"Distribui\\u00e7\\u00e3o da vari\\u00e1vel RM (n\\u00famero de quartos)\",\"Distribui\\u00e7\\u00e3o da vari\\u00e1vel RM (n\\u00famero de quartos)\",\"Distribui\\u00e7\\u00e3o da vari\\u00e1vel RM (n\\u00famero de quartos)\",\"Distribui\\u00e7\\u00e3o da vari\\u00e1vel RM (n\\u00famero de quartos)\",\"Distribui\\u00e7\\u00e3o da vari\\u00e1vel RM (n\\u00famero de quartos)\",\"Distribui\\u00e7\\u00e3o da vari\\u00e1vel RM (n\\u00famero de quartos)\",\"Distribui\\u00e7\\u00e3o da vari\\u00e1vel RM (n\\u00famero de quartos)\",\"Distribui\\u00e7\\u00e3o da vari\\u00e1vel RM (n\\u00famero de quartos)\",\"Distribui\\u00e7\\u00e3o da vari\\u00e1vel RM (n\\u00famero de quartos)\",\"Distribui\\u00e7\\u00e3o da vari\\u00e1vel RM (n\\u00famero de quartos)\",\"Distribui\\u00e7\\u00e3o da vari\\u00e1vel RM (n\\u00famero de quartos)\",\"Distribui\\u00e7\\u00e3o da vari\\u00e1vel RM (n\\u00famero de quartos)\",\"Distribui\\u00e7\\u00e3o da vari\\u00e1vel RM (n\\u00famero de quartos)\",\"Distribui\\u00e7\\u00e3o da vari\\u00e1vel RM (n\\u00famero de quartos)\",\"Distribui\\u00e7\\u00e3o da vari\\u00e1vel RM (n\\u00famero de quartos)\",\"Distribui\\u00e7\\u00e3o da vari\\u00e1vel RM (n\\u00famero de quartos)\",\"Distribui\\u00e7\\u00e3o da vari\\u00e1vel RM (n\\u00famero de quartos)\",\"Distribui\\u00e7\\u00e3o da vari\\u00e1vel RM (n\\u00famero de quartos)\",\"Distribui\\u00e7\\u00e3o da vari\\u00e1vel RM (n\\u00famero de quartos)\",\"Distribui\\u00e7\\u00e3o da vari\\u00e1vel RM (n\\u00famero de quartos)\",\"Distribui\\u00e7\\u00e3o da vari\\u00e1vel RM (n\\u00famero de quartos)\",\"Distribui\\u00e7\\u00e3o da vari\\u00e1vel RM (n\\u00famero de quartos)\",\"Distribui\\u00e7\\u00e3o da vari\\u00e1vel RM (n\\u00famero de quartos)\",\"Distribui\\u00e7\\u00e3o da vari\\u00e1vel RM (n\\u00famero de quartos)\",\"Distribui\\u00e7\\u00e3o da vari\\u00e1vel RM (n\\u00famero de quartos)\",\"Distribui\\u00e7\\u00e3o da vari\\u00e1vel RM (n\\u00famero de quartos)\",\"Distribui\\u00e7\\u00e3o da vari\\u00e1vel RM (n\\u00famero de quartos)\",\"Distribui\\u00e7\\u00e3o da vari\\u00e1vel RM (n\\u00famero de quartos)\",\"Distribui\\u00e7\\u00e3o da vari\\u00e1vel RM (n\\u00famero de quartos)\",\"Distribui\\u00e7\\u00e3o da vari\\u00e1vel RM (n\\u00famero de quartos)\",\"Distribui\\u00e7\\u00e3o da vari\\u00e1vel RM (n\\u00famero de quartos)\",\"Distribui\\u00e7\\u00e3o da vari\\u00e1vel RM (n\\u00famero de quartos)\",\"Distribui\\u00e7\\u00e3o da vari\\u00e1vel RM (n\\u00famero de quartos)\",\"Distribui\\u00e7\\u00e3o da vari\\u00e1vel RM (n\\u00famero de quartos)\",\"Distribui\\u00e7\\u00e3o da vari\\u00e1vel RM (n\\u00famero de quartos)\",\"Distribui\\u00e7\\u00e3o da vari\\u00e1vel RM (n\\u00famero de quartos)\",\"Distribui\\u00e7\\u00e3o da vari\\u00e1vel RM (n\\u00famero de quartos)\",\"Distribui\\u00e7\\u00e3o da vari\\u00e1vel RM (n\\u00famero de quartos)\",\"Distribui\\u00e7\\u00e3o da vari\\u00e1vel RM (n\\u00famero de quartos)\",\"Distribui\\u00e7\\u00e3o da vari\\u00e1vel RM (n\\u00famero de quartos)\",\"Distribui\\u00e7\\u00e3o da vari\\u00e1vel RM (n\\u00famero de quartos)\",\"Distribui\\u00e7\\u00e3o da vari\\u00e1vel RM (n\\u00famero de quartos)\",\"Distribui\\u00e7\\u00e3o da vari\\u00e1vel RM (n\\u00famero de quartos)\",\"Distribui\\u00e7\\u00e3o da vari\\u00e1vel RM (n\\u00famero de quartos)\",\"Distribui\\u00e7\\u00e3o da vari\\u00e1vel RM (n\\u00famero de quartos)\",\"Distribui\\u00e7\\u00e3o da vari\\u00e1vel RM (n\\u00famero de quartos)\",\"Distribui\\u00e7\\u00e3o da vari\\u00e1vel RM (n\\u00famero de quartos)\",\"Distribui\\u00e7\\u00e3o da vari\\u00e1vel RM (n\\u00famero de quartos)\",\"Distribui\\u00e7\\u00e3o da vari\\u00e1vel RM (n\\u00famero de quartos)\",\"Distribui\\u00e7\\u00e3o da vari\\u00e1vel RM (n\\u00famero de quartos)\",\"Distribui\\u00e7\\u00e3o da vari\\u00e1vel RM (n\\u00famero de quartos)\",\"Distribui\\u00e7\\u00e3o da vari\\u00e1vel RM (n\\u00famero de quartos)\",\"Distribui\\u00e7\\u00e3o da vari\\u00e1vel RM (n\\u00famero de quartos)\",\"Distribui\\u00e7\\u00e3o da vari\\u00e1vel RM (n\\u00famero de quartos)\",\"Distribui\\u00e7\\u00e3o da vari\\u00e1vel RM (n\\u00famero de quartos)\",\"Distribui\\u00e7\\u00e3o da vari\\u00e1vel RM (n\\u00famero de quartos)\",\"Distribui\\u00e7\\u00e3o da vari\\u00e1vel RM (n\\u00famero de quartos)\",\"Distribui\\u00e7\\u00e3o da vari\\u00e1vel RM (n\\u00famero de quartos)\",\"Distribui\\u00e7\\u00e3o da vari\\u00e1vel RM (n\\u00famero de quartos)\",\"Distribui\\u00e7\\u00e3o da vari\\u00e1vel RM (n\\u00famero de quartos)\",\"Distribui\\u00e7\\u00e3o da vari\\u00e1vel RM (n\\u00famero de quartos)\",\"Distribui\\u00e7\\u00e3o da vari\\u00e1vel RM (n\\u00famero de quartos)\",\"Distribui\\u00e7\\u00e3o da vari\\u00e1vel RM (n\\u00famero de quartos)\",\"Distribui\\u00e7\\u00e3o da vari\\u00e1vel RM (n\\u00famero de quartos)\",\"Distribui\\u00e7\\u00e3o da vari\\u00e1vel RM (n\\u00famero de quartos)\",\"Distribui\\u00e7\\u00e3o da vari\\u00e1vel RM (n\\u00famero de quartos)\",\"Distribui\\u00e7\\u00e3o da vari\\u00e1vel RM (n\\u00famero de quartos)\",\"Distribui\\u00e7\\u00e3o da vari\\u00e1vel RM (n\\u00famero de quartos)\",\"Distribui\\u00e7\\u00e3o da vari\\u00e1vel RM (n\\u00famero de quartos)\",\"Distribui\\u00e7\\u00e3o da vari\\u00e1vel RM (n\\u00famero de quartos)\",\"Distribui\\u00e7\\u00e3o da vari\\u00e1vel RM (n\\u00famero de quartos)\",\"Distribui\\u00e7\\u00e3o da vari\\u00e1vel RM (n\\u00famero de quartos)\",\"Distribui\\u00e7\\u00e3o da vari\\u00e1vel RM (n\\u00famero de quartos)\",\"Distribui\\u00e7\\u00e3o da vari\\u00e1vel RM (n\\u00famero de quartos)\",\"Distribui\\u00e7\\u00e3o da vari\\u00e1vel RM (n\\u00famero de quartos)\",\"Distribui\\u00e7\\u00e3o da vari\\u00e1vel RM (n\\u00famero de quartos)\",\"Distribui\\u00e7\\u00e3o da vari\\u00e1vel RM (n\\u00famero de quartos)\",\"Distribui\\u00e7\\u00e3o da vari\\u00e1vel RM (n\\u00famero de quartos)\",\"Distribui\\u00e7\\u00e3o da vari\\u00e1vel RM (n\\u00famero de quartos)\",\"Distribui\\u00e7\\u00e3o da vari\\u00e1vel RM (n\\u00famero de quartos)\",\"Distribui\\u00e7\\u00e3o da vari\\u00e1vel RM (n\\u00famero de quartos)\",\"Distribui\\u00e7\\u00e3o da vari\\u00e1vel RM (n\\u00famero de quartos)\",\"Distribui\\u00e7\\u00e3o da vari\\u00e1vel RM (n\\u00famero de quartos)\",\"Distribui\\u00e7\\u00e3o da vari\\u00e1vel RM (n\\u00famero de quartos)\",\"Distribui\\u00e7\\u00e3o da vari\\u00e1vel RM (n\\u00famero de quartos)\",\"Distribui\\u00e7\\u00e3o da vari\\u00e1vel RM (n\\u00famero de quartos)\",\"Distribui\\u00e7\\u00e3o da vari\\u00e1vel RM (n\\u00famero de quartos)\",\"Distribui\\u00e7\\u00e3o da vari\\u00e1vel RM (n\\u00famero de quartos)\",\"Distribui\\u00e7\\u00e3o da vari\\u00e1vel RM (n\\u00famero de quartos)\",\"Distribui\\u00e7\\u00e3o da vari\\u00e1vel RM (n\\u00famero de quartos)\",\"Distribui\\u00e7\\u00e3o da vari\\u00e1vel RM (n\\u00famero de quartos)\",\"Distribui\\u00e7\\u00e3o da vari\\u00e1vel RM (n\\u00famero de quartos)\",\"Distribui\\u00e7\\u00e3o da vari\\u00e1vel RM (n\\u00famero de quartos)\",\"Distribui\\u00e7\\u00e3o da vari\\u00e1vel RM (n\\u00famero de quartos)\",\"Distribui\\u00e7\\u00e3o da vari\\u00e1vel RM (n\\u00famero de quartos)\",\"Distribui\\u00e7\\u00e3o da vari\\u00e1vel RM (n\\u00famero de quartos)\",\"Distribui\\u00e7\\u00e3o da vari\\u00e1vel RM (n\\u00famero de quartos)\",\"Distribui\\u00e7\\u00e3o da vari\\u00e1vel RM (n\\u00famero de quartos)\",\"Distribui\\u00e7\\u00e3o da vari\\u00e1vel RM (n\\u00famero de quartos)\",\"Distribui\\u00e7\\u00e3o da vari\\u00e1vel RM (n\\u00famero de quartos)\",\"Distribui\\u00e7\\u00e3o da vari\\u00e1vel RM (n\\u00famero de quartos)\",\"Distribui\\u00e7\\u00e3o da vari\\u00e1vel RM (n\\u00famero de quartos)\",\"Distribui\\u00e7\\u00e3o da vari\\u00e1vel RM (n\\u00famero de quartos)\",\"Distribui\\u00e7\\u00e3o da vari\\u00e1vel RM (n\\u00famero de quartos)\",\"Distribui\\u00e7\\u00e3o da vari\\u00e1vel RM (n\\u00famero de quartos)\",\"Distribui\\u00e7\\u00e3o da vari\\u00e1vel RM (n\\u00famero de quartos)\",\"Distribui\\u00e7\\u00e3o da vari\\u00e1vel RM (n\\u00famero de quartos)\",\"Distribui\\u00e7\\u00e3o da vari\\u00e1vel RM (n\\u00famero de quartos)\",\"Distribui\\u00e7\\u00e3o da vari\\u00e1vel RM (n\\u00famero de quartos)\",\"Distribui\\u00e7\\u00e3o da vari\\u00e1vel RM (n\\u00famero de quartos)\",\"Distribui\\u00e7\\u00e3o da vari\\u00e1vel RM (n\\u00famero de quartos)\",\"Distribui\\u00e7\\u00e3o da vari\\u00e1vel RM (n\\u00famero de quartos)\",\"Distribui\\u00e7\\u00e3o da vari\\u00e1vel RM (n\\u00famero de quartos)\",\"Distribui\\u00e7\\u00e3o da vari\\u00e1vel RM (n\\u00famero de quartos)\",\"Distribui\\u00e7\\u00e3o da vari\\u00e1vel RM (n\\u00famero de quartos)\",\"Distribui\\u00e7\\u00e3o da vari\\u00e1vel RM (n\\u00famero de quartos)\",\"Distribui\\u00e7\\u00e3o da vari\\u00e1vel RM (n\\u00famero de quartos)\",\"Distribui\\u00e7\\u00e3o da vari\\u00e1vel RM (n\\u00famero de quartos)\",\"Distribui\\u00e7\\u00e3o da vari\\u00e1vel RM (n\\u00famero de quartos)\",\"Distribui\\u00e7\\u00e3o da vari\\u00e1vel RM (n\\u00famero de quartos)\",\"Distribui\\u00e7\\u00e3o da vari\\u00e1vel RM (n\\u00famero de quartos)\",\"Distribui\\u00e7\\u00e3o da vari\\u00e1vel RM (n\\u00famero de quartos)\",\"Distribui\\u00e7\\u00e3o da vari\\u00e1vel RM (n\\u00famero de quartos)\",\"Distribui\\u00e7\\u00e3o da vari\\u00e1vel RM (n\\u00famero de quartos)\",\"Distribui\\u00e7\\u00e3o da vari\\u00e1vel RM (n\\u00famero de quartos)\",\"Distribui\\u00e7\\u00e3o da vari\\u00e1vel RM (n\\u00famero de quartos)\",\"Distribui\\u00e7\\u00e3o da vari\\u00e1vel RM (n\\u00famero de quartos)\",\"Distribui\\u00e7\\u00e3o da vari\\u00e1vel RM (n\\u00famero de quartos)\",\"Distribui\\u00e7\\u00e3o da vari\\u00e1vel RM (n\\u00famero de quartos)\",\"Distribui\\u00e7\\u00e3o da vari\\u00e1vel RM (n\\u00famero de quartos)\",\"Distribui\\u00e7\\u00e3o da vari\\u00e1vel RM (n\\u00famero de quartos)\",\"Distribui\\u00e7\\u00e3o da vari\\u00e1vel RM (n\\u00famero de quartos)\",\"Distribui\\u00e7\\u00e3o da vari\\u00e1vel RM (n\\u00famero de quartos)\",\"Distribui\\u00e7\\u00e3o da vari\\u00e1vel RM (n\\u00famero de quartos)\",\"Distribui\\u00e7\\u00e3o da vari\\u00e1vel RM (n\\u00famero de quartos)\",\"Distribui\\u00e7\\u00e3o da vari\\u00e1vel RM (n\\u00famero de quartos)\",\"Distribui\\u00e7\\u00e3o da vari\\u00e1vel RM (n\\u00famero de quartos)\",\"Distribui\\u00e7\\u00e3o da vari\\u00e1vel RM (n\\u00famero de quartos)\",\"Distribui\\u00e7\\u00e3o da vari\\u00e1vel RM (n\\u00famero de quartos)\",\"Distribui\\u00e7\\u00e3o da vari\\u00e1vel RM (n\\u00famero de quartos)\",\"Distribui\\u00e7\\u00e3o da vari\\u00e1vel RM (n\\u00famero de quartos)\",\"Distribui\\u00e7\\u00e3o da vari\\u00e1vel RM (n\\u00famero de quartos)\",\"Distribui\\u00e7\\u00e3o da vari\\u00e1vel RM (n\\u00famero de quartos)\",\"Distribui\\u00e7\\u00e3o da vari\\u00e1vel RM (n\\u00famero de quartos)\",\"Distribui\\u00e7\\u00e3o da vari\\u00e1vel RM (n\\u00famero de quartos)\",\"Distribui\\u00e7\\u00e3o da vari\\u00e1vel RM (n\\u00famero de quartos)\",\"Distribui\\u00e7\\u00e3o da vari\\u00e1vel RM (n\\u00famero de quartos)\",\"Distribui\\u00e7\\u00e3o da vari\\u00e1vel RM (n\\u00famero de quartos)\",\"Distribui\\u00e7\\u00e3o da vari\\u00e1vel RM (n\\u00famero de quartos)\",\"Distribui\\u00e7\\u00e3o da vari\\u00e1vel RM (n\\u00famero de quartos)\",\"Distribui\\u00e7\\u00e3o da vari\\u00e1vel RM (n\\u00famero de quartos)\",\"Distribui\\u00e7\\u00e3o da vari\\u00e1vel RM (n\\u00famero de quartos)\",\"Distribui\\u00e7\\u00e3o da vari\\u00e1vel RM (n\\u00famero de quartos)\",\"Distribui\\u00e7\\u00e3o da vari\\u00e1vel RM (n\\u00famero de quartos)\",\"Distribui\\u00e7\\u00e3o da vari\\u00e1vel RM (n\\u00famero de quartos)\",\"Distribui\\u00e7\\u00e3o da vari\\u00e1vel RM (n\\u00famero de quartos)\",\"Distribui\\u00e7\\u00e3o da vari\\u00e1vel RM (n\\u00famero de quartos)\",\"Distribui\\u00e7\\u00e3o da vari\\u00e1vel RM (n\\u00famero de quartos)\",\"Distribui\\u00e7\\u00e3o da vari\\u00e1vel RM (n\\u00famero de quartos)\",\"Distribui\\u00e7\\u00e3o da vari\\u00e1vel RM (n\\u00famero de quartos)\",\"Distribui\\u00e7\\u00e3o da vari\\u00e1vel RM (n\\u00famero de quartos)\",\"Distribui\\u00e7\\u00e3o da vari\\u00e1vel RM (n\\u00famero de quartos)\",\"Distribui\\u00e7\\u00e3o da vari\\u00e1vel RM (n\\u00famero de quartos)\",\"Distribui\\u00e7\\u00e3o da vari\\u00e1vel RM (n\\u00famero de quartos)\",\"Distribui\\u00e7\\u00e3o da vari\\u00e1vel RM (n\\u00famero de quartos)\",\"Distribui\\u00e7\\u00e3o da vari\\u00e1vel RM (n\\u00famero de quartos)\",\"Distribui\\u00e7\\u00e3o da vari\\u00e1vel RM (n\\u00famero de quartos)\",\"Distribui\\u00e7\\u00e3o da vari\\u00e1vel RM (n\\u00famero de quartos)\",\"Distribui\\u00e7\\u00e3o da vari\\u00e1vel RM (n\\u00famero de quartos)\",\"Distribui\\u00e7\\u00e3o da vari\\u00e1vel RM (n\\u00famero de quartos)\",\"Distribui\\u00e7\\u00e3o da vari\\u00e1vel RM (n\\u00famero de quartos)\",\"Distribui\\u00e7\\u00e3o da vari\\u00e1vel RM (n\\u00famero de quartos)\",\"Distribui\\u00e7\\u00e3o da vari\\u00e1vel RM (n\\u00famero de quartos)\",\"Distribui\\u00e7\\u00e3o da vari\\u00e1vel RM (n\\u00famero de quartos)\",\"Distribui\\u00e7\\u00e3o da vari\\u00e1vel RM (n\\u00famero de quartos)\",\"Distribui\\u00e7\\u00e3o da vari\\u00e1vel RM (n\\u00famero de quartos)\",\"Distribui\\u00e7\\u00e3o da vari\\u00e1vel RM (n\\u00famero de quartos)\",\"Distribui\\u00e7\\u00e3o da vari\\u00e1vel RM (n\\u00famero de quartos)\",\"Distribui\\u00e7\\u00e3o da vari\\u00e1vel RM (n\\u00famero de quartos)\",\"Distribui\\u00e7\\u00e3o da vari\\u00e1vel RM (n\\u00famero de quartos)\",\"Distribui\\u00e7\\u00e3o da vari\\u00e1vel RM (n\\u00famero de quartos)\",\"Distribui\\u00e7\\u00e3o da vari\\u00e1vel RM (n\\u00famero de quartos)\",\"Distribui\\u00e7\\u00e3o da vari\\u00e1vel RM (n\\u00famero de quartos)\",\"Distribui\\u00e7\\u00e3o da vari\\u00e1vel RM (n\\u00famero de quartos)\",\"Distribui\\u00e7\\u00e3o da vari\\u00e1vel RM (n\\u00famero de quartos)\",\"Distribui\\u00e7\\u00e3o da vari\\u00e1vel RM (n\\u00famero de quartos)\",\"Distribui\\u00e7\\u00e3o da vari\\u00e1vel RM (n\\u00famero de quartos)\",\"Distribui\\u00e7\\u00e3o da vari\\u00e1vel RM (n\\u00famero de quartos)\",\"Distribui\\u00e7\\u00e3o da vari\\u00e1vel RM (n\\u00famero de quartos)\",\"Distribui\\u00e7\\u00e3o da vari\\u00e1vel RM (n\\u00famero de quartos)\",\"Distribui\\u00e7\\u00e3o da vari\\u00e1vel RM (n\\u00famero de quartos)\",\"Distribui\\u00e7\\u00e3o da vari\\u00e1vel RM (n\\u00famero de quartos)\",\"Distribui\\u00e7\\u00e3o da vari\\u00e1vel RM (n\\u00famero de quartos)\",\"Distribui\\u00e7\\u00e3o da vari\\u00e1vel RM (n\\u00famero de quartos)\",\"Distribui\\u00e7\\u00e3o da vari\\u00e1vel RM (n\\u00famero de quartos)\",\"Distribui\\u00e7\\u00e3o da vari\\u00e1vel RM (n\\u00famero de quartos)\",\"Distribui\\u00e7\\u00e3o da vari\\u00e1vel RM (n\\u00famero de quartos)\",\"Distribui\\u00e7\\u00e3o da vari\\u00e1vel RM (n\\u00famero de quartos)\",\"Distribui\\u00e7\\u00e3o da vari\\u00e1vel RM (n\\u00famero de quartos)\",\"Distribui\\u00e7\\u00e3o da vari\\u00e1vel RM (n\\u00famero de quartos)\",\"Distribui\\u00e7\\u00e3o da vari\\u00e1vel RM (n\\u00famero de quartos)\",\"Distribui\\u00e7\\u00e3o da vari\\u00e1vel RM (n\\u00famero de quartos)\",\"Distribui\\u00e7\\u00e3o da vari\\u00e1vel RM (n\\u00famero de quartos)\",\"Distribui\\u00e7\\u00e3o da vari\\u00e1vel RM (n\\u00famero de quartos)\",\"Distribui\\u00e7\\u00e3o da vari\\u00e1vel RM (n\\u00famero de quartos)\",\"Distribui\\u00e7\\u00e3o da vari\\u00e1vel RM (n\\u00famero de quartos)\",\"Distribui\\u00e7\\u00e3o da vari\\u00e1vel RM (n\\u00famero de quartos)\",\"Distribui\\u00e7\\u00e3o da vari\\u00e1vel RM (n\\u00famero de quartos)\",\"Distribui\\u00e7\\u00e3o da vari\\u00e1vel RM (n\\u00famero de quartos)\",\"Distribui\\u00e7\\u00e3o da vari\\u00e1vel RM (n\\u00famero de quartos)\",\"Distribui\\u00e7\\u00e3o da vari\\u00e1vel RM (n\\u00famero de quartos)\",\"Distribui\\u00e7\\u00e3o da vari\\u00e1vel RM (n\\u00famero de quartos)\",\"Distribui\\u00e7\\u00e3o da vari\\u00e1vel RM (n\\u00famero de quartos)\",\"Distribui\\u00e7\\u00e3o da vari\\u00e1vel RM (n\\u00famero de quartos)\",\"Distribui\\u00e7\\u00e3o da vari\\u00e1vel RM (n\\u00famero de quartos)\",\"Distribui\\u00e7\\u00e3o da vari\\u00e1vel RM (n\\u00famero de quartos)\",\"Distribui\\u00e7\\u00e3o da vari\\u00e1vel RM (n\\u00famero de quartos)\",\"Distribui\\u00e7\\u00e3o da vari\\u00e1vel RM (n\\u00famero de quartos)\",\"Distribui\\u00e7\\u00e3o da vari\\u00e1vel RM (n\\u00famero de quartos)\",\"Distribui\\u00e7\\u00e3o da vari\\u00e1vel RM (n\\u00famero de quartos)\",\"Distribui\\u00e7\\u00e3o da vari\\u00e1vel RM (n\\u00famero de quartos)\",\"Distribui\\u00e7\\u00e3o da vari\\u00e1vel RM (n\\u00famero de quartos)\",\"Distribui\\u00e7\\u00e3o da vari\\u00e1vel RM (n\\u00famero de quartos)\",\"Distribui\\u00e7\\u00e3o da vari\\u00e1vel RM (n\\u00famero de quartos)\",\"Distribui\\u00e7\\u00e3o da vari\\u00e1vel RM (n\\u00famero de quartos)\",\"Distribui\\u00e7\\u00e3o da vari\\u00e1vel RM (n\\u00famero de quartos)\",\"Distribui\\u00e7\\u00e3o da vari\\u00e1vel RM (n\\u00famero de quartos)\",\"Distribui\\u00e7\\u00e3o da vari\\u00e1vel RM (n\\u00famero de quartos)\",\"Distribui\\u00e7\\u00e3o da vari\\u00e1vel RM (n\\u00famero de quartos)\",\"Distribui\\u00e7\\u00e3o da vari\\u00e1vel RM (n\\u00famero de quartos)\",\"Distribui\\u00e7\\u00e3o da vari\\u00e1vel RM (n\\u00famero de quartos)\",\"Distribui\\u00e7\\u00e3o da vari\\u00e1vel RM (n\\u00famero de quartos)\",\"Distribui\\u00e7\\u00e3o da vari\\u00e1vel RM (n\\u00famero de quartos)\",\"Distribui\\u00e7\\u00e3o da vari\\u00e1vel RM (n\\u00famero de quartos)\",\"Distribui\\u00e7\\u00e3o da vari\\u00e1vel RM (n\\u00famero de quartos)\",\"Distribui\\u00e7\\u00e3o da vari\\u00e1vel RM (n\\u00famero de quartos)\",\"Distribui\\u00e7\\u00e3o da vari\\u00e1vel RM (n\\u00famero de quartos)\",\"Distribui\\u00e7\\u00e3o da vari\\u00e1vel RM (n\\u00famero de quartos)\",\"Distribui\\u00e7\\u00e3o da vari\\u00e1vel RM (n\\u00famero de quartos)\",\"Distribui\\u00e7\\u00e3o da vari\\u00e1vel RM (n\\u00famero de quartos)\",\"Distribui\\u00e7\\u00e3o da vari\\u00e1vel RM (n\\u00famero de quartos)\",\"Distribui\\u00e7\\u00e3o da vari\\u00e1vel RM (n\\u00famero de quartos)\",\"Distribui\\u00e7\\u00e3o da vari\\u00e1vel RM (n\\u00famero de quartos)\"],\"yaxis\":\"y2\",\"type\":\"scatter\"}],                        {\"barmode\":\"overlay\",\"hovermode\":\"closest\",\"legend\":{\"traceorder\":\"reversed\"},\"xaxis\":{\"anchor\":\"y2\",\"domain\":[0.0,1.0],\"zeroline\":false},\"yaxis\":{\"anchor\":\"free\",\"domain\":[0.35,1],\"position\":0.0},\"yaxis2\":{\"anchor\":\"x\",\"domain\":[0,0.25],\"dtick\":1,\"showticklabels\":false},\"template\":{\"data\":{\"histogram2dcontour\":[{\"type\":\"histogram2dcontour\",\"colorbar\":{\"outlinewidth\":0,\"ticks\":\"\"},\"colorscale\":[[0.0,\"#0d0887\"],[0.1111111111111111,\"#46039f\"],[0.2222222222222222,\"#7201a8\"],[0.3333333333333333,\"#9c179e\"],[0.4444444444444444,\"#bd3786\"],[0.5555555555555556,\"#d8576b\"],[0.6666666666666666,\"#ed7953\"],[0.7777777777777778,\"#fb9f3a\"],[0.8888888888888888,\"#fdca26\"],[1.0,\"#f0f921\"]]}],\"choropleth\":[{\"type\":\"choropleth\",\"colorbar\":{\"outlinewidth\":0,\"ticks\":\"\"}}],\"histogram2d\":[{\"type\":\"histogram2d\",\"colorbar\":{\"outlinewidth\":0,\"ticks\":\"\"},\"colorscale\":[[0.0,\"#0d0887\"],[0.1111111111111111,\"#46039f\"],[0.2222222222222222,\"#7201a8\"],[0.3333333333333333,\"#9c179e\"],[0.4444444444444444,\"#bd3786\"],[0.5555555555555556,\"#d8576b\"],[0.6666666666666666,\"#ed7953\"],[0.7777777777777778,\"#fb9f3a\"],[0.8888888888888888,\"#fdca26\"],[1.0,\"#f0f921\"]]}],\"heatmap\":[{\"type\":\"heatmap\",\"colorbar\":{\"outlinewidth\":0,\"ticks\":\"\"},\"colorscale\":[[0.0,\"#0d0887\"],[0.1111111111111111,\"#46039f\"],[0.2222222222222222,\"#7201a8\"],[0.3333333333333333,\"#9c179e\"],[0.4444444444444444,\"#bd3786\"],[0.5555555555555556,\"#d8576b\"],[0.6666666666666666,\"#ed7953\"],[0.7777777777777778,\"#fb9f3a\"],[0.8888888888888888,\"#fdca26\"],[1.0,\"#f0f921\"]]}],\"heatmapgl\":[{\"type\":\"heatmapgl\",\"colorbar\":{\"outlinewidth\":0,\"ticks\":\"\"},\"colorscale\":[[0.0,\"#0d0887\"],[0.1111111111111111,\"#46039f\"],[0.2222222222222222,\"#7201a8\"],[0.3333333333333333,\"#9c179e\"],[0.4444444444444444,\"#bd3786\"],[0.5555555555555556,\"#d8576b\"],[0.6666666666666666,\"#ed7953\"],[0.7777777777777778,\"#fb9f3a\"],[0.8888888888888888,\"#fdca26\"],[1.0,\"#f0f921\"]]}],\"contourcarpet\":[{\"type\":\"contourcarpet\",\"colorbar\":{\"outlinewidth\":0,\"ticks\":\"\"}}],\"contour\":[{\"type\":\"contour\",\"colorbar\":{\"outlinewidth\":0,\"ticks\":\"\"},\"colorscale\":[[0.0,\"#0d0887\"],[0.1111111111111111,\"#46039f\"],[0.2222222222222222,\"#7201a8\"],[0.3333333333333333,\"#9c179e\"],[0.4444444444444444,\"#bd3786\"],[0.5555555555555556,\"#d8576b\"],[0.6666666666666666,\"#ed7953\"],[0.7777777777777778,\"#fb9f3a\"],[0.8888888888888888,\"#fdca26\"],[1.0,\"#f0f921\"]]}],\"surface\":[{\"type\":\"surface\",\"colorbar\":{\"outlinewidth\":0,\"ticks\":\"\"},\"colorscale\":[[0.0,\"#0d0887\"],[0.1111111111111111,\"#46039f\"],[0.2222222222222222,\"#7201a8\"],[0.3333333333333333,\"#9c179e\"],[0.4444444444444444,\"#bd3786\"],[0.5555555555555556,\"#d8576b\"],[0.6666666666666666,\"#ed7953\"],[0.7777777777777778,\"#fb9f3a\"],[0.8888888888888888,\"#fdca26\"],[1.0,\"#f0f921\"]]}],\"mesh3d\":[{\"type\":\"mesh3d\",\"colorbar\":{\"outlinewidth\":0,\"ticks\":\"\"}}],\"scatter\":[{\"fillpattern\":{\"fillmode\":\"overlay\",\"size\":10,\"solidity\":0.2},\"type\":\"scatter\"}],\"parcoords\":[{\"type\":\"parcoords\",\"line\":{\"colorbar\":{\"outlinewidth\":0,\"ticks\":\"\"}}}],\"scatterpolargl\":[{\"type\":\"scatterpolargl\",\"marker\":{\"colorbar\":{\"outlinewidth\":0,\"ticks\":\"\"}}}],\"bar\":[{\"error_x\":{\"color\":\"#2a3f5f\"},\"error_y\":{\"color\":\"#2a3f5f\"},\"marker\":{\"line\":{\"color\":\"#E5ECF6\",\"width\":0.5},\"pattern\":{\"fillmode\":\"overlay\",\"size\":10,\"solidity\":0.2}},\"type\":\"bar\"}],\"scattergeo\":[{\"type\":\"scattergeo\",\"marker\":{\"colorbar\":{\"outlinewidth\":0,\"ticks\":\"\"}}}],\"scatterpolar\":[{\"type\":\"scatterpolar\",\"marker\":{\"colorbar\":{\"outlinewidth\":0,\"ticks\":\"\"}}}],\"histogram\":[{\"marker\":{\"pattern\":{\"fillmode\":\"overlay\",\"size\":10,\"solidity\":0.2}},\"type\":\"histogram\"}],\"scattergl\":[{\"type\":\"scattergl\",\"marker\":{\"colorbar\":{\"outlinewidth\":0,\"ticks\":\"\"}}}],\"scatter3d\":[{\"type\":\"scatter3d\",\"line\":{\"colorbar\":{\"outlinewidth\":0,\"ticks\":\"\"}},\"marker\":{\"colorbar\":{\"outlinewidth\":0,\"ticks\":\"\"}}}],\"scattermapbox\":[{\"type\":\"scattermapbox\",\"marker\":{\"colorbar\":{\"outlinewidth\":0,\"ticks\":\"\"}}}],\"scatterternary\":[{\"type\":\"scatterternary\",\"marker\":{\"colorbar\":{\"outlinewidth\":0,\"ticks\":\"\"}}}],\"scattercarpet\":[{\"type\":\"scattercarpet\",\"marker\":{\"colorbar\":{\"outlinewidth\":0,\"ticks\":\"\"}}}],\"carpet\":[{\"aaxis\":{\"endlinecolor\":\"#2a3f5f\",\"gridcolor\":\"white\",\"linecolor\":\"white\",\"minorgridcolor\":\"white\",\"startlinecolor\":\"#2a3f5f\"},\"baxis\":{\"endlinecolor\":\"#2a3f5f\",\"gridcolor\":\"white\",\"linecolor\":\"white\",\"minorgridcolor\":\"white\",\"startlinecolor\":\"#2a3f5f\"},\"type\":\"carpet\"}],\"table\":[{\"cells\":{\"fill\":{\"color\":\"#EBF0F8\"},\"line\":{\"color\":\"white\"}},\"header\":{\"fill\":{\"color\":\"#C8D4E3\"},\"line\":{\"color\":\"white\"}},\"type\":\"table\"}],\"barpolar\":[{\"marker\":{\"line\":{\"color\":\"#E5ECF6\",\"width\":0.5},\"pattern\":{\"fillmode\":\"overlay\",\"size\":10,\"solidity\":0.2}},\"type\":\"barpolar\"}],\"pie\":[{\"automargin\":true,\"type\":\"pie\"}]},\"layout\":{\"autotypenumbers\":\"strict\",\"colorway\":[\"#636efa\",\"#EF553B\",\"#00cc96\",\"#ab63fa\",\"#FFA15A\",\"#19d3f3\",\"#FF6692\",\"#B6E880\",\"#FF97FF\",\"#FECB52\"],\"font\":{\"color\":\"#2a3f5f\"},\"hovermode\":\"closest\",\"hoverlabel\":{\"align\":\"left\"},\"paper_bgcolor\":\"white\",\"plot_bgcolor\":\"#E5ECF6\",\"polar\":{\"bgcolor\":\"#E5ECF6\",\"angularaxis\":{\"gridcolor\":\"white\",\"linecolor\":\"white\",\"ticks\":\"\"},\"radialaxis\":{\"gridcolor\":\"white\",\"linecolor\":\"white\",\"ticks\":\"\"}},\"ternary\":{\"bgcolor\":\"#E5ECF6\",\"aaxis\":{\"gridcolor\":\"white\",\"linecolor\":\"white\",\"ticks\":\"\"},\"baxis\":{\"gridcolor\":\"white\",\"linecolor\":\"white\",\"ticks\":\"\"},\"caxis\":{\"gridcolor\":\"white\",\"linecolor\":\"white\",\"ticks\":\"\"}},\"coloraxis\":{\"colorbar\":{\"outlinewidth\":0,\"ticks\":\"\"}},\"colorscale\":{\"sequential\":[[0.0,\"#0d0887\"],[0.1111111111111111,\"#46039f\"],[0.2222222222222222,\"#7201a8\"],[0.3333333333333333,\"#9c179e\"],[0.4444444444444444,\"#bd3786\"],[0.5555555555555556,\"#d8576b\"],[0.6666666666666666,\"#ed7953\"],[0.7777777777777778,\"#fb9f3a\"],[0.8888888888888888,\"#fdca26\"],[1.0,\"#f0f921\"]],\"sequentialminus\":[[0.0,\"#0d0887\"],[0.1111111111111111,\"#46039f\"],[0.2222222222222222,\"#7201a8\"],[0.3333333333333333,\"#9c179e\"],[0.4444444444444444,\"#bd3786\"],[0.5555555555555556,\"#d8576b\"],[0.6666666666666666,\"#ed7953\"],[0.7777777777777778,\"#fb9f3a\"],[0.8888888888888888,\"#fdca26\"],[1.0,\"#f0f921\"]],\"diverging\":[[0,\"#8e0152\"],[0.1,\"#c51b7d\"],[0.2,\"#de77ae\"],[0.3,\"#f1b6da\"],[0.4,\"#fde0ef\"],[0.5,\"#f7f7f7\"],[0.6,\"#e6f5d0\"],[0.7,\"#b8e186\"],[0.8,\"#7fbc41\"],[0.9,\"#4d9221\"],[1,\"#276419\"]]},\"xaxis\":{\"gridcolor\":\"white\",\"linecolor\":\"white\",\"ticks\":\"\",\"title\":{\"standoff\":15},\"zerolinecolor\":\"white\",\"automargin\":true,\"zerolinewidth\":2},\"yaxis\":{\"gridcolor\":\"white\",\"linecolor\":\"white\",\"ticks\":\"\",\"title\":{\"standoff\":15},\"zerolinecolor\":\"white\",\"automargin\":true,\"zerolinewidth\":2},\"scene\":{\"xaxis\":{\"backgroundcolor\":\"#E5ECF6\",\"gridcolor\":\"white\",\"linecolor\":\"white\",\"showbackground\":true,\"ticks\":\"\",\"zerolinecolor\":\"white\",\"gridwidth\":2},\"yaxis\":{\"backgroundcolor\":\"#E5ECF6\",\"gridcolor\":\"white\",\"linecolor\":\"white\",\"showbackground\":true,\"ticks\":\"\",\"zerolinecolor\":\"white\",\"gridwidth\":2},\"zaxis\":{\"backgroundcolor\":\"#E5ECF6\",\"gridcolor\":\"white\",\"linecolor\":\"white\",\"showbackground\":true,\"ticks\":\"\",\"zerolinecolor\":\"white\",\"gridwidth\":2}},\"shapedefaults\":{\"line\":{\"color\":\"#2a3f5f\"}},\"annotationdefaults\":{\"arrowcolor\":\"#2a3f5f\",\"arrowhead\":0,\"arrowwidth\":1},\"geo\":{\"bgcolor\":\"white\",\"landcolor\":\"#E5ECF6\",\"subunitcolor\":\"white\",\"showland\":true,\"showlakes\":true,\"lakecolor\":\"white\"},\"title\":{\"x\":0.05},\"mapbox\":{\"style\":\"light\"}}}},                        {\"responsive\": true}                    ).then(function(){\n",
              "                            \n",
              "var gd = document.getElementById('b8001b3d-f06f-4ab8-a895-efbd56aea46e');\n",
              "var x = new MutationObserver(function (mutations, observer) {{\n",
              "        var display = window.getComputedStyle(gd).display;\n",
              "        if (!display || display === 'none') {{\n",
              "            console.log([gd, 'removed!']);\n",
              "            Plotly.purge(gd);\n",
              "            observer.disconnect();\n",
              "        }}\n",
              "}});\n",
              "\n",
              "// Listen for the removal of the full notebook cells\n",
              "var notebookContainer = gd.closest('#notebook-container');\n",
              "if (notebookContainer) {{\n",
              "    x.observe(notebookContainer, {childList: true});\n",
              "}}\n",
              "\n",
              "// Listen for the clearing of the current output cell\n",
              "var outputEl = gd.closest('.output');\n",
              "if (outputEl) {{\n",
              "    x.observe(outputEl, {childList: true});\n",
              "}}\n",
              "\n",
              "                        })                };                            </script>        </div>\n",
              "</body>\n",
              "</html>"
            ]
          },
          "metadata": {}
        }
      ]
    },
    {
      "cell_type": "code",
      "source": [
        "# Visualizando outliners na variável RM\n",
        "fig = px.box(data, y='RM')\n",
        "fig.update_layout(width=800,height=800)\n",
        "fig.show()"
      ],
      "metadata": {
        "colab": {
          "base_uri": "https://localhost:8080/",
          "height": 817
        },
        "id": "82-u01GHXRnn",
        "outputId": "10110dba-8ee1-4701-ee86-e5a2aa1e63f6"
      },
      "execution_count": null,
      "outputs": [
        {
          "output_type": "display_data",
          "data": {
            "text/html": [
              "<html>\n",
              "<head><meta charset=\"utf-8\" /></head>\n",
              "<body>\n",
              "    <div>            <script src=\"https://cdnjs.cloudflare.com/ajax/libs/mathjax/2.7.5/MathJax.js?config=TeX-AMS-MML_SVG\"></script><script type=\"text/javascript\">if (window.MathJax && window.MathJax.Hub && window.MathJax.Hub.Config) {window.MathJax.Hub.Config({SVG: {font: \"STIX-Web\"}});}</script>                <script type=\"text/javascript\">window.PlotlyConfig = {MathJaxConfig: 'local'};</script>\n",
              "        <script src=\"https://cdn.plot.ly/plotly-2.18.2.min.js\"></script>                <div id=\"e20f37b6-8baa-4215-96d3-c1caed056d63\" class=\"plotly-graph-div\" style=\"height:800px; width:800px;\"></div>            <script type=\"text/javascript\">                                    window.PLOTLYENV=window.PLOTLYENV || {};                                    if (document.getElementById(\"e20f37b6-8baa-4215-96d3-c1caed056d63\")) {                    Plotly.newPlot(                        \"e20f37b6-8baa-4215-96d3-c1caed056d63\",                        [{\"alignmentgroup\":\"True\",\"hovertemplate\":\"RM=%{y}<extra></extra>\",\"legendgroup\":\"\",\"marker\":{\"color\":\"#636efa\"},\"name\":\"\",\"notched\":false,\"offsetgroup\":\"\",\"orientation\":\"v\",\"showlegend\":false,\"x0\":\" \",\"xaxis\":\"x\",\"y\":[6.575,6.421,7.185,6.998,7.147,6.43,6.012,6.172,5.631,6.004,6.377,6.009,5.889,5.949,6.096,5.834,5.935,5.99,5.456,5.727,5.57,5.965,6.142,5.813,5.924,5.599,5.813,6.047,6.495,6.674,5.713,6.072,5.95,5.701,6.096,5.933,5.841,5.85,5.966,6.595,7.024,6.77,6.169,6.211,6.069,5.682,5.786,6.03,5.399,5.602,5.963,6.115,6.511,5.998,5.888,7.249,6.383,6.816,6.145,5.927,5.741,5.966,6.456,6.762,7.104,6.29,5.787,5.878,5.594,5.885,6.417,5.961,6.065,6.245,6.273,6.286,6.279,6.14,6.232,5.874,6.727,6.619,6.302,6.167,6.389,6.63,6.015,6.121,7.007,7.079,6.417,6.405,6.442,6.211,6.249,6.625,6.163,8.069,7.82,7.416,6.727,6.781,6.405,6.137,6.167,5.851,5.836,6.127,6.474,6.229,6.195,6.715,5.913,6.092,6.254,5.928,6.176,6.021,5.872,5.731,5.87,6.004,5.961,5.856,5.879,5.986,5.613,5.693,6.431,5.637,6.458,6.326,6.372,5.822,5.757,6.335,5.942,6.454,5.857,6.151,6.174,5.019,5.403,5.468,4.903,6.13,5.628,4.926,5.186,5.597,6.122,5.404,5.012,5.709,6.129,6.152,5.272,6.943,6.066,6.51,6.25,7.489,7.802,8.375,5.854,6.101,7.929,5.877,6.319,6.402,5.875,5.88,5.572,6.416,5.859,6.546,6.02,6.315,6.86,6.98,7.765,6.144,7.155,6.563,5.604,6.153,7.831,6.782,6.556,7.185,6.951,6.739,7.178,6.8,6.604,7.875,7.287,7.107,7.274,6.975,7.135,6.162,7.61,7.853,8.034,5.891,6.326,5.783,6.064,5.344,5.96,5.404,5.807,6.375,5.412,6.182,5.888,6.642,5.951,6.373,6.951,6.164,6.879,6.618,8.266,8.725,8.04,7.163,7.686,6.552,5.981,7.412,8.337,8.247,6.726,6.086,6.631,7.358,6.481,6.606,6.897,6.095,6.358,6.393,5.593,5.605,6.108,6.226,6.433,6.718,6.487,6.438,6.957,8.259,6.108,5.876,7.454,8.704,7.333,6.842,7.203,7.52,8.398,7.327,7.206,5.56,7.014,8.297,7.47,5.92,5.856,6.24,6.538,7.691,6.758,6.854,7.267,6.826,6.482,6.812,7.82,6.968,7.645,7.923,7.088,6.453,6.23,6.209,6.315,6.565,6.861,7.148,6.63,6.127,6.009,6.678,6.549,5.79,6.345,7.041,6.871,6.59,6.495,6.982,7.236,6.616,7.42,6.849,6.635,5.972,4.973,6.122,6.023,6.266,6.567,5.705,5.914,5.782,6.382,6.113,6.426,6.376,6.041,5.708,6.415,6.431,6.312,6.083,5.868,6.333,6.144,5.706,6.031,6.316,6.31,6.037,5.869,5.895,6.059,5.985,5.968,7.241,6.54,6.696,6.874,6.014,5.898,6.516,6.635,6.939,6.49,6.579,5.884,6.728,5.663,5.936,6.212,6.395,6.127,6.112,6.398,6.251,5.362,5.803,8.78,3.561,4.963,3.863,4.97,6.683,7.016,6.216,5.875,4.906,4.138,7.313,6.649,6.794,6.38,6.223,6.968,6.545,5.536,5.52,4.368,5.277,4.652,5.0,4.88,5.39,5.713,6.051,5.036,6.193,5.887,6.471,6.405,5.747,5.453,5.852,5.987,6.343,6.404,5.349,5.531,5.683,4.138,5.608,5.617,6.852,5.757,6.657,4.628,5.155,4.519,6.434,6.782,5.304,5.957,6.824,6.411,6.006,5.648,6.103,5.565,5.896,5.837,6.202,6.193,6.38,6.348,6.833,6.425,6.436,6.208,6.629,6.461,6.152,5.935,5.627,5.818,6.406,6.219,6.485,5.854,6.459,6.341,6.251,6.185,6.417,6.749,6.655,6.297,7.393,6.728,6.525,5.976,5.936,6.301,6.081,6.701,6.376,6.317,6.513,6.209,5.759,5.952,6.003,5.926,5.713,6.167,6.229,6.437,6.98,5.427,6.162,6.484,5.304,6.185,6.229,6.242,6.75,7.061,5.762,5.871,6.312,6.114,5.905,5.454,5.414,5.093,5.983,5.983,5.707,5.926,5.67,5.39,5.794,6.019,5.569,6.027,6.593,6.12,6.976,6.794,6.03],\"y0\":\" \",\"yaxis\":\"y\",\"type\":\"box\"}],                        {\"template\":{\"data\":{\"histogram2dcontour\":[{\"type\":\"histogram2dcontour\",\"colorbar\":{\"outlinewidth\":0,\"ticks\":\"\"},\"colorscale\":[[0.0,\"#0d0887\"],[0.1111111111111111,\"#46039f\"],[0.2222222222222222,\"#7201a8\"],[0.3333333333333333,\"#9c179e\"],[0.4444444444444444,\"#bd3786\"],[0.5555555555555556,\"#d8576b\"],[0.6666666666666666,\"#ed7953\"],[0.7777777777777778,\"#fb9f3a\"],[0.8888888888888888,\"#fdca26\"],[1.0,\"#f0f921\"]]}],\"choropleth\":[{\"type\":\"choropleth\",\"colorbar\":{\"outlinewidth\":0,\"ticks\":\"\"}}],\"histogram2d\":[{\"type\":\"histogram2d\",\"colorbar\":{\"outlinewidth\":0,\"ticks\":\"\"},\"colorscale\":[[0.0,\"#0d0887\"],[0.1111111111111111,\"#46039f\"],[0.2222222222222222,\"#7201a8\"],[0.3333333333333333,\"#9c179e\"],[0.4444444444444444,\"#bd3786\"],[0.5555555555555556,\"#d8576b\"],[0.6666666666666666,\"#ed7953\"],[0.7777777777777778,\"#fb9f3a\"],[0.8888888888888888,\"#fdca26\"],[1.0,\"#f0f921\"]]}],\"heatmap\":[{\"type\":\"heatmap\",\"colorbar\":{\"outlinewidth\":0,\"ticks\":\"\"},\"colorscale\":[[0.0,\"#0d0887\"],[0.1111111111111111,\"#46039f\"],[0.2222222222222222,\"#7201a8\"],[0.3333333333333333,\"#9c179e\"],[0.4444444444444444,\"#bd3786\"],[0.5555555555555556,\"#d8576b\"],[0.6666666666666666,\"#ed7953\"],[0.7777777777777778,\"#fb9f3a\"],[0.8888888888888888,\"#fdca26\"],[1.0,\"#f0f921\"]]}],\"heatmapgl\":[{\"type\":\"heatmapgl\",\"colorbar\":{\"outlinewidth\":0,\"ticks\":\"\"},\"colorscale\":[[0.0,\"#0d0887\"],[0.1111111111111111,\"#46039f\"],[0.2222222222222222,\"#7201a8\"],[0.3333333333333333,\"#9c179e\"],[0.4444444444444444,\"#bd3786\"],[0.5555555555555556,\"#d8576b\"],[0.6666666666666666,\"#ed7953\"],[0.7777777777777778,\"#fb9f3a\"],[0.8888888888888888,\"#fdca26\"],[1.0,\"#f0f921\"]]}],\"contourcarpet\":[{\"type\":\"contourcarpet\",\"colorbar\":{\"outlinewidth\":0,\"ticks\":\"\"}}],\"contour\":[{\"type\":\"contour\",\"colorbar\":{\"outlinewidth\":0,\"ticks\":\"\"},\"colorscale\":[[0.0,\"#0d0887\"],[0.1111111111111111,\"#46039f\"],[0.2222222222222222,\"#7201a8\"],[0.3333333333333333,\"#9c179e\"],[0.4444444444444444,\"#bd3786\"],[0.5555555555555556,\"#d8576b\"],[0.6666666666666666,\"#ed7953\"],[0.7777777777777778,\"#fb9f3a\"],[0.8888888888888888,\"#fdca26\"],[1.0,\"#f0f921\"]]}],\"surface\":[{\"type\":\"surface\",\"colorbar\":{\"outlinewidth\":0,\"ticks\":\"\"},\"colorscale\":[[0.0,\"#0d0887\"],[0.1111111111111111,\"#46039f\"],[0.2222222222222222,\"#7201a8\"],[0.3333333333333333,\"#9c179e\"],[0.4444444444444444,\"#bd3786\"],[0.5555555555555556,\"#d8576b\"],[0.6666666666666666,\"#ed7953\"],[0.7777777777777778,\"#fb9f3a\"],[0.8888888888888888,\"#fdca26\"],[1.0,\"#f0f921\"]]}],\"mesh3d\":[{\"type\":\"mesh3d\",\"colorbar\":{\"outlinewidth\":0,\"ticks\":\"\"}}],\"scatter\":[{\"fillpattern\":{\"fillmode\":\"overlay\",\"size\":10,\"solidity\":0.2},\"type\":\"scatter\"}],\"parcoords\":[{\"type\":\"parcoords\",\"line\":{\"colorbar\":{\"outlinewidth\":0,\"ticks\":\"\"}}}],\"scatterpolargl\":[{\"type\":\"scatterpolargl\",\"marker\":{\"colorbar\":{\"outlinewidth\":0,\"ticks\":\"\"}}}],\"bar\":[{\"error_x\":{\"color\":\"#2a3f5f\"},\"error_y\":{\"color\":\"#2a3f5f\"},\"marker\":{\"line\":{\"color\":\"#E5ECF6\",\"width\":0.5},\"pattern\":{\"fillmode\":\"overlay\",\"size\":10,\"solidity\":0.2}},\"type\":\"bar\"}],\"scattergeo\":[{\"type\":\"scattergeo\",\"marker\":{\"colorbar\":{\"outlinewidth\":0,\"ticks\":\"\"}}}],\"scatterpolar\":[{\"type\":\"scatterpolar\",\"marker\":{\"colorbar\":{\"outlinewidth\":0,\"ticks\":\"\"}}}],\"histogram\":[{\"marker\":{\"pattern\":{\"fillmode\":\"overlay\",\"size\":10,\"solidity\":0.2}},\"type\":\"histogram\"}],\"scattergl\":[{\"type\":\"scattergl\",\"marker\":{\"colorbar\":{\"outlinewidth\":0,\"ticks\":\"\"}}}],\"scatter3d\":[{\"type\":\"scatter3d\",\"line\":{\"colorbar\":{\"outlinewidth\":0,\"ticks\":\"\"}},\"marker\":{\"colorbar\":{\"outlinewidth\":0,\"ticks\":\"\"}}}],\"scattermapbox\":[{\"type\":\"scattermapbox\",\"marker\":{\"colorbar\":{\"outlinewidth\":0,\"ticks\":\"\"}}}],\"scatterternary\":[{\"type\":\"scatterternary\",\"marker\":{\"colorbar\":{\"outlinewidth\":0,\"ticks\":\"\"}}}],\"scattercarpet\":[{\"type\":\"scattercarpet\",\"marker\":{\"colorbar\":{\"outlinewidth\":0,\"ticks\":\"\"}}}],\"carpet\":[{\"aaxis\":{\"endlinecolor\":\"#2a3f5f\",\"gridcolor\":\"white\",\"linecolor\":\"white\",\"minorgridcolor\":\"white\",\"startlinecolor\":\"#2a3f5f\"},\"baxis\":{\"endlinecolor\":\"#2a3f5f\",\"gridcolor\":\"white\",\"linecolor\":\"white\",\"minorgridcolor\":\"white\",\"startlinecolor\":\"#2a3f5f\"},\"type\":\"carpet\"}],\"table\":[{\"cells\":{\"fill\":{\"color\":\"#EBF0F8\"},\"line\":{\"color\":\"white\"}},\"header\":{\"fill\":{\"color\":\"#C8D4E3\"},\"line\":{\"color\":\"white\"}},\"type\":\"table\"}],\"barpolar\":[{\"marker\":{\"line\":{\"color\":\"#E5ECF6\",\"width\":0.5},\"pattern\":{\"fillmode\":\"overlay\",\"size\":10,\"solidity\":0.2}},\"type\":\"barpolar\"}],\"pie\":[{\"automargin\":true,\"type\":\"pie\"}]},\"layout\":{\"autotypenumbers\":\"strict\",\"colorway\":[\"#636efa\",\"#EF553B\",\"#00cc96\",\"#ab63fa\",\"#FFA15A\",\"#19d3f3\",\"#FF6692\",\"#B6E880\",\"#FF97FF\",\"#FECB52\"],\"font\":{\"color\":\"#2a3f5f\"},\"hovermode\":\"closest\",\"hoverlabel\":{\"align\":\"left\"},\"paper_bgcolor\":\"white\",\"plot_bgcolor\":\"#E5ECF6\",\"polar\":{\"bgcolor\":\"#E5ECF6\",\"angularaxis\":{\"gridcolor\":\"white\",\"linecolor\":\"white\",\"ticks\":\"\"},\"radialaxis\":{\"gridcolor\":\"white\",\"linecolor\":\"white\",\"ticks\":\"\"}},\"ternary\":{\"bgcolor\":\"#E5ECF6\",\"aaxis\":{\"gridcolor\":\"white\",\"linecolor\":\"white\",\"ticks\":\"\"},\"baxis\":{\"gridcolor\":\"white\",\"linecolor\":\"white\",\"ticks\":\"\"},\"caxis\":{\"gridcolor\":\"white\",\"linecolor\":\"white\",\"ticks\":\"\"}},\"coloraxis\":{\"colorbar\":{\"outlinewidth\":0,\"ticks\":\"\"}},\"colorscale\":{\"sequential\":[[0.0,\"#0d0887\"],[0.1111111111111111,\"#46039f\"],[0.2222222222222222,\"#7201a8\"],[0.3333333333333333,\"#9c179e\"],[0.4444444444444444,\"#bd3786\"],[0.5555555555555556,\"#d8576b\"],[0.6666666666666666,\"#ed7953\"],[0.7777777777777778,\"#fb9f3a\"],[0.8888888888888888,\"#fdca26\"],[1.0,\"#f0f921\"]],\"sequentialminus\":[[0.0,\"#0d0887\"],[0.1111111111111111,\"#46039f\"],[0.2222222222222222,\"#7201a8\"],[0.3333333333333333,\"#9c179e\"],[0.4444444444444444,\"#bd3786\"],[0.5555555555555556,\"#d8576b\"],[0.6666666666666666,\"#ed7953\"],[0.7777777777777778,\"#fb9f3a\"],[0.8888888888888888,\"#fdca26\"],[1.0,\"#f0f921\"]],\"diverging\":[[0,\"#8e0152\"],[0.1,\"#c51b7d\"],[0.2,\"#de77ae\"],[0.3,\"#f1b6da\"],[0.4,\"#fde0ef\"],[0.5,\"#f7f7f7\"],[0.6,\"#e6f5d0\"],[0.7,\"#b8e186\"],[0.8,\"#7fbc41\"],[0.9,\"#4d9221\"],[1,\"#276419\"]]},\"xaxis\":{\"gridcolor\":\"white\",\"linecolor\":\"white\",\"ticks\":\"\",\"title\":{\"standoff\":15},\"zerolinecolor\":\"white\",\"automargin\":true,\"zerolinewidth\":2},\"yaxis\":{\"gridcolor\":\"white\",\"linecolor\":\"white\",\"ticks\":\"\",\"title\":{\"standoff\":15},\"zerolinecolor\":\"white\",\"automargin\":true,\"zerolinewidth\":2},\"scene\":{\"xaxis\":{\"backgroundcolor\":\"#E5ECF6\",\"gridcolor\":\"white\",\"linecolor\":\"white\",\"showbackground\":true,\"ticks\":\"\",\"zerolinecolor\":\"white\",\"gridwidth\":2},\"yaxis\":{\"backgroundcolor\":\"#E5ECF6\",\"gridcolor\":\"white\",\"linecolor\":\"white\",\"showbackground\":true,\"ticks\":\"\",\"zerolinecolor\":\"white\",\"gridwidth\":2},\"zaxis\":{\"backgroundcolor\":\"#E5ECF6\",\"gridcolor\":\"white\",\"linecolor\":\"white\",\"showbackground\":true,\"ticks\":\"\",\"zerolinecolor\":\"white\",\"gridwidth\":2}},\"shapedefaults\":{\"line\":{\"color\":\"#2a3f5f\"}},\"annotationdefaults\":{\"arrowcolor\":\"#2a3f5f\",\"arrowhead\":0,\"arrowwidth\":1},\"geo\":{\"bgcolor\":\"white\",\"landcolor\":\"#E5ECF6\",\"subunitcolor\":\"white\",\"showland\":true,\"showlakes\":true,\"lakecolor\":\"white\"},\"title\":{\"x\":0.05},\"mapbox\":{\"style\":\"light\"}}},\"xaxis\":{\"anchor\":\"y\",\"domain\":[0.0,1.0]},\"yaxis\":{\"anchor\":\"x\",\"domain\":[0.0,1.0],\"title\":{\"text\":\"RM\"}},\"legend\":{\"tracegroupgap\":0},\"margin\":{\"t\":60},\"boxmode\":\"group\",\"width\":800,\"height\":800},                        {\"responsive\": true}                    ).then(function(){\n",
              "                            \n",
              "var gd = document.getElementById('e20f37b6-8baa-4215-96d3-c1caed056d63');\n",
              "var x = new MutationObserver(function (mutations, observer) {{\n",
              "        var display = window.getComputedStyle(gd).display;\n",
              "        if (!display || display === 'none') {{\n",
              "            console.log([gd, 'removed!']);\n",
              "            Plotly.purge(gd);\n",
              "            observer.disconnect();\n",
              "        }}\n",
              "}});\n",
              "\n",
              "// Listen for the removal of the full notebook cells\n",
              "var notebookContainer = gd.closest('#notebook-container');\n",
              "if (notebookContainer) {{\n",
              "    x.observe(notebookContainer, {childList: true});\n",
              "}}\n",
              "\n",
              "// Listen for the clearing of the current output cell\n",
              "var outputEl = gd.closest('.output');\n",
              "if (outputEl) {{\n",
              "    x.observe(outputEl, {childList: true});\n",
              "}}\n",
              "\n",
              "                        })                };                            </script>        </div>\n",
              "</body>\n",
              "</html>"
            ]
          },
          "metadata": {}
        }
      ]
    },
    {
      "cell_type": "code",
      "source": [
        "# Analizando MEDV\n",
        "data.MEDV.describe()"
      ],
      "metadata": {
        "colab": {
          "base_uri": "https://localhost:8080/"
        },
        "id": "MyDALTkwXphm",
        "outputId": "dedb37b7-d61c-4110-d7fa-de94cd4d9256"
      },
      "execution_count": null,
      "outputs": [
        {
          "output_type": "execute_result",
          "data": {
            "text/plain": [
              "count    506.000000\n",
              "mean      22.528854\n",
              "std        9.182176\n",
              "min        5.000000\n",
              "25%       17.025000\n",
              "50%       21.200000\n",
              "75%       25.000000\n",
              "max       50.000000\n",
              "Name: MEDV, dtype: float64"
            ]
          },
          "metadata": {},
          "execution_count": 14
        }
      ]
    },
    {
      "cell_type": "code",
      "source": [
        "# visualizando distribuição da variável\n",
        "labels = ['Distribuição da variável MEDV (preço médio do imóvel)']\n",
        "fig = ff.create_distplot([data.MEDV], labels, bin_size=.2)\n",
        "fig.show()"
      ],
      "metadata": {
        "colab": {
          "base_uri": "https://localhost:8080/",
          "height": 542
        },
        "id": "9oqa7pxfYFHG",
        "outputId": "20ece968-9717-4b80-9b34-42fe80286e35"
      },
      "execution_count": null,
      "outputs": [
        {
          "output_type": "display_data",
          "data": {
            "text/html": [
              "<html>\n",
              "<head><meta charset=\"utf-8\" /></head>\n",
              "<body>\n",
              "    <div>            <script src=\"https://cdnjs.cloudflare.com/ajax/libs/mathjax/2.7.5/MathJax.js?config=TeX-AMS-MML_SVG\"></script><script type=\"text/javascript\">if (window.MathJax && window.MathJax.Hub && window.MathJax.Hub.Config) {window.MathJax.Hub.Config({SVG: {font: \"STIX-Web\"}});}</script>                <script type=\"text/javascript\">window.PlotlyConfig = {MathJaxConfig: 'local'};</script>\n",
              "        <script src=\"https://cdn.plot.ly/plotly-2.18.2.min.js\"></script>                <div id=\"4bbc86a8-8ca0-4f6d-aa75-2085ef0df4b6\" class=\"plotly-graph-div\" style=\"height:525px; width:100%;\"></div>            <script type=\"text/javascript\">                                    window.PLOTLYENV=window.PLOTLYENV || {};                                    if (document.getElementById(\"4bbc86a8-8ca0-4f6d-aa75-2085ef0df4b6\")) {                    Plotly.newPlot(                        \"4bbc86a8-8ca0-4f6d-aa75-2085ef0df4b6\",                        [{\"autobinx\":false,\"histnorm\":\"probability density\",\"legendgroup\":\"Distribui\\u00e7\\u00e3o da vari\\u00e1vel MEDV (pre\\u00e7o m\\u00e9dio do im\\u00f3vel)\",\"marker\":{\"color\":\"rgb(31, 119, 180)\"},\"name\":\"Distribui\\u00e7\\u00e3o da vari\\u00e1vel MEDV (pre\\u00e7o m\\u00e9dio do im\\u00f3vel)\",\"opacity\":0.7,\"x\":[24.0,21.6,34.7,33.4,36.2,28.7,22.9,22.1,16.5,18.9,15.0,18.9,21.7,20.4,18.2,19.9,23.1,17.5,20.2,18.2,13.6,19.6,15.2,14.5,15.6,13.9,16.6,14.8,18.4,21.0,12.7,14.5,13.2,13.1,13.5,18.9,20.0,21.0,24.2,30.8,34.9,26.6,25.3,24.7,21.2,19.3,20.0,16.6,14.4,19.4,19.7,20.5,25.0,23.4,18.9,35.4,24.7,31.6,23.3,19.6,18.7,16.0,22.2,25.0,33.0,23.5,19.4,22.0,17.4,20.9,24.2,21.7,22.8,23.4,24.1,21.4,20.0,20.8,21.2,20.3,28.0,23.9,24.8,22.9,23.9,26.6,22.5,22.2,23.6,28.7,22.6,22.0,22.9,25.0,20.6,28.4,21.4,38.7,43.8,33.2,27.5,26.5,18.6,19.3,20.1,19.5,19.5,20.4,19.8,19.4,21.7,22.8,18.8,18.7,18.5,18.3,21.2,19.2,20.4,19.3,22.0,20.3,20.5,17.3,18.8,21.4,15.7,16.2,18.0,14.3,19.2,19.6,23.0,18.4,15.6,18.1,17.4,17.1,13.3,17.8,14.0,14.4,13.4,15.6,11.8,13.8,15.6,14.6,17.8,15.4,21.5,19.6,15.3,19.4,17.0,15.6,13.1,41.3,24.3,23.3,27.0,50.0,50.0,50.0,22.7,25.0,50.0,23.8,23.8,22.3,17.4,19.1,23.1,23.6,22.6,29.4,23.2,24.6,29.9,37.2,39.8,36.2,37.9,32.5,26.4,29.6,50.0,32.0,29.8,34.9,33.0,30.5,36.4,31.1,29.1,50.0,33.3,30.3,34.6,34.9,32.9,24.1,42.3,48.5,50.0,22.6,24.4,22.5,24.4,20.0,21.7,19.3,22.4,28.1,23.7,25.0,23.3,28.7,21.5,23.0,26.7,21.7,27.5,30.1,44.8,50.0,37.6,31.6,46.7,31.5,24.3,31.7,41.7,48.3,29.0,24.0,25.1,31.5,23.7,23.3,27.0,20.1,22.2,23.7,17.6,18.5,24.3,20.5,24.5,26.2,24.4,24.8,29.6,42.8,21.9,20.9,44.0,50.0,36.0,30.1,33.8,43.1,48.8,31.0,36.5,22.8,30.7,50.0,43.5,20.7,21.1,25.2,24.4,35.2,32.4,32.0,33.2,33.1,29.1,35.1,45.4,35.4,46.0,50.0,32.2,22.0,20.1,23.2,22.3,24.8,28.5,37.3,27.9,23.9,21.7,28.6,27.1,20.3,22.5,29.0,24.8,22.0,26.4,33.1,36.1,28.4,33.4,28.2,22.8,20.3,16.1,22.1,19.4,21.6,23.8,16.2,17.8,19.8,23.1,21.0,23.8,23.1,20.4,18.5,25.0,24.6,23.0,22.2,19.3,22.6,19.8,17.1,19.4,22.2,20.7,21.1,19.5,18.5,20.6,19.0,18.7,32.7,16.5,23.9,31.2,17.5,17.2,23.1,24.5,26.6,22.9,24.1,18.6,30.1,18.2,20.6,17.8,21.7,22.7,22.6,25.0,19.9,20.8,16.8,21.9,27.5,21.9,23.1,50.0,50.0,50.0,50.0,50.0,13.8,13.8,15.0,13.9,13.3,13.1,10.2,10.4,10.9,11.3,12.3,8.8,7.2,10.5,7.4,10.2,11.5,15.1,23.2,9.7,13.8,12.7,13.1,12.5,8.5,5.0,6.3,5.6,7.2,12.1,8.3,8.5,5.0,11.9,27.9,17.2,27.5,15.0,17.2,17.9,16.3,7.0,7.2,7.5,10.4,8.8,8.4,16.7,14.2,20.8,13.4,11.7,8.3,10.2,10.9,11.0,9.5,14.5,14.1,16.1,14.3,11.7,13.4,9.6,8.2,8.4,12.8,10.5,17.1,14.8,15.4,10.8,11.8,14.9,12.6,14.1,13.0,13.4,15.2,16.1,17.8,14.4,14.1,12.7,13.5,14.9,20.0,16.4,17.7,19.5,20.2,21.4,19.9,19.0,19.1,19.1,20.1,19.9,19.6,23.2,29.8,13.8,13.3,16.7,12.0,14.6,21.4,23.0,23.7,25.0,21.8,20.6,21.2,19.1,20.6,15.2,7.0,8.1,13.6,20.1,21.8,24.5,23.1,19.7,18.3,21.2,17.5,16.8,22.4,20.6,23.9,22.0,19.0],\"xaxis\":\"x\",\"xbins\":{\"end\":50.0,\"size\":0.2,\"start\":5.0},\"yaxis\":\"y\",\"type\":\"histogram\"},{\"legendgroup\":\"Distribui\\u00e7\\u00e3o da vari\\u00e1vel MEDV (pre\\u00e7o m\\u00e9dio do im\\u00f3vel)\",\"marker\":{\"color\":\"rgb(31, 119, 180)\"},\"mode\":\"lines\",\"name\":\"Distribui\\u00e7\\u00e3o da vari\\u00e1vel MEDV (pre\\u00e7o m\\u00e9dio do im\\u00f3vel)\",\"showlegend\":false,\"x\":[5.0,5.09,5.18,5.27,5.36,5.45,5.54,5.63,5.72,5.8100000000000005,5.9,5.99,6.08,6.17,6.26,6.35,6.4399999999999995,6.53,6.62,6.71,6.8,6.89,6.98,7.07,7.16,7.25,7.34,7.43,7.52,7.609999999999999,7.7,7.79,7.88,7.970000000000001,8.06,8.15,8.24,8.33,8.42,8.51,8.6,8.69,8.78,8.870000000000001,8.96,9.05,9.14,9.23,9.32,9.41,9.5,9.59,9.68,9.77,9.86,9.95,10.04,10.129999999999999,10.219999999999999,10.309999999999999,10.4,10.49,10.58,10.67,10.76,10.85,10.940000000000001,11.030000000000001,11.120000000000001,11.21,11.3,11.39,11.48,11.57,11.66,11.75,11.84,11.93,12.02,12.11,12.2,12.29,12.379999999999999,12.469999999999999,12.559999999999999,12.65,12.74,12.83,12.92,13.01,13.1,13.19,13.28,13.37,13.46,13.55,13.64,13.73,13.82,13.91,14.0,14.09,14.18,14.27,14.36,14.45,14.54,14.63,14.72,14.81,14.9,14.99,15.08,15.17,15.26,15.35,15.44,15.53,15.62,15.71,15.8,15.89,15.98,16.07,16.16,16.25,16.34,16.43,16.52,16.61,16.7,16.79,16.880000000000003,16.97,17.060000000000002,17.15,17.240000000000002,17.33,17.42,17.509999999999998,17.6,17.689999999999998,17.78,17.869999999999997,17.96,18.05,18.14,18.23,18.32,18.41,18.5,18.59,18.68,18.77,18.86,18.95,19.04,19.130000000000003,19.22,19.310000000000002,19.4,19.490000000000002,19.58,19.67,19.759999999999998,19.85,19.939999999999998,20.03,20.119999999999997,20.21,20.3,20.39,20.48,20.57,20.66,20.75,20.84,20.93,21.02,21.11,21.2,21.29,21.38,21.47,21.56,21.65,21.74,21.83,21.92,22.01,22.1,22.19,22.28,22.37,22.46,22.55,22.64,22.73,22.82,22.91,23.0,23.09,23.18,23.27,23.36,23.45,23.54,23.63,23.72,23.81,23.9,23.99,24.08,24.17,24.26,24.35,24.44,24.53,24.62,24.71,24.8,24.89,24.98,25.07,25.16,25.25,25.34,25.43,25.52,25.61,25.7,25.79,25.88,25.97,26.06,26.15,26.24,26.33,26.42,26.51,26.6,26.69,26.78,26.87,26.96,27.05,27.14,27.23,27.32,27.41,27.5,27.59,27.68,27.77,27.86,27.95,28.04,28.13,28.22,28.31,28.4,28.49,28.58,28.67,28.76,28.85,28.94,29.03,29.12,29.21,29.3,29.39,29.48,29.57,29.66,29.75,29.84,29.93,30.02,30.11,30.2,30.29,30.38,30.47,30.56,30.65,30.74,30.83,30.92,31.01,31.1,31.19,31.28,31.37,31.46,31.55,31.64,31.73,31.82,31.91,32.0,32.09,32.18,32.269999999999996,32.36,32.45,32.54,32.629999999999995,32.72,32.81,32.9,32.989999999999995,33.08,33.17,33.260000000000005,33.35,33.44,33.53,33.620000000000005,33.71,33.8,33.89,33.980000000000004,34.07,34.16,34.25,34.34,34.43,34.519999999999996,34.61,34.7,34.79,34.879999999999995,34.97,35.06,35.15,35.239999999999995,35.33,35.42,35.510000000000005,35.6,35.69,35.78,35.870000000000005,35.96,36.05,36.14,36.230000000000004,36.32,36.41,36.5,36.59,36.68,36.769999999999996,36.86,36.95,37.04,37.13,37.22,37.31,37.4,37.49,37.58,37.67,37.76,37.85,37.94,38.03,38.12,38.21,38.3,38.39,38.48,38.57,38.66,38.75,38.84,38.93,39.02,39.11,39.2,39.29,39.38,39.47,39.56,39.65,39.74,39.83,39.92,40.01,40.1,40.19,40.28,40.37,40.46,40.55,40.64,40.73,40.82,40.91,41.0,41.09,41.18,41.27,41.36,41.45,41.54,41.63,41.72,41.81,41.9,41.99,42.08,42.17,42.26,42.35,42.44,42.53,42.62,42.71,42.8,42.89,42.98,43.07,43.16,43.25,43.34,43.43,43.52,43.61,43.7,43.79,43.88,43.97,44.06,44.15,44.24,44.33,44.42,44.51,44.6,44.69,44.78,44.87,44.96,45.05,45.14,45.23,45.32,45.41,45.5,45.59,45.68,45.77,45.86,45.95,46.04,46.13,46.22,46.31,46.4,46.49,46.58,46.67,46.76,46.85,46.94,47.03,47.12,47.21,47.3,47.39,47.48,47.57,47.66,47.75,47.84,47.93,48.02,48.11,48.2,48.29,48.38,48.47,48.56,48.65,48.74,48.83,48.92,49.01,49.1,49.19,49.28,49.37,49.46,49.55,49.64,49.73,49.82,49.91],\"xaxis\":\"x\",\"y\":[0.004672586175598386,0.004835470424428418,0.005001015341868785,0.005169155441587762,0.0053398241680217675,0.005512954348254264,0.0056884786593750175,0.005866330108563589,0.006046442522920219,0.0062287510458605274,0.006413192636700186,0.00659970656988449,0.006788234930167997,0.00697872309992394,0.007171120234663308,0.007365379722773195,0.007561459625443156,0.007759323092740776,0.007958938751823377,0.008160281063334291,0.008363330642129787,0.008568074538617514,0.008774506477159936,0.008982627048206274,0.009192443851064271,0.00940397158450723,0.009617232082732494,0.009832254294541995,0.010049074204002863,0.010267734691264428,0.010488285332653393,0.010710782139640418,0.010935287236763942,0.011161868479108553,0.011390599010460228,0.011621556763796878,0.011854823906313802,0.012090486231726007,0.012328632503128288,0.012569353750222915,0.01281274252524181,0.01305889212238557,0.013307895766074954,0.013559845773752745,0.013814832699382478,0.014072944464159484,0.014334265481273806,0.01459887578184084,0.014866850149337876,0.015138257270050864,0.015413158907141171,0.01569160910598385,0.01597365343840543,0.016259328293356412,0.016548660221392713,0.016841665340107337,0.01713834880735112,0.017438704368707793,0.01774271398524604,0.018050347547060693,0.018361562677540265,0.018676304632660238,0.018994506298906,0.01931608829268038,0.01964095916325234,0.019969015700463954,0.020300143347534765,0.020634216718397793,0.020971100218072424,0.021310648763638276,0.021652708602425727,0.021997118223094633,0.022343709354339145,0.022692308045044875,0.023042735818841607,0.023394810895151334,0.023748349468035675,0.024103167033407362,0.024459079754495665,0.024815905854854874,0.025173467027683635,0.025531589849789173,0.02589010718819104,0.026248859587118256,0.026607696623016364,0.026966478215152856,0.027325075879488975,0.02768337391368099,0.028041270501378515,0.028398678724406996,0.02875552747195032,0.02911176223648695,0.029467345786974804,0.029822258710620723,0.030176499815505842,0.030530086387356745,0.030883054294853024,0.031235457939028495,0.03158737004354981,0.03193888128393333,0.03229009975507279,0.032641150277788036,0.03299217354645954,0.033343325121160935,0.03369477426904631,0.03404670266106104,0.03439930293132262,0.034752777107746616,0.03510733492365518,0.03546319202119815,0.0358205680584218,0.03617968473273108,0.0365407637342972,0.03690402464365616,0.03726968278831615,0.0376379470736398,0.0380090178035804,0.038383084507036515,0.038760323785629304,0.03914089719861639,0.03952494920042513,0.03991260514592302,0.04030396937804669,0.040699123411788614,0.04109812422779638,0.04150100268798552,0.041907762084602854,0.04231837683312822,0.04273279131825766,0.04315091890100613,0.04357264109369303,0.04399780690825929,0.044426232382013424,0.044857700283530866,0.045291960000059896,0.04572872760641219,0.04616768611397654,0.04660848589717523,0.04705074529342613,0.04749405137146384,0.04793796086174639,0.048382001241618525,0.048825671966952845,0.049268445841121715,0.049709770511413294,0.050149070082356174,0.050585746834906006,0.05101918304003974,0.051448742855028685,0.05187377429050234,0.052293611236375645,0.05270757553479621,0.053114979088454285,0.05351512599289871,0.05390731468190105,0.05429084007539543,0.05466499572009461,0.055029075913522935,0.05538237780291147,0.05572420345114879,0.05605386186277331,0.05637067096379911,0.05667395952999849,0.056963069059081176,0.057237355583024556,0.057496191417593344,0.057738966846836194,0.05796509174104948,0.058173997107347636,0.05836513657255661,0.05853798779866351,0.05869205383148059,0.05882686438353695,0.058941977052468716,0.05903697847635782,0.059111485427550875,0.05916514584649492,0.059197639817032695,0.05920868048444514,0.05919801491727619,0.05916542491367591,0.059110727752620836,0.059033776889958096,0.058934462598749744,0.05881271255291015,0.058668492352613,0.058501805989431825,0.05831269624865886,0.058101245045758684,0.057867573693441934,0.057611843095416455,0.05733425386250643,0.05703504634650804,0.05671450058691641,0.05637293616549428,0.05601071196357887,0.05562822581704512,0.055225914063957014,0.054804250980159855,0.05436374809838428,0.05390495340685571,0.05342845042392514,0.05293485714585769,0.052424824865625254,0.05189903686134898,0.05135820695391052,0.05080307793419784,0.050234419861447374,0.049653028235202706,0.049059722044481405,0.048455341698856756,0.047840746847265095,0.047216814091459405,0.046584434602112805,0.04594451164662667,0.04529795803869737,0.044645693520638095,0.04398864209031444,0.043327729285329526,0.042663879437776026,0.04199801291344253,0.04133104334981645,0.04066387490756054,0.03999739955033785,0.03933249436793325,0.03867001895755024,0.03801081287795894,0.03735569319083216,0.03670545210313325,0.036060854723818134,0.0354226369473886,0.03479150347599178,0.034168125990814056,0.033553141482467054,0.0329471507489344,0.032350717068435245,0.0317643650532922,0.031188579689572577,0.03062380556591445,0.030070446293578797,0.02952886411838218,0.02899937972379501,0.028482272223135936,0.027977779337474463,0.027486097754587664,0.027007383663102676,0.026541753454821695,0.02608928458716742,0.02565001659671878,0.02522395225394059,0.024811058848445325,0.024411269593470505,0.024024485137719306,0.023650575172283403,0.023289380120067014,0.0229407128949379,0.02260436071776253,0.022280086976521344,0.021967633117849498,0.02166672055760347,0.021377052598403574,0.021098316342545338,0.020830184589198386,0.02057231770540894,0.020324365461090243,0.02008596881890369,0.01985676167070351,0.019636372513022058,0.019424426054903847,0.019220544752247284,0.01902435026367009,0.0188354648237691,0.018653512530495277,0.01847812054419089,0.018308920196641678,0.01814554800926724,0.01798764662030955,0.01783486562156799,0.017686862305872676,0.017543302327082257,0.017403860274926238,0.01726822016749555,0.01713607586460879,0.01700713140564672,0.01688110127575616,0.016757710604576287,0.016636695301835626,0.01651780213431275,0.016400788748743605,0.016285423645306652,0.016171486106314532,0.016058766084703975,0.015947064056837053,0.01583619084401877,0.01572596740699792,0.015616224617554042,0.015506803011092255,0.015397552523964372,0.015288332219023502,0.01517901000269402,0.015069462336609867,0.014959573946640034,0.014849237531885006,0.01473835347599506,0.014626829562931593,0.01451458069906687,0.014401528643299438,0.014287601746652131,0.014172734702615382,0.014056868309306062,0.01393994924432663,0.01382192985303296,0.013702767950754128,0.013582426639347831,0.013460874138326813,0.01333808363064914,0.013214033123131361,0.013088705321316261,0.012962087518505203,0.012834171498550194,0.012704953451891092,0.012574433904217624,0.012442617657036626,0.01230951373932856,0.012175135369387202,0.012039499925849184,0.011902628926838979,0.011764548016078909,0.011625286954742187,0.011484879617763214,0.011343363993261352,0.011200782183683302,0.011057180407228287,0.010912608998085552,0.010767122403991563,0.010620779179599879,0.010473641974155696,0.01032577751197715,0.01017725656426694,0.010028153910814934,0.009878548290199254,0.009728522337157708,0.009578162505875693,0.009427558978027715,0.009276805554511791,0.009125999529932536,0.008975241549017018,0.008824635444287557,0.008674288054466916,0.008524309023250992,0.008374810578255133,0.00822590729011438,0.008077715811901571,0.007930354599212633,0.007783943611457392,0.0076386039950834764,0.00749445774964901,0.007351627377846029,0.007210235520756845,0.007070404579800597,0.006932256326993558,0.006795911505303741,0.0066614894210253114,0.0065291075302314925,0.006398881021482556,0.006270922397068563,0.006145341055153197,0.0060222428752534085,0.005901729809541135,0.00578389948248434,0.005668844801358029,0.005556653580148365,0.0054474081793468776,0.005341185164085502,0.005238054982998071,0.005138081670109511,0.005041322571952153,0.004947828101987828,0.0048576415242790735,0.004770798768199616,0.004687328275808006,0.0046072508833284375,0.004530579737990078,0.004457320251274126,0.004387470089405146,0.004321019201703738,0.004257949887191266,0.004198236899606346,0.004141847590759014,0.0040887420919119505,0.004038873532642634,0.003992188296405145,0.00394862631177829,0.003908121378158934,0.0038706015244368073,0.0038359893989715083,0.0038042026889848093,0.0037751545672831863,0.003748754164037067,0.003724907061167155,0.0037035158067234056,0.003684480446491332,0.0036676990699231323,0.0036530683673687467,0.003640484195475076,0.0036298421475305384,0.0036210381254577198,0.0036139689100996414,0.0036085327264046415,0.003604629800092905,0.003602162902382996,0.0036010378793704177,0.0036011641626825,0.003602455258083953,0.003604829208776755,0.003608209030225074,0.0036125231134418916,0.0036177055937978756,0.0036236966825554744,0.0036304429584911465,0.003637897617146617,0.0036460206754450916,0.003654779129620631,0.003664147064637311,0.0036741057135195724,0.0036846434652749584,0.0036957558203651267,0.0037074452929693577,0.0037197212595861283,0.003732599753831744,0.0037461032076189058,0.0037602601392317785,0.0037751047891558497,0.0037906767048689954,0.003807020276153612,0.003824184222845626,0.0038422210372937356,0.0038611863841583834,0.0038811384605329183,0.0039021373197165657,0.003924244162307696,0.003947520598613712,0.003972027886687866,0.003997826150600791,0.004024973583832228,0.004053525642923443,0.004083534236760321,0.004115046917057901,0.0041481060757860245,0.004182748155410362,0.004219002877920239,0.004256892498671744,0.0042964310910893885,0.004337623868239799,0.004380466547214322,0.004424944762133178,0.004471033531409812,0.004518696784690213,0.004567886954607335,0.004618544638166175,0.00467059833219984,0.004723964246914078,0.004778546201066738,0.004834235601813975,0.004890911511697342,0.004948440804650397,0.0050066784122729585,0.005065467660960147,0.005124640699787745,0.0051840190183492715,0.005243414053020483,0.005302627879399606,0.00536145398794293,0.005419678139092749,0.005477079293484485,0.005533430612129817,0.005588500520809756,0.0056420538322829545,0.005693852919327172,0.00574365893109228,0.005791233044758754,0.005836337744070437,0.00587873811595277,0.005918203156139516,0.005954507074519333,0.005987430590779777,0.006016762210875,0.006042299474874754,0.00606385016686927,0.006081233477805427,0.006094281112415163,0.006102838331764566,0.0061067649233991885,0.006105936091584596,0.006100243260735847,0.006089594785790828,0.006073916564003687,0.006053152543409372,0.006027265124030665,0.005996235448757796],\"yaxis\":\"y\",\"type\":\"scatter\"},{\"legendgroup\":\"Distribui\\u00e7\\u00e3o da vari\\u00e1vel MEDV (pre\\u00e7o m\\u00e9dio do im\\u00f3vel)\",\"marker\":{\"color\":\"rgb(31, 119, 180)\",\"symbol\":\"line-ns-open\"},\"mode\":\"markers\",\"name\":\"Distribui\\u00e7\\u00e3o da vari\\u00e1vel MEDV (pre\\u00e7o m\\u00e9dio do im\\u00f3vel)\",\"showlegend\":false,\"x\":[24.0,21.6,34.7,33.4,36.2,28.7,22.9,22.1,16.5,18.9,15.0,18.9,21.7,20.4,18.2,19.9,23.1,17.5,20.2,18.2,13.6,19.6,15.2,14.5,15.6,13.9,16.6,14.8,18.4,21.0,12.7,14.5,13.2,13.1,13.5,18.9,20.0,21.0,24.2,30.8,34.9,26.6,25.3,24.7,21.2,19.3,20.0,16.6,14.4,19.4,19.7,20.5,25.0,23.4,18.9,35.4,24.7,31.6,23.3,19.6,18.7,16.0,22.2,25.0,33.0,23.5,19.4,22.0,17.4,20.9,24.2,21.7,22.8,23.4,24.1,21.4,20.0,20.8,21.2,20.3,28.0,23.9,24.8,22.9,23.9,26.6,22.5,22.2,23.6,28.7,22.6,22.0,22.9,25.0,20.6,28.4,21.4,38.7,43.8,33.2,27.5,26.5,18.6,19.3,20.1,19.5,19.5,20.4,19.8,19.4,21.7,22.8,18.8,18.7,18.5,18.3,21.2,19.2,20.4,19.3,22.0,20.3,20.5,17.3,18.8,21.4,15.7,16.2,18.0,14.3,19.2,19.6,23.0,18.4,15.6,18.1,17.4,17.1,13.3,17.8,14.0,14.4,13.4,15.6,11.8,13.8,15.6,14.6,17.8,15.4,21.5,19.6,15.3,19.4,17.0,15.6,13.1,41.3,24.3,23.3,27.0,50.0,50.0,50.0,22.7,25.0,50.0,23.8,23.8,22.3,17.4,19.1,23.1,23.6,22.6,29.4,23.2,24.6,29.9,37.2,39.8,36.2,37.9,32.5,26.4,29.6,50.0,32.0,29.8,34.9,33.0,30.5,36.4,31.1,29.1,50.0,33.3,30.3,34.6,34.9,32.9,24.1,42.3,48.5,50.0,22.6,24.4,22.5,24.4,20.0,21.7,19.3,22.4,28.1,23.7,25.0,23.3,28.7,21.5,23.0,26.7,21.7,27.5,30.1,44.8,50.0,37.6,31.6,46.7,31.5,24.3,31.7,41.7,48.3,29.0,24.0,25.1,31.5,23.7,23.3,27.0,20.1,22.2,23.7,17.6,18.5,24.3,20.5,24.5,26.2,24.4,24.8,29.6,42.8,21.9,20.9,44.0,50.0,36.0,30.1,33.8,43.1,48.8,31.0,36.5,22.8,30.7,50.0,43.5,20.7,21.1,25.2,24.4,35.2,32.4,32.0,33.2,33.1,29.1,35.1,45.4,35.4,46.0,50.0,32.2,22.0,20.1,23.2,22.3,24.8,28.5,37.3,27.9,23.9,21.7,28.6,27.1,20.3,22.5,29.0,24.8,22.0,26.4,33.1,36.1,28.4,33.4,28.2,22.8,20.3,16.1,22.1,19.4,21.6,23.8,16.2,17.8,19.8,23.1,21.0,23.8,23.1,20.4,18.5,25.0,24.6,23.0,22.2,19.3,22.6,19.8,17.1,19.4,22.2,20.7,21.1,19.5,18.5,20.6,19.0,18.7,32.7,16.5,23.9,31.2,17.5,17.2,23.1,24.5,26.6,22.9,24.1,18.6,30.1,18.2,20.6,17.8,21.7,22.7,22.6,25.0,19.9,20.8,16.8,21.9,27.5,21.9,23.1,50.0,50.0,50.0,50.0,50.0,13.8,13.8,15.0,13.9,13.3,13.1,10.2,10.4,10.9,11.3,12.3,8.8,7.2,10.5,7.4,10.2,11.5,15.1,23.2,9.7,13.8,12.7,13.1,12.5,8.5,5.0,6.3,5.6,7.2,12.1,8.3,8.5,5.0,11.9,27.9,17.2,27.5,15.0,17.2,17.9,16.3,7.0,7.2,7.5,10.4,8.8,8.4,16.7,14.2,20.8,13.4,11.7,8.3,10.2,10.9,11.0,9.5,14.5,14.1,16.1,14.3,11.7,13.4,9.6,8.2,8.4,12.8,10.5,17.1,14.8,15.4,10.8,11.8,14.9,12.6,14.1,13.0,13.4,15.2,16.1,17.8,14.4,14.1,12.7,13.5,14.9,20.0,16.4,17.7,19.5,20.2,21.4,19.9,19.0,19.1,19.1,20.1,19.9,19.6,23.2,29.8,13.8,13.3,16.7,12.0,14.6,21.4,23.0,23.7,25.0,21.8,20.6,21.2,19.1,20.6,15.2,7.0,8.1,13.6,20.1,21.8,24.5,23.1,19.7,18.3,21.2,17.5,16.8,22.4,20.6,23.9,22.0,19.0],\"xaxis\":\"x\",\"y\":[\"Distribui\\u00e7\\u00e3o da vari\\u00e1vel MEDV (pre\\u00e7o m\\u00e9dio do im\\u00f3vel)\",\"Distribui\\u00e7\\u00e3o da vari\\u00e1vel MEDV (pre\\u00e7o m\\u00e9dio do im\\u00f3vel)\",\"Distribui\\u00e7\\u00e3o da vari\\u00e1vel MEDV (pre\\u00e7o m\\u00e9dio do im\\u00f3vel)\",\"Distribui\\u00e7\\u00e3o da vari\\u00e1vel MEDV (pre\\u00e7o m\\u00e9dio do im\\u00f3vel)\",\"Distribui\\u00e7\\u00e3o da vari\\u00e1vel MEDV (pre\\u00e7o m\\u00e9dio do im\\u00f3vel)\",\"Distribui\\u00e7\\u00e3o da vari\\u00e1vel MEDV (pre\\u00e7o m\\u00e9dio do im\\u00f3vel)\",\"Distribui\\u00e7\\u00e3o da vari\\u00e1vel MEDV (pre\\u00e7o m\\u00e9dio do im\\u00f3vel)\",\"Distribui\\u00e7\\u00e3o da vari\\u00e1vel MEDV (pre\\u00e7o m\\u00e9dio do im\\u00f3vel)\",\"Distribui\\u00e7\\u00e3o da vari\\u00e1vel MEDV (pre\\u00e7o m\\u00e9dio do im\\u00f3vel)\",\"Distribui\\u00e7\\u00e3o da vari\\u00e1vel MEDV (pre\\u00e7o m\\u00e9dio do im\\u00f3vel)\",\"Distribui\\u00e7\\u00e3o da vari\\u00e1vel MEDV (pre\\u00e7o m\\u00e9dio do im\\u00f3vel)\",\"Distribui\\u00e7\\u00e3o da vari\\u00e1vel MEDV (pre\\u00e7o m\\u00e9dio do im\\u00f3vel)\",\"Distribui\\u00e7\\u00e3o da vari\\u00e1vel MEDV (pre\\u00e7o m\\u00e9dio do im\\u00f3vel)\",\"Distribui\\u00e7\\u00e3o da vari\\u00e1vel MEDV (pre\\u00e7o m\\u00e9dio do im\\u00f3vel)\",\"Distribui\\u00e7\\u00e3o da vari\\u00e1vel MEDV (pre\\u00e7o m\\u00e9dio do im\\u00f3vel)\",\"Distribui\\u00e7\\u00e3o da vari\\u00e1vel MEDV (pre\\u00e7o m\\u00e9dio do im\\u00f3vel)\",\"Distribui\\u00e7\\u00e3o da vari\\u00e1vel MEDV (pre\\u00e7o m\\u00e9dio do im\\u00f3vel)\",\"Distribui\\u00e7\\u00e3o da vari\\u00e1vel MEDV (pre\\u00e7o m\\u00e9dio do im\\u00f3vel)\",\"Distribui\\u00e7\\u00e3o da vari\\u00e1vel MEDV (pre\\u00e7o m\\u00e9dio do im\\u00f3vel)\",\"Distribui\\u00e7\\u00e3o da vari\\u00e1vel MEDV (pre\\u00e7o m\\u00e9dio do im\\u00f3vel)\",\"Distribui\\u00e7\\u00e3o da vari\\u00e1vel MEDV (pre\\u00e7o m\\u00e9dio do im\\u00f3vel)\",\"Distribui\\u00e7\\u00e3o da vari\\u00e1vel MEDV (pre\\u00e7o m\\u00e9dio do im\\u00f3vel)\",\"Distribui\\u00e7\\u00e3o da vari\\u00e1vel MEDV (pre\\u00e7o m\\u00e9dio do im\\u00f3vel)\",\"Distribui\\u00e7\\u00e3o da vari\\u00e1vel MEDV (pre\\u00e7o m\\u00e9dio do im\\u00f3vel)\",\"Distribui\\u00e7\\u00e3o da vari\\u00e1vel MEDV (pre\\u00e7o m\\u00e9dio do im\\u00f3vel)\",\"Distribui\\u00e7\\u00e3o da vari\\u00e1vel MEDV (pre\\u00e7o m\\u00e9dio do im\\u00f3vel)\",\"Distribui\\u00e7\\u00e3o da vari\\u00e1vel MEDV (pre\\u00e7o m\\u00e9dio do im\\u00f3vel)\",\"Distribui\\u00e7\\u00e3o da vari\\u00e1vel MEDV (pre\\u00e7o m\\u00e9dio do im\\u00f3vel)\",\"Distribui\\u00e7\\u00e3o da vari\\u00e1vel MEDV (pre\\u00e7o m\\u00e9dio do im\\u00f3vel)\",\"Distribui\\u00e7\\u00e3o da vari\\u00e1vel MEDV (pre\\u00e7o m\\u00e9dio do im\\u00f3vel)\",\"Distribui\\u00e7\\u00e3o da vari\\u00e1vel MEDV (pre\\u00e7o m\\u00e9dio do im\\u00f3vel)\",\"Distribui\\u00e7\\u00e3o da vari\\u00e1vel MEDV (pre\\u00e7o m\\u00e9dio do im\\u00f3vel)\",\"Distribui\\u00e7\\u00e3o da vari\\u00e1vel MEDV (pre\\u00e7o m\\u00e9dio do im\\u00f3vel)\",\"Distribui\\u00e7\\u00e3o da vari\\u00e1vel MEDV (pre\\u00e7o m\\u00e9dio do im\\u00f3vel)\",\"Distribui\\u00e7\\u00e3o da vari\\u00e1vel MEDV (pre\\u00e7o m\\u00e9dio do im\\u00f3vel)\",\"Distribui\\u00e7\\u00e3o da vari\\u00e1vel MEDV (pre\\u00e7o m\\u00e9dio do im\\u00f3vel)\",\"Distribui\\u00e7\\u00e3o da vari\\u00e1vel MEDV (pre\\u00e7o m\\u00e9dio do im\\u00f3vel)\",\"Distribui\\u00e7\\u00e3o da vari\\u00e1vel MEDV (pre\\u00e7o m\\u00e9dio do im\\u00f3vel)\",\"Distribui\\u00e7\\u00e3o da vari\\u00e1vel MEDV (pre\\u00e7o m\\u00e9dio do im\\u00f3vel)\",\"Distribui\\u00e7\\u00e3o da vari\\u00e1vel MEDV (pre\\u00e7o m\\u00e9dio do im\\u00f3vel)\",\"Distribui\\u00e7\\u00e3o da vari\\u00e1vel MEDV (pre\\u00e7o m\\u00e9dio do im\\u00f3vel)\",\"Distribui\\u00e7\\u00e3o da vari\\u00e1vel MEDV (pre\\u00e7o m\\u00e9dio do im\\u00f3vel)\",\"Distribui\\u00e7\\u00e3o da vari\\u00e1vel MEDV (pre\\u00e7o m\\u00e9dio do im\\u00f3vel)\",\"Distribui\\u00e7\\u00e3o da vari\\u00e1vel MEDV (pre\\u00e7o m\\u00e9dio do im\\u00f3vel)\",\"Distribui\\u00e7\\u00e3o da vari\\u00e1vel MEDV (pre\\u00e7o m\\u00e9dio do im\\u00f3vel)\",\"Distribui\\u00e7\\u00e3o da vari\\u00e1vel MEDV (pre\\u00e7o m\\u00e9dio do im\\u00f3vel)\",\"Distribui\\u00e7\\u00e3o da vari\\u00e1vel MEDV (pre\\u00e7o m\\u00e9dio do im\\u00f3vel)\",\"Distribui\\u00e7\\u00e3o da vari\\u00e1vel MEDV (pre\\u00e7o m\\u00e9dio do im\\u00f3vel)\",\"Distribui\\u00e7\\u00e3o da vari\\u00e1vel MEDV (pre\\u00e7o m\\u00e9dio do im\\u00f3vel)\",\"Distribui\\u00e7\\u00e3o da vari\\u00e1vel MEDV (pre\\u00e7o m\\u00e9dio do im\\u00f3vel)\",\"Distribui\\u00e7\\u00e3o da vari\\u00e1vel MEDV (pre\\u00e7o m\\u00e9dio do im\\u00f3vel)\",\"Distribui\\u00e7\\u00e3o da vari\\u00e1vel MEDV (pre\\u00e7o m\\u00e9dio do im\\u00f3vel)\",\"Distribui\\u00e7\\u00e3o da vari\\u00e1vel MEDV (pre\\u00e7o m\\u00e9dio do im\\u00f3vel)\",\"Distribui\\u00e7\\u00e3o da vari\\u00e1vel MEDV (pre\\u00e7o m\\u00e9dio do im\\u00f3vel)\",\"Distribui\\u00e7\\u00e3o da vari\\u00e1vel MEDV (pre\\u00e7o m\\u00e9dio do im\\u00f3vel)\",\"Distribui\\u00e7\\u00e3o da vari\\u00e1vel MEDV (pre\\u00e7o m\\u00e9dio do im\\u00f3vel)\",\"Distribui\\u00e7\\u00e3o da vari\\u00e1vel MEDV (pre\\u00e7o m\\u00e9dio do im\\u00f3vel)\",\"Distribui\\u00e7\\u00e3o da vari\\u00e1vel MEDV (pre\\u00e7o m\\u00e9dio do im\\u00f3vel)\",\"Distribui\\u00e7\\u00e3o da vari\\u00e1vel MEDV (pre\\u00e7o m\\u00e9dio do im\\u00f3vel)\",\"Distribui\\u00e7\\u00e3o da vari\\u00e1vel MEDV (pre\\u00e7o m\\u00e9dio do im\\u00f3vel)\",\"Distribui\\u00e7\\u00e3o da vari\\u00e1vel MEDV (pre\\u00e7o m\\u00e9dio do im\\u00f3vel)\",\"Distribui\\u00e7\\u00e3o da vari\\u00e1vel MEDV (pre\\u00e7o m\\u00e9dio do im\\u00f3vel)\",\"Distribui\\u00e7\\u00e3o da vari\\u00e1vel MEDV (pre\\u00e7o m\\u00e9dio do im\\u00f3vel)\",\"Distribui\\u00e7\\u00e3o da vari\\u00e1vel MEDV (pre\\u00e7o m\\u00e9dio do im\\u00f3vel)\",\"Distribui\\u00e7\\u00e3o da vari\\u00e1vel MEDV (pre\\u00e7o m\\u00e9dio do im\\u00f3vel)\",\"Distribui\\u00e7\\u00e3o da vari\\u00e1vel MEDV (pre\\u00e7o m\\u00e9dio do im\\u00f3vel)\",\"Distribui\\u00e7\\u00e3o da vari\\u00e1vel MEDV (pre\\u00e7o m\\u00e9dio do im\\u00f3vel)\",\"Distribui\\u00e7\\u00e3o da vari\\u00e1vel MEDV (pre\\u00e7o m\\u00e9dio do im\\u00f3vel)\",\"Distribui\\u00e7\\u00e3o da vari\\u00e1vel MEDV (pre\\u00e7o m\\u00e9dio do im\\u00f3vel)\",\"Distribui\\u00e7\\u00e3o da vari\\u00e1vel MEDV (pre\\u00e7o m\\u00e9dio do im\\u00f3vel)\",\"Distribui\\u00e7\\u00e3o da vari\\u00e1vel MEDV (pre\\u00e7o m\\u00e9dio do im\\u00f3vel)\",\"Distribui\\u00e7\\u00e3o da vari\\u00e1vel MEDV (pre\\u00e7o m\\u00e9dio do im\\u00f3vel)\",\"Distribui\\u00e7\\u00e3o da vari\\u00e1vel MEDV (pre\\u00e7o m\\u00e9dio do im\\u00f3vel)\",\"Distribui\\u00e7\\u00e3o da vari\\u00e1vel MEDV (pre\\u00e7o m\\u00e9dio do im\\u00f3vel)\",\"Distribui\\u00e7\\u00e3o da vari\\u00e1vel MEDV (pre\\u00e7o m\\u00e9dio do im\\u00f3vel)\",\"Distribui\\u00e7\\u00e3o da vari\\u00e1vel MEDV (pre\\u00e7o m\\u00e9dio do im\\u00f3vel)\",\"Distribui\\u00e7\\u00e3o da vari\\u00e1vel MEDV (pre\\u00e7o m\\u00e9dio do im\\u00f3vel)\",\"Distribui\\u00e7\\u00e3o da vari\\u00e1vel MEDV (pre\\u00e7o m\\u00e9dio do im\\u00f3vel)\",\"Distribui\\u00e7\\u00e3o da vari\\u00e1vel MEDV (pre\\u00e7o m\\u00e9dio do im\\u00f3vel)\",\"Distribui\\u00e7\\u00e3o da vari\\u00e1vel MEDV (pre\\u00e7o m\\u00e9dio do im\\u00f3vel)\",\"Distribui\\u00e7\\u00e3o da vari\\u00e1vel MEDV (pre\\u00e7o m\\u00e9dio do im\\u00f3vel)\",\"Distribui\\u00e7\\u00e3o da vari\\u00e1vel MEDV (pre\\u00e7o m\\u00e9dio do im\\u00f3vel)\",\"Distribui\\u00e7\\u00e3o da vari\\u00e1vel MEDV (pre\\u00e7o m\\u00e9dio do im\\u00f3vel)\",\"Distribui\\u00e7\\u00e3o da vari\\u00e1vel MEDV (pre\\u00e7o m\\u00e9dio do im\\u00f3vel)\",\"Distribui\\u00e7\\u00e3o da vari\\u00e1vel MEDV (pre\\u00e7o m\\u00e9dio do im\\u00f3vel)\",\"Distribui\\u00e7\\u00e3o da vari\\u00e1vel MEDV (pre\\u00e7o m\\u00e9dio do im\\u00f3vel)\",\"Distribui\\u00e7\\u00e3o da vari\\u00e1vel MEDV (pre\\u00e7o m\\u00e9dio do im\\u00f3vel)\",\"Distribui\\u00e7\\u00e3o da vari\\u00e1vel MEDV (pre\\u00e7o m\\u00e9dio do im\\u00f3vel)\",\"Distribui\\u00e7\\u00e3o da vari\\u00e1vel MEDV (pre\\u00e7o m\\u00e9dio do im\\u00f3vel)\",\"Distribui\\u00e7\\u00e3o da vari\\u00e1vel MEDV (pre\\u00e7o m\\u00e9dio do im\\u00f3vel)\",\"Distribui\\u00e7\\u00e3o da vari\\u00e1vel MEDV (pre\\u00e7o m\\u00e9dio do im\\u00f3vel)\",\"Distribui\\u00e7\\u00e3o da vari\\u00e1vel MEDV (pre\\u00e7o m\\u00e9dio do im\\u00f3vel)\",\"Distribui\\u00e7\\u00e3o da vari\\u00e1vel MEDV (pre\\u00e7o m\\u00e9dio do im\\u00f3vel)\",\"Distribui\\u00e7\\u00e3o da vari\\u00e1vel MEDV (pre\\u00e7o m\\u00e9dio do im\\u00f3vel)\",\"Distribui\\u00e7\\u00e3o da vari\\u00e1vel MEDV (pre\\u00e7o m\\u00e9dio do im\\u00f3vel)\",\"Distribui\\u00e7\\u00e3o da vari\\u00e1vel MEDV (pre\\u00e7o m\\u00e9dio do im\\u00f3vel)\",\"Distribui\\u00e7\\u00e3o da vari\\u00e1vel MEDV (pre\\u00e7o m\\u00e9dio do im\\u00f3vel)\",\"Distribui\\u00e7\\u00e3o da vari\\u00e1vel MEDV (pre\\u00e7o m\\u00e9dio do im\\u00f3vel)\",\"Distribui\\u00e7\\u00e3o da vari\\u00e1vel MEDV (pre\\u00e7o m\\u00e9dio do im\\u00f3vel)\",\"Distribui\\u00e7\\u00e3o da vari\\u00e1vel MEDV (pre\\u00e7o m\\u00e9dio do im\\u00f3vel)\",\"Distribui\\u00e7\\u00e3o da vari\\u00e1vel MEDV (pre\\u00e7o m\\u00e9dio do im\\u00f3vel)\",\"Distribui\\u00e7\\u00e3o da vari\\u00e1vel MEDV (pre\\u00e7o m\\u00e9dio do im\\u00f3vel)\",\"Distribui\\u00e7\\u00e3o da vari\\u00e1vel MEDV (pre\\u00e7o m\\u00e9dio do im\\u00f3vel)\",\"Distribui\\u00e7\\u00e3o da vari\\u00e1vel MEDV (pre\\u00e7o m\\u00e9dio do im\\u00f3vel)\",\"Distribui\\u00e7\\u00e3o da vari\\u00e1vel MEDV (pre\\u00e7o m\\u00e9dio do im\\u00f3vel)\",\"Distribui\\u00e7\\u00e3o da vari\\u00e1vel MEDV (pre\\u00e7o m\\u00e9dio do im\\u00f3vel)\",\"Distribui\\u00e7\\u00e3o da vari\\u00e1vel MEDV (pre\\u00e7o m\\u00e9dio do im\\u00f3vel)\",\"Distribui\\u00e7\\u00e3o da vari\\u00e1vel MEDV (pre\\u00e7o m\\u00e9dio do im\\u00f3vel)\",\"Distribui\\u00e7\\u00e3o da vari\\u00e1vel MEDV (pre\\u00e7o m\\u00e9dio do im\\u00f3vel)\",\"Distribui\\u00e7\\u00e3o da vari\\u00e1vel MEDV (pre\\u00e7o m\\u00e9dio do im\\u00f3vel)\",\"Distribui\\u00e7\\u00e3o da vari\\u00e1vel MEDV (pre\\u00e7o m\\u00e9dio do im\\u00f3vel)\",\"Distribui\\u00e7\\u00e3o da vari\\u00e1vel MEDV (pre\\u00e7o m\\u00e9dio do im\\u00f3vel)\",\"Distribui\\u00e7\\u00e3o da vari\\u00e1vel MEDV (pre\\u00e7o m\\u00e9dio do im\\u00f3vel)\",\"Distribui\\u00e7\\u00e3o da vari\\u00e1vel MEDV (pre\\u00e7o m\\u00e9dio do im\\u00f3vel)\",\"Distribui\\u00e7\\u00e3o da vari\\u00e1vel MEDV (pre\\u00e7o m\\u00e9dio do im\\u00f3vel)\",\"Distribui\\u00e7\\u00e3o da vari\\u00e1vel MEDV (pre\\u00e7o m\\u00e9dio do im\\u00f3vel)\",\"Distribui\\u00e7\\u00e3o da vari\\u00e1vel MEDV (pre\\u00e7o m\\u00e9dio do im\\u00f3vel)\",\"Distribui\\u00e7\\u00e3o da vari\\u00e1vel MEDV (pre\\u00e7o m\\u00e9dio do im\\u00f3vel)\",\"Distribui\\u00e7\\u00e3o da vari\\u00e1vel MEDV (pre\\u00e7o m\\u00e9dio do im\\u00f3vel)\",\"Distribui\\u00e7\\u00e3o da vari\\u00e1vel MEDV (pre\\u00e7o m\\u00e9dio do im\\u00f3vel)\",\"Distribui\\u00e7\\u00e3o da vari\\u00e1vel MEDV (pre\\u00e7o m\\u00e9dio do im\\u00f3vel)\",\"Distribui\\u00e7\\u00e3o da vari\\u00e1vel MEDV (pre\\u00e7o m\\u00e9dio do im\\u00f3vel)\",\"Distribui\\u00e7\\u00e3o da vari\\u00e1vel MEDV (pre\\u00e7o m\\u00e9dio do im\\u00f3vel)\",\"Distribui\\u00e7\\u00e3o da vari\\u00e1vel MEDV (pre\\u00e7o m\\u00e9dio do im\\u00f3vel)\",\"Distribui\\u00e7\\u00e3o da vari\\u00e1vel MEDV (pre\\u00e7o m\\u00e9dio do im\\u00f3vel)\",\"Distribui\\u00e7\\u00e3o da vari\\u00e1vel MEDV (pre\\u00e7o m\\u00e9dio do im\\u00f3vel)\",\"Distribui\\u00e7\\u00e3o da vari\\u00e1vel MEDV (pre\\u00e7o m\\u00e9dio do im\\u00f3vel)\",\"Distribui\\u00e7\\u00e3o da vari\\u00e1vel MEDV (pre\\u00e7o m\\u00e9dio do im\\u00f3vel)\",\"Distribui\\u00e7\\u00e3o da vari\\u00e1vel MEDV (pre\\u00e7o m\\u00e9dio do im\\u00f3vel)\",\"Distribui\\u00e7\\u00e3o da vari\\u00e1vel MEDV (pre\\u00e7o m\\u00e9dio do im\\u00f3vel)\",\"Distribui\\u00e7\\u00e3o da vari\\u00e1vel MEDV (pre\\u00e7o m\\u00e9dio do im\\u00f3vel)\",\"Distribui\\u00e7\\u00e3o da vari\\u00e1vel MEDV (pre\\u00e7o m\\u00e9dio do im\\u00f3vel)\",\"Distribui\\u00e7\\u00e3o da vari\\u00e1vel MEDV (pre\\u00e7o m\\u00e9dio do im\\u00f3vel)\",\"Distribui\\u00e7\\u00e3o da vari\\u00e1vel MEDV (pre\\u00e7o m\\u00e9dio do im\\u00f3vel)\",\"Distribui\\u00e7\\u00e3o da vari\\u00e1vel MEDV (pre\\u00e7o m\\u00e9dio do im\\u00f3vel)\",\"Distribui\\u00e7\\u00e3o da vari\\u00e1vel MEDV (pre\\u00e7o m\\u00e9dio do im\\u00f3vel)\",\"Distribui\\u00e7\\u00e3o da vari\\u00e1vel MEDV (pre\\u00e7o m\\u00e9dio do im\\u00f3vel)\",\"Distribui\\u00e7\\u00e3o da vari\\u00e1vel MEDV (pre\\u00e7o m\\u00e9dio do im\\u00f3vel)\",\"Distribui\\u00e7\\u00e3o da vari\\u00e1vel MEDV (pre\\u00e7o m\\u00e9dio do im\\u00f3vel)\",\"Distribui\\u00e7\\u00e3o da vari\\u00e1vel MEDV (pre\\u00e7o m\\u00e9dio do im\\u00f3vel)\",\"Distribui\\u00e7\\u00e3o da vari\\u00e1vel MEDV (pre\\u00e7o m\\u00e9dio do im\\u00f3vel)\",\"Distribui\\u00e7\\u00e3o da vari\\u00e1vel MEDV (pre\\u00e7o m\\u00e9dio do im\\u00f3vel)\",\"Distribui\\u00e7\\u00e3o da vari\\u00e1vel MEDV (pre\\u00e7o m\\u00e9dio do im\\u00f3vel)\",\"Distribui\\u00e7\\u00e3o da vari\\u00e1vel MEDV (pre\\u00e7o m\\u00e9dio do im\\u00f3vel)\",\"Distribui\\u00e7\\u00e3o da vari\\u00e1vel MEDV (pre\\u00e7o m\\u00e9dio do im\\u00f3vel)\",\"Distribui\\u00e7\\u00e3o da vari\\u00e1vel MEDV (pre\\u00e7o m\\u00e9dio do im\\u00f3vel)\",\"Distribui\\u00e7\\u00e3o da vari\\u00e1vel MEDV (pre\\u00e7o m\\u00e9dio do im\\u00f3vel)\",\"Distribui\\u00e7\\u00e3o da vari\\u00e1vel MEDV (pre\\u00e7o m\\u00e9dio do im\\u00f3vel)\",\"Distribui\\u00e7\\u00e3o da vari\\u00e1vel MEDV (pre\\u00e7o m\\u00e9dio do im\\u00f3vel)\",\"Distribui\\u00e7\\u00e3o da vari\\u00e1vel MEDV (pre\\u00e7o m\\u00e9dio do im\\u00f3vel)\",\"Distribui\\u00e7\\u00e3o da vari\\u00e1vel MEDV (pre\\u00e7o m\\u00e9dio do im\\u00f3vel)\",\"Distribui\\u00e7\\u00e3o da vari\\u00e1vel MEDV (pre\\u00e7o m\\u00e9dio do im\\u00f3vel)\",\"Distribui\\u00e7\\u00e3o da vari\\u00e1vel MEDV (pre\\u00e7o m\\u00e9dio do im\\u00f3vel)\",\"Distribui\\u00e7\\u00e3o da vari\\u00e1vel MEDV (pre\\u00e7o m\\u00e9dio do im\\u00f3vel)\",\"Distribui\\u00e7\\u00e3o da vari\\u00e1vel MEDV (pre\\u00e7o m\\u00e9dio do im\\u00f3vel)\",\"Distribui\\u00e7\\u00e3o da vari\\u00e1vel MEDV (pre\\u00e7o m\\u00e9dio do im\\u00f3vel)\",\"Distribui\\u00e7\\u00e3o da vari\\u00e1vel MEDV (pre\\u00e7o m\\u00e9dio do im\\u00f3vel)\",\"Distribui\\u00e7\\u00e3o da vari\\u00e1vel MEDV (pre\\u00e7o m\\u00e9dio do im\\u00f3vel)\",\"Distribui\\u00e7\\u00e3o da vari\\u00e1vel MEDV (pre\\u00e7o m\\u00e9dio do im\\u00f3vel)\",\"Distribui\\u00e7\\u00e3o da vari\\u00e1vel MEDV (pre\\u00e7o m\\u00e9dio do im\\u00f3vel)\",\"Distribui\\u00e7\\u00e3o da vari\\u00e1vel MEDV (pre\\u00e7o m\\u00e9dio do im\\u00f3vel)\",\"Distribui\\u00e7\\u00e3o da vari\\u00e1vel MEDV (pre\\u00e7o m\\u00e9dio do im\\u00f3vel)\",\"Distribui\\u00e7\\u00e3o da vari\\u00e1vel MEDV (pre\\u00e7o m\\u00e9dio do im\\u00f3vel)\",\"Distribui\\u00e7\\u00e3o da vari\\u00e1vel MEDV (pre\\u00e7o m\\u00e9dio do im\\u00f3vel)\",\"Distribui\\u00e7\\u00e3o da vari\\u00e1vel MEDV (pre\\u00e7o m\\u00e9dio do im\\u00f3vel)\",\"Distribui\\u00e7\\u00e3o da vari\\u00e1vel MEDV (pre\\u00e7o m\\u00e9dio do im\\u00f3vel)\",\"Distribui\\u00e7\\u00e3o da vari\\u00e1vel MEDV (pre\\u00e7o m\\u00e9dio do im\\u00f3vel)\",\"Distribui\\u00e7\\u00e3o da vari\\u00e1vel MEDV (pre\\u00e7o m\\u00e9dio do im\\u00f3vel)\",\"Distribui\\u00e7\\u00e3o da vari\\u00e1vel MEDV (pre\\u00e7o m\\u00e9dio do im\\u00f3vel)\",\"Distribui\\u00e7\\u00e3o da vari\\u00e1vel MEDV (pre\\u00e7o m\\u00e9dio do im\\u00f3vel)\",\"Distribui\\u00e7\\u00e3o da vari\\u00e1vel MEDV (pre\\u00e7o m\\u00e9dio do im\\u00f3vel)\",\"Distribui\\u00e7\\u00e3o da vari\\u00e1vel MEDV (pre\\u00e7o m\\u00e9dio do im\\u00f3vel)\",\"Distribui\\u00e7\\u00e3o da vari\\u00e1vel MEDV (pre\\u00e7o m\\u00e9dio do im\\u00f3vel)\",\"Distribui\\u00e7\\u00e3o da vari\\u00e1vel MEDV (pre\\u00e7o m\\u00e9dio do im\\u00f3vel)\",\"Distribui\\u00e7\\u00e3o da vari\\u00e1vel MEDV (pre\\u00e7o m\\u00e9dio do im\\u00f3vel)\",\"Distribui\\u00e7\\u00e3o da vari\\u00e1vel MEDV (pre\\u00e7o m\\u00e9dio do im\\u00f3vel)\",\"Distribui\\u00e7\\u00e3o da vari\\u00e1vel MEDV (pre\\u00e7o m\\u00e9dio do im\\u00f3vel)\",\"Distribui\\u00e7\\u00e3o da vari\\u00e1vel MEDV (pre\\u00e7o m\\u00e9dio do im\\u00f3vel)\",\"Distribui\\u00e7\\u00e3o da vari\\u00e1vel MEDV (pre\\u00e7o m\\u00e9dio do im\\u00f3vel)\",\"Distribui\\u00e7\\u00e3o da vari\\u00e1vel MEDV (pre\\u00e7o m\\u00e9dio do im\\u00f3vel)\",\"Distribui\\u00e7\\u00e3o da vari\\u00e1vel MEDV (pre\\u00e7o m\\u00e9dio do im\\u00f3vel)\",\"Distribui\\u00e7\\u00e3o da vari\\u00e1vel MEDV (pre\\u00e7o m\\u00e9dio do im\\u00f3vel)\",\"Distribui\\u00e7\\u00e3o da vari\\u00e1vel MEDV (pre\\u00e7o m\\u00e9dio do im\\u00f3vel)\",\"Distribui\\u00e7\\u00e3o da vari\\u00e1vel MEDV (pre\\u00e7o m\\u00e9dio do im\\u00f3vel)\",\"Distribui\\u00e7\\u00e3o da vari\\u00e1vel MEDV (pre\\u00e7o m\\u00e9dio do im\\u00f3vel)\",\"Distribui\\u00e7\\u00e3o da vari\\u00e1vel MEDV (pre\\u00e7o m\\u00e9dio do im\\u00f3vel)\",\"Distribui\\u00e7\\u00e3o da vari\\u00e1vel MEDV (pre\\u00e7o m\\u00e9dio do im\\u00f3vel)\",\"Distribui\\u00e7\\u00e3o da vari\\u00e1vel MEDV (pre\\u00e7o m\\u00e9dio do im\\u00f3vel)\",\"Distribui\\u00e7\\u00e3o da vari\\u00e1vel MEDV (pre\\u00e7o m\\u00e9dio do im\\u00f3vel)\",\"Distribui\\u00e7\\u00e3o da vari\\u00e1vel MEDV (pre\\u00e7o m\\u00e9dio do im\\u00f3vel)\",\"Distribui\\u00e7\\u00e3o da vari\\u00e1vel MEDV (pre\\u00e7o m\\u00e9dio do im\\u00f3vel)\",\"Distribui\\u00e7\\u00e3o da vari\\u00e1vel MEDV (pre\\u00e7o m\\u00e9dio do im\\u00f3vel)\",\"Distribui\\u00e7\\u00e3o da vari\\u00e1vel MEDV (pre\\u00e7o m\\u00e9dio do im\\u00f3vel)\",\"Distribui\\u00e7\\u00e3o da vari\\u00e1vel MEDV (pre\\u00e7o m\\u00e9dio do im\\u00f3vel)\",\"Distribui\\u00e7\\u00e3o da vari\\u00e1vel MEDV (pre\\u00e7o m\\u00e9dio do im\\u00f3vel)\",\"Distribui\\u00e7\\u00e3o da vari\\u00e1vel MEDV (pre\\u00e7o m\\u00e9dio do im\\u00f3vel)\",\"Distribui\\u00e7\\u00e3o da vari\\u00e1vel MEDV (pre\\u00e7o m\\u00e9dio do im\\u00f3vel)\",\"Distribui\\u00e7\\u00e3o da vari\\u00e1vel MEDV (pre\\u00e7o m\\u00e9dio do im\\u00f3vel)\",\"Distribui\\u00e7\\u00e3o da vari\\u00e1vel MEDV (pre\\u00e7o m\\u00e9dio do im\\u00f3vel)\",\"Distribui\\u00e7\\u00e3o da vari\\u00e1vel MEDV (pre\\u00e7o m\\u00e9dio do im\\u00f3vel)\",\"Distribui\\u00e7\\u00e3o da vari\\u00e1vel MEDV (pre\\u00e7o m\\u00e9dio do im\\u00f3vel)\",\"Distribui\\u00e7\\u00e3o da vari\\u00e1vel MEDV (pre\\u00e7o m\\u00e9dio do im\\u00f3vel)\",\"Distribui\\u00e7\\u00e3o da vari\\u00e1vel MEDV (pre\\u00e7o m\\u00e9dio do im\\u00f3vel)\",\"Distribui\\u00e7\\u00e3o da vari\\u00e1vel MEDV (pre\\u00e7o m\\u00e9dio do im\\u00f3vel)\",\"Distribui\\u00e7\\u00e3o da vari\\u00e1vel MEDV (pre\\u00e7o m\\u00e9dio do im\\u00f3vel)\",\"Distribui\\u00e7\\u00e3o da vari\\u00e1vel MEDV (pre\\u00e7o m\\u00e9dio do im\\u00f3vel)\",\"Distribui\\u00e7\\u00e3o da vari\\u00e1vel MEDV (pre\\u00e7o m\\u00e9dio do im\\u00f3vel)\",\"Distribui\\u00e7\\u00e3o da vari\\u00e1vel MEDV (pre\\u00e7o m\\u00e9dio do im\\u00f3vel)\",\"Distribui\\u00e7\\u00e3o da vari\\u00e1vel MEDV (pre\\u00e7o m\\u00e9dio do im\\u00f3vel)\",\"Distribui\\u00e7\\u00e3o da vari\\u00e1vel MEDV (pre\\u00e7o m\\u00e9dio do im\\u00f3vel)\",\"Distribui\\u00e7\\u00e3o da vari\\u00e1vel MEDV (pre\\u00e7o m\\u00e9dio do im\\u00f3vel)\",\"Distribui\\u00e7\\u00e3o da vari\\u00e1vel MEDV (pre\\u00e7o m\\u00e9dio do im\\u00f3vel)\",\"Distribui\\u00e7\\u00e3o da vari\\u00e1vel MEDV (pre\\u00e7o m\\u00e9dio do im\\u00f3vel)\",\"Distribui\\u00e7\\u00e3o da vari\\u00e1vel MEDV (pre\\u00e7o m\\u00e9dio do im\\u00f3vel)\",\"Distribui\\u00e7\\u00e3o da vari\\u00e1vel MEDV (pre\\u00e7o m\\u00e9dio do im\\u00f3vel)\",\"Distribui\\u00e7\\u00e3o da vari\\u00e1vel MEDV (pre\\u00e7o m\\u00e9dio do im\\u00f3vel)\",\"Distribui\\u00e7\\u00e3o da vari\\u00e1vel MEDV (pre\\u00e7o m\\u00e9dio do im\\u00f3vel)\",\"Distribui\\u00e7\\u00e3o da vari\\u00e1vel MEDV (pre\\u00e7o m\\u00e9dio do im\\u00f3vel)\",\"Distribui\\u00e7\\u00e3o da vari\\u00e1vel MEDV (pre\\u00e7o m\\u00e9dio do im\\u00f3vel)\",\"Distribui\\u00e7\\u00e3o da vari\\u00e1vel MEDV (pre\\u00e7o m\\u00e9dio do im\\u00f3vel)\",\"Distribui\\u00e7\\u00e3o da vari\\u00e1vel MEDV (pre\\u00e7o m\\u00e9dio do im\\u00f3vel)\",\"Distribui\\u00e7\\u00e3o da vari\\u00e1vel MEDV (pre\\u00e7o m\\u00e9dio do im\\u00f3vel)\",\"Distribui\\u00e7\\u00e3o da vari\\u00e1vel MEDV (pre\\u00e7o m\\u00e9dio do im\\u00f3vel)\",\"Distribui\\u00e7\\u00e3o da vari\\u00e1vel MEDV (pre\\u00e7o m\\u00e9dio do im\\u00f3vel)\",\"Distribui\\u00e7\\u00e3o da vari\\u00e1vel MEDV (pre\\u00e7o m\\u00e9dio do im\\u00f3vel)\",\"Distribui\\u00e7\\u00e3o da vari\\u00e1vel MEDV (pre\\u00e7o m\\u00e9dio do im\\u00f3vel)\",\"Distribui\\u00e7\\u00e3o da vari\\u00e1vel MEDV (pre\\u00e7o m\\u00e9dio do im\\u00f3vel)\",\"Distribui\\u00e7\\u00e3o da vari\\u00e1vel MEDV (pre\\u00e7o m\\u00e9dio do im\\u00f3vel)\",\"Distribui\\u00e7\\u00e3o da vari\\u00e1vel MEDV (pre\\u00e7o m\\u00e9dio do im\\u00f3vel)\",\"Distribui\\u00e7\\u00e3o da vari\\u00e1vel MEDV (pre\\u00e7o m\\u00e9dio do im\\u00f3vel)\",\"Distribui\\u00e7\\u00e3o da vari\\u00e1vel MEDV (pre\\u00e7o m\\u00e9dio do im\\u00f3vel)\",\"Distribui\\u00e7\\u00e3o da vari\\u00e1vel MEDV (pre\\u00e7o m\\u00e9dio do im\\u00f3vel)\",\"Distribui\\u00e7\\u00e3o da vari\\u00e1vel MEDV (pre\\u00e7o m\\u00e9dio do im\\u00f3vel)\",\"Distribui\\u00e7\\u00e3o da vari\\u00e1vel MEDV (pre\\u00e7o m\\u00e9dio do im\\u00f3vel)\",\"Distribui\\u00e7\\u00e3o da vari\\u00e1vel MEDV (pre\\u00e7o m\\u00e9dio do im\\u00f3vel)\",\"Distribui\\u00e7\\u00e3o da vari\\u00e1vel MEDV (pre\\u00e7o m\\u00e9dio do im\\u00f3vel)\",\"Distribui\\u00e7\\u00e3o da vari\\u00e1vel MEDV (pre\\u00e7o m\\u00e9dio do im\\u00f3vel)\",\"Distribui\\u00e7\\u00e3o da vari\\u00e1vel MEDV (pre\\u00e7o m\\u00e9dio do im\\u00f3vel)\",\"Distribui\\u00e7\\u00e3o da vari\\u00e1vel MEDV (pre\\u00e7o m\\u00e9dio do im\\u00f3vel)\",\"Distribui\\u00e7\\u00e3o da vari\\u00e1vel MEDV (pre\\u00e7o m\\u00e9dio do im\\u00f3vel)\",\"Distribui\\u00e7\\u00e3o da vari\\u00e1vel MEDV (pre\\u00e7o m\\u00e9dio do im\\u00f3vel)\",\"Distribui\\u00e7\\u00e3o da vari\\u00e1vel MEDV (pre\\u00e7o m\\u00e9dio do im\\u00f3vel)\",\"Distribui\\u00e7\\u00e3o da vari\\u00e1vel MEDV (pre\\u00e7o m\\u00e9dio do im\\u00f3vel)\",\"Distribui\\u00e7\\u00e3o da vari\\u00e1vel MEDV (pre\\u00e7o m\\u00e9dio do im\\u00f3vel)\",\"Distribui\\u00e7\\u00e3o da vari\\u00e1vel MEDV (pre\\u00e7o m\\u00e9dio do im\\u00f3vel)\",\"Distribui\\u00e7\\u00e3o da vari\\u00e1vel MEDV (pre\\u00e7o m\\u00e9dio do im\\u00f3vel)\",\"Distribui\\u00e7\\u00e3o da vari\\u00e1vel MEDV (pre\\u00e7o m\\u00e9dio do im\\u00f3vel)\",\"Distribui\\u00e7\\u00e3o da vari\\u00e1vel MEDV (pre\\u00e7o m\\u00e9dio do im\\u00f3vel)\",\"Distribui\\u00e7\\u00e3o da vari\\u00e1vel MEDV (pre\\u00e7o m\\u00e9dio do im\\u00f3vel)\",\"Distribui\\u00e7\\u00e3o da vari\\u00e1vel MEDV (pre\\u00e7o m\\u00e9dio do im\\u00f3vel)\",\"Distribui\\u00e7\\u00e3o da vari\\u00e1vel MEDV (pre\\u00e7o m\\u00e9dio do im\\u00f3vel)\",\"Distribui\\u00e7\\u00e3o da vari\\u00e1vel MEDV (pre\\u00e7o m\\u00e9dio do im\\u00f3vel)\",\"Distribui\\u00e7\\u00e3o da vari\\u00e1vel MEDV (pre\\u00e7o m\\u00e9dio do im\\u00f3vel)\",\"Distribui\\u00e7\\u00e3o da vari\\u00e1vel MEDV (pre\\u00e7o m\\u00e9dio do im\\u00f3vel)\",\"Distribui\\u00e7\\u00e3o da vari\\u00e1vel MEDV (pre\\u00e7o m\\u00e9dio do im\\u00f3vel)\",\"Distribui\\u00e7\\u00e3o da vari\\u00e1vel MEDV (pre\\u00e7o m\\u00e9dio do im\\u00f3vel)\",\"Distribui\\u00e7\\u00e3o da vari\\u00e1vel MEDV (pre\\u00e7o m\\u00e9dio do im\\u00f3vel)\",\"Distribui\\u00e7\\u00e3o da vari\\u00e1vel MEDV (pre\\u00e7o m\\u00e9dio do im\\u00f3vel)\",\"Distribui\\u00e7\\u00e3o da vari\\u00e1vel MEDV (pre\\u00e7o m\\u00e9dio do im\\u00f3vel)\",\"Distribui\\u00e7\\u00e3o da vari\\u00e1vel MEDV (pre\\u00e7o m\\u00e9dio do im\\u00f3vel)\",\"Distribui\\u00e7\\u00e3o da vari\\u00e1vel MEDV (pre\\u00e7o m\\u00e9dio do im\\u00f3vel)\",\"Distribui\\u00e7\\u00e3o da vari\\u00e1vel MEDV (pre\\u00e7o m\\u00e9dio do im\\u00f3vel)\",\"Distribui\\u00e7\\u00e3o da vari\\u00e1vel MEDV (pre\\u00e7o m\\u00e9dio do im\\u00f3vel)\",\"Distribui\\u00e7\\u00e3o da vari\\u00e1vel MEDV (pre\\u00e7o m\\u00e9dio do im\\u00f3vel)\",\"Distribui\\u00e7\\u00e3o da vari\\u00e1vel MEDV (pre\\u00e7o m\\u00e9dio do im\\u00f3vel)\",\"Distribui\\u00e7\\u00e3o da vari\\u00e1vel MEDV (pre\\u00e7o m\\u00e9dio do im\\u00f3vel)\",\"Distribui\\u00e7\\u00e3o da vari\\u00e1vel MEDV (pre\\u00e7o m\\u00e9dio do im\\u00f3vel)\",\"Distribui\\u00e7\\u00e3o da vari\\u00e1vel MEDV (pre\\u00e7o m\\u00e9dio do im\\u00f3vel)\",\"Distribui\\u00e7\\u00e3o da vari\\u00e1vel MEDV (pre\\u00e7o m\\u00e9dio do im\\u00f3vel)\",\"Distribui\\u00e7\\u00e3o da vari\\u00e1vel MEDV (pre\\u00e7o m\\u00e9dio do im\\u00f3vel)\",\"Distribui\\u00e7\\u00e3o da vari\\u00e1vel MEDV (pre\\u00e7o m\\u00e9dio do im\\u00f3vel)\",\"Distribui\\u00e7\\u00e3o da vari\\u00e1vel MEDV (pre\\u00e7o m\\u00e9dio do im\\u00f3vel)\",\"Distribui\\u00e7\\u00e3o da vari\\u00e1vel MEDV (pre\\u00e7o m\\u00e9dio do im\\u00f3vel)\",\"Distribui\\u00e7\\u00e3o da vari\\u00e1vel MEDV (pre\\u00e7o m\\u00e9dio do im\\u00f3vel)\",\"Distribui\\u00e7\\u00e3o da vari\\u00e1vel MEDV (pre\\u00e7o m\\u00e9dio do im\\u00f3vel)\",\"Distribui\\u00e7\\u00e3o da vari\\u00e1vel MEDV (pre\\u00e7o m\\u00e9dio do im\\u00f3vel)\",\"Distribui\\u00e7\\u00e3o da vari\\u00e1vel MEDV (pre\\u00e7o m\\u00e9dio do im\\u00f3vel)\",\"Distribui\\u00e7\\u00e3o da vari\\u00e1vel MEDV (pre\\u00e7o m\\u00e9dio do im\\u00f3vel)\",\"Distribui\\u00e7\\u00e3o da vari\\u00e1vel MEDV (pre\\u00e7o m\\u00e9dio do im\\u00f3vel)\",\"Distribui\\u00e7\\u00e3o da vari\\u00e1vel MEDV (pre\\u00e7o m\\u00e9dio do im\\u00f3vel)\",\"Distribui\\u00e7\\u00e3o da vari\\u00e1vel MEDV (pre\\u00e7o m\\u00e9dio do im\\u00f3vel)\",\"Distribui\\u00e7\\u00e3o da vari\\u00e1vel MEDV (pre\\u00e7o m\\u00e9dio do im\\u00f3vel)\",\"Distribui\\u00e7\\u00e3o da vari\\u00e1vel MEDV (pre\\u00e7o m\\u00e9dio do im\\u00f3vel)\",\"Distribui\\u00e7\\u00e3o da vari\\u00e1vel MEDV (pre\\u00e7o m\\u00e9dio do im\\u00f3vel)\",\"Distribui\\u00e7\\u00e3o da vari\\u00e1vel MEDV (pre\\u00e7o m\\u00e9dio do im\\u00f3vel)\",\"Distribui\\u00e7\\u00e3o da vari\\u00e1vel MEDV (pre\\u00e7o m\\u00e9dio do im\\u00f3vel)\",\"Distribui\\u00e7\\u00e3o da vari\\u00e1vel MEDV (pre\\u00e7o m\\u00e9dio do im\\u00f3vel)\",\"Distribui\\u00e7\\u00e3o da vari\\u00e1vel MEDV (pre\\u00e7o m\\u00e9dio do im\\u00f3vel)\",\"Distribui\\u00e7\\u00e3o da vari\\u00e1vel MEDV (pre\\u00e7o m\\u00e9dio do im\\u00f3vel)\",\"Distribui\\u00e7\\u00e3o da vari\\u00e1vel MEDV (pre\\u00e7o m\\u00e9dio do im\\u00f3vel)\",\"Distribui\\u00e7\\u00e3o da vari\\u00e1vel MEDV (pre\\u00e7o m\\u00e9dio do im\\u00f3vel)\",\"Distribui\\u00e7\\u00e3o da vari\\u00e1vel MEDV (pre\\u00e7o m\\u00e9dio do im\\u00f3vel)\",\"Distribui\\u00e7\\u00e3o da vari\\u00e1vel MEDV (pre\\u00e7o m\\u00e9dio do im\\u00f3vel)\",\"Distribui\\u00e7\\u00e3o da vari\\u00e1vel MEDV (pre\\u00e7o m\\u00e9dio do im\\u00f3vel)\",\"Distribui\\u00e7\\u00e3o da vari\\u00e1vel MEDV (pre\\u00e7o m\\u00e9dio do im\\u00f3vel)\",\"Distribui\\u00e7\\u00e3o da vari\\u00e1vel MEDV (pre\\u00e7o m\\u00e9dio do im\\u00f3vel)\",\"Distribui\\u00e7\\u00e3o da vari\\u00e1vel MEDV (pre\\u00e7o m\\u00e9dio do im\\u00f3vel)\",\"Distribui\\u00e7\\u00e3o da vari\\u00e1vel MEDV (pre\\u00e7o m\\u00e9dio do im\\u00f3vel)\",\"Distribui\\u00e7\\u00e3o da vari\\u00e1vel MEDV (pre\\u00e7o m\\u00e9dio do im\\u00f3vel)\",\"Distribui\\u00e7\\u00e3o da vari\\u00e1vel MEDV (pre\\u00e7o m\\u00e9dio do im\\u00f3vel)\",\"Distribui\\u00e7\\u00e3o da vari\\u00e1vel MEDV (pre\\u00e7o m\\u00e9dio do im\\u00f3vel)\",\"Distribui\\u00e7\\u00e3o da vari\\u00e1vel MEDV (pre\\u00e7o m\\u00e9dio do im\\u00f3vel)\",\"Distribui\\u00e7\\u00e3o da vari\\u00e1vel MEDV (pre\\u00e7o m\\u00e9dio do im\\u00f3vel)\",\"Distribui\\u00e7\\u00e3o da vari\\u00e1vel MEDV (pre\\u00e7o m\\u00e9dio do im\\u00f3vel)\",\"Distribui\\u00e7\\u00e3o da vari\\u00e1vel MEDV (pre\\u00e7o m\\u00e9dio do im\\u00f3vel)\",\"Distribui\\u00e7\\u00e3o da vari\\u00e1vel MEDV (pre\\u00e7o m\\u00e9dio do im\\u00f3vel)\",\"Distribui\\u00e7\\u00e3o da vari\\u00e1vel MEDV (pre\\u00e7o m\\u00e9dio do im\\u00f3vel)\",\"Distribui\\u00e7\\u00e3o da vari\\u00e1vel MEDV (pre\\u00e7o m\\u00e9dio do im\\u00f3vel)\",\"Distribui\\u00e7\\u00e3o da vari\\u00e1vel MEDV (pre\\u00e7o m\\u00e9dio do im\\u00f3vel)\",\"Distribui\\u00e7\\u00e3o da vari\\u00e1vel MEDV (pre\\u00e7o m\\u00e9dio do im\\u00f3vel)\",\"Distribui\\u00e7\\u00e3o da vari\\u00e1vel MEDV (pre\\u00e7o m\\u00e9dio do im\\u00f3vel)\",\"Distribui\\u00e7\\u00e3o da vari\\u00e1vel MEDV (pre\\u00e7o m\\u00e9dio do im\\u00f3vel)\",\"Distribui\\u00e7\\u00e3o da vari\\u00e1vel MEDV (pre\\u00e7o m\\u00e9dio do im\\u00f3vel)\",\"Distribui\\u00e7\\u00e3o da vari\\u00e1vel MEDV (pre\\u00e7o m\\u00e9dio do im\\u00f3vel)\",\"Distribui\\u00e7\\u00e3o da vari\\u00e1vel MEDV (pre\\u00e7o m\\u00e9dio do im\\u00f3vel)\",\"Distribui\\u00e7\\u00e3o da vari\\u00e1vel MEDV (pre\\u00e7o m\\u00e9dio do im\\u00f3vel)\",\"Distribui\\u00e7\\u00e3o da vari\\u00e1vel MEDV (pre\\u00e7o m\\u00e9dio do im\\u00f3vel)\",\"Distribui\\u00e7\\u00e3o da vari\\u00e1vel MEDV (pre\\u00e7o m\\u00e9dio do im\\u00f3vel)\",\"Distribui\\u00e7\\u00e3o da vari\\u00e1vel MEDV (pre\\u00e7o m\\u00e9dio do im\\u00f3vel)\",\"Distribui\\u00e7\\u00e3o da vari\\u00e1vel MEDV (pre\\u00e7o m\\u00e9dio do im\\u00f3vel)\",\"Distribui\\u00e7\\u00e3o da vari\\u00e1vel MEDV (pre\\u00e7o m\\u00e9dio do im\\u00f3vel)\",\"Distribui\\u00e7\\u00e3o da vari\\u00e1vel MEDV (pre\\u00e7o m\\u00e9dio do im\\u00f3vel)\",\"Distribui\\u00e7\\u00e3o da vari\\u00e1vel MEDV (pre\\u00e7o m\\u00e9dio do im\\u00f3vel)\",\"Distribui\\u00e7\\u00e3o da vari\\u00e1vel MEDV (pre\\u00e7o m\\u00e9dio do im\\u00f3vel)\",\"Distribui\\u00e7\\u00e3o da vari\\u00e1vel MEDV (pre\\u00e7o m\\u00e9dio do im\\u00f3vel)\",\"Distribui\\u00e7\\u00e3o da vari\\u00e1vel MEDV (pre\\u00e7o m\\u00e9dio do im\\u00f3vel)\",\"Distribui\\u00e7\\u00e3o da vari\\u00e1vel MEDV (pre\\u00e7o m\\u00e9dio do im\\u00f3vel)\",\"Distribui\\u00e7\\u00e3o da vari\\u00e1vel MEDV (pre\\u00e7o m\\u00e9dio do im\\u00f3vel)\",\"Distribui\\u00e7\\u00e3o da vari\\u00e1vel MEDV (pre\\u00e7o m\\u00e9dio do im\\u00f3vel)\",\"Distribui\\u00e7\\u00e3o da vari\\u00e1vel MEDV (pre\\u00e7o m\\u00e9dio do im\\u00f3vel)\",\"Distribui\\u00e7\\u00e3o da vari\\u00e1vel MEDV (pre\\u00e7o m\\u00e9dio do im\\u00f3vel)\",\"Distribui\\u00e7\\u00e3o da vari\\u00e1vel MEDV (pre\\u00e7o m\\u00e9dio do im\\u00f3vel)\",\"Distribui\\u00e7\\u00e3o da vari\\u00e1vel MEDV (pre\\u00e7o m\\u00e9dio do im\\u00f3vel)\",\"Distribui\\u00e7\\u00e3o da vari\\u00e1vel MEDV (pre\\u00e7o m\\u00e9dio do im\\u00f3vel)\",\"Distribui\\u00e7\\u00e3o da vari\\u00e1vel MEDV (pre\\u00e7o m\\u00e9dio do im\\u00f3vel)\",\"Distribui\\u00e7\\u00e3o da vari\\u00e1vel MEDV (pre\\u00e7o m\\u00e9dio do im\\u00f3vel)\",\"Distribui\\u00e7\\u00e3o da vari\\u00e1vel MEDV (pre\\u00e7o m\\u00e9dio do im\\u00f3vel)\",\"Distribui\\u00e7\\u00e3o da vari\\u00e1vel MEDV (pre\\u00e7o m\\u00e9dio do im\\u00f3vel)\",\"Distribui\\u00e7\\u00e3o da vari\\u00e1vel MEDV (pre\\u00e7o m\\u00e9dio do im\\u00f3vel)\",\"Distribui\\u00e7\\u00e3o da vari\\u00e1vel MEDV (pre\\u00e7o m\\u00e9dio do im\\u00f3vel)\",\"Distribui\\u00e7\\u00e3o da vari\\u00e1vel MEDV (pre\\u00e7o m\\u00e9dio do im\\u00f3vel)\",\"Distribui\\u00e7\\u00e3o da vari\\u00e1vel MEDV (pre\\u00e7o m\\u00e9dio do im\\u00f3vel)\",\"Distribui\\u00e7\\u00e3o da vari\\u00e1vel MEDV (pre\\u00e7o m\\u00e9dio do im\\u00f3vel)\",\"Distribui\\u00e7\\u00e3o da vari\\u00e1vel MEDV (pre\\u00e7o m\\u00e9dio do im\\u00f3vel)\",\"Distribui\\u00e7\\u00e3o da vari\\u00e1vel MEDV (pre\\u00e7o m\\u00e9dio do im\\u00f3vel)\",\"Distribui\\u00e7\\u00e3o da vari\\u00e1vel MEDV (pre\\u00e7o m\\u00e9dio do im\\u00f3vel)\",\"Distribui\\u00e7\\u00e3o da vari\\u00e1vel MEDV (pre\\u00e7o m\\u00e9dio do im\\u00f3vel)\",\"Distribui\\u00e7\\u00e3o da vari\\u00e1vel MEDV (pre\\u00e7o m\\u00e9dio do im\\u00f3vel)\",\"Distribui\\u00e7\\u00e3o da vari\\u00e1vel MEDV (pre\\u00e7o m\\u00e9dio do im\\u00f3vel)\",\"Distribui\\u00e7\\u00e3o da vari\\u00e1vel MEDV (pre\\u00e7o m\\u00e9dio do im\\u00f3vel)\",\"Distribui\\u00e7\\u00e3o da vari\\u00e1vel MEDV (pre\\u00e7o m\\u00e9dio do im\\u00f3vel)\",\"Distribui\\u00e7\\u00e3o da vari\\u00e1vel MEDV (pre\\u00e7o m\\u00e9dio do im\\u00f3vel)\",\"Distribui\\u00e7\\u00e3o da vari\\u00e1vel MEDV (pre\\u00e7o m\\u00e9dio do im\\u00f3vel)\",\"Distribui\\u00e7\\u00e3o da vari\\u00e1vel MEDV (pre\\u00e7o m\\u00e9dio do im\\u00f3vel)\",\"Distribui\\u00e7\\u00e3o da vari\\u00e1vel MEDV (pre\\u00e7o m\\u00e9dio do im\\u00f3vel)\",\"Distribui\\u00e7\\u00e3o da vari\\u00e1vel MEDV (pre\\u00e7o m\\u00e9dio do im\\u00f3vel)\",\"Distribui\\u00e7\\u00e3o da vari\\u00e1vel MEDV (pre\\u00e7o m\\u00e9dio do im\\u00f3vel)\",\"Distribui\\u00e7\\u00e3o da vari\\u00e1vel MEDV (pre\\u00e7o m\\u00e9dio do im\\u00f3vel)\",\"Distribui\\u00e7\\u00e3o da vari\\u00e1vel MEDV (pre\\u00e7o m\\u00e9dio do im\\u00f3vel)\",\"Distribui\\u00e7\\u00e3o da vari\\u00e1vel MEDV (pre\\u00e7o m\\u00e9dio do im\\u00f3vel)\",\"Distribui\\u00e7\\u00e3o da vari\\u00e1vel MEDV (pre\\u00e7o m\\u00e9dio do im\\u00f3vel)\",\"Distribui\\u00e7\\u00e3o da vari\\u00e1vel MEDV (pre\\u00e7o m\\u00e9dio do im\\u00f3vel)\",\"Distribui\\u00e7\\u00e3o da vari\\u00e1vel MEDV (pre\\u00e7o m\\u00e9dio do im\\u00f3vel)\",\"Distribui\\u00e7\\u00e3o da vari\\u00e1vel MEDV (pre\\u00e7o m\\u00e9dio do im\\u00f3vel)\",\"Distribui\\u00e7\\u00e3o da vari\\u00e1vel MEDV (pre\\u00e7o m\\u00e9dio do im\\u00f3vel)\",\"Distribui\\u00e7\\u00e3o da vari\\u00e1vel MEDV (pre\\u00e7o m\\u00e9dio do im\\u00f3vel)\",\"Distribui\\u00e7\\u00e3o da vari\\u00e1vel MEDV (pre\\u00e7o m\\u00e9dio do im\\u00f3vel)\",\"Distribui\\u00e7\\u00e3o da vari\\u00e1vel MEDV (pre\\u00e7o m\\u00e9dio do im\\u00f3vel)\",\"Distribui\\u00e7\\u00e3o da vari\\u00e1vel MEDV (pre\\u00e7o m\\u00e9dio do im\\u00f3vel)\",\"Distribui\\u00e7\\u00e3o da vari\\u00e1vel MEDV (pre\\u00e7o m\\u00e9dio do im\\u00f3vel)\",\"Distribui\\u00e7\\u00e3o da vari\\u00e1vel MEDV (pre\\u00e7o m\\u00e9dio do im\\u00f3vel)\",\"Distribui\\u00e7\\u00e3o da vari\\u00e1vel MEDV (pre\\u00e7o m\\u00e9dio do im\\u00f3vel)\",\"Distribui\\u00e7\\u00e3o da vari\\u00e1vel MEDV (pre\\u00e7o m\\u00e9dio do im\\u00f3vel)\",\"Distribui\\u00e7\\u00e3o da vari\\u00e1vel MEDV (pre\\u00e7o m\\u00e9dio do im\\u00f3vel)\",\"Distribui\\u00e7\\u00e3o da vari\\u00e1vel MEDV (pre\\u00e7o m\\u00e9dio do im\\u00f3vel)\",\"Distribui\\u00e7\\u00e3o da vari\\u00e1vel MEDV (pre\\u00e7o m\\u00e9dio do im\\u00f3vel)\",\"Distribui\\u00e7\\u00e3o da vari\\u00e1vel MEDV (pre\\u00e7o m\\u00e9dio do im\\u00f3vel)\",\"Distribui\\u00e7\\u00e3o da vari\\u00e1vel MEDV (pre\\u00e7o m\\u00e9dio do im\\u00f3vel)\",\"Distribui\\u00e7\\u00e3o da vari\\u00e1vel MEDV (pre\\u00e7o m\\u00e9dio do im\\u00f3vel)\",\"Distribui\\u00e7\\u00e3o da vari\\u00e1vel MEDV (pre\\u00e7o m\\u00e9dio do im\\u00f3vel)\",\"Distribui\\u00e7\\u00e3o da vari\\u00e1vel MEDV (pre\\u00e7o m\\u00e9dio do im\\u00f3vel)\",\"Distribui\\u00e7\\u00e3o da vari\\u00e1vel MEDV (pre\\u00e7o m\\u00e9dio do im\\u00f3vel)\",\"Distribui\\u00e7\\u00e3o da vari\\u00e1vel MEDV (pre\\u00e7o m\\u00e9dio do im\\u00f3vel)\",\"Distribui\\u00e7\\u00e3o da vari\\u00e1vel MEDV (pre\\u00e7o m\\u00e9dio do im\\u00f3vel)\",\"Distribui\\u00e7\\u00e3o da vari\\u00e1vel MEDV (pre\\u00e7o m\\u00e9dio do im\\u00f3vel)\",\"Distribui\\u00e7\\u00e3o da vari\\u00e1vel MEDV (pre\\u00e7o m\\u00e9dio do im\\u00f3vel)\",\"Distribui\\u00e7\\u00e3o da vari\\u00e1vel MEDV (pre\\u00e7o m\\u00e9dio do im\\u00f3vel)\",\"Distribui\\u00e7\\u00e3o da vari\\u00e1vel MEDV (pre\\u00e7o m\\u00e9dio do im\\u00f3vel)\",\"Distribui\\u00e7\\u00e3o da vari\\u00e1vel MEDV (pre\\u00e7o m\\u00e9dio do im\\u00f3vel)\",\"Distribui\\u00e7\\u00e3o da vari\\u00e1vel MEDV (pre\\u00e7o m\\u00e9dio do im\\u00f3vel)\",\"Distribui\\u00e7\\u00e3o da vari\\u00e1vel MEDV (pre\\u00e7o m\\u00e9dio do im\\u00f3vel)\",\"Distribui\\u00e7\\u00e3o da vari\\u00e1vel MEDV (pre\\u00e7o m\\u00e9dio do im\\u00f3vel)\",\"Distribui\\u00e7\\u00e3o da vari\\u00e1vel MEDV (pre\\u00e7o m\\u00e9dio do im\\u00f3vel)\",\"Distribui\\u00e7\\u00e3o da vari\\u00e1vel MEDV (pre\\u00e7o m\\u00e9dio do im\\u00f3vel)\",\"Distribui\\u00e7\\u00e3o da vari\\u00e1vel MEDV (pre\\u00e7o m\\u00e9dio do im\\u00f3vel)\",\"Distribui\\u00e7\\u00e3o da vari\\u00e1vel MEDV (pre\\u00e7o m\\u00e9dio do im\\u00f3vel)\",\"Distribui\\u00e7\\u00e3o da vari\\u00e1vel MEDV (pre\\u00e7o m\\u00e9dio do im\\u00f3vel)\",\"Distribui\\u00e7\\u00e3o da vari\\u00e1vel MEDV (pre\\u00e7o m\\u00e9dio do im\\u00f3vel)\",\"Distribui\\u00e7\\u00e3o da vari\\u00e1vel MEDV (pre\\u00e7o m\\u00e9dio do im\\u00f3vel)\",\"Distribui\\u00e7\\u00e3o da vari\\u00e1vel MEDV (pre\\u00e7o m\\u00e9dio do im\\u00f3vel)\",\"Distribui\\u00e7\\u00e3o da vari\\u00e1vel MEDV (pre\\u00e7o m\\u00e9dio do im\\u00f3vel)\",\"Distribui\\u00e7\\u00e3o da vari\\u00e1vel MEDV (pre\\u00e7o m\\u00e9dio do im\\u00f3vel)\",\"Distribui\\u00e7\\u00e3o da vari\\u00e1vel MEDV (pre\\u00e7o m\\u00e9dio do im\\u00f3vel)\",\"Distribui\\u00e7\\u00e3o da vari\\u00e1vel MEDV (pre\\u00e7o m\\u00e9dio do im\\u00f3vel)\",\"Distribui\\u00e7\\u00e3o da vari\\u00e1vel MEDV (pre\\u00e7o m\\u00e9dio do im\\u00f3vel)\",\"Distribui\\u00e7\\u00e3o da vari\\u00e1vel MEDV (pre\\u00e7o m\\u00e9dio do im\\u00f3vel)\",\"Distribui\\u00e7\\u00e3o da vari\\u00e1vel MEDV (pre\\u00e7o m\\u00e9dio do im\\u00f3vel)\",\"Distribui\\u00e7\\u00e3o da vari\\u00e1vel MEDV (pre\\u00e7o m\\u00e9dio do im\\u00f3vel)\",\"Distribui\\u00e7\\u00e3o da vari\\u00e1vel MEDV (pre\\u00e7o m\\u00e9dio do im\\u00f3vel)\",\"Distribui\\u00e7\\u00e3o da vari\\u00e1vel MEDV (pre\\u00e7o m\\u00e9dio do im\\u00f3vel)\",\"Distribui\\u00e7\\u00e3o da vari\\u00e1vel MEDV (pre\\u00e7o m\\u00e9dio do im\\u00f3vel)\",\"Distribui\\u00e7\\u00e3o da vari\\u00e1vel MEDV (pre\\u00e7o m\\u00e9dio do im\\u00f3vel)\",\"Distribui\\u00e7\\u00e3o da vari\\u00e1vel MEDV (pre\\u00e7o m\\u00e9dio do im\\u00f3vel)\",\"Distribui\\u00e7\\u00e3o da vari\\u00e1vel MEDV (pre\\u00e7o m\\u00e9dio do im\\u00f3vel)\",\"Distribui\\u00e7\\u00e3o da vari\\u00e1vel MEDV (pre\\u00e7o m\\u00e9dio do im\\u00f3vel)\",\"Distribui\\u00e7\\u00e3o da vari\\u00e1vel MEDV (pre\\u00e7o m\\u00e9dio do im\\u00f3vel)\",\"Distribui\\u00e7\\u00e3o da vari\\u00e1vel MEDV (pre\\u00e7o m\\u00e9dio do im\\u00f3vel)\",\"Distribui\\u00e7\\u00e3o da vari\\u00e1vel MEDV (pre\\u00e7o m\\u00e9dio do im\\u00f3vel)\",\"Distribui\\u00e7\\u00e3o da vari\\u00e1vel MEDV (pre\\u00e7o m\\u00e9dio do im\\u00f3vel)\",\"Distribui\\u00e7\\u00e3o da vari\\u00e1vel MEDV (pre\\u00e7o m\\u00e9dio do im\\u00f3vel)\",\"Distribui\\u00e7\\u00e3o da vari\\u00e1vel MEDV (pre\\u00e7o m\\u00e9dio do im\\u00f3vel)\",\"Distribui\\u00e7\\u00e3o da vari\\u00e1vel MEDV (pre\\u00e7o m\\u00e9dio do im\\u00f3vel)\",\"Distribui\\u00e7\\u00e3o da vari\\u00e1vel MEDV (pre\\u00e7o m\\u00e9dio do im\\u00f3vel)\",\"Distribui\\u00e7\\u00e3o da vari\\u00e1vel MEDV (pre\\u00e7o m\\u00e9dio do im\\u00f3vel)\",\"Distribui\\u00e7\\u00e3o da vari\\u00e1vel MEDV (pre\\u00e7o m\\u00e9dio do im\\u00f3vel)\",\"Distribui\\u00e7\\u00e3o da vari\\u00e1vel MEDV (pre\\u00e7o m\\u00e9dio do im\\u00f3vel)\",\"Distribui\\u00e7\\u00e3o da vari\\u00e1vel MEDV (pre\\u00e7o m\\u00e9dio do im\\u00f3vel)\",\"Distribui\\u00e7\\u00e3o da vari\\u00e1vel MEDV (pre\\u00e7o m\\u00e9dio do im\\u00f3vel)\",\"Distribui\\u00e7\\u00e3o da vari\\u00e1vel MEDV (pre\\u00e7o m\\u00e9dio do im\\u00f3vel)\",\"Distribui\\u00e7\\u00e3o da vari\\u00e1vel MEDV (pre\\u00e7o m\\u00e9dio do im\\u00f3vel)\",\"Distribui\\u00e7\\u00e3o da vari\\u00e1vel MEDV (pre\\u00e7o m\\u00e9dio do im\\u00f3vel)\",\"Distribui\\u00e7\\u00e3o da vari\\u00e1vel MEDV (pre\\u00e7o m\\u00e9dio do im\\u00f3vel)\",\"Distribui\\u00e7\\u00e3o da vari\\u00e1vel MEDV (pre\\u00e7o m\\u00e9dio do im\\u00f3vel)\",\"Distribui\\u00e7\\u00e3o da vari\\u00e1vel MEDV (pre\\u00e7o m\\u00e9dio do im\\u00f3vel)\",\"Distribui\\u00e7\\u00e3o da vari\\u00e1vel MEDV (pre\\u00e7o m\\u00e9dio do im\\u00f3vel)\",\"Distribui\\u00e7\\u00e3o da vari\\u00e1vel MEDV (pre\\u00e7o m\\u00e9dio do im\\u00f3vel)\",\"Distribui\\u00e7\\u00e3o da vari\\u00e1vel MEDV (pre\\u00e7o m\\u00e9dio do im\\u00f3vel)\",\"Distribui\\u00e7\\u00e3o da vari\\u00e1vel MEDV (pre\\u00e7o m\\u00e9dio do im\\u00f3vel)\",\"Distribui\\u00e7\\u00e3o da vari\\u00e1vel MEDV (pre\\u00e7o m\\u00e9dio do im\\u00f3vel)\",\"Distribui\\u00e7\\u00e3o da vari\\u00e1vel MEDV (pre\\u00e7o m\\u00e9dio do im\\u00f3vel)\",\"Distribui\\u00e7\\u00e3o da vari\\u00e1vel MEDV (pre\\u00e7o m\\u00e9dio do im\\u00f3vel)\",\"Distribui\\u00e7\\u00e3o da vari\\u00e1vel MEDV (pre\\u00e7o m\\u00e9dio do im\\u00f3vel)\",\"Distribui\\u00e7\\u00e3o da vari\\u00e1vel MEDV (pre\\u00e7o m\\u00e9dio do im\\u00f3vel)\",\"Distribui\\u00e7\\u00e3o da vari\\u00e1vel MEDV (pre\\u00e7o m\\u00e9dio do im\\u00f3vel)\",\"Distribui\\u00e7\\u00e3o da vari\\u00e1vel MEDV (pre\\u00e7o m\\u00e9dio do im\\u00f3vel)\",\"Distribui\\u00e7\\u00e3o da vari\\u00e1vel MEDV (pre\\u00e7o m\\u00e9dio do im\\u00f3vel)\",\"Distribui\\u00e7\\u00e3o da vari\\u00e1vel MEDV (pre\\u00e7o m\\u00e9dio do im\\u00f3vel)\",\"Distribui\\u00e7\\u00e3o da vari\\u00e1vel MEDV (pre\\u00e7o m\\u00e9dio do im\\u00f3vel)\",\"Distribui\\u00e7\\u00e3o da vari\\u00e1vel MEDV (pre\\u00e7o m\\u00e9dio do im\\u00f3vel)\",\"Distribui\\u00e7\\u00e3o da vari\\u00e1vel MEDV (pre\\u00e7o m\\u00e9dio do im\\u00f3vel)\",\"Distribui\\u00e7\\u00e3o da vari\\u00e1vel MEDV (pre\\u00e7o m\\u00e9dio do im\\u00f3vel)\",\"Distribui\\u00e7\\u00e3o da vari\\u00e1vel MEDV (pre\\u00e7o m\\u00e9dio do im\\u00f3vel)\",\"Distribui\\u00e7\\u00e3o da vari\\u00e1vel MEDV (pre\\u00e7o m\\u00e9dio do im\\u00f3vel)\",\"Distribui\\u00e7\\u00e3o da vari\\u00e1vel MEDV (pre\\u00e7o m\\u00e9dio do im\\u00f3vel)\",\"Distribui\\u00e7\\u00e3o da vari\\u00e1vel MEDV (pre\\u00e7o m\\u00e9dio do im\\u00f3vel)\",\"Distribui\\u00e7\\u00e3o da vari\\u00e1vel MEDV (pre\\u00e7o m\\u00e9dio do im\\u00f3vel)\",\"Distribui\\u00e7\\u00e3o da vari\\u00e1vel MEDV (pre\\u00e7o m\\u00e9dio do im\\u00f3vel)\",\"Distribui\\u00e7\\u00e3o da vari\\u00e1vel MEDV (pre\\u00e7o m\\u00e9dio do im\\u00f3vel)\",\"Distribui\\u00e7\\u00e3o da vari\\u00e1vel MEDV (pre\\u00e7o m\\u00e9dio do im\\u00f3vel)\",\"Distribui\\u00e7\\u00e3o da vari\\u00e1vel MEDV (pre\\u00e7o m\\u00e9dio do im\\u00f3vel)\",\"Distribui\\u00e7\\u00e3o da vari\\u00e1vel MEDV (pre\\u00e7o m\\u00e9dio do im\\u00f3vel)\",\"Distribui\\u00e7\\u00e3o da vari\\u00e1vel MEDV (pre\\u00e7o m\\u00e9dio do im\\u00f3vel)\",\"Distribui\\u00e7\\u00e3o da vari\\u00e1vel MEDV (pre\\u00e7o m\\u00e9dio do im\\u00f3vel)\",\"Distribui\\u00e7\\u00e3o da vari\\u00e1vel MEDV (pre\\u00e7o m\\u00e9dio do im\\u00f3vel)\",\"Distribui\\u00e7\\u00e3o da vari\\u00e1vel MEDV (pre\\u00e7o m\\u00e9dio do im\\u00f3vel)\",\"Distribui\\u00e7\\u00e3o da vari\\u00e1vel MEDV (pre\\u00e7o m\\u00e9dio do im\\u00f3vel)\",\"Distribui\\u00e7\\u00e3o da vari\\u00e1vel MEDV (pre\\u00e7o m\\u00e9dio do im\\u00f3vel)\",\"Distribui\\u00e7\\u00e3o da vari\\u00e1vel MEDV (pre\\u00e7o m\\u00e9dio do im\\u00f3vel)\",\"Distribui\\u00e7\\u00e3o da vari\\u00e1vel MEDV (pre\\u00e7o m\\u00e9dio do im\\u00f3vel)\",\"Distribui\\u00e7\\u00e3o da vari\\u00e1vel MEDV (pre\\u00e7o m\\u00e9dio do im\\u00f3vel)\",\"Distribui\\u00e7\\u00e3o da vari\\u00e1vel MEDV (pre\\u00e7o m\\u00e9dio do im\\u00f3vel)\",\"Distribui\\u00e7\\u00e3o da vari\\u00e1vel MEDV (pre\\u00e7o m\\u00e9dio do im\\u00f3vel)\",\"Distribui\\u00e7\\u00e3o da vari\\u00e1vel MEDV (pre\\u00e7o m\\u00e9dio do im\\u00f3vel)\",\"Distribui\\u00e7\\u00e3o da vari\\u00e1vel MEDV (pre\\u00e7o m\\u00e9dio do im\\u00f3vel)\",\"Distribui\\u00e7\\u00e3o da vari\\u00e1vel MEDV (pre\\u00e7o m\\u00e9dio do im\\u00f3vel)\",\"Distribui\\u00e7\\u00e3o da vari\\u00e1vel MEDV (pre\\u00e7o m\\u00e9dio do im\\u00f3vel)\",\"Distribui\\u00e7\\u00e3o da vari\\u00e1vel MEDV (pre\\u00e7o m\\u00e9dio do im\\u00f3vel)\",\"Distribui\\u00e7\\u00e3o da vari\\u00e1vel MEDV (pre\\u00e7o m\\u00e9dio do im\\u00f3vel)\",\"Distribui\\u00e7\\u00e3o da vari\\u00e1vel MEDV (pre\\u00e7o m\\u00e9dio do im\\u00f3vel)\",\"Distribui\\u00e7\\u00e3o da vari\\u00e1vel MEDV (pre\\u00e7o m\\u00e9dio do im\\u00f3vel)\",\"Distribui\\u00e7\\u00e3o da vari\\u00e1vel MEDV (pre\\u00e7o m\\u00e9dio do im\\u00f3vel)\",\"Distribui\\u00e7\\u00e3o da vari\\u00e1vel MEDV (pre\\u00e7o m\\u00e9dio do im\\u00f3vel)\",\"Distribui\\u00e7\\u00e3o da vari\\u00e1vel MEDV (pre\\u00e7o m\\u00e9dio do im\\u00f3vel)\",\"Distribui\\u00e7\\u00e3o da vari\\u00e1vel MEDV (pre\\u00e7o m\\u00e9dio do im\\u00f3vel)\",\"Distribui\\u00e7\\u00e3o da vari\\u00e1vel MEDV (pre\\u00e7o m\\u00e9dio do im\\u00f3vel)\",\"Distribui\\u00e7\\u00e3o da vari\\u00e1vel MEDV (pre\\u00e7o m\\u00e9dio do im\\u00f3vel)\",\"Distribui\\u00e7\\u00e3o da vari\\u00e1vel MEDV (pre\\u00e7o m\\u00e9dio do im\\u00f3vel)\",\"Distribui\\u00e7\\u00e3o da vari\\u00e1vel MEDV (pre\\u00e7o m\\u00e9dio do im\\u00f3vel)\",\"Distribui\\u00e7\\u00e3o da vari\\u00e1vel MEDV (pre\\u00e7o m\\u00e9dio do im\\u00f3vel)\",\"Distribui\\u00e7\\u00e3o da vari\\u00e1vel MEDV (pre\\u00e7o m\\u00e9dio do im\\u00f3vel)\",\"Distribui\\u00e7\\u00e3o da vari\\u00e1vel MEDV (pre\\u00e7o m\\u00e9dio do im\\u00f3vel)\",\"Distribui\\u00e7\\u00e3o da vari\\u00e1vel MEDV (pre\\u00e7o m\\u00e9dio do im\\u00f3vel)\",\"Distribui\\u00e7\\u00e3o da vari\\u00e1vel MEDV (pre\\u00e7o m\\u00e9dio do im\\u00f3vel)\",\"Distribui\\u00e7\\u00e3o da vari\\u00e1vel MEDV (pre\\u00e7o m\\u00e9dio do im\\u00f3vel)\",\"Distribui\\u00e7\\u00e3o da vari\\u00e1vel MEDV (pre\\u00e7o m\\u00e9dio do im\\u00f3vel)\",\"Distribui\\u00e7\\u00e3o da vari\\u00e1vel MEDV (pre\\u00e7o m\\u00e9dio do im\\u00f3vel)\",\"Distribui\\u00e7\\u00e3o da vari\\u00e1vel MEDV (pre\\u00e7o m\\u00e9dio do im\\u00f3vel)\",\"Distribui\\u00e7\\u00e3o da vari\\u00e1vel MEDV (pre\\u00e7o m\\u00e9dio do im\\u00f3vel)\",\"Distribui\\u00e7\\u00e3o da vari\\u00e1vel MEDV (pre\\u00e7o m\\u00e9dio do im\\u00f3vel)\",\"Distribui\\u00e7\\u00e3o da vari\\u00e1vel MEDV (pre\\u00e7o m\\u00e9dio do im\\u00f3vel)\",\"Distribui\\u00e7\\u00e3o da vari\\u00e1vel MEDV (pre\\u00e7o m\\u00e9dio do im\\u00f3vel)\",\"Distribui\\u00e7\\u00e3o da vari\\u00e1vel MEDV (pre\\u00e7o m\\u00e9dio do im\\u00f3vel)\",\"Distribui\\u00e7\\u00e3o da vari\\u00e1vel MEDV (pre\\u00e7o m\\u00e9dio do im\\u00f3vel)\",\"Distribui\\u00e7\\u00e3o da vari\\u00e1vel MEDV (pre\\u00e7o m\\u00e9dio do im\\u00f3vel)\",\"Distribui\\u00e7\\u00e3o da vari\\u00e1vel MEDV (pre\\u00e7o m\\u00e9dio do im\\u00f3vel)\",\"Distribui\\u00e7\\u00e3o da vari\\u00e1vel MEDV (pre\\u00e7o m\\u00e9dio do im\\u00f3vel)\"],\"yaxis\":\"y2\",\"type\":\"scatter\"}],                        {\"barmode\":\"overlay\",\"hovermode\":\"closest\",\"legend\":{\"traceorder\":\"reversed\"},\"xaxis\":{\"anchor\":\"y2\",\"domain\":[0.0,1.0],\"zeroline\":false},\"yaxis\":{\"anchor\":\"free\",\"domain\":[0.35,1],\"position\":0.0},\"yaxis2\":{\"anchor\":\"x\",\"domain\":[0,0.25],\"dtick\":1,\"showticklabels\":false},\"template\":{\"data\":{\"histogram2dcontour\":[{\"type\":\"histogram2dcontour\",\"colorbar\":{\"outlinewidth\":0,\"ticks\":\"\"},\"colorscale\":[[0.0,\"#0d0887\"],[0.1111111111111111,\"#46039f\"],[0.2222222222222222,\"#7201a8\"],[0.3333333333333333,\"#9c179e\"],[0.4444444444444444,\"#bd3786\"],[0.5555555555555556,\"#d8576b\"],[0.6666666666666666,\"#ed7953\"],[0.7777777777777778,\"#fb9f3a\"],[0.8888888888888888,\"#fdca26\"],[1.0,\"#f0f921\"]]}],\"choropleth\":[{\"type\":\"choropleth\",\"colorbar\":{\"outlinewidth\":0,\"ticks\":\"\"}}],\"histogram2d\":[{\"type\":\"histogram2d\",\"colorbar\":{\"outlinewidth\":0,\"ticks\":\"\"},\"colorscale\":[[0.0,\"#0d0887\"],[0.1111111111111111,\"#46039f\"],[0.2222222222222222,\"#7201a8\"],[0.3333333333333333,\"#9c179e\"],[0.4444444444444444,\"#bd3786\"],[0.5555555555555556,\"#d8576b\"],[0.6666666666666666,\"#ed7953\"],[0.7777777777777778,\"#fb9f3a\"],[0.8888888888888888,\"#fdca26\"],[1.0,\"#f0f921\"]]}],\"heatmap\":[{\"type\":\"heatmap\",\"colorbar\":{\"outlinewidth\":0,\"ticks\":\"\"},\"colorscale\":[[0.0,\"#0d0887\"],[0.1111111111111111,\"#46039f\"],[0.2222222222222222,\"#7201a8\"],[0.3333333333333333,\"#9c179e\"],[0.4444444444444444,\"#bd3786\"],[0.5555555555555556,\"#d8576b\"],[0.6666666666666666,\"#ed7953\"],[0.7777777777777778,\"#fb9f3a\"],[0.8888888888888888,\"#fdca26\"],[1.0,\"#f0f921\"]]}],\"heatmapgl\":[{\"type\":\"heatmapgl\",\"colorbar\":{\"outlinewidth\":0,\"ticks\":\"\"},\"colorscale\":[[0.0,\"#0d0887\"],[0.1111111111111111,\"#46039f\"],[0.2222222222222222,\"#7201a8\"],[0.3333333333333333,\"#9c179e\"],[0.4444444444444444,\"#bd3786\"],[0.5555555555555556,\"#d8576b\"],[0.6666666666666666,\"#ed7953\"],[0.7777777777777778,\"#fb9f3a\"],[0.8888888888888888,\"#fdca26\"],[1.0,\"#f0f921\"]]}],\"contourcarpet\":[{\"type\":\"contourcarpet\",\"colorbar\":{\"outlinewidth\":0,\"ticks\":\"\"}}],\"contour\":[{\"type\":\"contour\",\"colorbar\":{\"outlinewidth\":0,\"ticks\":\"\"},\"colorscale\":[[0.0,\"#0d0887\"],[0.1111111111111111,\"#46039f\"],[0.2222222222222222,\"#7201a8\"],[0.3333333333333333,\"#9c179e\"],[0.4444444444444444,\"#bd3786\"],[0.5555555555555556,\"#d8576b\"],[0.6666666666666666,\"#ed7953\"],[0.7777777777777778,\"#fb9f3a\"],[0.8888888888888888,\"#fdca26\"],[1.0,\"#f0f921\"]]}],\"surface\":[{\"type\":\"surface\",\"colorbar\":{\"outlinewidth\":0,\"ticks\":\"\"},\"colorscale\":[[0.0,\"#0d0887\"],[0.1111111111111111,\"#46039f\"],[0.2222222222222222,\"#7201a8\"],[0.3333333333333333,\"#9c179e\"],[0.4444444444444444,\"#bd3786\"],[0.5555555555555556,\"#d8576b\"],[0.6666666666666666,\"#ed7953\"],[0.7777777777777778,\"#fb9f3a\"],[0.8888888888888888,\"#fdca26\"],[1.0,\"#f0f921\"]]}],\"mesh3d\":[{\"type\":\"mesh3d\",\"colorbar\":{\"outlinewidth\":0,\"ticks\":\"\"}}],\"scatter\":[{\"fillpattern\":{\"fillmode\":\"overlay\",\"size\":10,\"solidity\":0.2},\"type\":\"scatter\"}],\"parcoords\":[{\"type\":\"parcoords\",\"line\":{\"colorbar\":{\"outlinewidth\":0,\"ticks\":\"\"}}}],\"scatterpolargl\":[{\"type\":\"scatterpolargl\",\"marker\":{\"colorbar\":{\"outlinewidth\":0,\"ticks\":\"\"}}}],\"bar\":[{\"error_x\":{\"color\":\"#2a3f5f\"},\"error_y\":{\"color\":\"#2a3f5f\"},\"marker\":{\"line\":{\"color\":\"#E5ECF6\",\"width\":0.5},\"pattern\":{\"fillmode\":\"overlay\",\"size\":10,\"solidity\":0.2}},\"type\":\"bar\"}],\"scattergeo\":[{\"type\":\"scattergeo\",\"marker\":{\"colorbar\":{\"outlinewidth\":0,\"ticks\":\"\"}}}],\"scatterpolar\":[{\"type\":\"scatterpolar\",\"marker\":{\"colorbar\":{\"outlinewidth\":0,\"ticks\":\"\"}}}],\"histogram\":[{\"marker\":{\"pattern\":{\"fillmode\":\"overlay\",\"size\":10,\"solidity\":0.2}},\"type\":\"histogram\"}],\"scattergl\":[{\"type\":\"scattergl\",\"marker\":{\"colorbar\":{\"outlinewidth\":0,\"ticks\":\"\"}}}],\"scatter3d\":[{\"type\":\"scatter3d\",\"line\":{\"colorbar\":{\"outlinewidth\":0,\"ticks\":\"\"}},\"marker\":{\"colorbar\":{\"outlinewidth\":0,\"ticks\":\"\"}}}],\"scattermapbox\":[{\"type\":\"scattermapbox\",\"marker\":{\"colorbar\":{\"outlinewidth\":0,\"ticks\":\"\"}}}],\"scatterternary\":[{\"type\":\"scatterternary\",\"marker\":{\"colorbar\":{\"outlinewidth\":0,\"ticks\":\"\"}}}],\"scattercarpet\":[{\"type\":\"scattercarpet\",\"marker\":{\"colorbar\":{\"outlinewidth\":0,\"ticks\":\"\"}}}],\"carpet\":[{\"aaxis\":{\"endlinecolor\":\"#2a3f5f\",\"gridcolor\":\"white\",\"linecolor\":\"white\",\"minorgridcolor\":\"white\",\"startlinecolor\":\"#2a3f5f\"},\"baxis\":{\"endlinecolor\":\"#2a3f5f\",\"gridcolor\":\"white\",\"linecolor\":\"white\",\"minorgridcolor\":\"white\",\"startlinecolor\":\"#2a3f5f\"},\"type\":\"carpet\"}],\"table\":[{\"cells\":{\"fill\":{\"color\":\"#EBF0F8\"},\"line\":{\"color\":\"white\"}},\"header\":{\"fill\":{\"color\":\"#C8D4E3\"},\"line\":{\"color\":\"white\"}},\"type\":\"table\"}],\"barpolar\":[{\"marker\":{\"line\":{\"color\":\"#E5ECF6\",\"width\":0.5},\"pattern\":{\"fillmode\":\"overlay\",\"size\":10,\"solidity\":0.2}},\"type\":\"barpolar\"}],\"pie\":[{\"automargin\":true,\"type\":\"pie\"}]},\"layout\":{\"autotypenumbers\":\"strict\",\"colorway\":[\"#636efa\",\"#EF553B\",\"#00cc96\",\"#ab63fa\",\"#FFA15A\",\"#19d3f3\",\"#FF6692\",\"#B6E880\",\"#FF97FF\",\"#FECB52\"],\"font\":{\"color\":\"#2a3f5f\"},\"hovermode\":\"closest\",\"hoverlabel\":{\"align\":\"left\"},\"paper_bgcolor\":\"white\",\"plot_bgcolor\":\"#E5ECF6\",\"polar\":{\"bgcolor\":\"#E5ECF6\",\"angularaxis\":{\"gridcolor\":\"white\",\"linecolor\":\"white\",\"ticks\":\"\"},\"radialaxis\":{\"gridcolor\":\"white\",\"linecolor\":\"white\",\"ticks\":\"\"}},\"ternary\":{\"bgcolor\":\"#E5ECF6\",\"aaxis\":{\"gridcolor\":\"white\",\"linecolor\":\"white\",\"ticks\":\"\"},\"baxis\":{\"gridcolor\":\"white\",\"linecolor\":\"white\",\"ticks\":\"\"},\"caxis\":{\"gridcolor\":\"white\",\"linecolor\":\"white\",\"ticks\":\"\"}},\"coloraxis\":{\"colorbar\":{\"outlinewidth\":0,\"ticks\":\"\"}},\"colorscale\":{\"sequential\":[[0.0,\"#0d0887\"],[0.1111111111111111,\"#46039f\"],[0.2222222222222222,\"#7201a8\"],[0.3333333333333333,\"#9c179e\"],[0.4444444444444444,\"#bd3786\"],[0.5555555555555556,\"#d8576b\"],[0.6666666666666666,\"#ed7953\"],[0.7777777777777778,\"#fb9f3a\"],[0.8888888888888888,\"#fdca26\"],[1.0,\"#f0f921\"]],\"sequentialminus\":[[0.0,\"#0d0887\"],[0.1111111111111111,\"#46039f\"],[0.2222222222222222,\"#7201a8\"],[0.3333333333333333,\"#9c179e\"],[0.4444444444444444,\"#bd3786\"],[0.5555555555555556,\"#d8576b\"],[0.6666666666666666,\"#ed7953\"],[0.7777777777777778,\"#fb9f3a\"],[0.8888888888888888,\"#fdca26\"],[1.0,\"#f0f921\"]],\"diverging\":[[0,\"#8e0152\"],[0.1,\"#c51b7d\"],[0.2,\"#de77ae\"],[0.3,\"#f1b6da\"],[0.4,\"#fde0ef\"],[0.5,\"#f7f7f7\"],[0.6,\"#e6f5d0\"],[0.7,\"#b8e186\"],[0.8,\"#7fbc41\"],[0.9,\"#4d9221\"],[1,\"#276419\"]]},\"xaxis\":{\"gridcolor\":\"white\",\"linecolor\":\"white\",\"ticks\":\"\",\"title\":{\"standoff\":15},\"zerolinecolor\":\"white\",\"automargin\":true,\"zerolinewidth\":2},\"yaxis\":{\"gridcolor\":\"white\",\"linecolor\":\"white\",\"ticks\":\"\",\"title\":{\"standoff\":15},\"zerolinecolor\":\"white\",\"automargin\":true,\"zerolinewidth\":2},\"scene\":{\"xaxis\":{\"backgroundcolor\":\"#E5ECF6\",\"gridcolor\":\"white\",\"linecolor\":\"white\",\"showbackground\":true,\"ticks\":\"\",\"zerolinecolor\":\"white\",\"gridwidth\":2},\"yaxis\":{\"backgroundcolor\":\"#E5ECF6\",\"gridcolor\":\"white\",\"linecolor\":\"white\",\"showbackground\":true,\"ticks\":\"\",\"zerolinecolor\":\"white\",\"gridwidth\":2},\"zaxis\":{\"backgroundcolor\":\"#E5ECF6\",\"gridcolor\":\"white\",\"linecolor\":\"white\",\"showbackground\":true,\"ticks\":\"\",\"zerolinecolor\":\"white\",\"gridwidth\":2}},\"shapedefaults\":{\"line\":{\"color\":\"#2a3f5f\"}},\"annotationdefaults\":{\"arrowcolor\":\"#2a3f5f\",\"arrowhead\":0,\"arrowwidth\":1},\"geo\":{\"bgcolor\":\"white\",\"landcolor\":\"#E5ECF6\",\"subunitcolor\":\"white\",\"showland\":true,\"showlakes\":true,\"lakecolor\":\"white\"},\"title\":{\"x\":0.05},\"mapbox\":{\"style\":\"light\"}}}},                        {\"responsive\": true}                    ).then(function(){\n",
              "                            \n",
              "var gd = document.getElementById('4bbc86a8-8ca0-4f6d-aa75-2085ef0df4b6');\n",
              "var x = new MutationObserver(function (mutations, observer) {{\n",
              "        var display = window.getComputedStyle(gd).display;\n",
              "        if (!display || display === 'none') {{\n",
              "            console.log([gd, 'removed!']);\n",
              "            Plotly.purge(gd);\n",
              "            observer.disconnect();\n",
              "        }}\n",
              "}});\n",
              "\n",
              "// Listen for the removal of the full notebook cells\n",
              "var notebookContainer = gd.closest('#notebook-container');\n",
              "if (notebookContainer) {{\n",
              "    x.observe(notebookContainer, {childList: true});\n",
              "}}\n",
              "\n",
              "// Listen for the clearing of the current output cell\n",
              "var outputEl = gd.closest('.output');\n",
              "if (outputEl) {{\n",
              "    x.observe(outputEl, {childList: true});\n",
              "}}\n",
              "\n",
              "                        })                };                            </script>        </div>\n",
              "</body>\n",
              "</html>"
            ]
          },
          "metadata": {}
        }
      ]
    },
    {
      "cell_type": "code",
      "source": [
        "# Carrega o método stats da scipy\n",
        "from scipy import stats"
      ],
      "metadata": {
        "id": "8Ol38_WOYkTg"
      },
      "execution_count": null,
      "outputs": []
    },
    {
      "cell_type": "code",
      "source": [
        "# imprime o coeficiente de pearson\n",
        "stats.skew(data.MEDV)"
      ],
      "metadata": {
        "colab": {
          "base_uri": "https://localhost:8080/"
        },
        "id": "_lvm61VLYrRG",
        "outputId": "c07b30a3-2822-40e1-caa1-e8968c0044f7"
      },
      "execution_count": null,
      "outputs": [
        {
          "output_type": "execute_result",
          "data": {
            "text/plain": [
              "1.1076159177373188"
            ]
          },
          "metadata": {},
          "execution_count": 17
        }
      ]
    },
    {
      "cell_type": "markdown",
      "source": [
        "#Coeficiente de Pearson\n",
        "- Valor entre -1 e 1 - distribuição simétrica\n",
        "- Valor maior que 1 - distribuição assimétrica positiva\n",
        "- Valor menor que -1 - distribuição assimétrica negativa"
      ],
      "metadata": {
        "id": "PWZHGiTyY1NQ"
      }
    },
    {
      "cell_type": "code",
      "source": [
        "# Histogram da variável MEDV (Variavel alvo)\n",
        "fig = px.histogram(data, x=\"MEDV\", nbins=50, opacity=0.50)\n",
        "fig.show()"
      ],
      "metadata": {
        "colab": {
          "base_uri": "https://localhost:8080/",
          "height": 542
        },
        "id": "IcwlqOJqZYIf",
        "outputId": "4fbf569e-2239-4ab0-a760-52aa1eded219"
      },
      "execution_count": null,
      "outputs": [
        {
          "output_type": "display_data",
          "data": {
            "text/html": [
              "<html>\n",
              "<head><meta charset=\"utf-8\" /></head>\n",
              "<body>\n",
              "    <div>            <script src=\"https://cdnjs.cloudflare.com/ajax/libs/mathjax/2.7.5/MathJax.js?config=TeX-AMS-MML_SVG\"></script><script type=\"text/javascript\">if (window.MathJax && window.MathJax.Hub && window.MathJax.Hub.Config) {window.MathJax.Hub.Config({SVG: {font: \"STIX-Web\"}});}</script>                <script type=\"text/javascript\">window.PlotlyConfig = {MathJaxConfig: 'local'};</script>\n",
              "        <script src=\"https://cdn.plot.ly/plotly-2.18.2.min.js\"></script>                <div id=\"e4b7fc18-bb37-4556-bdd8-869d4dc05441\" class=\"plotly-graph-div\" style=\"height:525px; width:100%;\"></div>            <script type=\"text/javascript\">                                    window.PLOTLYENV=window.PLOTLYENV || {};                                    if (document.getElementById(\"e4b7fc18-bb37-4556-bdd8-869d4dc05441\")) {                    Plotly.newPlot(                        \"e4b7fc18-bb37-4556-bdd8-869d4dc05441\",                        [{\"alignmentgroup\":\"True\",\"bingroup\":\"x\",\"hovertemplate\":\"MEDV=%{x}<br>count=%{y}<extra></extra>\",\"legendgroup\":\"\",\"marker\":{\"color\":\"#636efa\",\"opacity\":0.5,\"pattern\":{\"shape\":\"\"}},\"name\":\"\",\"nbinsx\":50,\"offsetgroup\":\"\",\"orientation\":\"v\",\"showlegend\":false,\"x\":[24.0,21.6,34.7,33.4,36.2,28.7,22.9,22.1,16.5,18.9,15.0,18.9,21.7,20.4,18.2,19.9,23.1,17.5,20.2,18.2,13.6,19.6,15.2,14.5,15.6,13.9,16.6,14.8,18.4,21.0,12.7,14.5,13.2,13.1,13.5,18.9,20.0,21.0,24.2,30.8,34.9,26.6,25.3,24.7,21.2,19.3,20.0,16.6,14.4,19.4,19.7,20.5,25.0,23.4,18.9,35.4,24.7,31.6,23.3,19.6,18.7,16.0,22.2,25.0,33.0,23.5,19.4,22.0,17.4,20.9,24.2,21.7,22.8,23.4,24.1,21.4,20.0,20.8,21.2,20.3,28.0,23.9,24.8,22.9,23.9,26.6,22.5,22.2,23.6,28.7,22.6,22.0,22.9,25.0,20.6,28.4,21.4,38.7,43.8,33.2,27.5,26.5,18.6,19.3,20.1,19.5,19.5,20.4,19.8,19.4,21.7,22.8,18.8,18.7,18.5,18.3,21.2,19.2,20.4,19.3,22.0,20.3,20.5,17.3,18.8,21.4,15.7,16.2,18.0,14.3,19.2,19.6,23.0,18.4,15.6,18.1,17.4,17.1,13.3,17.8,14.0,14.4,13.4,15.6,11.8,13.8,15.6,14.6,17.8,15.4,21.5,19.6,15.3,19.4,17.0,15.6,13.1,41.3,24.3,23.3,27.0,50.0,50.0,50.0,22.7,25.0,50.0,23.8,23.8,22.3,17.4,19.1,23.1,23.6,22.6,29.4,23.2,24.6,29.9,37.2,39.8,36.2,37.9,32.5,26.4,29.6,50.0,32.0,29.8,34.9,33.0,30.5,36.4,31.1,29.1,50.0,33.3,30.3,34.6,34.9,32.9,24.1,42.3,48.5,50.0,22.6,24.4,22.5,24.4,20.0,21.7,19.3,22.4,28.1,23.7,25.0,23.3,28.7,21.5,23.0,26.7,21.7,27.5,30.1,44.8,50.0,37.6,31.6,46.7,31.5,24.3,31.7,41.7,48.3,29.0,24.0,25.1,31.5,23.7,23.3,27.0,20.1,22.2,23.7,17.6,18.5,24.3,20.5,24.5,26.2,24.4,24.8,29.6,42.8,21.9,20.9,44.0,50.0,36.0,30.1,33.8,43.1,48.8,31.0,36.5,22.8,30.7,50.0,43.5,20.7,21.1,25.2,24.4,35.2,32.4,32.0,33.2,33.1,29.1,35.1,45.4,35.4,46.0,50.0,32.2,22.0,20.1,23.2,22.3,24.8,28.5,37.3,27.9,23.9,21.7,28.6,27.1,20.3,22.5,29.0,24.8,22.0,26.4,33.1,36.1,28.4,33.4,28.2,22.8,20.3,16.1,22.1,19.4,21.6,23.8,16.2,17.8,19.8,23.1,21.0,23.8,23.1,20.4,18.5,25.0,24.6,23.0,22.2,19.3,22.6,19.8,17.1,19.4,22.2,20.7,21.1,19.5,18.5,20.6,19.0,18.7,32.7,16.5,23.9,31.2,17.5,17.2,23.1,24.5,26.6,22.9,24.1,18.6,30.1,18.2,20.6,17.8,21.7,22.7,22.6,25.0,19.9,20.8,16.8,21.9,27.5,21.9,23.1,50.0,50.0,50.0,50.0,50.0,13.8,13.8,15.0,13.9,13.3,13.1,10.2,10.4,10.9,11.3,12.3,8.8,7.2,10.5,7.4,10.2,11.5,15.1,23.2,9.7,13.8,12.7,13.1,12.5,8.5,5.0,6.3,5.6,7.2,12.1,8.3,8.5,5.0,11.9,27.9,17.2,27.5,15.0,17.2,17.9,16.3,7.0,7.2,7.5,10.4,8.8,8.4,16.7,14.2,20.8,13.4,11.7,8.3,10.2,10.9,11.0,9.5,14.5,14.1,16.1,14.3,11.7,13.4,9.6,8.2,8.4,12.8,10.5,17.1,14.8,15.4,10.8,11.8,14.9,12.6,14.1,13.0,13.4,15.2,16.1,17.8,14.4,14.1,12.7,13.5,14.9,20.0,16.4,17.7,19.5,20.2,21.4,19.9,19.0,19.1,19.1,20.1,19.9,19.6,23.2,29.8,13.8,13.3,16.7,12.0,14.6,21.4,23.0,23.7,25.0,21.8,20.6,21.2,19.1,20.6,15.2,7.0,8.1,13.6,20.1,21.8,24.5,23.1,19.7,18.3,21.2,17.5,16.8,22.4,20.6,23.9,22.0,19.0],\"xaxis\":\"x\",\"yaxis\":\"y\",\"type\":\"histogram\"}],                        {\"template\":{\"data\":{\"histogram2dcontour\":[{\"type\":\"histogram2dcontour\",\"colorbar\":{\"outlinewidth\":0,\"ticks\":\"\"},\"colorscale\":[[0.0,\"#0d0887\"],[0.1111111111111111,\"#46039f\"],[0.2222222222222222,\"#7201a8\"],[0.3333333333333333,\"#9c179e\"],[0.4444444444444444,\"#bd3786\"],[0.5555555555555556,\"#d8576b\"],[0.6666666666666666,\"#ed7953\"],[0.7777777777777778,\"#fb9f3a\"],[0.8888888888888888,\"#fdca26\"],[1.0,\"#f0f921\"]]}],\"choropleth\":[{\"type\":\"choropleth\",\"colorbar\":{\"outlinewidth\":0,\"ticks\":\"\"}}],\"histogram2d\":[{\"type\":\"histogram2d\",\"colorbar\":{\"outlinewidth\":0,\"ticks\":\"\"},\"colorscale\":[[0.0,\"#0d0887\"],[0.1111111111111111,\"#46039f\"],[0.2222222222222222,\"#7201a8\"],[0.3333333333333333,\"#9c179e\"],[0.4444444444444444,\"#bd3786\"],[0.5555555555555556,\"#d8576b\"],[0.6666666666666666,\"#ed7953\"],[0.7777777777777778,\"#fb9f3a\"],[0.8888888888888888,\"#fdca26\"],[1.0,\"#f0f921\"]]}],\"heatmap\":[{\"type\":\"heatmap\",\"colorbar\":{\"outlinewidth\":0,\"ticks\":\"\"},\"colorscale\":[[0.0,\"#0d0887\"],[0.1111111111111111,\"#46039f\"],[0.2222222222222222,\"#7201a8\"],[0.3333333333333333,\"#9c179e\"],[0.4444444444444444,\"#bd3786\"],[0.5555555555555556,\"#d8576b\"],[0.6666666666666666,\"#ed7953\"],[0.7777777777777778,\"#fb9f3a\"],[0.8888888888888888,\"#fdca26\"],[1.0,\"#f0f921\"]]}],\"heatmapgl\":[{\"type\":\"heatmapgl\",\"colorbar\":{\"outlinewidth\":0,\"ticks\":\"\"},\"colorscale\":[[0.0,\"#0d0887\"],[0.1111111111111111,\"#46039f\"],[0.2222222222222222,\"#7201a8\"],[0.3333333333333333,\"#9c179e\"],[0.4444444444444444,\"#bd3786\"],[0.5555555555555556,\"#d8576b\"],[0.6666666666666666,\"#ed7953\"],[0.7777777777777778,\"#fb9f3a\"],[0.8888888888888888,\"#fdca26\"],[1.0,\"#f0f921\"]]}],\"contourcarpet\":[{\"type\":\"contourcarpet\",\"colorbar\":{\"outlinewidth\":0,\"ticks\":\"\"}}],\"contour\":[{\"type\":\"contour\",\"colorbar\":{\"outlinewidth\":0,\"ticks\":\"\"},\"colorscale\":[[0.0,\"#0d0887\"],[0.1111111111111111,\"#46039f\"],[0.2222222222222222,\"#7201a8\"],[0.3333333333333333,\"#9c179e\"],[0.4444444444444444,\"#bd3786\"],[0.5555555555555556,\"#d8576b\"],[0.6666666666666666,\"#ed7953\"],[0.7777777777777778,\"#fb9f3a\"],[0.8888888888888888,\"#fdca26\"],[1.0,\"#f0f921\"]]}],\"surface\":[{\"type\":\"surface\",\"colorbar\":{\"outlinewidth\":0,\"ticks\":\"\"},\"colorscale\":[[0.0,\"#0d0887\"],[0.1111111111111111,\"#46039f\"],[0.2222222222222222,\"#7201a8\"],[0.3333333333333333,\"#9c179e\"],[0.4444444444444444,\"#bd3786\"],[0.5555555555555556,\"#d8576b\"],[0.6666666666666666,\"#ed7953\"],[0.7777777777777778,\"#fb9f3a\"],[0.8888888888888888,\"#fdca26\"],[1.0,\"#f0f921\"]]}],\"mesh3d\":[{\"type\":\"mesh3d\",\"colorbar\":{\"outlinewidth\":0,\"ticks\":\"\"}}],\"scatter\":[{\"fillpattern\":{\"fillmode\":\"overlay\",\"size\":10,\"solidity\":0.2},\"type\":\"scatter\"}],\"parcoords\":[{\"type\":\"parcoords\",\"line\":{\"colorbar\":{\"outlinewidth\":0,\"ticks\":\"\"}}}],\"scatterpolargl\":[{\"type\":\"scatterpolargl\",\"marker\":{\"colorbar\":{\"outlinewidth\":0,\"ticks\":\"\"}}}],\"bar\":[{\"error_x\":{\"color\":\"#2a3f5f\"},\"error_y\":{\"color\":\"#2a3f5f\"},\"marker\":{\"line\":{\"color\":\"#E5ECF6\",\"width\":0.5},\"pattern\":{\"fillmode\":\"overlay\",\"size\":10,\"solidity\":0.2}},\"type\":\"bar\"}],\"scattergeo\":[{\"type\":\"scattergeo\",\"marker\":{\"colorbar\":{\"outlinewidth\":0,\"ticks\":\"\"}}}],\"scatterpolar\":[{\"type\":\"scatterpolar\",\"marker\":{\"colorbar\":{\"outlinewidth\":0,\"ticks\":\"\"}}}],\"histogram\":[{\"marker\":{\"pattern\":{\"fillmode\":\"overlay\",\"size\":10,\"solidity\":0.2}},\"type\":\"histogram\"}],\"scattergl\":[{\"type\":\"scattergl\",\"marker\":{\"colorbar\":{\"outlinewidth\":0,\"ticks\":\"\"}}}],\"scatter3d\":[{\"type\":\"scatter3d\",\"line\":{\"colorbar\":{\"outlinewidth\":0,\"ticks\":\"\"}},\"marker\":{\"colorbar\":{\"outlinewidth\":0,\"ticks\":\"\"}}}],\"scattermapbox\":[{\"type\":\"scattermapbox\",\"marker\":{\"colorbar\":{\"outlinewidth\":0,\"ticks\":\"\"}}}],\"scatterternary\":[{\"type\":\"scatterternary\",\"marker\":{\"colorbar\":{\"outlinewidth\":0,\"ticks\":\"\"}}}],\"scattercarpet\":[{\"type\":\"scattercarpet\",\"marker\":{\"colorbar\":{\"outlinewidth\":0,\"ticks\":\"\"}}}],\"carpet\":[{\"aaxis\":{\"endlinecolor\":\"#2a3f5f\",\"gridcolor\":\"white\",\"linecolor\":\"white\",\"minorgridcolor\":\"white\",\"startlinecolor\":\"#2a3f5f\"},\"baxis\":{\"endlinecolor\":\"#2a3f5f\",\"gridcolor\":\"white\",\"linecolor\":\"white\",\"minorgridcolor\":\"white\",\"startlinecolor\":\"#2a3f5f\"},\"type\":\"carpet\"}],\"table\":[{\"cells\":{\"fill\":{\"color\":\"#EBF0F8\"},\"line\":{\"color\":\"white\"}},\"header\":{\"fill\":{\"color\":\"#C8D4E3\"},\"line\":{\"color\":\"white\"}},\"type\":\"table\"}],\"barpolar\":[{\"marker\":{\"line\":{\"color\":\"#E5ECF6\",\"width\":0.5},\"pattern\":{\"fillmode\":\"overlay\",\"size\":10,\"solidity\":0.2}},\"type\":\"barpolar\"}],\"pie\":[{\"automargin\":true,\"type\":\"pie\"}]},\"layout\":{\"autotypenumbers\":\"strict\",\"colorway\":[\"#636efa\",\"#EF553B\",\"#00cc96\",\"#ab63fa\",\"#FFA15A\",\"#19d3f3\",\"#FF6692\",\"#B6E880\",\"#FF97FF\",\"#FECB52\"],\"font\":{\"color\":\"#2a3f5f\"},\"hovermode\":\"closest\",\"hoverlabel\":{\"align\":\"left\"},\"paper_bgcolor\":\"white\",\"plot_bgcolor\":\"#E5ECF6\",\"polar\":{\"bgcolor\":\"#E5ECF6\",\"angularaxis\":{\"gridcolor\":\"white\",\"linecolor\":\"white\",\"ticks\":\"\"},\"radialaxis\":{\"gridcolor\":\"white\",\"linecolor\":\"white\",\"ticks\":\"\"}},\"ternary\":{\"bgcolor\":\"#E5ECF6\",\"aaxis\":{\"gridcolor\":\"white\",\"linecolor\":\"white\",\"ticks\":\"\"},\"baxis\":{\"gridcolor\":\"white\",\"linecolor\":\"white\",\"ticks\":\"\"},\"caxis\":{\"gridcolor\":\"white\",\"linecolor\":\"white\",\"ticks\":\"\"}},\"coloraxis\":{\"colorbar\":{\"outlinewidth\":0,\"ticks\":\"\"}},\"colorscale\":{\"sequential\":[[0.0,\"#0d0887\"],[0.1111111111111111,\"#46039f\"],[0.2222222222222222,\"#7201a8\"],[0.3333333333333333,\"#9c179e\"],[0.4444444444444444,\"#bd3786\"],[0.5555555555555556,\"#d8576b\"],[0.6666666666666666,\"#ed7953\"],[0.7777777777777778,\"#fb9f3a\"],[0.8888888888888888,\"#fdca26\"],[1.0,\"#f0f921\"]],\"sequentialminus\":[[0.0,\"#0d0887\"],[0.1111111111111111,\"#46039f\"],[0.2222222222222222,\"#7201a8\"],[0.3333333333333333,\"#9c179e\"],[0.4444444444444444,\"#bd3786\"],[0.5555555555555556,\"#d8576b\"],[0.6666666666666666,\"#ed7953\"],[0.7777777777777778,\"#fb9f3a\"],[0.8888888888888888,\"#fdca26\"],[1.0,\"#f0f921\"]],\"diverging\":[[0,\"#8e0152\"],[0.1,\"#c51b7d\"],[0.2,\"#de77ae\"],[0.3,\"#f1b6da\"],[0.4,\"#fde0ef\"],[0.5,\"#f7f7f7\"],[0.6,\"#e6f5d0\"],[0.7,\"#b8e186\"],[0.8,\"#7fbc41\"],[0.9,\"#4d9221\"],[1,\"#276419\"]]},\"xaxis\":{\"gridcolor\":\"white\",\"linecolor\":\"white\",\"ticks\":\"\",\"title\":{\"standoff\":15},\"zerolinecolor\":\"white\",\"automargin\":true,\"zerolinewidth\":2},\"yaxis\":{\"gridcolor\":\"white\",\"linecolor\":\"white\",\"ticks\":\"\",\"title\":{\"standoff\":15},\"zerolinecolor\":\"white\",\"automargin\":true,\"zerolinewidth\":2},\"scene\":{\"xaxis\":{\"backgroundcolor\":\"#E5ECF6\",\"gridcolor\":\"white\",\"linecolor\":\"white\",\"showbackground\":true,\"ticks\":\"\",\"zerolinecolor\":\"white\",\"gridwidth\":2},\"yaxis\":{\"backgroundcolor\":\"#E5ECF6\",\"gridcolor\":\"white\",\"linecolor\":\"white\",\"showbackground\":true,\"ticks\":\"\",\"zerolinecolor\":\"white\",\"gridwidth\":2},\"zaxis\":{\"backgroundcolor\":\"#E5ECF6\",\"gridcolor\":\"white\",\"linecolor\":\"white\",\"showbackground\":true,\"ticks\":\"\",\"zerolinecolor\":\"white\",\"gridwidth\":2}},\"shapedefaults\":{\"line\":{\"color\":\"#2a3f5f\"}},\"annotationdefaults\":{\"arrowcolor\":\"#2a3f5f\",\"arrowhead\":0,\"arrowwidth\":1},\"geo\":{\"bgcolor\":\"white\",\"landcolor\":\"#E5ECF6\",\"subunitcolor\":\"white\",\"showland\":true,\"showlakes\":true,\"lakecolor\":\"white\"},\"title\":{\"x\":0.05},\"mapbox\":{\"style\":\"light\"}}},\"xaxis\":{\"anchor\":\"y\",\"domain\":[0.0,1.0],\"title\":{\"text\":\"MEDV\"}},\"yaxis\":{\"anchor\":\"x\",\"domain\":[0.0,1.0],\"title\":{\"text\":\"count\"}},\"legend\":{\"tracegroupgap\":0},\"margin\":{\"t\":60},\"barmode\":\"relative\"},                        {\"responsive\": true}                    ).then(function(){\n",
              "                            \n",
              "var gd = document.getElementById('e4b7fc18-bb37-4556-bdd8-869d4dc05441');\n",
              "var x = new MutationObserver(function (mutations, observer) {{\n",
              "        var display = window.getComputedStyle(gd).display;\n",
              "        if (!display || display === 'none') {{\n",
              "            console.log([gd, 'removed!']);\n",
              "            Plotly.purge(gd);\n",
              "            observer.disconnect();\n",
              "        }}\n",
              "}});\n",
              "\n",
              "// Listen for the removal of the full notebook cells\n",
              "var notebookContainer = gd.closest('#notebook-container');\n",
              "if (notebookContainer) {{\n",
              "    x.observe(notebookContainer, {childList: true});\n",
              "}}\n",
              "\n",
              "// Listen for the clearing of the current output cell\n",
              "var outputEl = gd.closest('.output');\n",
              "if (outputEl) {{\n",
              "    x.observe(outputEl, {childList: true});\n",
              "}}\n",
              "\n",
              "                        })                };                            </script>        </div>\n",
              "</body>\n",
              "</html>"
            ]
          },
          "metadata": {}
        }
      ]
    },
    {
      "cell_type": "code",
      "source": [
        "# Visualizando outliners na variável MEDV\n",
        "fig = px.box(data, y='MEDV')\n",
        "fig.update_layout(width=800,height=800)\n",
        "fig.show()"
      ],
      "metadata": {
        "colab": {
          "base_uri": "https://localhost:8080/",
          "height": 817
        },
        "id": "osyxT7DnaKJW",
        "outputId": "876ea29d-1225-4ffe-f534-93ee5d3f9058"
      },
      "execution_count": null,
      "outputs": [
        {
          "output_type": "display_data",
          "data": {
            "text/html": [
              "<html>\n",
              "<head><meta charset=\"utf-8\" /></head>\n",
              "<body>\n",
              "    <div>            <script src=\"https://cdnjs.cloudflare.com/ajax/libs/mathjax/2.7.5/MathJax.js?config=TeX-AMS-MML_SVG\"></script><script type=\"text/javascript\">if (window.MathJax && window.MathJax.Hub && window.MathJax.Hub.Config) {window.MathJax.Hub.Config({SVG: {font: \"STIX-Web\"}});}</script>                <script type=\"text/javascript\">window.PlotlyConfig = {MathJaxConfig: 'local'};</script>\n",
              "        <script src=\"https://cdn.plot.ly/plotly-2.18.2.min.js\"></script>                <div id=\"3c04e018-3215-4f43-8f57-6067eb86be2d\" class=\"plotly-graph-div\" style=\"height:800px; width:800px;\"></div>            <script type=\"text/javascript\">                                    window.PLOTLYENV=window.PLOTLYENV || {};                                    if (document.getElementById(\"3c04e018-3215-4f43-8f57-6067eb86be2d\")) {                    Plotly.newPlot(                        \"3c04e018-3215-4f43-8f57-6067eb86be2d\",                        [{\"alignmentgroup\":\"True\",\"hovertemplate\":\"MEDV=%{y}<extra></extra>\",\"legendgroup\":\"\",\"marker\":{\"color\":\"#636efa\"},\"name\":\"\",\"notched\":false,\"offsetgroup\":\"\",\"orientation\":\"v\",\"showlegend\":false,\"x0\":\" \",\"xaxis\":\"x\",\"y\":[24.0,21.6,34.7,33.4,36.2,28.7,22.9,22.1,16.5,18.9,15.0,18.9,21.7,20.4,18.2,19.9,23.1,17.5,20.2,18.2,13.6,19.6,15.2,14.5,15.6,13.9,16.6,14.8,18.4,21.0,12.7,14.5,13.2,13.1,13.5,18.9,20.0,21.0,24.2,30.8,34.9,26.6,25.3,24.7,21.2,19.3,20.0,16.6,14.4,19.4,19.7,20.5,25.0,23.4,18.9,35.4,24.7,31.6,23.3,19.6,18.7,16.0,22.2,25.0,33.0,23.5,19.4,22.0,17.4,20.9,24.2,21.7,22.8,23.4,24.1,21.4,20.0,20.8,21.2,20.3,28.0,23.9,24.8,22.9,23.9,26.6,22.5,22.2,23.6,28.7,22.6,22.0,22.9,25.0,20.6,28.4,21.4,38.7,43.8,33.2,27.5,26.5,18.6,19.3,20.1,19.5,19.5,20.4,19.8,19.4,21.7,22.8,18.8,18.7,18.5,18.3,21.2,19.2,20.4,19.3,22.0,20.3,20.5,17.3,18.8,21.4,15.7,16.2,18.0,14.3,19.2,19.6,23.0,18.4,15.6,18.1,17.4,17.1,13.3,17.8,14.0,14.4,13.4,15.6,11.8,13.8,15.6,14.6,17.8,15.4,21.5,19.6,15.3,19.4,17.0,15.6,13.1,41.3,24.3,23.3,27.0,50.0,50.0,50.0,22.7,25.0,50.0,23.8,23.8,22.3,17.4,19.1,23.1,23.6,22.6,29.4,23.2,24.6,29.9,37.2,39.8,36.2,37.9,32.5,26.4,29.6,50.0,32.0,29.8,34.9,33.0,30.5,36.4,31.1,29.1,50.0,33.3,30.3,34.6,34.9,32.9,24.1,42.3,48.5,50.0,22.6,24.4,22.5,24.4,20.0,21.7,19.3,22.4,28.1,23.7,25.0,23.3,28.7,21.5,23.0,26.7,21.7,27.5,30.1,44.8,50.0,37.6,31.6,46.7,31.5,24.3,31.7,41.7,48.3,29.0,24.0,25.1,31.5,23.7,23.3,27.0,20.1,22.2,23.7,17.6,18.5,24.3,20.5,24.5,26.2,24.4,24.8,29.6,42.8,21.9,20.9,44.0,50.0,36.0,30.1,33.8,43.1,48.8,31.0,36.5,22.8,30.7,50.0,43.5,20.7,21.1,25.2,24.4,35.2,32.4,32.0,33.2,33.1,29.1,35.1,45.4,35.4,46.0,50.0,32.2,22.0,20.1,23.2,22.3,24.8,28.5,37.3,27.9,23.9,21.7,28.6,27.1,20.3,22.5,29.0,24.8,22.0,26.4,33.1,36.1,28.4,33.4,28.2,22.8,20.3,16.1,22.1,19.4,21.6,23.8,16.2,17.8,19.8,23.1,21.0,23.8,23.1,20.4,18.5,25.0,24.6,23.0,22.2,19.3,22.6,19.8,17.1,19.4,22.2,20.7,21.1,19.5,18.5,20.6,19.0,18.7,32.7,16.5,23.9,31.2,17.5,17.2,23.1,24.5,26.6,22.9,24.1,18.6,30.1,18.2,20.6,17.8,21.7,22.7,22.6,25.0,19.9,20.8,16.8,21.9,27.5,21.9,23.1,50.0,50.0,50.0,50.0,50.0,13.8,13.8,15.0,13.9,13.3,13.1,10.2,10.4,10.9,11.3,12.3,8.8,7.2,10.5,7.4,10.2,11.5,15.1,23.2,9.7,13.8,12.7,13.1,12.5,8.5,5.0,6.3,5.6,7.2,12.1,8.3,8.5,5.0,11.9,27.9,17.2,27.5,15.0,17.2,17.9,16.3,7.0,7.2,7.5,10.4,8.8,8.4,16.7,14.2,20.8,13.4,11.7,8.3,10.2,10.9,11.0,9.5,14.5,14.1,16.1,14.3,11.7,13.4,9.6,8.2,8.4,12.8,10.5,17.1,14.8,15.4,10.8,11.8,14.9,12.6,14.1,13.0,13.4,15.2,16.1,17.8,14.4,14.1,12.7,13.5,14.9,20.0,16.4,17.7,19.5,20.2,21.4,19.9,19.0,19.1,19.1,20.1,19.9,19.6,23.2,29.8,13.8,13.3,16.7,12.0,14.6,21.4,23.0,23.7,25.0,21.8,20.6,21.2,19.1,20.6,15.2,7.0,8.1,13.6,20.1,21.8,24.5,23.1,19.7,18.3,21.2,17.5,16.8,22.4,20.6,23.9,22.0,19.0],\"y0\":\" \",\"yaxis\":\"y\",\"type\":\"box\"}],                        {\"template\":{\"data\":{\"histogram2dcontour\":[{\"type\":\"histogram2dcontour\",\"colorbar\":{\"outlinewidth\":0,\"ticks\":\"\"},\"colorscale\":[[0.0,\"#0d0887\"],[0.1111111111111111,\"#46039f\"],[0.2222222222222222,\"#7201a8\"],[0.3333333333333333,\"#9c179e\"],[0.4444444444444444,\"#bd3786\"],[0.5555555555555556,\"#d8576b\"],[0.6666666666666666,\"#ed7953\"],[0.7777777777777778,\"#fb9f3a\"],[0.8888888888888888,\"#fdca26\"],[1.0,\"#f0f921\"]]}],\"choropleth\":[{\"type\":\"choropleth\",\"colorbar\":{\"outlinewidth\":0,\"ticks\":\"\"}}],\"histogram2d\":[{\"type\":\"histogram2d\",\"colorbar\":{\"outlinewidth\":0,\"ticks\":\"\"},\"colorscale\":[[0.0,\"#0d0887\"],[0.1111111111111111,\"#46039f\"],[0.2222222222222222,\"#7201a8\"],[0.3333333333333333,\"#9c179e\"],[0.4444444444444444,\"#bd3786\"],[0.5555555555555556,\"#d8576b\"],[0.6666666666666666,\"#ed7953\"],[0.7777777777777778,\"#fb9f3a\"],[0.8888888888888888,\"#fdca26\"],[1.0,\"#f0f921\"]]}],\"heatmap\":[{\"type\":\"heatmap\",\"colorbar\":{\"outlinewidth\":0,\"ticks\":\"\"},\"colorscale\":[[0.0,\"#0d0887\"],[0.1111111111111111,\"#46039f\"],[0.2222222222222222,\"#7201a8\"],[0.3333333333333333,\"#9c179e\"],[0.4444444444444444,\"#bd3786\"],[0.5555555555555556,\"#d8576b\"],[0.6666666666666666,\"#ed7953\"],[0.7777777777777778,\"#fb9f3a\"],[0.8888888888888888,\"#fdca26\"],[1.0,\"#f0f921\"]]}],\"heatmapgl\":[{\"type\":\"heatmapgl\",\"colorbar\":{\"outlinewidth\":0,\"ticks\":\"\"},\"colorscale\":[[0.0,\"#0d0887\"],[0.1111111111111111,\"#46039f\"],[0.2222222222222222,\"#7201a8\"],[0.3333333333333333,\"#9c179e\"],[0.4444444444444444,\"#bd3786\"],[0.5555555555555556,\"#d8576b\"],[0.6666666666666666,\"#ed7953\"],[0.7777777777777778,\"#fb9f3a\"],[0.8888888888888888,\"#fdca26\"],[1.0,\"#f0f921\"]]}],\"contourcarpet\":[{\"type\":\"contourcarpet\",\"colorbar\":{\"outlinewidth\":0,\"ticks\":\"\"}}],\"contour\":[{\"type\":\"contour\",\"colorbar\":{\"outlinewidth\":0,\"ticks\":\"\"},\"colorscale\":[[0.0,\"#0d0887\"],[0.1111111111111111,\"#46039f\"],[0.2222222222222222,\"#7201a8\"],[0.3333333333333333,\"#9c179e\"],[0.4444444444444444,\"#bd3786\"],[0.5555555555555556,\"#d8576b\"],[0.6666666666666666,\"#ed7953\"],[0.7777777777777778,\"#fb9f3a\"],[0.8888888888888888,\"#fdca26\"],[1.0,\"#f0f921\"]]}],\"surface\":[{\"type\":\"surface\",\"colorbar\":{\"outlinewidth\":0,\"ticks\":\"\"},\"colorscale\":[[0.0,\"#0d0887\"],[0.1111111111111111,\"#46039f\"],[0.2222222222222222,\"#7201a8\"],[0.3333333333333333,\"#9c179e\"],[0.4444444444444444,\"#bd3786\"],[0.5555555555555556,\"#d8576b\"],[0.6666666666666666,\"#ed7953\"],[0.7777777777777778,\"#fb9f3a\"],[0.8888888888888888,\"#fdca26\"],[1.0,\"#f0f921\"]]}],\"mesh3d\":[{\"type\":\"mesh3d\",\"colorbar\":{\"outlinewidth\":0,\"ticks\":\"\"}}],\"scatter\":[{\"fillpattern\":{\"fillmode\":\"overlay\",\"size\":10,\"solidity\":0.2},\"type\":\"scatter\"}],\"parcoords\":[{\"type\":\"parcoords\",\"line\":{\"colorbar\":{\"outlinewidth\":0,\"ticks\":\"\"}}}],\"scatterpolargl\":[{\"type\":\"scatterpolargl\",\"marker\":{\"colorbar\":{\"outlinewidth\":0,\"ticks\":\"\"}}}],\"bar\":[{\"error_x\":{\"color\":\"#2a3f5f\"},\"error_y\":{\"color\":\"#2a3f5f\"},\"marker\":{\"line\":{\"color\":\"#E5ECF6\",\"width\":0.5},\"pattern\":{\"fillmode\":\"overlay\",\"size\":10,\"solidity\":0.2}},\"type\":\"bar\"}],\"scattergeo\":[{\"type\":\"scattergeo\",\"marker\":{\"colorbar\":{\"outlinewidth\":0,\"ticks\":\"\"}}}],\"scatterpolar\":[{\"type\":\"scatterpolar\",\"marker\":{\"colorbar\":{\"outlinewidth\":0,\"ticks\":\"\"}}}],\"histogram\":[{\"marker\":{\"pattern\":{\"fillmode\":\"overlay\",\"size\":10,\"solidity\":0.2}},\"type\":\"histogram\"}],\"scattergl\":[{\"type\":\"scattergl\",\"marker\":{\"colorbar\":{\"outlinewidth\":0,\"ticks\":\"\"}}}],\"scatter3d\":[{\"type\":\"scatter3d\",\"line\":{\"colorbar\":{\"outlinewidth\":0,\"ticks\":\"\"}},\"marker\":{\"colorbar\":{\"outlinewidth\":0,\"ticks\":\"\"}}}],\"scattermapbox\":[{\"type\":\"scattermapbox\",\"marker\":{\"colorbar\":{\"outlinewidth\":0,\"ticks\":\"\"}}}],\"scatterternary\":[{\"type\":\"scatterternary\",\"marker\":{\"colorbar\":{\"outlinewidth\":0,\"ticks\":\"\"}}}],\"scattercarpet\":[{\"type\":\"scattercarpet\",\"marker\":{\"colorbar\":{\"outlinewidth\":0,\"ticks\":\"\"}}}],\"carpet\":[{\"aaxis\":{\"endlinecolor\":\"#2a3f5f\",\"gridcolor\":\"white\",\"linecolor\":\"white\",\"minorgridcolor\":\"white\",\"startlinecolor\":\"#2a3f5f\"},\"baxis\":{\"endlinecolor\":\"#2a3f5f\",\"gridcolor\":\"white\",\"linecolor\":\"white\",\"minorgridcolor\":\"white\",\"startlinecolor\":\"#2a3f5f\"},\"type\":\"carpet\"}],\"table\":[{\"cells\":{\"fill\":{\"color\":\"#EBF0F8\"},\"line\":{\"color\":\"white\"}},\"header\":{\"fill\":{\"color\":\"#C8D4E3\"},\"line\":{\"color\":\"white\"}},\"type\":\"table\"}],\"barpolar\":[{\"marker\":{\"line\":{\"color\":\"#E5ECF6\",\"width\":0.5},\"pattern\":{\"fillmode\":\"overlay\",\"size\":10,\"solidity\":0.2}},\"type\":\"barpolar\"}],\"pie\":[{\"automargin\":true,\"type\":\"pie\"}]},\"layout\":{\"autotypenumbers\":\"strict\",\"colorway\":[\"#636efa\",\"#EF553B\",\"#00cc96\",\"#ab63fa\",\"#FFA15A\",\"#19d3f3\",\"#FF6692\",\"#B6E880\",\"#FF97FF\",\"#FECB52\"],\"font\":{\"color\":\"#2a3f5f\"},\"hovermode\":\"closest\",\"hoverlabel\":{\"align\":\"left\"},\"paper_bgcolor\":\"white\",\"plot_bgcolor\":\"#E5ECF6\",\"polar\":{\"bgcolor\":\"#E5ECF6\",\"angularaxis\":{\"gridcolor\":\"white\",\"linecolor\":\"white\",\"ticks\":\"\"},\"radialaxis\":{\"gridcolor\":\"white\",\"linecolor\":\"white\",\"ticks\":\"\"}},\"ternary\":{\"bgcolor\":\"#E5ECF6\",\"aaxis\":{\"gridcolor\":\"white\",\"linecolor\":\"white\",\"ticks\":\"\"},\"baxis\":{\"gridcolor\":\"white\",\"linecolor\":\"white\",\"ticks\":\"\"},\"caxis\":{\"gridcolor\":\"white\",\"linecolor\":\"white\",\"ticks\":\"\"}},\"coloraxis\":{\"colorbar\":{\"outlinewidth\":0,\"ticks\":\"\"}},\"colorscale\":{\"sequential\":[[0.0,\"#0d0887\"],[0.1111111111111111,\"#46039f\"],[0.2222222222222222,\"#7201a8\"],[0.3333333333333333,\"#9c179e\"],[0.4444444444444444,\"#bd3786\"],[0.5555555555555556,\"#d8576b\"],[0.6666666666666666,\"#ed7953\"],[0.7777777777777778,\"#fb9f3a\"],[0.8888888888888888,\"#fdca26\"],[1.0,\"#f0f921\"]],\"sequentialminus\":[[0.0,\"#0d0887\"],[0.1111111111111111,\"#46039f\"],[0.2222222222222222,\"#7201a8\"],[0.3333333333333333,\"#9c179e\"],[0.4444444444444444,\"#bd3786\"],[0.5555555555555556,\"#d8576b\"],[0.6666666666666666,\"#ed7953\"],[0.7777777777777778,\"#fb9f3a\"],[0.8888888888888888,\"#fdca26\"],[1.0,\"#f0f921\"]],\"diverging\":[[0,\"#8e0152\"],[0.1,\"#c51b7d\"],[0.2,\"#de77ae\"],[0.3,\"#f1b6da\"],[0.4,\"#fde0ef\"],[0.5,\"#f7f7f7\"],[0.6,\"#e6f5d0\"],[0.7,\"#b8e186\"],[0.8,\"#7fbc41\"],[0.9,\"#4d9221\"],[1,\"#276419\"]]},\"xaxis\":{\"gridcolor\":\"white\",\"linecolor\":\"white\",\"ticks\":\"\",\"title\":{\"standoff\":15},\"zerolinecolor\":\"white\",\"automargin\":true,\"zerolinewidth\":2},\"yaxis\":{\"gridcolor\":\"white\",\"linecolor\":\"white\",\"ticks\":\"\",\"title\":{\"standoff\":15},\"zerolinecolor\":\"white\",\"automargin\":true,\"zerolinewidth\":2},\"scene\":{\"xaxis\":{\"backgroundcolor\":\"#E5ECF6\",\"gridcolor\":\"white\",\"linecolor\":\"white\",\"showbackground\":true,\"ticks\":\"\",\"zerolinecolor\":\"white\",\"gridwidth\":2},\"yaxis\":{\"backgroundcolor\":\"#E5ECF6\",\"gridcolor\":\"white\",\"linecolor\":\"white\",\"showbackground\":true,\"ticks\":\"\",\"zerolinecolor\":\"white\",\"gridwidth\":2},\"zaxis\":{\"backgroundcolor\":\"#E5ECF6\",\"gridcolor\":\"white\",\"linecolor\":\"white\",\"showbackground\":true,\"ticks\":\"\",\"zerolinecolor\":\"white\",\"gridwidth\":2}},\"shapedefaults\":{\"line\":{\"color\":\"#2a3f5f\"}},\"annotationdefaults\":{\"arrowcolor\":\"#2a3f5f\",\"arrowhead\":0,\"arrowwidth\":1},\"geo\":{\"bgcolor\":\"white\",\"landcolor\":\"#E5ECF6\",\"subunitcolor\":\"white\",\"showland\":true,\"showlakes\":true,\"lakecolor\":\"white\"},\"title\":{\"x\":0.05},\"mapbox\":{\"style\":\"light\"}}},\"xaxis\":{\"anchor\":\"y\",\"domain\":[0.0,1.0]},\"yaxis\":{\"anchor\":\"x\",\"domain\":[0.0,1.0],\"title\":{\"text\":\"MEDV\"}},\"legend\":{\"tracegroupgap\":0},\"margin\":{\"t\":60},\"boxmode\":\"group\",\"width\":800,\"height\":800},                        {\"responsive\": true}                    ).then(function(){\n",
              "                            \n",
              "var gd = document.getElementById('3c04e018-3215-4f43-8f57-6067eb86be2d');\n",
              "var x = new MutationObserver(function (mutations, observer) {{\n",
              "        var display = window.getComputedStyle(gd).display;\n",
              "        if (!display || display === 'none') {{\n",
              "            console.log([gd, 'removed!']);\n",
              "            Plotly.purge(gd);\n",
              "            observer.disconnect();\n",
              "        }}\n",
              "}});\n",
              "\n",
              "// Listen for the removal of the full notebook cells\n",
              "var notebookContainer = gd.closest('#notebook-container');\n",
              "if (notebookContainer) {{\n",
              "    x.observe(notebookContainer, {childList: true});\n",
              "}}\n",
              "\n",
              "// Listen for the clearing of the current output cell\n",
              "var outputEl = gd.closest('.output');\n",
              "if (outputEl) {{\n",
              "    x.observe(outputEl, {childList: true});\n",
              "}}\n",
              "\n",
              "                        })                };                            </script>        </div>\n",
              "</body>\n",
              "</html>"
            ]
          },
          "metadata": {}
        }
      ]
    },
    {
      "cell_type": "code",
      "source": [
        "data[['RM', 'MEDV', 'PTRATIO']].describe()"
      ],
      "metadata": {
        "colab": {
          "base_uri": "https://localhost:8080/",
          "height": 300
        },
        "id": "jLR2c6BGaRyH",
        "outputId": "438cf115-946c-41d6-83e5-71331688b21c"
      },
      "execution_count": null,
      "outputs": [
        {
          "output_type": "execute_result",
          "data": {
            "text/plain": [
              "               RM        MEDV     PTRATIO\n",
              "count  506.000000  506.000000  506.000000\n",
              "mean     6.284634   22.528854   18.455534\n",
              "std      0.702617    9.182176    2.164946\n",
              "min      3.561000    5.000000   12.600000\n",
              "25%      5.885500   17.025000   17.400000\n",
              "50%      6.208500   21.200000   19.050000\n",
              "75%      6.623500   25.000000   20.200000\n",
              "max      8.780000   50.000000   22.000000"
            ],
            "text/html": [
              "\n",
              "  <div id=\"df-da4fad65-a131-461e-b795-fa85960ab773\">\n",
              "    <div class=\"colab-df-container\">\n",
              "      <div>\n",
              "<style scoped>\n",
              "    .dataframe tbody tr th:only-of-type {\n",
              "        vertical-align: middle;\n",
              "    }\n",
              "\n",
              "    .dataframe tbody tr th {\n",
              "        vertical-align: top;\n",
              "    }\n",
              "\n",
              "    .dataframe thead th {\n",
              "        text-align: right;\n",
              "    }\n",
              "</style>\n",
              "<table border=\"1\" class=\"dataframe\">\n",
              "  <thead>\n",
              "    <tr style=\"text-align: right;\">\n",
              "      <th></th>\n",
              "      <th>RM</th>\n",
              "      <th>MEDV</th>\n",
              "      <th>PTRATIO</th>\n",
              "    </tr>\n",
              "  </thead>\n",
              "  <tbody>\n",
              "    <tr>\n",
              "      <th>count</th>\n",
              "      <td>506.000000</td>\n",
              "      <td>506.000000</td>\n",
              "      <td>506.000000</td>\n",
              "    </tr>\n",
              "    <tr>\n",
              "      <th>mean</th>\n",
              "      <td>6.284634</td>\n",
              "      <td>22.528854</td>\n",
              "      <td>18.455534</td>\n",
              "    </tr>\n",
              "    <tr>\n",
              "      <th>std</th>\n",
              "      <td>0.702617</td>\n",
              "      <td>9.182176</td>\n",
              "      <td>2.164946</td>\n",
              "    </tr>\n",
              "    <tr>\n",
              "      <th>min</th>\n",
              "      <td>3.561000</td>\n",
              "      <td>5.000000</td>\n",
              "      <td>12.600000</td>\n",
              "    </tr>\n",
              "    <tr>\n",
              "      <th>25%</th>\n",
              "      <td>5.885500</td>\n",
              "      <td>17.025000</td>\n",
              "      <td>17.400000</td>\n",
              "    </tr>\n",
              "    <tr>\n",
              "      <th>50%</th>\n",
              "      <td>6.208500</td>\n",
              "      <td>21.200000</td>\n",
              "      <td>19.050000</td>\n",
              "    </tr>\n",
              "    <tr>\n",
              "      <th>75%</th>\n",
              "      <td>6.623500</td>\n",
              "      <td>25.000000</td>\n",
              "      <td>20.200000</td>\n",
              "    </tr>\n",
              "    <tr>\n",
              "      <th>max</th>\n",
              "      <td>8.780000</td>\n",
              "      <td>50.000000</td>\n",
              "      <td>22.000000</td>\n",
              "    </tr>\n",
              "  </tbody>\n",
              "</table>\n",
              "</div>\n",
              "      <button class=\"colab-df-convert\" onclick=\"convertToInteractive('df-da4fad65-a131-461e-b795-fa85960ab773')\"\n",
              "              title=\"Convert this dataframe to an interactive table.\"\n",
              "              style=\"display:none;\">\n",
              "        \n",
              "  <svg xmlns=\"http://www.w3.org/2000/svg\" height=\"24px\"viewBox=\"0 0 24 24\"\n",
              "       width=\"24px\">\n",
              "    <path d=\"M0 0h24v24H0V0z\" fill=\"none\"/>\n",
              "    <path d=\"M18.56 5.44l.94 2.06.94-2.06 2.06-.94-2.06-.94-.94-2.06-.94 2.06-2.06.94zm-11 1L8.5 8.5l.94-2.06 2.06-.94-2.06-.94L8.5 2.5l-.94 2.06-2.06.94zm10 10l.94 2.06.94-2.06 2.06-.94-2.06-.94-.94-2.06-.94 2.06-2.06.94z\"/><path d=\"M17.41 7.96l-1.37-1.37c-.4-.4-.92-.59-1.43-.59-.52 0-1.04.2-1.43.59L10.3 9.45l-7.72 7.72c-.78.78-.78 2.05 0 2.83L4 21.41c.39.39.9.59 1.41.59.51 0 1.02-.2 1.41-.59l7.78-7.78 2.81-2.81c.8-.78.8-2.07 0-2.86zM5.41 20L4 18.59l7.72-7.72 1.47 1.35L5.41 20z\"/>\n",
              "  </svg>\n",
              "      </button>\n",
              "      \n",
              "  <style>\n",
              "    .colab-df-container {\n",
              "      display:flex;\n",
              "      flex-wrap:wrap;\n",
              "      gap: 12px;\n",
              "    }\n",
              "\n",
              "    .colab-df-convert {\n",
              "      background-color: #E8F0FE;\n",
              "      border: none;\n",
              "      border-radius: 50%;\n",
              "      cursor: pointer;\n",
              "      display: none;\n",
              "      fill: #1967D2;\n",
              "      height: 32px;\n",
              "      padding: 0 0 0 0;\n",
              "      width: 32px;\n",
              "    }\n",
              "\n",
              "    .colab-df-convert:hover {\n",
              "      background-color: #E2EBFA;\n",
              "      box-shadow: 0px 1px 2px rgba(60, 64, 67, 0.3), 0px 1px 3px 1px rgba(60, 64, 67, 0.15);\n",
              "      fill: #174EA6;\n",
              "    }\n",
              "\n",
              "    [theme=dark] .colab-df-convert {\n",
              "      background-color: #3B4455;\n",
              "      fill: #D2E3FC;\n",
              "    }\n",
              "\n",
              "    [theme=dark] .colab-df-convert:hover {\n",
              "      background-color: #434B5C;\n",
              "      box-shadow: 0px 1px 3px 1px rgba(0, 0, 0, 0.15);\n",
              "      filter: drop-shadow(0px 1px 2px rgba(0, 0, 0, 0.3));\n",
              "      fill: #FFFFFF;\n",
              "    }\n",
              "  </style>\n",
              "\n",
              "      <script>\n",
              "        const buttonEl =\n",
              "          document.querySelector('#df-da4fad65-a131-461e-b795-fa85960ab773 button.colab-df-convert');\n",
              "        buttonEl.style.display =\n",
              "          google.colab.kernel.accessAllowed ? 'block' : 'none';\n",
              "\n",
              "        async function convertToInteractive(key) {\n",
              "          const element = document.querySelector('#df-da4fad65-a131-461e-b795-fa85960ab773');\n",
              "          const dataTable =\n",
              "            await google.colab.kernel.invokeFunction('convertToInteractive',\n",
              "                                                     [key], {});\n",
              "          if (!dataTable) return;\n",
              "\n",
              "          const docLinkHtml = 'Like what you see? Visit the ' +\n",
              "            '<a target=\"_blank\" href=https://colab.research.google.com/notebooks/data_table.ipynb>data table notebook</a>'\n",
              "            + ' to learn more about interactive tables.';\n",
              "          element.innerHTML = '';\n",
              "          dataTable['output_type'] = 'display_data';\n",
              "          await google.colab.output.renderOutput(dataTable, element);\n",
              "          const docLink = document.createElement('div');\n",
              "          docLink.innerHTML = docLinkHtml;\n",
              "          element.appendChild(docLink);\n",
              "        }\n",
              "      </script>\n",
              "    </div>\n",
              "  </div>\n",
              "  "
            ]
          },
          "metadata": {},
          "execution_count": 20
        }
      ]
    },
    {
      "cell_type": "markdown",
      "source": [
        "# **Analisando** ***MEDV***\n",
        "- 20 Maiores valores nas variáveis"
      ],
      "metadata": {
        "id": "NdjtSpQjbPXY"
      }
    },
    {
      "cell_type": "code",
      "source": [
        "data[['RM', 'MEDV', 'PTRATIO']].nlargest(20,'MEDV')\n",
        "top20 = data.nlargest(20,'MEDV').index\n",
        "top20\n",
        "data.drop(top20, inplace=True)"
      ],
      "metadata": {
        "id": "pnhX8ZZmamG-"
      },
      "execution_count": null,
      "outputs": []
    },
    {
      "cell_type": "code",
      "source": [
        "# imprimindo os 16 maiores valores de MEDV\n",
        "data[['RM', 'MEDV', 'PTRATIO']].nlargest(16, 'MEDV')"
      ],
      "metadata": {
        "colab": {
          "base_uri": "https://localhost:8080/",
          "height": 551
        },
        "id": "lCbmbsEAblCe",
        "outputId": "d7aa1a0d-9e61-41a1-bf0e-f513c54443cd"
      },
      "execution_count": null,
      "outputs": [
        {
          "output_type": "execute_result",
          "data": {
            "text/plain": [
              "        RM  MEDV  PTRATIO\n",
              "282  7.645  46.0     14.9\n",
              "280  7.820  45.4     14.9\n",
              "224  8.266  44.8     17.4\n",
              "256  7.454  44.0     15.9\n",
              "98   7.820  43.8     18.0\n",
              "268  7.470  43.5     13.0\n",
              "261  7.520  43.1     13.0\n",
              "253  8.259  42.8     19.1\n",
              "202  7.610  42.3     14.7\n",
              "232  8.337  41.7     17.4\n",
              "157  6.943  41.3     14.7\n",
              "180  7.765  39.8     17.8\n",
              "97   8.069  38.7     18.0\n",
              "182  7.155  37.9     17.8\n",
              "226  8.040  37.6     17.4\n",
              "291  7.148  37.3     19.2"
            ],
            "text/html": [
              "\n",
              "  <div id=\"df-30d3f180-a14d-44f5-91cf-a6ea384b2d2c\">\n",
              "    <div class=\"colab-df-container\">\n",
              "      <div>\n",
              "<style scoped>\n",
              "    .dataframe tbody tr th:only-of-type {\n",
              "        vertical-align: middle;\n",
              "    }\n",
              "\n",
              "    .dataframe tbody tr th {\n",
              "        vertical-align: top;\n",
              "    }\n",
              "\n",
              "    .dataframe thead th {\n",
              "        text-align: right;\n",
              "    }\n",
              "</style>\n",
              "<table border=\"1\" class=\"dataframe\">\n",
              "  <thead>\n",
              "    <tr style=\"text-align: right;\">\n",
              "      <th></th>\n",
              "      <th>RM</th>\n",
              "      <th>MEDV</th>\n",
              "      <th>PTRATIO</th>\n",
              "    </tr>\n",
              "  </thead>\n",
              "  <tbody>\n",
              "    <tr>\n",
              "      <th>282</th>\n",
              "      <td>7.645</td>\n",
              "      <td>46.0</td>\n",
              "      <td>14.9</td>\n",
              "    </tr>\n",
              "    <tr>\n",
              "      <th>280</th>\n",
              "      <td>7.820</td>\n",
              "      <td>45.4</td>\n",
              "      <td>14.9</td>\n",
              "    </tr>\n",
              "    <tr>\n",
              "      <th>224</th>\n",
              "      <td>8.266</td>\n",
              "      <td>44.8</td>\n",
              "      <td>17.4</td>\n",
              "    </tr>\n",
              "    <tr>\n",
              "      <th>256</th>\n",
              "      <td>7.454</td>\n",
              "      <td>44.0</td>\n",
              "      <td>15.9</td>\n",
              "    </tr>\n",
              "    <tr>\n",
              "      <th>98</th>\n",
              "      <td>7.820</td>\n",
              "      <td>43.8</td>\n",
              "      <td>18.0</td>\n",
              "    </tr>\n",
              "    <tr>\n",
              "      <th>268</th>\n",
              "      <td>7.470</td>\n",
              "      <td>43.5</td>\n",
              "      <td>13.0</td>\n",
              "    </tr>\n",
              "    <tr>\n",
              "      <th>261</th>\n",
              "      <td>7.520</td>\n",
              "      <td>43.1</td>\n",
              "      <td>13.0</td>\n",
              "    </tr>\n",
              "    <tr>\n",
              "      <th>253</th>\n",
              "      <td>8.259</td>\n",
              "      <td>42.8</td>\n",
              "      <td>19.1</td>\n",
              "    </tr>\n",
              "    <tr>\n",
              "      <th>202</th>\n",
              "      <td>7.610</td>\n",
              "      <td>42.3</td>\n",
              "      <td>14.7</td>\n",
              "    </tr>\n",
              "    <tr>\n",
              "      <th>232</th>\n",
              "      <td>8.337</td>\n",
              "      <td>41.7</td>\n",
              "      <td>17.4</td>\n",
              "    </tr>\n",
              "    <tr>\n",
              "      <th>157</th>\n",
              "      <td>6.943</td>\n",
              "      <td>41.3</td>\n",
              "      <td>14.7</td>\n",
              "    </tr>\n",
              "    <tr>\n",
              "      <th>180</th>\n",
              "      <td>7.765</td>\n",
              "      <td>39.8</td>\n",
              "      <td>17.8</td>\n",
              "    </tr>\n",
              "    <tr>\n",
              "      <th>97</th>\n",
              "      <td>8.069</td>\n",
              "      <td>38.7</td>\n",
              "      <td>18.0</td>\n",
              "    </tr>\n",
              "    <tr>\n",
              "      <th>182</th>\n",
              "      <td>7.155</td>\n",
              "      <td>37.9</td>\n",
              "      <td>17.8</td>\n",
              "    </tr>\n",
              "    <tr>\n",
              "      <th>226</th>\n",
              "      <td>8.040</td>\n",
              "      <td>37.6</td>\n",
              "      <td>17.4</td>\n",
              "    </tr>\n",
              "    <tr>\n",
              "      <th>291</th>\n",
              "      <td>7.148</td>\n",
              "      <td>37.3</td>\n",
              "      <td>19.2</td>\n",
              "    </tr>\n",
              "  </tbody>\n",
              "</table>\n",
              "</div>\n",
              "      <button class=\"colab-df-convert\" onclick=\"convertToInteractive('df-30d3f180-a14d-44f5-91cf-a6ea384b2d2c')\"\n",
              "              title=\"Convert this dataframe to an interactive table.\"\n",
              "              style=\"display:none;\">\n",
              "        \n",
              "  <svg xmlns=\"http://www.w3.org/2000/svg\" height=\"24px\"viewBox=\"0 0 24 24\"\n",
              "       width=\"24px\">\n",
              "    <path d=\"M0 0h24v24H0V0z\" fill=\"none\"/>\n",
              "    <path d=\"M18.56 5.44l.94 2.06.94-2.06 2.06-.94-2.06-.94-.94-2.06-.94 2.06-2.06.94zm-11 1L8.5 8.5l.94-2.06 2.06-.94-2.06-.94L8.5 2.5l-.94 2.06-2.06.94zm10 10l.94 2.06.94-2.06 2.06-.94-2.06-.94-.94-2.06-.94 2.06-2.06.94z\"/><path d=\"M17.41 7.96l-1.37-1.37c-.4-.4-.92-.59-1.43-.59-.52 0-1.04.2-1.43.59L10.3 9.45l-7.72 7.72c-.78.78-.78 2.05 0 2.83L4 21.41c.39.39.9.59 1.41.59.51 0 1.02-.2 1.41-.59l7.78-7.78 2.81-2.81c.8-.78.8-2.07 0-2.86zM5.41 20L4 18.59l7.72-7.72 1.47 1.35L5.41 20z\"/>\n",
              "  </svg>\n",
              "      </button>\n",
              "      \n",
              "  <style>\n",
              "    .colab-df-container {\n",
              "      display:flex;\n",
              "      flex-wrap:wrap;\n",
              "      gap: 12px;\n",
              "    }\n",
              "\n",
              "    .colab-df-convert {\n",
              "      background-color: #E8F0FE;\n",
              "      border: none;\n",
              "      border-radius: 50%;\n",
              "      cursor: pointer;\n",
              "      display: none;\n",
              "      fill: #1967D2;\n",
              "      height: 32px;\n",
              "      padding: 0 0 0 0;\n",
              "      width: 32px;\n",
              "    }\n",
              "\n",
              "    .colab-df-convert:hover {\n",
              "      background-color: #E2EBFA;\n",
              "      box-shadow: 0px 1px 2px rgba(60, 64, 67, 0.3), 0px 1px 3px 1px rgba(60, 64, 67, 0.15);\n",
              "      fill: #174EA6;\n",
              "    }\n",
              "\n",
              "    [theme=dark] .colab-df-convert {\n",
              "      background-color: #3B4455;\n",
              "      fill: #D2E3FC;\n",
              "    }\n",
              "\n",
              "    [theme=dark] .colab-df-convert:hover {\n",
              "      background-color: #434B5C;\n",
              "      box-shadow: 0px 1px 3px 1px rgba(0, 0, 0, 0.15);\n",
              "      filter: drop-shadow(0px 1px 2px rgba(0, 0, 0, 0.3));\n",
              "      fill: #FFFFFF;\n",
              "    }\n",
              "  </style>\n",
              "\n",
              "      <script>\n",
              "        const buttonEl =\n",
              "          document.querySelector('#df-30d3f180-a14d-44f5-91cf-a6ea384b2d2c button.colab-df-convert');\n",
              "        buttonEl.style.display =\n",
              "          google.colab.kernel.accessAllowed ? 'block' : 'none';\n",
              "\n",
              "        async function convertToInteractive(key) {\n",
              "          const element = document.querySelector('#df-30d3f180-a14d-44f5-91cf-a6ea384b2d2c');\n",
              "          const dataTable =\n",
              "            await google.colab.kernel.invokeFunction('convertToInteractive',\n",
              "                                                     [key], {});\n",
              "          if (!dataTable) return;\n",
              "\n",
              "          const docLinkHtml = 'Like what you see? Visit the ' +\n",
              "            '<a target=\"_blank\" href=https://colab.research.google.com/notebooks/data_table.ipynb>data table notebook</a>'\n",
              "            + ' to learn more about interactive tables.';\n",
              "          element.innerHTML = '';\n",
              "          dataTable['output_type'] = 'display_data';\n",
              "          await google.colab.output.renderOutput(dataTable, element);\n",
              "          const docLink = document.createElement('div');\n",
              "          docLink.innerHTML = docLinkHtml;\n",
              "          element.appendChild(docLink);\n",
              "        }\n",
              "      </script>\n",
              "    </div>\n",
              "  </div>\n",
              "  "
            ]
          },
          "metadata": {},
          "execution_count": 22
        }
      ]
    },
    {
      "cell_type": "code",
      "source": [
        "#  filtrando os top 16 maiores registros da coluna MEDV\n",
        "top16 = data.nlargest(16, 'MEDV').index"
      ],
      "metadata": {
        "id": "ORc_Fs4Yb_IW"
      },
      "execution_count": null,
      "outputs": []
    },
    {
      "cell_type": "code",
      "source": [
        "# remove os valores listados em top16\n",
        "data.drop(top16, inplace=True)"
      ],
      "metadata": {
        "id": "BfDF0BB0cPx2"
      },
      "execution_count": null,
      "outputs": []
    },
    {
      "cell_type": "code",
      "source": [
        "# visualizando distribuição da variável MEDV\n",
        "labels = ['Distribuição da variável MEDV (número de quartos)']\n",
        "fig = ff.create_distplot([data.MEDV], labels, bin_size=.2)\n",
        "fig.show()"
      ],
      "metadata": {
        "colab": {
          "base_uri": "https://localhost:8080/",
          "height": 542
        },
        "id": "EyniYf_ocYwv",
        "outputId": "9de19e36-1aa3-4a66-f3a8-959ae778e6c7"
      },
      "execution_count": null,
      "outputs": [
        {
          "output_type": "display_data",
          "data": {
            "text/html": [
              "<html>\n",
              "<head><meta charset=\"utf-8\" /></head>\n",
              "<body>\n",
              "    <div>            <script src=\"https://cdnjs.cloudflare.com/ajax/libs/mathjax/2.7.5/MathJax.js?config=TeX-AMS-MML_SVG\"></script><script type=\"text/javascript\">if (window.MathJax && window.MathJax.Hub && window.MathJax.Hub.Config) {window.MathJax.Hub.Config({SVG: {font: \"STIX-Web\"}});}</script>                <script type=\"text/javascript\">window.PlotlyConfig = {MathJaxConfig: 'local'};</script>\n",
              "        <script src=\"https://cdn.plot.ly/plotly-2.18.2.min.js\"></script>                <div id=\"42a669c8-43fd-4613-a968-6a2c37b5bebc\" class=\"plotly-graph-div\" style=\"height:525px; width:100%;\"></div>            <script type=\"text/javascript\">                                    window.PLOTLYENV=window.PLOTLYENV || {};                                    if (document.getElementById(\"42a669c8-43fd-4613-a968-6a2c37b5bebc\")) {                    Plotly.newPlot(                        \"42a669c8-43fd-4613-a968-6a2c37b5bebc\",                        [{\"autobinx\":false,\"histnorm\":\"probability density\",\"legendgroup\":\"Distribui\\u00e7\\u00e3o da vari\\u00e1vel MEDV (n\\u00famero de quartos)\",\"marker\":{\"color\":\"rgb(31, 119, 180)\"},\"name\":\"Distribui\\u00e7\\u00e3o da vari\\u00e1vel MEDV (n\\u00famero de quartos)\",\"opacity\":0.7,\"x\":[24.0,21.6,34.7,33.4,36.2,28.7,22.9,22.1,16.5,18.9,15.0,18.9,21.7,20.4,18.2,19.9,23.1,17.5,20.2,18.2,13.6,19.6,15.2,14.5,15.6,13.9,16.6,14.8,18.4,21.0,12.7,14.5,13.2,13.1,13.5,18.9,20.0,21.0,24.2,30.8,34.9,26.6,25.3,24.7,21.2,19.3,20.0,16.6,14.4,19.4,19.7,20.5,25.0,23.4,18.9,35.4,24.7,31.6,23.3,19.6,18.7,16.0,22.2,25.0,33.0,23.5,19.4,22.0,17.4,20.9,24.2,21.7,22.8,23.4,24.1,21.4,20.0,20.8,21.2,20.3,28.0,23.9,24.8,22.9,23.9,26.6,22.5,22.2,23.6,28.7,22.6,22.0,22.9,25.0,20.6,28.4,21.4,33.2,27.5,26.5,18.6,19.3,20.1,19.5,19.5,20.4,19.8,19.4,21.7,22.8,18.8,18.7,18.5,18.3,21.2,19.2,20.4,19.3,22.0,20.3,20.5,17.3,18.8,21.4,15.7,16.2,18.0,14.3,19.2,19.6,23.0,18.4,15.6,18.1,17.4,17.1,13.3,17.8,14.0,14.4,13.4,15.6,11.8,13.8,15.6,14.6,17.8,15.4,21.5,19.6,15.3,19.4,17.0,15.6,13.1,24.3,23.3,27.0,22.7,25.0,23.8,23.8,22.3,17.4,19.1,23.1,23.6,22.6,29.4,23.2,24.6,29.9,37.2,36.2,32.5,26.4,29.6,32.0,29.8,34.9,33.0,30.5,36.4,31.1,29.1,33.3,30.3,34.6,34.9,32.9,24.1,22.6,24.4,22.5,24.4,20.0,21.7,19.3,22.4,28.1,23.7,25.0,23.3,28.7,21.5,23.0,26.7,21.7,27.5,30.1,31.6,31.5,24.3,31.7,29.0,24.0,25.1,31.5,23.7,23.3,27.0,20.1,22.2,23.7,17.6,18.5,24.3,20.5,24.5,26.2,24.4,24.8,29.6,21.9,20.9,36.0,30.1,33.8,31.0,36.5,22.8,30.7,20.7,21.1,25.2,24.4,35.2,32.4,32.0,33.2,33.1,29.1,35.1,35.4,32.2,22.0,20.1,23.2,22.3,24.8,28.5,27.9,23.9,21.7,28.6,27.1,20.3,22.5,29.0,24.8,22.0,26.4,33.1,36.1,28.4,33.4,28.2,22.8,20.3,16.1,22.1,19.4,21.6,23.8,16.2,17.8,19.8,23.1,21.0,23.8,23.1,20.4,18.5,25.0,24.6,23.0,22.2,19.3,22.6,19.8,17.1,19.4,22.2,20.7,21.1,19.5,18.5,20.6,19.0,18.7,32.7,16.5,23.9,31.2,17.5,17.2,23.1,24.5,26.6,22.9,24.1,18.6,30.1,18.2,20.6,17.8,21.7,22.7,22.6,25.0,19.9,20.8,16.8,21.9,27.5,21.9,23.1,13.8,13.8,15.0,13.9,13.3,13.1,10.2,10.4,10.9,11.3,12.3,8.8,7.2,10.5,7.4,10.2,11.5,15.1,23.2,9.7,13.8,12.7,13.1,12.5,8.5,5.0,6.3,5.6,7.2,12.1,8.3,8.5,5.0,11.9,27.9,17.2,27.5,15.0,17.2,17.9,16.3,7.0,7.2,7.5,10.4,8.8,8.4,16.7,14.2,20.8,13.4,11.7,8.3,10.2,10.9,11.0,9.5,14.5,14.1,16.1,14.3,11.7,13.4,9.6,8.2,8.4,12.8,10.5,17.1,14.8,15.4,10.8,11.8,14.9,12.6,14.1,13.0,13.4,15.2,16.1,17.8,14.4,14.1,12.7,13.5,14.9,20.0,16.4,17.7,19.5,20.2,21.4,19.9,19.0,19.1,19.1,20.1,19.9,19.6,23.2,29.8,13.8,13.3,16.7,12.0,14.6,21.4,23.0,23.7,25.0,21.8,20.6,21.2,19.1,20.6,15.2,7.0,8.1,13.6,20.1,21.8,24.5,23.1,19.7,18.3,21.2,17.5,16.8,22.4,20.6,23.9,22.0,19.0],\"xaxis\":\"x\",\"xbins\":{\"end\":37.2,\"size\":0.2,\"start\":5.0},\"yaxis\":\"y\",\"type\":\"histogram\"},{\"legendgroup\":\"Distribui\\u00e7\\u00e3o da vari\\u00e1vel MEDV (n\\u00famero de quartos)\",\"marker\":{\"color\":\"rgb(31, 119, 180)\"},\"mode\":\"lines\",\"name\":\"Distribui\\u00e7\\u00e3o da vari\\u00e1vel MEDV (n\\u00famero de quartos)\",\"showlegend\":false,\"x\":[5.0,5.0644,5.1288,5.1932,5.2576,5.322,5.3864,5.4508,5.5152,5.5796,5.644,5.7084,5.7728,5.8372,5.9016,5.966,6.0304,6.0948,6.1592,6.2236,6.288,6.3524,6.4168,6.4812,6.5456,6.61,6.6744,6.7388,6.8032,6.8676,6.932,6.9964,7.0608,7.1252,7.1896,7.254,7.3184000000000005,7.3828,7.4472000000000005,7.5116000000000005,7.5760000000000005,7.6404,7.7048000000000005,7.7692,7.833600000000001,7.898000000000001,7.962400000000001,8.0268,8.0912,8.1556,8.22,8.2844,8.3488,8.4132,8.4776,8.542,8.6064,8.6708,8.7352,8.7996,8.864,8.9284,8.9928,9.0572,9.1216,9.186,9.2504,9.3148,9.3792,9.4436,9.508,9.572400000000002,9.636800000000001,9.7012,9.7656,9.83,9.894400000000001,9.9588,10.023200000000001,10.0876,10.152000000000001,10.2164,10.2808,10.345200000000002,10.409600000000001,10.474,10.5384,10.6028,10.667200000000001,10.7316,10.796000000000001,10.8604,10.924800000000001,10.9892,11.0536,11.118000000000002,11.182400000000001,11.2468,11.3112,11.3756,11.440000000000001,11.5044,11.5688,11.6332,11.697600000000001,11.762,11.8264,11.8908,11.955200000000001,12.0196,12.084,12.1484,12.212800000000001,12.2772,12.3416,12.406,12.470400000000001,12.5348,12.5992,12.6636,12.728000000000002,12.7924,12.8568,12.9212,12.985600000000002,13.05,13.1144,13.1788,13.2432,13.3076,13.372,13.4364,13.500800000000002,13.5652,13.6296,13.694,13.758400000000002,13.8228,13.8872,13.951600000000001,14.016,14.080400000000001,14.144800000000002,14.209200000000001,14.2736,14.338,14.402400000000002,14.466800000000001,14.5312,14.595600000000001,14.66,14.724400000000001,14.788800000000002,14.853200000000001,14.9176,14.982,15.046400000000002,15.110800000000001,15.1752,15.239600000000001,15.304,15.368400000000001,15.4328,15.497200000000001,15.5616,15.626000000000001,15.690400000000002,15.754800000000001,15.8192,15.8836,15.948000000000002,16.0124,16.0768,16.1412,16.2056,16.270000000000003,16.334400000000002,16.3988,16.4632,16.5276,16.592000000000002,16.6564,16.7208,16.785200000000003,16.849600000000002,16.914,16.9784,17.0428,17.1072,17.171599999999998,17.236000000000004,17.300400000000003,17.364800000000002,17.4292,17.4936,17.558,17.6224,17.6868,17.7512,17.8156,17.880000000000003,17.9444,18.0088,18.0732,18.1376,18.202,18.2664,18.330800000000004,18.395200000000003,18.459600000000002,18.524,18.5884,18.6528,18.7172,18.7816,18.846000000000004,18.910400000000003,18.974800000000002,19.0392,19.1036,19.168,19.232400000000002,19.2968,19.3612,19.425600000000003,19.490000000000002,19.5544,19.6188,19.6832,19.747600000000002,19.812,19.876400000000004,19.940800000000003,20.005200000000002,20.0696,20.134,20.1984,20.2628,20.3272,20.391600000000004,20.456000000000003,20.520400000000002,20.5848,20.6492,20.7136,20.778000000000002,20.8424,20.9068,20.971200000000003,21.035600000000002,21.1,21.1644,21.2288,21.293200000000002,21.3576,21.422,21.4864,21.550800000000002,21.6152,21.6796,21.744,21.808400000000002,21.8728,21.9372,22.001600000000003,22.066,22.1304,22.194800000000004,22.2592,22.323600000000003,22.388,22.4524,22.516800000000003,22.5812,22.6456,22.71,22.7744,22.838800000000003,22.903200000000002,22.9676,23.032,23.096400000000003,23.160800000000002,23.2252,23.289600000000004,23.354,23.418400000000002,23.482800000000005,23.5472,23.611600000000003,23.676,23.7404,23.804800000000004,23.8692,23.933600000000002,23.998,24.0624,24.126800000000003,24.191200000000002,24.2556,24.32,24.384400000000003,24.448800000000002,24.5132,24.577600000000004,24.642,24.706400000000002,24.7708,24.8352,24.899600000000003,24.964,25.0284,25.092800000000004,25.1572,25.221600000000002,25.286,25.3504,25.414800000000003,25.479200000000002,25.5436,25.608,25.672400000000003,25.736800000000002,25.8012,25.8656,25.930000000000003,25.994400000000002,26.0588,26.1232,26.187600000000003,26.252000000000002,26.3164,26.380800000000004,26.4452,26.509600000000002,26.574000000000005,26.6384,26.702800000000003,26.7672,26.8316,26.896000000000004,26.9604,27.024800000000003,27.0892,27.1536,27.218000000000004,27.282400000000003,27.3468,27.4112,27.475600000000004,27.540000000000003,27.604400000000002,27.668800000000005,27.7332,27.797600000000003,27.862000000000002,27.9264,27.990800000000004,28.0552,28.119600000000002,28.184000000000005,28.2484,28.312800000000003,28.377200000000002,28.4416,28.506000000000004,28.570400000000003,28.634800000000002,28.6992,28.763600000000004,28.828000000000003,28.892400000000002,28.9568,29.0212,29.085600000000003,29.150000000000002,29.2144,29.278800000000004,29.3432,29.407600000000002,29.472000000000005,29.5364,29.600800000000003,29.665200000000002,29.7296,29.794000000000004,29.858400000000003,29.922800000000002,29.9872,30.0516,30.116000000000003,30.180400000000002,30.2448,30.3092,30.373600000000003,30.438000000000002,30.5024,30.566800000000004,30.6312,30.695600000000002,30.760000000000005,30.8244,30.888800000000003,30.953200000000002,31.0176,31.082000000000004,31.1464,31.210800000000003,31.2752,31.3396,31.404000000000003,31.468400000000003,31.5328,31.5972,31.661600000000004,31.726000000000003,31.7904,31.854800000000004,31.9192,31.983600000000003,32.048,32.1124,32.1768,32.2412,32.3056,32.370000000000005,32.4344,32.4988,32.5632,32.6276,32.69200000000001,32.7564,32.820800000000006,32.8852,32.949600000000004,33.014,33.0784,33.1428,33.2072,33.27160000000001,33.336,33.400400000000005,33.464800000000004,33.5292,33.5936,33.658,33.7224,33.7868,33.851200000000006,33.9156,33.980000000000004,34.0444,34.1088,34.17320000000001,34.2376,34.30200000000001,34.3664,34.430800000000005,34.495200000000004,34.5596,34.624,34.6884,34.75280000000001,34.8172,34.881600000000006,34.946000000000005,35.010400000000004,35.0748,35.1392,35.2036,35.268,35.3324,35.3968,35.461200000000005,35.5256,35.59,35.6544,35.7188,35.78320000000001,35.8476,35.912000000000006,35.9764,36.040800000000004,36.1052,36.1696,36.23400000000001,36.2984,36.36280000000001,36.4272,36.491600000000005,36.556000000000004,36.620400000000004,36.6848,36.7492,36.8136,36.878,36.942400000000006,37.006800000000005,37.071200000000005,37.135600000000004],\"xaxis\":\"x\",\"y\":[0.004326212175337997,0.0044698086076990174,0.00461563258393898,0.004763611630449214,0.004913668787085735,0.005065722713946677,0.005219687822515183,0.0053754744320928475,0.005532988952319858,0.005692134092432031,0.005852809097742269,0.006014910013655394,0.0061783299773330545,0.006342959536919407,0.0065086869980213215,0.006675398796910769,0.006842979899682884,0.007011314226364887,0.007180285098729284,0.007349775710323486,0.007519669616988614,0.007689851245906738,0.00786020642098915,0.008030622902202923,0.008200990936230527,0.008371203815669468,0.008541158443810504,0.008710755901883272,0.008879902015531082,0.009048507917173628,0.009216490600837485,0.009383773465983675,0.00955028684683618,0.009715968523719523,0.00988076421294504,0.010044628031845006,0.010207522935641668,0.010369421122951446,0.01053030440686548,0.010690164548711148,0.010849003551786602,0.011006833912567677,0.011163678827113117,0.011319572350636457,0.011474559508469396,0.01162869635690877,0.011782049992715829,0.011934698510317625,0.01208673090604609,0.012238246929035313,0.012389356878681477,0.012540181348848252,0.012690850919273893,0.012841505794898882,0.012992295394087609,0.013143377886957634,0.013294919685259667,0.013447094885464828,0.01360008466691555,0.013754076647080744,0.013909264196125882,0.014065845713162007,0.014224023866679324,0.01438400480179642,0.014545997317071261,0.014710212013722229,0.014876860420200042,0.015046154095135718,0.015218303711766011,0.015393518127008501,0.01557200343842604,0.01575396203238301,0.015939591626758644,0.01612908431164427,0.016322625591513314,0.016520393432415837,0.01672255731781441,0.01692927731674386,0.017140703168044998,0.01735697338449028,0.017578214380688458,0.0178045396287201,0.01803604884552161,0.018272827216093038,0.018514944656656835,0.018762455121939147,0.019015395960772615,0.019273787324238945,0.01953763163056486,0.019806913090963607,0.020081597300567192,0.020361630898521246,0.02064694130121126,0.02093743651245379,0.021233005014316034,0.02153351574201958,0.02183881814613959,0.02214874234502308,0.022463099370024414,0.022781681505786636,0.02310426272738893,0.023430599235728572,0.02376043009201789,0.024093477951749476,0.024429449897920393,0.02476803837271528,0.025108922206224984,0.025451767740134384,0.02579623004364891,0.026141954218253893,0.02648857678721455,0.026835727165040787,0.02718302920145764,0.027530102793754733,0.027876565560734243,0.0282220345708525,0.028566128116553884,0.02890846752624034,0.02924867900480805,0.029586395493221975,0.029921258537196252,0.030252920154706226,0.030581044691784475,0.030905310655848665,0.031225412515682182,0.03154106245713722,0.03185199208365893,0.03215795405083922,0.03245872362440193,0.03275410015129238,0.03304390843389902,0.033327999997866196,0.03360625424446376,0.03387857947905962,0.03414491380788769,0.03440522589601462,0.0346595155801763,0.03490781433097544,0.035150185559795495,0.035386724766689186,0.03561755952643485,0.03584284931091063,0.03606278514690949,0.03627758910950261,0.03648751365203798,0.03669284077484029,0.036893881035637545,0.037090972405682675,0.03728447897644894,0.03747478952265884,0.03766231592824268,0.03784749148261563,0.0380307690554058,0.03821261915845115,0.03839352790451304,0.03857399487271995,0.03875453089126008,0.03893565574827382,0.03911789584227199,0.03930178178369958,0.03948784595950493,0.039676620072730595,0.039868632669244744,0.04006440666376101,0.04026445687725705,0.04046928759781176,0.04067939017671696,0.04089524067150897,0.041117297547291196,0.041345999447396746,0.041581763044065606,0.04182498097939022,0.04207601990631858,0.04233521863899742,0.04260288642119276,0.04287930132094654,0.04316470875901149,0.043459320177965444,0.04376331185823237,0.04407682388654021,0.04439995928162444,0.044732783281245504,0.04507532279382498,0.045427566017230775,0.04578946222644638,0.0461609217310571,0.04654181600267216,0.04693197797157613,0.0473312024910823,0.047739246967224536,0.048155832150601326,0.04858064308635765,0.049013330217472915,0.04945351063571846,0.04990076947385057,0.05035466143183905,0.05081471242917265,0.051280421374565746,0.051751262043698336,0.05222668505496945,0.052706119932634465,0.05318897724613627,0.053674650813931336,0.05416251995966441,0.05465195180815917,0.05514230360837914,0.05563292507026724,0.056123160702214854,0.05661235213582611,0.057099840424651965,0.057584968303663345,0.05806708239641986,0.05854553535717211,0.059019687935512224,0.059488910951655934,0.059952587171009514,0.06041011306732721,0.060860900464519266,0.061304378047997744,0.061739992737375855,0.06216721091331975,0.06258551949242232,0.06299442684509661,0.06339346355266867,0.06378218300107673,0.06416016180985454,0.0645270000963655,0.06488232157656387,0.06522577350486956,0.065557026457051,0.06587577396129222,0.06618173198388166,0.06647463827716137,0.06675425159854699,0.06702035081050624,0.0672727338724102,0.06751121673609226,0.06773563215778629,0.0679458284398358,0.06814166811618685,0.06832302659616016,0.06848979078137366,0.06864185767091598,0.06877913296997502,0.06890152971709394,0.06900896694505128,0.0691013683900565,0.0691786612635089,0.06924077509999306,0.0692876406944854,0.06931918914091677,0.06933535098330895,0.0693360554896482,0.06932123005752489,0.06929079975933562,0.06924468703353805,0.06918281152707947,0.06910509009269195,0.06901143694328653,0.06890176396418236,0.06877598118240263,0.06863399739076391,0.06847572092298608,0.06830106057458983,0.06810992666291135,0.06790223221819792,0.0676778942964225,0.06743683540323242,0.06717898501728672,0.06690428120018867,0.06661267227927149,0.06630411858866403,0.0659785942533489,0.06563608900034806,0.0652766099807149,0.06490018358570397,0.06450685724031648,0.06409670115738474,0.06366981003547427,0.06322630468413257,0.06276633356040322,0.06229007420105635,0.06179773453564026,0.06128955406624876,0.06076580490080631,0.06022679262768785,0.059672857020617975,0.05910437256401322,0.0585217487902346,0.05792543042159662,0.05731589731142934,0.05669366417997419,0.05605928014244333,0.055413328028123036,0.054756423490987964,0.05408921391386829,0.05341237710977965,0.052726619825574465,0.052032676054574595,0.051331305166312166,0.050623289862897346,0.04990943397286506,0.04919056009459059,0.048467507102522095,0.04774112753052115,0.04701228484754822,0.04628185064174393,0.045550701729661934,0.04481971720796716,0.04408977546535615,0.043361751172742505,0.042636512269915154,0.04191491696688797,0.04119781077804096,0.04048602360688995,0.039780366898928346,0.039081630879458595,0.03839058189267582,0.03770795985750132,0.03703447585477226,0.03637080985941201,0.035717608630121266,0.035075483767958465,0.03444500995394056,0.033826723374482476,0.03322112034213792,0.0326286561177029,0.032049743938311455,0.031484754254713636,0.030934014179469446,0.030397807146354712,0.02987637277984935,0.029369906972187478,0.028878562164097298,0.028402447824059724,0.02794163111967929,0.027496137773591695,0.02706595309524667,0.026651023178904214,0.026251256257269668,0.02586652419938633,0.025496664140693636,0.025141480232554837,0.024800745498066757,0.02447420378057644,0.02416157177105503,0.023862541100314442,0.023576780481992132,0.023303937892280656,0.023043642772522736,0.022795508241044957,0.022559133300941364,0.022334105030946377,0.02212000074704848,0.02191639012307889,0.02172283725916588,0.021538902687656312,0.02136414530687769,0.021198124233924004,0.021040400568502163,0.020890539060755737,0.020748109676886655,0.02061268905731263,0.020483861863022354,0.02036122200671521,0.020244373766227484,0.0201329327786495,0.020026526914420528,0.01992479703154112,0.019827397610867784,0.01973399727423872,0.0196442791879255,0.019557941354601628,0.0194746967976705,0.019394273642390627,0.019316415098778107,0.019240879351751585,0.019167439364410652,0.01909588260070547,0.01902601067406145,0.018957638928768124,0.018890595961127014,0.018824723087477936,0.01875987376629138,0.018695912981522417,0.018632716594376885,0.018570170670541206,0.018508170789775992,0.0184466213445758,0.018385434834353086,0.018324531161317475,0.018263836933898464,0.018203284783196508,0.018142812697558797,0.018082363379955058,0.01802188363238698,0.017961323771102915,0.017900637075912624,0.01783977927640897,0.01777870807740982,0.017717382725435698,0.017655763617546137,0.01759381195336677,0.017531489430664886,0.017468757984363145,0.017405579568439227,0.017341915979733523,0.017277728722288842,0.01721297891047567,0.017147627208818225,0.017081633806131927,0.01701495842131345,0.016947560337895674,0.016879398464289454,0.016810431416484573,0.01674061761987659,0.016669915426821186,0.016598283246494972,0.01652567968366375,0.01645206368301806,0.016377394675838323,0.016301632725890036,0.016224738671624626,0.016146674261969706,0.016067402283231183,0.01598688667489547,0.015905092632409547,0.015821986695325578,0.015737536819522977,0.015651712432555604,0.015564484471516654,0.015475825403159914,0.01538570922635909,0.015294111457326936,0.015201009098340733,0.015106380591034396,0.01501020575560889,0.014912465717583203,0.01481314282395071,0.014712220550818573,0.014609683404789029,0.014505516820485193,0.014399707056733713,0.014292241093983938,0.014183106535575033,0.014072291515449756,0.013959784614865427,0.01384557479056056,0.013729651316708879,0.013612003742826574,0.013492621869599427,0.013371495744365242,0.013248615677726231,0.013123972282480394,0.012997556535753659,0.01286935986488919,0.01273937425731216,0.012607592394240724,0.012474007807764267,0.012338615060456694,0.012201409946350241,0.012062389711757913,0.011921553294112522,0.0117789015766876,0.011634437656787068,0.011488167124736708,0.01134009835078832,0.011190242776857377,0.011038615209861819,0.010885234113311716,0.010730121893723896,0.01057330517839888,0.010414815081101448,0.01025468745223267,0.010092963110167198,0.009929688050555883,0.009764913630558248,0.009598696725169496,0.00943109985304156,0.009262191269463142,0.009092045024456718,0.008920740984268934,0.008748364814867546,0.008575007926415593,0.008400767378057516,0.008225745742730474,0.008050050932091253,0.007873795982029117,0.007697098799608924,0.007520081872652872,0.007342871943523296,0.007165599649002738,0.006988399128483502,0.006811407602970704,0.006634764927668094,0.006458613121152017,0.006283095874344202,0.0061083580426672225,0.005934545124902585,0.005761802732376478],\"yaxis\":\"y\",\"type\":\"scatter\"},{\"legendgroup\":\"Distribui\\u00e7\\u00e3o da vari\\u00e1vel MEDV (n\\u00famero de quartos)\",\"marker\":{\"color\":\"rgb(31, 119, 180)\",\"symbol\":\"line-ns-open\"},\"mode\":\"markers\",\"name\":\"Distribui\\u00e7\\u00e3o da vari\\u00e1vel MEDV (n\\u00famero de quartos)\",\"showlegend\":false,\"x\":[24.0,21.6,34.7,33.4,36.2,28.7,22.9,22.1,16.5,18.9,15.0,18.9,21.7,20.4,18.2,19.9,23.1,17.5,20.2,18.2,13.6,19.6,15.2,14.5,15.6,13.9,16.6,14.8,18.4,21.0,12.7,14.5,13.2,13.1,13.5,18.9,20.0,21.0,24.2,30.8,34.9,26.6,25.3,24.7,21.2,19.3,20.0,16.6,14.4,19.4,19.7,20.5,25.0,23.4,18.9,35.4,24.7,31.6,23.3,19.6,18.7,16.0,22.2,25.0,33.0,23.5,19.4,22.0,17.4,20.9,24.2,21.7,22.8,23.4,24.1,21.4,20.0,20.8,21.2,20.3,28.0,23.9,24.8,22.9,23.9,26.6,22.5,22.2,23.6,28.7,22.6,22.0,22.9,25.0,20.6,28.4,21.4,33.2,27.5,26.5,18.6,19.3,20.1,19.5,19.5,20.4,19.8,19.4,21.7,22.8,18.8,18.7,18.5,18.3,21.2,19.2,20.4,19.3,22.0,20.3,20.5,17.3,18.8,21.4,15.7,16.2,18.0,14.3,19.2,19.6,23.0,18.4,15.6,18.1,17.4,17.1,13.3,17.8,14.0,14.4,13.4,15.6,11.8,13.8,15.6,14.6,17.8,15.4,21.5,19.6,15.3,19.4,17.0,15.6,13.1,24.3,23.3,27.0,22.7,25.0,23.8,23.8,22.3,17.4,19.1,23.1,23.6,22.6,29.4,23.2,24.6,29.9,37.2,36.2,32.5,26.4,29.6,32.0,29.8,34.9,33.0,30.5,36.4,31.1,29.1,33.3,30.3,34.6,34.9,32.9,24.1,22.6,24.4,22.5,24.4,20.0,21.7,19.3,22.4,28.1,23.7,25.0,23.3,28.7,21.5,23.0,26.7,21.7,27.5,30.1,31.6,31.5,24.3,31.7,29.0,24.0,25.1,31.5,23.7,23.3,27.0,20.1,22.2,23.7,17.6,18.5,24.3,20.5,24.5,26.2,24.4,24.8,29.6,21.9,20.9,36.0,30.1,33.8,31.0,36.5,22.8,30.7,20.7,21.1,25.2,24.4,35.2,32.4,32.0,33.2,33.1,29.1,35.1,35.4,32.2,22.0,20.1,23.2,22.3,24.8,28.5,27.9,23.9,21.7,28.6,27.1,20.3,22.5,29.0,24.8,22.0,26.4,33.1,36.1,28.4,33.4,28.2,22.8,20.3,16.1,22.1,19.4,21.6,23.8,16.2,17.8,19.8,23.1,21.0,23.8,23.1,20.4,18.5,25.0,24.6,23.0,22.2,19.3,22.6,19.8,17.1,19.4,22.2,20.7,21.1,19.5,18.5,20.6,19.0,18.7,32.7,16.5,23.9,31.2,17.5,17.2,23.1,24.5,26.6,22.9,24.1,18.6,30.1,18.2,20.6,17.8,21.7,22.7,22.6,25.0,19.9,20.8,16.8,21.9,27.5,21.9,23.1,13.8,13.8,15.0,13.9,13.3,13.1,10.2,10.4,10.9,11.3,12.3,8.8,7.2,10.5,7.4,10.2,11.5,15.1,23.2,9.7,13.8,12.7,13.1,12.5,8.5,5.0,6.3,5.6,7.2,12.1,8.3,8.5,5.0,11.9,27.9,17.2,27.5,15.0,17.2,17.9,16.3,7.0,7.2,7.5,10.4,8.8,8.4,16.7,14.2,20.8,13.4,11.7,8.3,10.2,10.9,11.0,9.5,14.5,14.1,16.1,14.3,11.7,13.4,9.6,8.2,8.4,12.8,10.5,17.1,14.8,15.4,10.8,11.8,14.9,12.6,14.1,13.0,13.4,15.2,16.1,17.8,14.4,14.1,12.7,13.5,14.9,20.0,16.4,17.7,19.5,20.2,21.4,19.9,19.0,19.1,19.1,20.1,19.9,19.6,23.2,29.8,13.8,13.3,16.7,12.0,14.6,21.4,23.0,23.7,25.0,21.8,20.6,21.2,19.1,20.6,15.2,7.0,8.1,13.6,20.1,21.8,24.5,23.1,19.7,18.3,21.2,17.5,16.8,22.4,20.6,23.9,22.0,19.0],\"xaxis\":\"x\",\"y\":[\"Distribui\\u00e7\\u00e3o da vari\\u00e1vel MEDV (n\\u00famero de quartos)\",\"Distribui\\u00e7\\u00e3o da vari\\u00e1vel MEDV (n\\u00famero de quartos)\",\"Distribui\\u00e7\\u00e3o da vari\\u00e1vel MEDV (n\\u00famero de quartos)\",\"Distribui\\u00e7\\u00e3o da vari\\u00e1vel MEDV (n\\u00famero de quartos)\",\"Distribui\\u00e7\\u00e3o da vari\\u00e1vel MEDV (n\\u00famero de quartos)\",\"Distribui\\u00e7\\u00e3o da vari\\u00e1vel MEDV (n\\u00famero de quartos)\",\"Distribui\\u00e7\\u00e3o da vari\\u00e1vel MEDV (n\\u00famero de quartos)\",\"Distribui\\u00e7\\u00e3o da vari\\u00e1vel MEDV (n\\u00famero de quartos)\",\"Distribui\\u00e7\\u00e3o da vari\\u00e1vel MEDV (n\\u00famero de quartos)\",\"Distribui\\u00e7\\u00e3o da vari\\u00e1vel MEDV (n\\u00famero de quartos)\",\"Distribui\\u00e7\\u00e3o da vari\\u00e1vel MEDV (n\\u00famero de quartos)\",\"Distribui\\u00e7\\u00e3o da vari\\u00e1vel MEDV (n\\u00famero de quartos)\",\"Distribui\\u00e7\\u00e3o da vari\\u00e1vel MEDV (n\\u00famero de quartos)\",\"Distribui\\u00e7\\u00e3o da vari\\u00e1vel MEDV (n\\u00famero de quartos)\",\"Distribui\\u00e7\\u00e3o da vari\\u00e1vel MEDV (n\\u00famero de quartos)\",\"Distribui\\u00e7\\u00e3o da vari\\u00e1vel MEDV (n\\u00famero de quartos)\",\"Distribui\\u00e7\\u00e3o da vari\\u00e1vel MEDV (n\\u00famero de quartos)\",\"Distribui\\u00e7\\u00e3o da vari\\u00e1vel MEDV (n\\u00famero de quartos)\",\"Distribui\\u00e7\\u00e3o da vari\\u00e1vel MEDV (n\\u00famero de quartos)\",\"Distribui\\u00e7\\u00e3o da vari\\u00e1vel MEDV (n\\u00famero de quartos)\",\"Distribui\\u00e7\\u00e3o da vari\\u00e1vel MEDV (n\\u00famero de quartos)\",\"Distribui\\u00e7\\u00e3o da vari\\u00e1vel MEDV (n\\u00famero de quartos)\",\"Distribui\\u00e7\\u00e3o da vari\\u00e1vel MEDV (n\\u00famero de quartos)\",\"Distribui\\u00e7\\u00e3o da vari\\u00e1vel MEDV (n\\u00famero de quartos)\",\"Distribui\\u00e7\\u00e3o da vari\\u00e1vel MEDV (n\\u00famero de quartos)\",\"Distribui\\u00e7\\u00e3o da vari\\u00e1vel MEDV (n\\u00famero de quartos)\",\"Distribui\\u00e7\\u00e3o da vari\\u00e1vel MEDV (n\\u00famero de quartos)\",\"Distribui\\u00e7\\u00e3o da vari\\u00e1vel MEDV (n\\u00famero de quartos)\",\"Distribui\\u00e7\\u00e3o da vari\\u00e1vel MEDV (n\\u00famero de quartos)\",\"Distribui\\u00e7\\u00e3o da vari\\u00e1vel MEDV (n\\u00famero de quartos)\",\"Distribui\\u00e7\\u00e3o da vari\\u00e1vel MEDV (n\\u00famero de quartos)\",\"Distribui\\u00e7\\u00e3o da vari\\u00e1vel MEDV (n\\u00famero de quartos)\",\"Distribui\\u00e7\\u00e3o da vari\\u00e1vel MEDV (n\\u00famero de quartos)\",\"Distribui\\u00e7\\u00e3o da vari\\u00e1vel MEDV (n\\u00famero de quartos)\",\"Distribui\\u00e7\\u00e3o da vari\\u00e1vel MEDV (n\\u00famero de quartos)\",\"Distribui\\u00e7\\u00e3o da vari\\u00e1vel MEDV (n\\u00famero de quartos)\",\"Distribui\\u00e7\\u00e3o da vari\\u00e1vel MEDV (n\\u00famero de quartos)\",\"Distribui\\u00e7\\u00e3o da vari\\u00e1vel MEDV (n\\u00famero de quartos)\",\"Distribui\\u00e7\\u00e3o da vari\\u00e1vel MEDV (n\\u00famero de quartos)\",\"Distribui\\u00e7\\u00e3o da vari\\u00e1vel MEDV (n\\u00famero de quartos)\",\"Distribui\\u00e7\\u00e3o da vari\\u00e1vel MEDV (n\\u00famero de quartos)\",\"Distribui\\u00e7\\u00e3o da vari\\u00e1vel MEDV (n\\u00famero de quartos)\",\"Distribui\\u00e7\\u00e3o da vari\\u00e1vel MEDV (n\\u00famero de quartos)\",\"Distribui\\u00e7\\u00e3o da vari\\u00e1vel MEDV (n\\u00famero de quartos)\",\"Distribui\\u00e7\\u00e3o da vari\\u00e1vel MEDV (n\\u00famero de quartos)\",\"Distribui\\u00e7\\u00e3o da vari\\u00e1vel MEDV (n\\u00famero de quartos)\",\"Distribui\\u00e7\\u00e3o da vari\\u00e1vel MEDV (n\\u00famero de quartos)\",\"Distribui\\u00e7\\u00e3o da vari\\u00e1vel MEDV (n\\u00famero de quartos)\",\"Distribui\\u00e7\\u00e3o da vari\\u00e1vel MEDV (n\\u00famero de quartos)\",\"Distribui\\u00e7\\u00e3o da vari\\u00e1vel MEDV (n\\u00famero de quartos)\",\"Distribui\\u00e7\\u00e3o da vari\\u00e1vel MEDV (n\\u00famero de quartos)\",\"Distribui\\u00e7\\u00e3o da vari\\u00e1vel MEDV (n\\u00famero de quartos)\",\"Distribui\\u00e7\\u00e3o da vari\\u00e1vel MEDV (n\\u00famero de quartos)\",\"Distribui\\u00e7\\u00e3o da vari\\u00e1vel MEDV (n\\u00famero de quartos)\",\"Distribui\\u00e7\\u00e3o da vari\\u00e1vel MEDV (n\\u00famero de quartos)\",\"Distribui\\u00e7\\u00e3o da vari\\u00e1vel MEDV (n\\u00famero de quartos)\",\"Distribui\\u00e7\\u00e3o da vari\\u00e1vel MEDV (n\\u00famero de quartos)\",\"Distribui\\u00e7\\u00e3o da vari\\u00e1vel MEDV (n\\u00famero de quartos)\",\"Distribui\\u00e7\\u00e3o da vari\\u00e1vel MEDV (n\\u00famero de quartos)\",\"Distribui\\u00e7\\u00e3o da vari\\u00e1vel MEDV (n\\u00famero de quartos)\",\"Distribui\\u00e7\\u00e3o da vari\\u00e1vel MEDV (n\\u00famero de quartos)\",\"Distribui\\u00e7\\u00e3o da vari\\u00e1vel MEDV (n\\u00famero de quartos)\",\"Distribui\\u00e7\\u00e3o da vari\\u00e1vel MEDV (n\\u00famero de quartos)\",\"Distribui\\u00e7\\u00e3o da vari\\u00e1vel MEDV (n\\u00famero de quartos)\",\"Distribui\\u00e7\\u00e3o da vari\\u00e1vel MEDV (n\\u00famero de quartos)\",\"Distribui\\u00e7\\u00e3o da vari\\u00e1vel MEDV (n\\u00famero de quartos)\",\"Distribui\\u00e7\\u00e3o da vari\\u00e1vel MEDV (n\\u00famero de quartos)\",\"Distribui\\u00e7\\u00e3o da vari\\u00e1vel MEDV (n\\u00famero de quartos)\",\"Distribui\\u00e7\\u00e3o da vari\\u00e1vel MEDV (n\\u00famero de quartos)\",\"Distribui\\u00e7\\u00e3o da vari\\u00e1vel MEDV (n\\u00famero de quartos)\",\"Distribui\\u00e7\\u00e3o da vari\\u00e1vel MEDV (n\\u00famero de quartos)\",\"Distribui\\u00e7\\u00e3o da vari\\u00e1vel MEDV (n\\u00famero de quartos)\",\"Distribui\\u00e7\\u00e3o da vari\\u00e1vel MEDV (n\\u00famero de quartos)\",\"Distribui\\u00e7\\u00e3o da vari\\u00e1vel MEDV (n\\u00famero de quartos)\",\"Distribui\\u00e7\\u00e3o da vari\\u00e1vel MEDV (n\\u00famero de quartos)\",\"Distribui\\u00e7\\u00e3o da vari\\u00e1vel MEDV (n\\u00famero de quartos)\",\"Distribui\\u00e7\\u00e3o da vari\\u00e1vel MEDV (n\\u00famero de quartos)\",\"Distribui\\u00e7\\u00e3o da vari\\u00e1vel MEDV (n\\u00famero de quartos)\",\"Distribui\\u00e7\\u00e3o da vari\\u00e1vel MEDV (n\\u00famero de quartos)\",\"Distribui\\u00e7\\u00e3o da vari\\u00e1vel MEDV (n\\u00famero de quartos)\",\"Distribui\\u00e7\\u00e3o da vari\\u00e1vel MEDV (n\\u00famero de quartos)\",\"Distribui\\u00e7\\u00e3o da vari\\u00e1vel MEDV (n\\u00famero de quartos)\",\"Distribui\\u00e7\\u00e3o da vari\\u00e1vel MEDV (n\\u00famero de quartos)\",\"Distribui\\u00e7\\u00e3o da vari\\u00e1vel MEDV (n\\u00famero de quartos)\",\"Distribui\\u00e7\\u00e3o da vari\\u00e1vel MEDV (n\\u00famero de quartos)\",\"Distribui\\u00e7\\u00e3o da vari\\u00e1vel MEDV (n\\u00famero de quartos)\",\"Distribui\\u00e7\\u00e3o da vari\\u00e1vel MEDV (n\\u00famero de quartos)\",\"Distribui\\u00e7\\u00e3o da vari\\u00e1vel MEDV (n\\u00famero de quartos)\",\"Distribui\\u00e7\\u00e3o da vari\\u00e1vel MEDV (n\\u00famero de quartos)\",\"Distribui\\u00e7\\u00e3o da vari\\u00e1vel MEDV (n\\u00famero de quartos)\",\"Distribui\\u00e7\\u00e3o da vari\\u00e1vel MEDV (n\\u00famero de quartos)\",\"Distribui\\u00e7\\u00e3o da vari\\u00e1vel MEDV (n\\u00famero de quartos)\",\"Distribui\\u00e7\\u00e3o da vari\\u00e1vel MEDV (n\\u00famero de quartos)\",\"Distribui\\u00e7\\u00e3o da vari\\u00e1vel MEDV (n\\u00famero de quartos)\",\"Distribui\\u00e7\\u00e3o da vari\\u00e1vel MEDV (n\\u00famero de quartos)\",\"Distribui\\u00e7\\u00e3o da vari\\u00e1vel MEDV (n\\u00famero de quartos)\",\"Distribui\\u00e7\\u00e3o da vari\\u00e1vel MEDV (n\\u00famero de quartos)\",\"Distribui\\u00e7\\u00e3o da vari\\u00e1vel MEDV (n\\u00famero de quartos)\",\"Distribui\\u00e7\\u00e3o da vari\\u00e1vel MEDV (n\\u00famero de quartos)\",\"Distribui\\u00e7\\u00e3o da vari\\u00e1vel MEDV (n\\u00famero de quartos)\",\"Distribui\\u00e7\\u00e3o da vari\\u00e1vel MEDV (n\\u00famero de quartos)\",\"Distribui\\u00e7\\u00e3o da vari\\u00e1vel MEDV (n\\u00famero de quartos)\",\"Distribui\\u00e7\\u00e3o da vari\\u00e1vel MEDV (n\\u00famero de quartos)\",\"Distribui\\u00e7\\u00e3o da vari\\u00e1vel MEDV (n\\u00famero de quartos)\",\"Distribui\\u00e7\\u00e3o da vari\\u00e1vel MEDV (n\\u00famero de quartos)\",\"Distribui\\u00e7\\u00e3o da vari\\u00e1vel MEDV (n\\u00famero de quartos)\",\"Distribui\\u00e7\\u00e3o da vari\\u00e1vel MEDV (n\\u00famero de quartos)\",\"Distribui\\u00e7\\u00e3o da vari\\u00e1vel MEDV (n\\u00famero de quartos)\",\"Distribui\\u00e7\\u00e3o da vari\\u00e1vel MEDV (n\\u00famero de quartos)\",\"Distribui\\u00e7\\u00e3o da vari\\u00e1vel MEDV (n\\u00famero de quartos)\",\"Distribui\\u00e7\\u00e3o da vari\\u00e1vel MEDV (n\\u00famero de quartos)\",\"Distribui\\u00e7\\u00e3o da vari\\u00e1vel MEDV (n\\u00famero de quartos)\",\"Distribui\\u00e7\\u00e3o da vari\\u00e1vel MEDV (n\\u00famero de quartos)\",\"Distribui\\u00e7\\u00e3o da vari\\u00e1vel MEDV (n\\u00famero de quartos)\",\"Distribui\\u00e7\\u00e3o da vari\\u00e1vel MEDV (n\\u00famero de quartos)\",\"Distribui\\u00e7\\u00e3o da vari\\u00e1vel MEDV (n\\u00famero de quartos)\",\"Distribui\\u00e7\\u00e3o da vari\\u00e1vel MEDV (n\\u00famero de quartos)\",\"Distribui\\u00e7\\u00e3o da vari\\u00e1vel MEDV (n\\u00famero de quartos)\",\"Distribui\\u00e7\\u00e3o da vari\\u00e1vel MEDV (n\\u00famero de quartos)\",\"Distribui\\u00e7\\u00e3o da vari\\u00e1vel MEDV (n\\u00famero de quartos)\",\"Distribui\\u00e7\\u00e3o da vari\\u00e1vel MEDV (n\\u00famero de quartos)\",\"Distribui\\u00e7\\u00e3o da vari\\u00e1vel MEDV (n\\u00famero de quartos)\",\"Distribui\\u00e7\\u00e3o da vari\\u00e1vel MEDV (n\\u00famero de quartos)\",\"Distribui\\u00e7\\u00e3o da vari\\u00e1vel MEDV (n\\u00famero de quartos)\",\"Distribui\\u00e7\\u00e3o da vari\\u00e1vel MEDV (n\\u00famero de quartos)\",\"Distribui\\u00e7\\u00e3o da vari\\u00e1vel MEDV (n\\u00famero de quartos)\",\"Distribui\\u00e7\\u00e3o da vari\\u00e1vel MEDV (n\\u00famero de quartos)\",\"Distribui\\u00e7\\u00e3o da vari\\u00e1vel MEDV (n\\u00famero de quartos)\",\"Distribui\\u00e7\\u00e3o da vari\\u00e1vel MEDV (n\\u00famero de quartos)\",\"Distribui\\u00e7\\u00e3o da vari\\u00e1vel MEDV (n\\u00famero de quartos)\",\"Distribui\\u00e7\\u00e3o da vari\\u00e1vel MEDV (n\\u00famero de quartos)\",\"Distribui\\u00e7\\u00e3o da vari\\u00e1vel MEDV (n\\u00famero de quartos)\",\"Distribui\\u00e7\\u00e3o da vari\\u00e1vel MEDV (n\\u00famero de quartos)\",\"Distribui\\u00e7\\u00e3o da vari\\u00e1vel MEDV (n\\u00famero de quartos)\",\"Distribui\\u00e7\\u00e3o da vari\\u00e1vel MEDV (n\\u00famero de quartos)\",\"Distribui\\u00e7\\u00e3o da vari\\u00e1vel MEDV (n\\u00famero de quartos)\",\"Distribui\\u00e7\\u00e3o da vari\\u00e1vel MEDV (n\\u00famero de quartos)\",\"Distribui\\u00e7\\u00e3o da vari\\u00e1vel MEDV (n\\u00famero de quartos)\",\"Distribui\\u00e7\\u00e3o da vari\\u00e1vel MEDV (n\\u00famero de quartos)\",\"Distribui\\u00e7\\u00e3o da vari\\u00e1vel MEDV (n\\u00famero de quartos)\",\"Distribui\\u00e7\\u00e3o da vari\\u00e1vel MEDV (n\\u00famero de quartos)\",\"Distribui\\u00e7\\u00e3o da vari\\u00e1vel MEDV (n\\u00famero de quartos)\",\"Distribui\\u00e7\\u00e3o da vari\\u00e1vel MEDV (n\\u00famero de quartos)\",\"Distribui\\u00e7\\u00e3o da vari\\u00e1vel MEDV (n\\u00famero de quartos)\",\"Distribui\\u00e7\\u00e3o da vari\\u00e1vel MEDV (n\\u00famero de quartos)\",\"Distribui\\u00e7\\u00e3o da vari\\u00e1vel MEDV (n\\u00famero de quartos)\",\"Distribui\\u00e7\\u00e3o da vari\\u00e1vel MEDV (n\\u00famero de quartos)\",\"Distribui\\u00e7\\u00e3o da vari\\u00e1vel MEDV (n\\u00famero de quartos)\",\"Distribui\\u00e7\\u00e3o da vari\\u00e1vel MEDV (n\\u00famero de quartos)\",\"Distribui\\u00e7\\u00e3o da vari\\u00e1vel MEDV (n\\u00famero de quartos)\",\"Distribui\\u00e7\\u00e3o da vari\\u00e1vel MEDV (n\\u00famero de quartos)\",\"Distribui\\u00e7\\u00e3o da vari\\u00e1vel MEDV (n\\u00famero de quartos)\",\"Distribui\\u00e7\\u00e3o da vari\\u00e1vel MEDV (n\\u00famero de quartos)\",\"Distribui\\u00e7\\u00e3o da vari\\u00e1vel MEDV (n\\u00famero de quartos)\",\"Distribui\\u00e7\\u00e3o da vari\\u00e1vel MEDV (n\\u00famero de quartos)\",\"Distribui\\u00e7\\u00e3o da vari\\u00e1vel MEDV (n\\u00famero de quartos)\",\"Distribui\\u00e7\\u00e3o da vari\\u00e1vel MEDV (n\\u00famero de quartos)\",\"Distribui\\u00e7\\u00e3o da vari\\u00e1vel MEDV (n\\u00famero de quartos)\",\"Distribui\\u00e7\\u00e3o da vari\\u00e1vel MEDV (n\\u00famero de quartos)\",\"Distribui\\u00e7\\u00e3o da vari\\u00e1vel MEDV (n\\u00famero de quartos)\",\"Distribui\\u00e7\\u00e3o da vari\\u00e1vel MEDV (n\\u00famero de quartos)\",\"Distribui\\u00e7\\u00e3o da vari\\u00e1vel MEDV (n\\u00famero de quartos)\",\"Distribui\\u00e7\\u00e3o da vari\\u00e1vel MEDV (n\\u00famero de quartos)\",\"Distribui\\u00e7\\u00e3o da vari\\u00e1vel MEDV (n\\u00famero de quartos)\",\"Distribui\\u00e7\\u00e3o da vari\\u00e1vel MEDV (n\\u00famero de quartos)\",\"Distribui\\u00e7\\u00e3o da vari\\u00e1vel MEDV (n\\u00famero de quartos)\",\"Distribui\\u00e7\\u00e3o da vari\\u00e1vel MEDV (n\\u00famero de quartos)\",\"Distribui\\u00e7\\u00e3o da vari\\u00e1vel MEDV (n\\u00famero de quartos)\",\"Distribui\\u00e7\\u00e3o da vari\\u00e1vel MEDV (n\\u00famero de quartos)\",\"Distribui\\u00e7\\u00e3o da vari\\u00e1vel MEDV (n\\u00famero de quartos)\",\"Distribui\\u00e7\\u00e3o da vari\\u00e1vel MEDV (n\\u00famero de quartos)\",\"Distribui\\u00e7\\u00e3o da vari\\u00e1vel MEDV (n\\u00famero de quartos)\",\"Distribui\\u00e7\\u00e3o da vari\\u00e1vel MEDV (n\\u00famero de quartos)\",\"Distribui\\u00e7\\u00e3o da vari\\u00e1vel MEDV (n\\u00famero de quartos)\",\"Distribui\\u00e7\\u00e3o da vari\\u00e1vel MEDV (n\\u00famero de quartos)\",\"Distribui\\u00e7\\u00e3o da vari\\u00e1vel MEDV (n\\u00famero de quartos)\",\"Distribui\\u00e7\\u00e3o da vari\\u00e1vel MEDV (n\\u00famero de quartos)\",\"Distribui\\u00e7\\u00e3o da vari\\u00e1vel MEDV (n\\u00famero de quartos)\",\"Distribui\\u00e7\\u00e3o da vari\\u00e1vel MEDV (n\\u00famero de quartos)\",\"Distribui\\u00e7\\u00e3o da vari\\u00e1vel MEDV (n\\u00famero de quartos)\",\"Distribui\\u00e7\\u00e3o da vari\\u00e1vel MEDV (n\\u00famero de quartos)\",\"Distribui\\u00e7\\u00e3o da vari\\u00e1vel MEDV (n\\u00famero de quartos)\",\"Distribui\\u00e7\\u00e3o da vari\\u00e1vel MEDV (n\\u00famero de quartos)\",\"Distribui\\u00e7\\u00e3o da vari\\u00e1vel MEDV (n\\u00famero de quartos)\",\"Distribui\\u00e7\\u00e3o da vari\\u00e1vel MEDV (n\\u00famero de quartos)\",\"Distribui\\u00e7\\u00e3o da vari\\u00e1vel MEDV (n\\u00famero de quartos)\",\"Distribui\\u00e7\\u00e3o da vari\\u00e1vel MEDV (n\\u00famero de quartos)\",\"Distribui\\u00e7\\u00e3o da vari\\u00e1vel MEDV (n\\u00famero de quartos)\",\"Distribui\\u00e7\\u00e3o da vari\\u00e1vel MEDV (n\\u00famero de quartos)\",\"Distribui\\u00e7\\u00e3o da vari\\u00e1vel MEDV (n\\u00famero de quartos)\",\"Distribui\\u00e7\\u00e3o da vari\\u00e1vel MEDV (n\\u00famero de quartos)\",\"Distribui\\u00e7\\u00e3o da vari\\u00e1vel MEDV (n\\u00famero de quartos)\",\"Distribui\\u00e7\\u00e3o da vari\\u00e1vel MEDV (n\\u00famero de quartos)\",\"Distribui\\u00e7\\u00e3o da vari\\u00e1vel MEDV (n\\u00famero de quartos)\",\"Distribui\\u00e7\\u00e3o da vari\\u00e1vel MEDV (n\\u00famero de quartos)\",\"Distribui\\u00e7\\u00e3o da vari\\u00e1vel MEDV (n\\u00famero de quartos)\",\"Distribui\\u00e7\\u00e3o da vari\\u00e1vel MEDV (n\\u00famero de quartos)\",\"Distribui\\u00e7\\u00e3o da vari\\u00e1vel MEDV (n\\u00famero de quartos)\",\"Distribui\\u00e7\\u00e3o da vari\\u00e1vel MEDV (n\\u00famero de quartos)\",\"Distribui\\u00e7\\u00e3o da vari\\u00e1vel MEDV (n\\u00famero de quartos)\",\"Distribui\\u00e7\\u00e3o da vari\\u00e1vel MEDV (n\\u00famero de quartos)\",\"Distribui\\u00e7\\u00e3o da vari\\u00e1vel MEDV (n\\u00famero de quartos)\",\"Distribui\\u00e7\\u00e3o da vari\\u00e1vel MEDV (n\\u00famero de quartos)\",\"Distribui\\u00e7\\u00e3o da vari\\u00e1vel MEDV (n\\u00famero de quartos)\",\"Distribui\\u00e7\\u00e3o da vari\\u00e1vel MEDV (n\\u00famero de quartos)\",\"Distribui\\u00e7\\u00e3o da vari\\u00e1vel MEDV (n\\u00famero de quartos)\",\"Distribui\\u00e7\\u00e3o da vari\\u00e1vel MEDV (n\\u00famero de quartos)\",\"Distribui\\u00e7\\u00e3o da vari\\u00e1vel MEDV (n\\u00famero de quartos)\",\"Distribui\\u00e7\\u00e3o da vari\\u00e1vel MEDV (n\\u00famero de quartos)\",\"Distribui\\u00e7\\u00e3o da vari\\u00e1vel MEDV (n\\u00famero de quartos)\",\"Distribui\\u00e7\\u00e3o da vari\\u00e1vel MEDV (n\\u00famero de quartos)\",\"Distribui\\u00e7\\u00e3o da vari\\u00e1vel MEDV (n\\u00famero de quartos)\",\"Distribui\\u00e7\\u00e3o da vari\\u00e1vel MEDV (n\\u00famero de quartos)\",\"Distribui\\u00e7\\u00e3o da vari\\u00e1vel MEDV (n\\u00famero de quartos)\",\"Distribui\\u00e7\\u00e3o da vari\\u00e1vel MEDV (n\\u00famero de quartos)\",\"Distribui\\u00e7\\u00e3o da vari\\u00e1vel MEDV (n\\u00famero de quartos)\",\"Distribui\\u00e7\\u00e3o da vari\\u00e1vel MEDV (n\\u00famero de quartos)\",\"Distribui\\u00e7\\u00e3o da vari\\u00e1vel MEDV (n\\u00famero de quartos)\",\"Distribui\\u00e7\\u00e3o da vari\\u00e1vel MEDV (n\\u00famero de quartos)\",\"Distribui\\u00e7\\u00e3o da vari\\u00e1vel MEDV (n\\u00famero de quartos)\",\"Distribui\\u00e7\\u00e3o da vari\\u00e1vel MEDV (n\\u00famero de quartos)\",\"Distribui\\u00e7\\u00e3o da vari\\u00e1vel MEDV (n\\u00famero de quartos)\",\"Distribui\\u00e7\\u00e3o da vari\\u00e1vel MEDV (n\\u00famero de quartos)\",\"Distribui\\u00e7\\u00e3o da vari\\u00e1vel MEDV (n\\u00famero de quartos)\",\"Distribui\\u00e7\\u00e3o da vari\\u00e1vel MEDV (n\\u00famero de quartos)\",\"Distribui\\u00e7\\u00e3o da vari\\u00e1vel MEDV (n\\u00famero de quartos)\",\"Distribui\\u00e7\\u00e3o da vari\\u00e1vel MEDV (n\\u00famero de quartos)\",\"Distribui\\u00e7\\u00e3o da vari\\u00e1vel MEDV (n\\u00famero de quartos)\",\"Distribui\\u00e7\\u00e3o da vari\\u00e1vel MEDV (n\\u00famero de quartos)\",\"Distribui\\u00e7\\u00e3o da vari\\u00e1vel MEDV (n\\u00famero de quartos)\",\"Distribui\\u00e7\\u00e3o da vari\\u00e1vel MEDV (n\\u00famero de quartos)\",\"Distribui\\u00e7\\u00e3o da vari\\u00e1vel MEDV (n\\u00famero de quartos)\",\"Distribui\\u00e7\\u00e3o da vari\\u00e1vel MEDV (n\\u00famero de quartos)\",\"Distribui\\u00e7\\u00e3o da vari\\u00e1vel MEDV (n\\u00famero de quartos)\",\"Distribui\\u00e7\\u00e3o da vari\\u00e1vel MEDV (n\\u00famero de quartos)\",\"Distribui\\u00e7\\u00e3o da vari\\u00e1vel MEDV (n\\u00famero de quartos)\",\"Distribui\\u00e7\\u00e3o da vari\\u00e1vel MEDV (n\\u00famero de quartos)\",\"Distribui\\u00e7\\u00e3o da vari\\u00e1vel MEDV (n\\u00famero de quartos)\",\"Distribui\\u00e7\\u00e3o da vari\\u00e1vel MEDV (n\\u00famero de quartos)\",\"Distribui\\u00e7\\u00e3o da vari\\u00e1vel MEDV (n\\u00famero de quartos)\",\"Distribui\\u00e7\\u00e3o da vari\\u00e1vel MEDV (n\\u00famero de quartos)\",\"Distribui\\u00e7\\u00e3o da vari\\u00e1vel MEDV (n\\u00famero de quartos)\",\"Distribui\\u00e7\\u00e3o da vari\\u00e1vel MEDV (n\\u00famero de quartos)\",\"Distribui\\u00e7\\u00e3o da vari\\u00e1vel MEDV (n\\u00famero de quartos)\",\"Distribui\\u00e7\\u00e3o da vari\\u00e1vel MEDV (n\\u00famero de quartos)\",\"Distribui\\u00e7\\u00e3o da vari\\u00e1vel MEDV (n\\u00famero de quartos)\",\"Distribui\\u00e7\\u00e3o da vari\\u00e1vel MEDV (n\\u00famero de quartos)\",\"Distribui\\u00e7\\u00e3o da vari\\u00e1vel MEDV (n\\u00famero de quartos)\",\"Distribui\\u00e7\\u00e3o da vari\\u00e1vel MEDV (n\\u00famero de quartos)\",\"Distribui\\u00e7\\u00e3o da vari\\u00e1vel MEDV (n\\u00famero de quartos)\",\"Distribui\\u00e7\\u00e3o da vari\\u00e1vel MEDV (n\\u00famero de quartos)\",\"Distribui\\u00e7\\u00e3o da vari\\u00e1vel MEDV (n\\u00famero de quartos)\",\"Distribui\\u00e7\\u00e3o da vari\\u00e1vel MEDV (n\\u00famero de quartos)\",\"Distribui\\u00e7\\u00e3o da vari\\u00e1vel MEDV (n\\u00famero de quartos)\",\"Distribui\\u00e7\\u00e3o da vari\\u00e1vel MEDV (n\\u00famero de quartos)\",\"Distribui\\u00e7\\u00e3o da vari\\u00e1vel MEDV (n\\u00famero de quartos)\",\"Distribui\\u00e7\\u00e3o da vari\\u00e1vel MEDV (n\\u00famero de quartos)\",\"Distribui\\u00e7\\u00e3o da vari\\u00e1vel MEDV (n\\u00famero de quartos)\",\"Distribui\\u00e7\\u00e3o da vari\\u00e1vel MEDV (n\\u00famero de quartos)\",\"Distribui\\u00e7\\u00e3o da vari\\u00e1vel MEDV (n\\u00famero de quartos)\",\"Distribui\\u00e7\\u00e3o da vari\\u00e1vel MEDV (n\\u00famero de quartos)\",\"Distribui\\u00e7\\u00e3o da vari\\u00e1vel MEDV (n\\u00famero de quartos)\",\"Distribui\\u00e7\\u00e3o da vari\\u00e1vel MEDV (n\\u00famero de quartos)\",\"Distribui\\u00e7\\u00e3o da vari\\u00e1vel MEDV (n\\u00famero de quartos)\",\"Distribui\\u00e7\\u00e3o da vari\\u00e1vel MEDV (n\\u00famero de quartos)\",\"Distribui\\u00e7\\u00e3o da vari\\u00e1vel MEDV (n\\u00famero de quartos)\",\"Distribui\\u00e7\\u00e3o da vari\\u00e1vel MEDV (n\\u00famero de quartos)\",\"Distribui\\u00e7\\u00e3o da vari\\u00e1vel MEDV (n\\u00famero de quartos)\",\"Distribui\\u00e7\\u00e3o da vari\\u00e1vel MEDV (n\\u00famero de quartos)\",\"Distribui\\u00e7\\u00e3o da vari\\u00e1vel MEDV (n\\u00famero de quartos)\",\"Distribui\\u00e7\\u00e3o da vari\\u00e1vel MEDV (n\\u00famero de quartos)\",\"Distribui\\u00e7\\u00e3o da vari\\u00e1vel MEDV (n\\u00famero de quartos)\",\"Distribui\\u00e7\\u00e3o da vari\\u00e1vel MEDV (n\\u00famero de quartos)\",\"Distribui\\u00e7\\u00e3o da vari\\u00e1vel MEDV (n\\u00famero de quartos)\",\"Distribui\\u00e7\\u00e3o da vari\\u00e1vel MEDV (n\\u00famero de quartos)\",\"Distribui\\u00e7\\u00e3o da vari\\u00e1vel MEDV (n\\u00famero de quartos)\",\"Distribui\\u00e7\\u00e3o da vari\\u00e1vel MEDV (n\\u00famero de quartos)\",\"Distribui\\u00e7\\u00e3o da vari\\u00e1vel MEDV (n\\u00famero de quartos)\",\"Distribui\\u00e7\\u00e3o da vari\\u00e1vel MEDV (n\\u00famero de quartos)\",\"Distribui\\u00e7\\u00e3o da vari\\u00e1vel MEDV (n\\u00famero de quartos)\",\"Distribui\\u00e7\\u00e3o da vari\\u00e1vel MEDV (n\\u00famero de quartos)\",\"Distribui\\u00e7\\u00e3o da vari\\u00e1vel MEDV (n\\u00famero de quartos)\",\"Distribui\\u00e7\\u00e3o da vari\\u00e1vel MEDV (n\\u00famero de quartos)\",\"Distribui\\u00e7\\u00e3o da vari\\u00e1vel MEDV (n\\u00famero de quartos)\",\"Distribui\\u00e7\\u00e3o da vari\\u00e1vel MEDV (n\\u00famero de quartos)\",\"Distribui\\u00e7\\u00e3o da vari\\u00e1vel MEDV (n\\u00famero de quartos)\",\"Distribui\\u00e7\\u00e3o da vari\\u00e1vel MEDV (n\\u00famero de quartos)\",\"Distribui\\u00e7\\u00e3o da vari\\u00e1vel MEDV (n\\u00famero de quartos)\",\"Distribui\\u00e7\\u00e3o da vari\\u00e1vel MEDV (n\\u00famero de quartos)\",\"Distribui\\u00e7\\u00e3o da vari\\u00e1vel MEDV (n\\u00famero de quartos)\",\"Distribui\\u00e7\\u00e3o da vari\\u00e1vel MEDV (n\\u00famero de quartos)\",\"Distribui\\u00e7\\u00e3o da vari\\u00e1vel MEDV (n\\u00famero de quartos)\",\"Distribui\\u00e7\\u00e3o da vari\\u00e1vel MEDV (n\\u00famero de quartos)\",\"Distribui\\u00e7\\u00e3o da vari\\u00e1vel MEDV (n\\u00famero de quartos)\",\"Distribui\\u00e7\\u00e3o da vari\\u00e1vel MEDV (n\\u00famero de quartos)\",\"Distribui\\u00e7\\u00e3o da vari\\u00e1vel MEDV (n\\u00famero de quartos)\",\"Distribui\\u00e7\\u00e3o da vari\\u00e1vel MEDV (n\\u00famero de quartos)\",\"Distribui\\u00e7\\u00e3o da vari\\u00e1vel MEDV (n\\u00famero de quartos)\",\"Distribui\\u00e7\\u00e3o da vari\\u00e1vel MEDV (n\\u00famero de quartos)\",\"Distribui\\u00e7\\u00e3o da vari\\u00e1vel MEDV (n\\u00famero de quartos)\",\"Distribui\\u00e7\\u00e3o da vari\\u00e1vel MEDV (n\\u00famero de quartos)\",\"Distribui\\u00e7\\u00e3o da vari\\u00e1vel MEDV (n\\u00famero de quartos)\",\"Distribui\\u00e7\\u00e3o da vari\\u00e1vel MEDV (n\\u00famero de quartos)\",\"Distribui\\u00e7\\u00e3o da vari\\u00e1vel MEDV (n\\u00famero de quartos)\",\"Distribui\\u00e7\\u00e3o da vari\\u00e1vel MEDV (n\\u00famero de quartos)\",\"Distribui\\u00e7\\u00e3o da vari\\u00e1vel MEDV (n\\u00famero de quartos)\",\"Distribui\\u00e7\\u00e3o da vari\\u00e1vel MEDV (n\\u00famero de quartos)\",\"Distribui\\u00e7\\u00e3o da vari\\u00e1vel MEDV (n\\u00famero de quartos)\",\"Distribui\\u00e7\\u00e3o da vari\\u00e1vel MEDV (n\\u00famero de quartos)\",\"Distribui\\u00e7\\u00e3o da vari\\u00e1vel MEDV (n\\u00famero de quartos)\",\"Distribui\\u00e7\\u00e3o da vari\\u00e1vel MEDV (n\\u00famero de quartos)\",\"Distribui\\u00e7\\u00e3o da vari\\u00e1vel MEDV (n\\u00famero de quartos)\",\"Distribui\\u00e7\\u00e3o da vari\\u00e1vel MEDV (n\\u00famero de quartos)\",\"Distribui\\u00e7\\u00e3o da vari\\u00e1vel MEDV (n\\u00famero de quartos)\",\"Distribui\\u00e7\\u00e3o da vari\\u00e1vel MEDV (n\\u00famero de quartos)\",\"Distribui\\u00e7\\u00e3o da vari\\u00e1vel MEDV (n\\u00famero de quartos)\",\"Distribui\\u00e7\\u00e3o da vari\\u00e1vel MEDV (n\\u00famero de quartos)\",\"Distribui\\u00e7\\u00e3o da vari\\u00e1vel MEDV (n\\u00famero de quartos)\",\"Distribui\\u00e7\\u00e3o da vari\\u00e1vel MEDV (n\\u00famero de quartos)\",\"Distribui\\u00e7\\u00e3o da vari\\u00e1vel MEDV (n\\u00famero de quartos)\",\"Distribui\\u00e7\\u00e3o da vari\\u00e1vel MEDV (n\\u00famero de quartos)\",\"Distribui\\u00e7\\u00e3o da vari\\u00e1vel MEDV (n\\u00famero de quartos)\",\"Distribui\\u00e7\\u00e3o da vari\\u00e1vel MEDV (n\\u00famero de quartos)\",\"Distribui\\u00e7\\u00e3o da vari\\u00e1vel MEDV (n\\u00famero de quartos)\",\"Distribui\\u00e7\\u00e3o da vari\\u00e1vel MEDV (n\\u00famero de quartos)\",\"Distribui\\u00e7\\u00e3o da vari\\u00e1vel MEDV (n\\u00famero de quartos)\",\"Distribui\\u00e7\\u00e3o da vari\\u00e1vel MEDV (n\\u00famero de quartos)\",\"Distribui\\u00e7\\u00e3o da vari\\u00e1vel MEDV (n\\u00famero de quartos)\",\"Distribui\\u00e7\\u00e3o da vari\\u00e1vel MEDV (n\\u00famero de quartos)\",\"Distribui\\u00e7\\u00e3o da vari\\u00e1vel MEDV (n\\u00famero de quartos)\",\"Distribui\\u00e7\\u00e3o da vari\\u00e1vel MEDV (n\\u00famero de quartos)\",\"Distribui\\u00e7\\u00e3o da vari\\u00e1vel MEDV (n\\u00famero de quartos)\",\"Distribui\\u00e7\\u00e3o da vari\\u00e1vel MEDV (n\\u00famero de quartos)\",\"Distribui\\u00e7\\u00e3o da vari\\u00e1vel MEDV (n\\u00famero de quartos)\",\"Distribui\\u00e7\\u00e3o da vari\\u00e1vel MEDV (n\\u00famero de quartos)\",\"Distribui\\u00e7\\u00e3o da vari\\u00e1vel MEDV (n\\u00famero de quartos)\",\"Distribui\\u00e7\\u00e3o da vari\\u00e1vel MEDV (n\\u00famero de quartos)\",\"Distribui\\u00e7\\u00e3o da vari\\u00e1vel MEDV (n\\u00famero de quartos)\",\"Distribui\\u00e7\\u00e3o da vari\\u00e1vel MEDV (n\\u00famero de quartos)\",\"Distribui\\u00e7\\u00e3o da vari\\u00e1vel MEDV (n\\u00famero de quartos)\",\"Distribui\\u00e7\\u00e3o da vari\\u00e1vel MEDV (n\\u00famero de quartos)\",\"Distribui\\u00e7\\u00e3o da vari\\u00e1vel MEDV (n\\u00famero de quartos)\",\"Distribui\\u00e7\\u00e3o da vari\\u00e1vel MEDV (n\\u00famero de quartos)\",\"Distribui\\u00e7\\u00e3o da vari\\u00e1vel MEDV (n\\u00famero de quartos)\",\"Distribui\\u00e7\\u00e3o da vari\\u00e1vel MEDV (n\\u00famero de quartos)\",\"Distribui\\u00e7\\u00e3o da vari\\u00e1vel MEDV (n\\u00famero de quartos)\",\"Distribui\\u00e7\\u00e3o da vari\\u00e1vel MEDV (n\\u00famero de quartos)\",\"Distribui\\u00e7\\u00e3o da vari\\u00e1vel MEDV (n\\u00famero de quartos)\",\"Distribui\\u00e7\\u00e3o da vari\\u00e1vel MEDV (n\\u00famero de quartos)\",\"Distribui\\u00e7\\u00e3o da vari\\u00e1vel MEDV (n\\u00famero de quartos)\",\"Distribui\\u00e7\\u00e3o da vari\\u00e1vel MEDV (n\\u00famero de quartos)\",\"Distribui\\u00e7\\u00e3o da vari\\u00e1vel MEDV (n\\u00famero de quartos)\",\"Distribui\\u00e7\\u00e3o da vari\\u00e1vel MEDV (n\\u00famero de quartos)\",\"Distribui\\u00e7\\u00e3o da vari\\u00e1vel MEDV (n\\u00famero de quartos)\",\"Distribui\\u00e7\\u00e3o da vari\\u00e1vel MEDV (n\\u00famero de quartos)\",\"Distribui\\u00e7\\u00e3o da vari\\u00e1vel MEDV (n\\u00famero de quartos)\",\"Distribui\\u00e7\\u00e3o da vari\\u00e1vel MEDV (n\\u00famero de quartos)\",\"Distribui\\u00e7\\u00e3o da vari\\u00e1vel MEDV (n\\u00famero de quartos)\",\"Distribui\\u00e7\\u00e3o da vari\\u00e1vel MEDV (n\\u00famero de quartos)\",\"Distribui\\u00e7\\u00e3o da vari\\u00e1vel MEDV (n\\u00famero de quartos)\",\"Distribui\\u00e7\\u00e3o da vari\\u00e1vel MEDV (n\\u00famero de quartos)\",\"Distribui\\u00e7\\u00e3o da vari\\u00e1vel MEDV (n\\u00famero de quartos)\",\"Distribui\\u00e7\\u00e3o da vari\\u00e1vel MEDV (n\\u00famero de quartos)\",\"Distribui\\u00e7\\u00e3o da vari\\u00e1vel MEDV (n\\u00famero de quartos)\",\"Distribui\\u00e7\\u00e3o da vari\\u00e1vel MEDV (n\\u00famero de quartos)\",\"Distribui\\u00e7\\u00e3o da vari\\u00e1vel MEDV (n\\u00famero de quartos)\",\"Distribui\\u00e7\\u00e3o da vari\\u00e1vel MEDV (n\\u00famero de quartos)\",\"Distribui\\u00e7\\u00e3o da vari\\u00e1vel MEDV (n\\u00famero de quartos)\",\"Distribui\\u00e7\\u00e3o da vari\\u00e1vel MEDV (n\\u00famero de quartos)\",\"Distribui\\u00e7\\u00e3o da vari\\u00e1vel MEDV (n\\u00famero de quartos)\",\"Distribui\\u00e7\\u00e3o da vari\\u00e1vel MEDV (n\\u00famero de quartos)\",\"Distribui\\u00e7\\u00e3o da vari\\u00e1vel MEDV (n\\u00famero de quartos)\",\"Distribui\\u00e7\\u00e3o da vari\\u00e1vel MEDV (n\\u00famero de quartos)\",\"Distribui\\u00e7\\u00e3o da vari\\u00e1vel MEDV (n\\u00famero de quartos)\",\"Distribui\\u00e7\\u00e3o da vari\\u00e1vel MEDV (n\\u00famero de quartos)\",\"Distribui\\u00e7\\u00e3o da vari\\u00e1vel MEDV (n\\u00famero de quartos)\",\"Distribui\\u00e7\\u00e3o da vari\\u00e1vel MEDV (n\\u00famero de quartos)\",\"Distribui\\u00e7\\u00e3o da vari\\u00e1vel MEDV (n\\u00famero de quartos)\",\"Distribui\\u00e7\\u00e3o da vari\\u00e1vel MEDV (n\\u00famero de quartos)\",\"Distribui\\u00e7\\u00e3o da vari\\u00e1vel MEDV (n\\u00famero de quartos)\",\"Distribui\\u00e7\\u00e3o da vari\\u00e1vel MEDV (n\\u00famero de quartos)\",\"Distribui\\u00e7\\u00e3o da vari\\u00e1vel MEDV (n\\u00famero de quartos)\",\"Distribui\\u00e7\\u00e3o da vari\\u00e1vel MEDV (n\\u00famero de quartos)\",\"Distribui\\u00e7\\u00e3o da vari\\u00e1vel MEDV (n\\u00famero de quartos)\",\"Distribui\\u00e7\\u00e3o da vari\\u00e1vel MEDV (n\\u00famero de quartos)\",\"Distribui\\u00e7\\u00e3o da vari\\u00e1vel MEDV (n\\u00famero de quartos)\",\"Distribui\\u00e7\\u00e3o da vari\\u00e1vel MEDV (n\\u00famero de quartos)\",\"Distribui\\u00e7\\u00e3o da vari\\u00e1vel MEDV (n\\u00famero de quartos)\",\"Distribui\\u00e7\\u00e3o da vari\\u00e1vel MEDV (n\\u00famero de quartos)\",\"Distribui\\u00e7\\u00e3o da vari\\u00e1vel MEDV (n\\u00famero de quartos)\",\"Distribui\\u00e7\\u00e3o da vari\\u00e1vel MEDV (n\\u00famero de quartos)\",\"Distribui\\u00e7\\u00e3o da vari\\u00e1vel MEDV (n\\u00famero de quartos)\",\"Distribui\\u00e7\\u00e3o da vari\\u00e1vel MEDV (n\\u00famero de quartos)\",\"Distribui\\u00e7\\u00e3o da vari\\u00e1vel MEDV (n\\u00famero de quartos)\",\"Distribui\\u00e7\\u00e3o da vari\\u00e1vel MEDV (n\\u00famero de quartos)\",\"Distribui\\u00e7\\u00e3o da vari\\u00e1vel MEDV (n\\u00famero de quartos)\",\"Distribui\\u00e7\\u00e3o da vari\\u00e1vel MEDV (n\\u00famero de quartos)\",\"Distribui\\u00e7\\u00e3o da vari\\u00e1vel MEDV (n\\u00famero de quartos)\",\"Distribui\\u00e7\\u00e3o da vari\\u00e1vel MEDV (n\\u00famero de quartos)\",\"Distribui\\u00e7\\u00e3o da vari\\u00e1vel MEDV (n\\u00famero de quartos)\",\"Distribui\\u00e7\\u00e3o da vari\\u00e1vel MEDV (n\\u00famero de quartos)\",\"Distribui\\u00e7\\u00e3o da vari\\u00e1vel MEDV (n\\u00famero de quartos)\",\"Distribui\\u00e7\\u00e3o da vari\\u00e1vel MEDV (n\\u00famero de quartos)\",\"Distribui\\u00e7\\u00e3o da vari\\u00e1vel MEDV (n\\u00famero de quartos)\",\"Distribui\\u00e7\\u00e3o da vari\\u00e1vel MEDV (n\\u00famero de quartos)\",\"Distribui\\u00e7\\u00e3o da vari\\u00e1vel MEDV (n\\u00famero de quartos)\",\"Distribui\\u00e7\\u00e3o da vari\\u00e1vel MEDV (n\\u00famero de quartos)\",\"Distribui\\u00e7\\u00e3o da vari\\u00e1vel MEDV (n\\u00famero de quartos)\",\"Distribui\\u00e7\\u00e3o da vari\\u00e1vel MEDV (n\\u00famero de quartos)\",\"Distribui\\u00e7\\u00e3o da vari\\u00e1vel MEDV (n\\u00famero de quartos)\",\"Distribui\\u00e7\\u00e3o da vari\\u00e1vel MEDV (n\\u00famero de quartos)\",\"Distribui\\u00e7\\u00e3o da vari\\u00e1vel MEDV (n\\u00famero de quartos)\",\"Distribui\\u00e7\\u00e3o da vari\\u00e1vel MEDV (n\\u00famero de quartos)\",\"Distribui\\u00e7\\u00e3o da vari\\u00e1vel MEDV (n\\u00famero de quartos)\",\"Distribui\\u00e7\\u00e3o da vari\\u00e1vel MEDV (n\\u00famero de quartos)\",\"Distribui\\u00e7\\u00e3o da vari\\u00e1vel MEDV (n\\u00famero de quartos)\",\"Distribui\\u00e7\\u00e3o da vari\\u00e1vel MEDV (n\\u00famero de quartos)\",\"Distribui\\u00e7\\u00e3o da vari\\u00e1vel MEDV (n\\u00famero de quartos)\",\"Distribui\\u00e7\\u00e3o da vari\\u00e1vel MEDV (n\\u00famero de quartos)\",\"Distribui\\u00e7\\u00e3o da vari\\u00e1vel MEDV (n\\u00famero de quartos)\",\"Distribui\\u00e7\\u00e3o da vari\\u00e1vel MEDV (n\\u00famero de quartos)\",\"Distribui\\u00e7\\u00e3o da vari\\u00e1vel MEDV (n\\u00famero de quartos)\",\"Distribui\\u00e7\\u00e3o da vari\\u00e1vel MEDV (n\\u00famero de quartos)\",\"Distribui\\u00e7\\u00e3o da vari\\u00e1vel MEDV (n\\u00famero de quartos)\",\"Distribui\\u00e7\\u00e3o da vari\\u00e1vel MEDV (n\\u00famero de quartos)\",\"Distribui\\u00e7\\u00e3o da vari\\u00e1vel MEDV (n\\u00famero de quartos)\",\"Distribui\\u00e7\\u00e3o da vari\\u00e1vel MEDV (n\\u00famero de quartos)\",\"Distribui\\u00e7\\u00e3o da vari\\u00e1vel MEDV (n\\u00famero de quartos)\",\"Distribui\\u00e7\\u00e3o da vari\\u00e1vel MEDV (n\\u00famero de quartos)\",\"Distribui\\u00e7\\u00e3o da vari\\u00e1vel MEDV (n\\u00famero de quartos)\",\"Distribui\\u00e7\\u00e3o da vari\\u00e1vel MEDV (n\\u00famero de quartos)\",\"Distribui\\u00e7\\u00e3o da vari\\u00e1vel MEDV (n\\u00famero de quartos)\",\"Distribui\\u00e7\\u00e3o da vari\\u00e1vel MEDV (n\\u00famero de quartos)\",\"Distribui\\u00e7\\u00e3o da vari\\u00e1vel MEDV (n\\u00famero de quartos)\",\"Distribui\\u00e7\\u00e3o da vari\\u00e1vel MEDV (n\\u00famero de quartos)\",\"Distribui\\u00e7\\u00e3o da vari\\u00e1vel MEDV (n\\u00famero de quartos)\",\"Distribui\\u00e7\\u00e3o da vari\\u00e1vel MEDV (n\\u00famero de quartos)\",\"Distribui\\u00e7\\u00e3o da vari\\u00e1vel MEDV (n\\u00famero de quartos)\",\"Distribui\\u00e7\\u00e3o da vari\\u00e1vel MEDV (n\\u00famero de quartos)\",\"Distribui\\u00e7\\u00e3o da vari\\u00e1vel MEDV (n\\u00famero de quartos)\",\"Distribui\\u00e7\\u00e3o da vari\\u00e1vel MEDV (n\\u00famero de quartos)\",\"Distribui\\u00e7\\u00e3o da vari\\u00e1vel MEDV (n\\u00famero de quartos)\",\"Distribui\\u00e7\\u00e3o da vari\\u00e1vel MEDV (n\\u00famero de quartos)\",\"Distribui\\u00e7\\u00e3o da vari\\u00e1vel MEDV (n\\u00famero de quartos)\",\"Distribui\\u00e7\\u00e3o da vari\\u00e1vel MEDV (n\\u00famero de quartos)\",\"Distribui\\u00e7\\u00e3o da vari\\u00e1vel MEDV (n\\u00famero de quartos)\",\"Distribui\\u00e7\\u00e3o da vari\\u00e1vel MEDV (n\\u00famero de quartos)\",\"Distribui\\u00e7\\u00e3o da vari\\u00e1vel MEDV (n\\u00famero de quartos)\",\"Distribui\\u00e7\\u00e3o da vari\\u00e1vel MEDV (n\\u00famero de quartos)\",\"Distribui\\u00e7\\u00e3o da vari\\u00e1vel MEDV (n\\u00famero de quartos)\",\"Distribui\\u00e7\\u00e3o da vari\\u00e1vel MEDV (n\\u00famero de quartos)\",\"Distribui\\u00e7\\u00e3o da vari\\u00e1vel MEDV (n\\u00famero de quartos)\",\"Distribui\\u00e7\\u00e3o da vari\\u00e1vel MEDV (n\\u00famero de quartos)\",\"Distribui\\u00e7\\u00e3o da vari\\u00e1vel MEDV (n\\u00famero de quartos)\",\"Distribui\\u00e7\\u00e3o da vari\\u00e1vel MEDV (n\\u00famero de quartos)\",\"Distribui\\u00e7\\u00e3o da vari\\u00e1vel MEDV (n\\u00famero de quartos)\",\"Distribui\\u00e7\\u00e3o da vari\\u00e1vel MEDV (n\\u00famero de quartos)\",\"Distribui\\u00e7\\u00e3o da vari\\u00e1vel MEDV (n\\u00famero de quartos)\",\"Distribui\\u00e7\\u00e3o da vari\\u00e1vel MEDV (n\\u00famero de quartos)\",\"Distribui\\u00e7\\u00e3o da vari\\u00e1vel MEDV (n\\u00famero de quartos)\",\"Distribui\\u00e7\\u00e3o da vari\\u00e1vel MEDV (n\\u00famero de quartos)\",\"Distribui\\u00e7\\u00e3o da vari\\u00e1vel MEDV (n\\u00famero de quartos)\",\"Distribui\\u00e7\\u00e3o da vari\\u00e1vel MEDV (n\\u00famero de quartos)\",\"Distribui\\u00e7\\u00e3o da vari\\u00e1vel MEDV (n\\u00famero de quartos)\",\"Distribui\\u00e7\\u00e3o da vari\\u00e1vel MEDV (n\\u00famero de quartos)\",\"Distribui\\u00e7\\u00e3o da vari\\u00e1vel MEDV (n\\u00famero de quartos)\",\"Distribui\\u00e7\\u00e3o da vari\\u00e1vel MEDV (n\\u00famero de quartos)\",\"Distribui\\u00e7\\u00e3o da vari\\u00e1vel MEDV (n\\u00famero de quartos)\",\"Distribui\\u00e7\\u00e3o da vari\\u00e1vel MEDV (n\\u00famero de quartos)\",\"Distribui\\u00e7\\u00e3o da vari\\u00e1vel MEDV (n\\u00famero de quartos)\"],\"yaxis\":\"y2\",\"type\":\"scatter\"}],                        {\"barmode\":\"overlay\",\"hovermode\":\"closest\",\"legend\":{\"traceorder\":\"reversed\"},\"xaxis\":{\"anchor\":\"y2\",\"domain\":[0.0,1.0],\"zeroline\":false},\"yaxis\":{\"anchor\":\"free\",\"domain\":[0.35,1],\"position\":0.0},\"yaxis2\":{\"anchor\":\"x\",\"domain\":[0,0.25],\"dtick\":1,\"showticklabels\":false},\"template\":{\"data\":{\"histogram2dcontour\":[{\"type\":\"histogram2dcontour\",\"colorbar\":{\"outlinewidth\":0,\"ticks\":\"\"},\"colorscale\":[[0.0,\"#0d0887\"],[0.1111111111111111,\"#46039f\"],[0.2222222222222222,\"#7201a8\"],[0.3333333333333333,\"#9c179e\"],[0.4444444444444444,\"#bd3786\"],[0.5555555555555556,\"#d8576b\"],[0.6666666666666666,\"#ed7953\"],[0.7777777777777778,\"#fb9f3a\"],[0.8888888888888888,\"#fdca26\"],[1.0,\"#f0f921\"]]}],\"choropleth\":[{\"type\":\"choropleth\",\"colorbar\":{\"outlinewidth\":0,\"ticks\":\"\"}}],\"histogram2d\":[{\"type\":\"histogram2d\",\"colorbar\":{\"outlinewidth\":0,\"ticks\":\"\"},\"colorscale\":[[0.0,\"#0d0887\"],[0.1111111111111111,\"#46039f\"],[0.2222222222222222,\"#7201a8\"],[0.3333333333333333,\"#9c179e\"],[0.4444444444444444,\"#bd3786\"],[0.5555555555555556,\"#d8576b\"],[0.6666666666666666,\"#ed7953\"],[0.7777777777777778,\"#fb9f3a\"],[0.8888888888888888,\"#fdca26\"],[1.0,\"#f0f921\"]]}],\"heatmap\":[{\"type\":\"heatmap\",\"colorbar\":{\"outlinewidth\":0,\"ticks\":\"\"},\"colorscale\":[[0.0,\"#0d0887\"],[0.1111111111111111,\"#46039f\"],[0.2222222222222222,\"#7201a8\"],[0.3333333333333333,\"#9c179e\"],[0.4444444444444444,\"#bd3786\"],[0.5555555555555556,\"#d8576b\"],[0.6666666666666666,\"#ed7953\"],[0.7777777777777778,\"#fb9f3a\"],[0.8888888888888888,\"#fdca26\"],[1.0,\"#f0f921\"]]}],\"heatmapgl\":[{\"type\":\"heatmapgl\",\"colorbar\":{\"outlinewidth\":0,\"ticks\":\"\"},\"colorscale\":[[0.0,\"#0d0887\"],[0.1111111111111111,\"#46039f\"],[0.2222222222222222,\"#7201a8\"],[0.3333333333333333,\"#9c179e\"],[0.4444444444444444,\"#bd3786\"],[0.5555555555555556,\"#d8576b\"],[0.6666666666666666,\"#ed7953\"],[0.7777777777777778,\"#fb9f3a\"],[0.8888888888888888,\"#fdca26\"],[1.0,\"#f0f921\"]]}],\"contourcarpet\":[{\"type\":\"contourcarpet\",\"colorbar\":{\"outlinewidth\":0,\"ticks\":\"\"}}],\"contour\":[{\"type\":\"contour\",\"colorbar\":{\"outlinewidth\":0,\"ticks\":\"\"},\"colorscale\":[[0.0,\"#0d0887\"],[0.1111111111111111,\"#46039f\"],[0.2222222222222222,\"#7201a8\"],[0.3333333333333333,\"#9c179e\"],[0.4444444444444444,\"#bd3786\"],[0.5555555555555556,\"#d8576b\"],[0.6666666666666666,\"#ed7953\"],[0.7777777777777778,\"#fb9f3a\"],[0.8888888888888888,\"#fdca26\"],[1.0,\"#f0f921\"]]}],\"surface\":[{\"type\":\"surface\",\"colorbar\":{\"outlinewidth\":0,\"ticks\":\"\"},\"colorscale\":[[0.0,\"#0d0887\"],[0.1111111111111111,\"#46039f\"],[0.2222222222222222,\"#7201a8\"],[0.3333333333333333,\"#9c179e\"],[0.4444444444444444,\"#bd3786\"],[0.5555555555555556,\"#d8576b\"],[0.6666666666666666,\"#ed7953\"],[0.7777777777777778,\"#fb9f3a\"],[0.8888888888888888,\"#fdca26\"],[1.0,\"#f0f921\"]]}],\"mesh3d\":[{\"type\":\"mesh3d\",\"colorbar\":{\"outlinewidth\":0,\"ticks\":\"\"}}],\"scatter\":[{\"fillpattern\":{\"fillmode\":\"overlay\",\"size\":10,\"solidity\":0.2},\"type\":\"scatter\"}],\"parcoords\":[{\"type\":\"parcoords\",\"line\":{\"colorbar\":{\"outlinewidth\":0,\"ticks\":\"\"}}}],\"scatterpolargl\":[{\"type\":\"scatterpolargl\",\"marker\":{\"colorbar\":{\"outlinewidth\":0,\"ticks\":\"\"}}}],\"bar\":[{\"error_x\":{\"color\":\"#2a3f5f\"},\"error_y\":{\"color\":\"#2a3f5f\"},\"marker\":{\"line\":{\"color\":\"#E5ECF6\",\"width\":0.5},\"pattern\":{\"fillmode\":\"overlay\",\"size\":10,\"solidity\":0.2}},\"type\":\"bar\"}],\"scattergeo\":[{\"type\":\"scattergeo\",\"marker\":{\"colorbar\":{\"outlinewidth\":0,\"ticks\":\"\"}}}],\"scatterpolar\":[{\"type\":\"scatterpolar\",\"marker\":{\"colorbar\":{\"outlinewidth\":0,\"ticks\":\"\"}}}],\"histogram\":[{\"marker\":{\"pattern\":{\"fillmode\":\"overlay\",\"size\":10,\"solidity\":0.2}},\"type\":\"histogram\"}],\"scattergl\":[{\"type\":\"scattergl\",\"marker\":{\"colorbar\":{\"outlinewidth\":0,\"ticks\":\"\"}}}],\"scatter3d\":[{\"type\":\"scatter3d\",\"line\":{\"colorbar\":{\"outlinewidth\":0,\"ticks\":\"\"}},\"marker\":{\"colorbar\":{\"outlinewidth\":0,\"ticks\":\"\"}}}],\"scattermapbox\":[{\"type\":\"scattermapbox\",\"marker\":{\"colorbar\":{\"outlinewidth\":0,\"ticks\":\"\"}}}],\"scatterternary\":[{\"type\":\"scatterternary\",\"marker\":{\"colorbar\":{\"outlinewidth\":0,\"ticks\":\"\"}}}],\"scattercarpet\":[{\"type\":\"scattercarpet\",\"marker\":{\"colorbar\":{\"outlinewidth\":0,\"ticks\":\"\"}}}],\"carpet\":[{\"aaxis\":{\"endlinecolor\":\"#2a3f5f\",\"gridcolor\":\"white\",\"linecolor\":\"white\",\"minorgridcolor\":\"white\",\"startlinecolor\":\"#2a3f5f\"},\"baxis\":{\"endlinecolor\":\"#2a3f5f\",\"gridcolor\":\"white\",\"linecolor\":\"white\",\"minorgridcolor\":\"white\",\"startlinecolor\":\"#2a3f5f\"},\"type\":\"carpet\"}],\"table\":[{\"cells\":{\"fill\":{\"color\":\"#EBF0F8\"},\"line\":{\"color\":\"white\"}},\"header\":{\"fill\":{\"color\":\"#C8D4E3\"},\"line\":{\"color\":\"white\"}},\"type\":\"table\"}],\"barpolar\":[{\"marker\":{\"line\":{\"color\":\"#E5ECF6\",\"width\":0.5},\"pattern\":{\"fillmode\":\"overlay\",\"size\":10,\"solidity\":0.2}},\"type\":\"barpolar\"}],\"pie\":[{\"automargin\":true,\"type\":\"pie\"}]},\"layout\":{\"autotypenumbers\":\"strict\",\"colorway\":[\"#636efa\",\"#EF553B\",\"#00cc96\",\"#ab63fa\",\"#FFA15A\",\"#19d3f3\",\"#FF6692\",\"#B6E880\",\"#FF97FF\",\"#FECB52\"],\"font\":{\"color\":\"#2a3f5f\"},\"hovermode\":\"closest\",\"hoverlabel\":{\"align\":\"left\"},\"paper_bgcolor\":\"white\",\"plot_bgcolor\":\"#E5ECF6\",\"polar\":{\"bgcolor\":\"#E5ECF6\",\"angularaxis\":{\"gridcolor\":\"white\",\"linecolor\":\"white\",\"ticks\":\"\"},\"radialaxis\":{\"gridcolor\":\"white\",\"linecolor\":\"white\",\"ticks\":\"\"}},\"ternary\":{\"bgcolor\":\"#E5ECF6\",\"aaxis\":{\"gridcolor\":\"white\",\"linecolor\":\"white\",\"ticks\":\"\"},\"baxis\":{\"gridcolor\":\"white\",\"linecolor\":\"white\",\"ticks\":\"\"},\"caxis\":{\"gridcolor\":\"white\",\"linecolor\":\"white\",\"ticks\":\"\"}},\"coloraxis\":{\"colorbar\":{\"outlinewidth\":0,\"ticks\":\"\"}},\"colorscale\":{\"sequential\":[[0.0,\"#0d0887\"],[0.1111111111111111,\"#46039f\"],[0.2222222222222222,\"#7201a8\"],[0.3333333333333333,\"#9c179e\"],[0.4444444444444444,\"#bd3786\"],[0.5555555555555556,\"#d8576b\"],[0.6666666666666666,\"#ed7953\"],[0.7777777777777778,\"#fb9f3a\"],[0.8888888888888888,\"#fdca26\"],[1.0,\"#f0f921\"]],\"sequentialminus\":[[0.0,\"#0d0887\"],[0.1111111111111111,\"#46039f\"],[0.2222222222222222,\"#7201a8\"],[0.3333333333333333,\"#9c179e\"],[0.4444444444444444,\"#bd3786\"],[0.5555555555555556,\"#d8576b\"],[0.6666666666666666,\"#ed7953\"],[0.7777777777777778,\"#fb9f3a\"],[0.8888888888888888,\"#fdca26\"],[1.0,\"#f0f921\"]],\"diverging\":[[0,\"#8e0152\"],[0.1,\"#c51b7d\"],[0.2,\"#de77ae\"],[0.3,\"#f1b6da\"],[0.4,\"#fde0ef\"],[0.5,\"#f7f7f7\"],[0.6,\"#e6f5d0\"],[0.7,\"#b8e186\"],[0.8,\"#7fbc41\"],[0.9,\"#4d9221\"],[1,\"#276419\"]]},\"xaxis\":{\"gridcolor\":\"white\",\"linecolor\":\"white\",\"ticks\":\"\",\"title\":{\"standoff\":15},\"zerolinecolor\":\"white\",\"automargin\":true,\"zerolinewidth\":2},\"yaxis\":{\"gridcolor\":\"white\",\"linecolor\":\"white\",\"ticks\":\"\",\"title\":{\"standoff\":15},\"zerolinecolor\":\"white\",\"automargin\":true,\"zerolinewidth\":2},\"scene\":{\"xaxis\":{\"backgroundcolor\":\"#E5ECF6\",\"gridcolor\":\"white\",\"linecolor\":\"white\",\"showbackground\":true,\"ticks\":\"\",\"zerolinecolor\":\"white\",\"gridwidth\":2},\"yaxis\":{\"backgroundcolor\":\"#E5ECF6\",\"gridcolor\":\"white\",\"linecolor\":\"white\",\"showbackground\":true,\"ticks\":\"\",\"zerolinecolor\":\"white\",\"gridwidth\":2},\"zaxis\":{\"backgroundcolor\":\"#E5ECF6\",\"gridcolor\":\"white\",\"linecolor\":\"white\",\"showbackground\":true,\"ticks\":\"\",\"zerolinecolor\":\"white\",\"gridwidth\":2}},\"shapedefaults\":{\"line\":{\"color\":\"#2a3f5f\"}},\"annotationdefaults\":{\"arrowcolor\":\"#2a3f5f\",\"arrowhead\":0,\"arrowwidth\":1},\"geo\":{\"bgcolor\":\"white\",\"landcolor\":\"#E5ECF6\",\"subunitcolor\":\"white\",\"showland\":true,\"showlakes\":true,\"lakecolor\":\"white\"},\"title\":{\"x\":0.05},\"mapbox\":{\"style\":\"light\"}}}},                        {\"responsive\": true}                    ).then(function(){\n",
              "                            \n",
              "var gd = document.getElementById('42a669c8-43fd-4613-a968-6a2c37b5bebc');\n",
              "var x = new MutationObserver(function (mutations, observer) {{\n",
              "        var display = window.getComputedStyle(gd).display;\n",
              "        if (!display || display === 'none') {{\n",
              "            console.log([gd, 'removed!']);\n",
              "            Plotly.purge(gd);\n",
              "            observer.disconnect();\n",
              "        }}\n",
              "}});\n",
              "\n",
              "// Listen for the removal of the full notebook cells\n",
              "var notebookContainer = gd.closest('#notebook-container');\n",
              "if (notebookContainer) {{\n",
              "    x.observe(notebookContainer, {childList: true});\n",
              "}}\n",
              "\n",
              "// Listen for the clearing of the current output cell\n",
              "var outputEl = gd.closest('.output');\n",
              "if (outputEl) {{\n",
              "    x.observe(outputEl, {childList: true});\n",
              "}}\n",
              "\n",
              "                        })                };                            </script>        </div>\n",
              "</body>\n",
              "</html>"
            ]
          },
          "metadata": {}
        }
      ]
    },
    {
      "cell_type": "markdown",
      "source": [
        "# Definindo um Baseline\n",
        "- Uma baseline é importante para ter marcos no projeto.\n",
        "- Permite uma explicação fácil para todos os envolvidos.\n",
        "- É algo que sempre tentaremos ganhar na medida do póssivel."
      ],
      "metadata": {
        "id": "qFwxse8EdyLQ"
      }
    },
    {
      "cell_type": "code",
      "source": [
        "# converte os dados\n",
        "data.RM = data.RM.astype(int)"
      ],
      "metadata": {
        "id": "4YOlvlc8eFVt"
      },
      "execution_count": null,
      "outputs": []
    },
    {
      "cell_type": "code",
      "source": [
        "# imprime o coeficiente de pearson\n",
        "stats.skew(data.MEDV)"
      ],
      "metadata": {
        "colab": {
          "base_uri": "https://localhost:8080/"
        },
        "id": "C2fdsT1YeMLV",
        "outputId": "cecb54fa-85cb-4ff0-8aa4-4a25d781dd3e"
      },
      "execution_count": null,
      "outputs": [
        {
          "output_type": "execute_result",
          "data": {
            "text/plain": [
              "0.1807387457490968"
            ]
          },
          "metadata": {},
          "execution_count": 27
        }
      ]
    },
    {
      "cell_type": "code",
      "source": [
        "# estatistica descritiva da coluna de numero de quartos\n",
        "data.RM.describe()"
      ],
      "metadata": {
        "colab": {
          "base_uri": "https://localhost:8080/"
        },
        "id": "cvsgRPzZeVQ0",
        "outputId": "68cca124-77b4-42ee-d8be-8b48390b7e40"
      },
      "execution_count": null,
      "outputs": [
        {
          "output_type": "execute_result",
          "data": {
            "text/plain": [
              "count    470.000000\n",
              "mean       5.674468\n",
              "std        0.667864\n",
              "min        3.000000\n",
              "25%        5.000000\n",
              "50%        6.000000\n",
              "75%        6.000000\n",
              "max        8.000000\n",
              "Name: RM, dtype: float64"
            ]
          },
          "metadata": {},
          "execution_count": 28
        }
      ]
    },
    {
      "cell_type": "code",
      "source": [
        "categorias = []"
      ],
      "metadata": {
        "id": "c8WN54apecI0"
      },
      "execution_count": null,
      "outputs": []
    },
    {
      "cell_type": "code",
      "source": [
        "# alimenta a lista de categorias\n",
        "for i in data.RM.iteritems():\n",
        "  valor = (i[1])\n",
        "  if valor <= 4:\n",
        "    categorias.append('Pequeno')\n",
        "  elif valor < 7:\n",
        "    categorias.append('Médio')\n",
        "  else:\n",
        "    categorias.append('Grande')"
      ],
      "metadata": {
        "colab": {
          "base_uri": "https://localhost:8080/"
        },
        "id": "SBa29Wudeggt",
        "outputId": "53301334-c861-4a09-ec63-8f77fe7fdb89"
      },
      "execution_count": null,
      "outputs": [
        {
          "output_type": "stream",
          "name": "stderr",
          "text": [
            "<ipython-input-30-9736a8dbde39>:2: FutureWarning:\n",
            "\n",
            "iteritems is deprecated and will be removed in a future version. Use .items instead.\n",
            "\n"
          ]
        }
      ]
    },
    {
      "cell_type": "code",
      "source": [
        "# cria a coluna categorias\n",
        "data['categorias'] = categorias"
      ],
      "metadata": {
        "id": "tCeCvUXwfJhM"
      },
      "execution_count": null,
      "outputs": []
    },
    {
      "cell_type": "code",
      "source": [
        "# imprime a contagem de categorias\n",
        "data.categorias.value_counts()"
      ],
      "metadata": {
        "colab": {
          "base_uri": "https://localhost:8080/"
        },
        "id": "i2xnlLIYfJZs",
        "outputId": "45e54dac-444f-4a16-e05d-0a18e50212de"
      },
      "execution_count": null,
      "outputs": [
        {
          "output_type": "execute_result",
          "data": {
            "text/plain": [
              "Médio      423\n",
              "Grande      33\n",
              "Pequeno     14\n",
              "Name: categorias, dtype: int64"
            ]
          },
          "metadata": {},
          "execution_count": 32
        }
      ]
    },
    {
      "cell_type": "code",
      "source": [
        "# agrupa as categorias e calcula as médias\n",
        "medias_categorias = data.groupby(by='categorias')['MEDV'].mean()"
      ],
      "metadata": {
        "id": "hqrhCR-gfYa1"
      },
      "execution_count": null,
      "outputs": []
    },
    {
      "cell_type": "code",
      "source": [
        "# visualizando a variável medias_categorias\n",
        "medias_categorias"
      ],
      "metadata": {
        "colab": {
          "base_uri": "https://localhost:8080/"
        },
        "id": "yklYNuTGfmxV",
        "outputId": "9e5b3673-d14b-493a-a0af-fee3be628117"
      },
      "execution_count": null,
      "outputs": [
        {
          "output_type": "execute_result",
          "data": {
            "text/plain": [
              "categorias\n",
              "Grande     31.406061\n",
              "Médio      20.075650\n",
              "Pequeno    14.921429\n",
              "Name: MEDV, dtype: float64"
            ]
          },
          "metadata": {},
          "execution_count": 34
        }
      ]
    },
    {
      "cell_type": "code",
      "source": [
        "# criando dicionario com chaves medio, grande e pequeno e seus valores\n",
        "dic_baseline = {'Grande': medias_categorias[0], 'Medio': medias_categorias[1], 'Pequeno': medias_categorias[2]}"
      ],
      "metadata": {
        "id": "9R4spNUuftwU"
      },
      "execution_count": null,
      "outputs": []
    },
    {
      "cell_type": "code",
      "source": [
        "dic_baseline"
      ],
      "metadata": {
        "colab": {
          "base_uri": "https://localhost:8080/"
        },
        "id": "v94sPJ-hgSI8",
        "outputId": "52d67e9f-9026-4fce-8b7f-a705ea7f8e7f"
      },
      "execution_count": null,
      "outputs": [
        {
          "output_type": "execute_result",
          "data": {
            "text/plain": [
              "{'Grande': 31.40606060606061,\n",
              " 'Medio': 20.07565011820331,\n",
              " 'Pequeno': 14.921428571428573}"
            ]
          },
          "metadata": {},
          "execution_count": 36
        }
      ]
    },
    {
      "cell_type": "code",
      "source": [
        "# criando a função retorna baseline\n",
        "def retorna_baseline(num_quartos):\n",
        "  if num_quartos <- 4:\n",
        "    return dic_baseline.get('Pequeno')\n",
        "  elif num_quartos < 7:\n",
        "    return dic_baseline.get('Medio')\n",
        "  else:\n",
        "    return dic_baseline.get('Grande')"
      ],
      "metadata": {
        "id": "YPvfBo3WgiF8"
      },
      "execution_count": null,
      "outputs": []
    },
    {
      "cell_type": "code",
      "source": [
        "# chama a função retorna baseline\n",
        "retorna_baseline(3)"
      ],
      "metadata": {
        "colab": {
          "base_uri": "https://localhost:8080/"
        },
        "id": "4xpZgCKLgVy7",
        "outputId": "cbb0baa8-9d20-4b03-c869-7a01879299f3"
      },
      "execution_count": null,
      "outputs": [
        {
          "output_type": "execute_result",
          "data": {
            "text/plain": [
              "20.07565011820331"
            ]
          },
          "metadata": {},
          "execution_count": 38
        }
      ]
    },
    {
      "cell_type": "code",
      "source": [
        "for i in data.RM.iteritems():\n",
        "  n_quartos = i[1]\n",
        "  print('Número de quartos é: {}, Valor médio: {}'.format(n_quartos, retorna_baseline(n_quartos)))"
      ],
      "metadata": {
        "colab": {
          "base_uri": "https://localhost:8080/"
        },
        "id": "GA2l_QRXhN2s",
        "outputId": "8110b8e2-a6b4-41ca-8ab4-5b870c1f4e8f"
      },
      "execution_count": null,
      "outputs": [
        {
          "output_type": "stream",
          "name": "stdout",
          "text": [
            "Número de quartos é: 6, Valor médio: 20.07565011820331\n",
            "Número de quartos é: 6, Valor médio: 20.07565011820331\n",
            "Número de quartos é: 7, Valor médio: 31.40606060606061\n",
            "Número de quartos é: 6, Valor médio: 20.07565011820331\n",
            "Número de quartos é: 7, Valor médio: 31.40606060606061\n",
            "Número de quartos é: 6, Valor médio: 20.07565011820331\n",
            "Número de quartos é: 6, Valor médio: 20.07565011820331\n",
            "Número de quartos é: 6, Valor médio: 20.07565011820331\n",
            "Número de quartos é: 5, Valor médio: 20.07565011820331\n",
            "Número de quartos é: 6, Valor médio: 20.07565011820331\n",
            "Número de quartos é: 6, Valor médio: 20.07565011820331\n",
            "Número de quartos é: 6, Valor médio: 20.07565011820331\n",
            "Número de quartos é: 5, Valor médio: 20.07565011820331\n",
            "Número de quartos é: 5, Valor médio: 20.07565011820331\n",
            "Número de quartos é: 6, Valor médio: 20.07565011820331\n",
            "Número de quartos é: 5, Valor médio: 20.07565011820331\n",
            "Número de quartos é: 5, Valor médio: 20.07565011820331\n",
            "Número de quartos é: 5, Valor médio: 20.07565011820331\n",
            "Número de quartos é: 5, Valor médio: 20.07565011820331\n",
            "Número de quartos é: 5, Valor médio: 20.07565011820331\n",
            "Número de quartos é: 5, Valor médio: 20.07565011820331\n",
            "Número de quartos é: 5, Valor médio: 20.07565011820331\n",
            "Número de quartos é: 6, Valor médio: 20.07565011820331\n",
            "Número de quartos é: 5, Valor médio: 20.07565011820331\n",
            "Número de quartos é: 5, Valor médio: 20.07565011820331\n",
            "Número de quartos é: 5, Valor médio: 20.07565011820331\n",
            "Número de quartos é: 5, Valor médio: 20.07565011820331\n",
            "Número de quartos é: 6, Valor médio: 20.07565011820331\n",
            "Número de quartos é: 6, Valor médio: 20.07565011820331\n",
            "Número de quartos é: 6, Valor médio: 20.07565011820331\n",
            "Número de quartos é: 5, Valor médio: 20.07565011820331\n",
            "Número de quartos é: 6, Valor médio: 20.07565011820331\n",
            "Número de quartos é: 5, Valor médio: 20.07565011820331\n",
            "Número de quartos é: 5, Valor médio: 20.07565011820331\n",
            "Número de quartos é: 6, Valor médio: 20.07565011820331\n",
            "Número de quartos é: 5, Valor médio: 20.07565011820331\n",
            "Número de quartos é: 5, Valor médio: 20.07565011820331\n",
            "Número de quartos é: 5, Valor médio: 20.07565011820331\n",
            "Número de quartos é: 5, Valor médio: 20.07565011820331\n",
            "Número de quartos é: 6, Valor médio: 20.07565011820331\n",
            "Número de quartos é: 7, Valor médio: 31.40606060606061\n",
            "Número de quartos é: 6, Valor médio: 20.07565011820331\n",
            "Número de quartos é: 6, Valor médio: 20.07565011820331\n",
            "Número de quartos é: 6, Valor médio: 20.07565011820331\n",
            "Número de quartos é: 6, Valor médio: 20.07565011820331\n",
            "Número de quartos é: 5, Valor médio: 20.07565011820331\n",
            "Número de quartos é: 5, Valor médio: 20.07565011820331\n",
            "Número de quartos é: 6, Valor médio: 20.07565011820331\n",
            "Número de quartos é: 5, Valor médio: 20.07565011820331\n",
            "Número de quartos é: 5, Valor médio: 20.07565011820331\n",
            "Número de quartos é: 5, Valor médio: 20.07565011820331\n",
            "Número de quartos é: 6, Valor médio: 20.07565011820331\n",
            "Número de quartos é: 6, Valor médio: 20.07565011820331\n",
            "Número de quartos é: 5, Valor médio: 20.07565011820331\n",
            "Número de quartos é: 5, Valor médio: 20.07565011820331\n",
            "Número de quartos é: 7, Valor médio: 31.40606060606061\n",
            "Número de quartos é: 6, Valor médio: 20.07565011820331\n",
            "Número de quartos é: 6, Valor médio: 20.07565011820331\n",
            "Número de quartos é: 6, Valor médio: 20.07565011820331\n",
            "Número de quartos é: 5, Valor médio: 20.07565011820331\n",
            "Número de quartos é: 5, Valor médio: 20.07565011820331\n",
            "Número de quartos é: 5, Valor médio: 20.07565011820331\n",
            "Número de quartos é: 6, Valor médio: 20.07565011820331\n",
            "Número de quartos é: 6, Valor médio: 20.07565011820331\n",
            "Número de quartos é: 7, Valor médio: 31.40606060606061\n",
            "Número de quartos é: 6, Valor médio: 20.07565011820331\n",
            "Número de quartos é: 5, Valor médio: 20.07565011820331\n",
            "Número de quartos é: 5, Valor médio: 20.07565011820331\n",
            "Número de quartos é: 5, Valor médio: 20.07565011820331\n",
            "Número de quartos é: 5, Valor médio: 20.07565011820331\n",
            "Número de quartos é: 6, Valor médio: 20.07565011820331\n",
            "Número de quartos é: 5, Valor médio: 20.07565011820331\n",
            "Número de quartos é: 6, Valor médio: 20.07565011820331\n",
            "Número de quartos é: 6, Valor médio: 20.07565011820331\n",
            "Número de quartos é: 6, Valor médio: 20.07565011820331\n",
            "Número de quartos é: 6, Valor médio: 20.07565011820331\n",
            "Número de quartos é: 6, Valor médio: 20.07565011820331\n",
            "Número de quartos é: 6, Valor médio: 20.07565011820331\n",
            "Número de quartos é: 6, Valor médio: 20.07565011820331\n",
            "Número de quartos é: 5, Valor médio: 20.07565011820331\n",
            "Número de quartos é: 6, Valor médio: 20.07565011820331\n",
            "Número de quartos é: 6, Valor médio: 20.07565011820331\n",
            "Número de quartos é: 6, Valor médio: 20.07565011820331\n",
            "Número de quartos é: 6, Valor médio: 20.07565011820331\n",
            "Número de quartos é: 6, Valor médio: 20.07565011820331\n",
            "Número de quartos é: 6, Valor médio: 20.07565011820331\n",
            "Número de quartos é: 6, Valor médio: 20.07565011820331\n",
            "Número de quartos é: 6, Valor médio: 20.07565011820331\n",
            "Número de quartos é: 7, Valor médio: 31.40606060606061\n",
            "Número de quartos é: 7, Valor médio: 31.40606060606061\n",
            "Número de quartos é: 6, Valor médio: 20.07565011820331\n",
            "Número de quartos é: 6, Valor médio: 20.07565011820331\n",
            "Número de quartos é: 6, Valor médio: 20.07565011820331\n",
            "Número de quartos é: 6, Valor médio: 20.07565011820331\n",
            "Número de quartos é: 6, Valor médio: 20.07565011820331\n",
            "Número de quartos é: 6, Valor médio: 20.07565011820331\n",
            "Número de quartos é: 6, Valor médio: 20.07565011820331\n",
            "Número de quartos é: 7, Valor médio: 31.40606060606061\n",
            "Número de quartos é: 6, Valor médio: 20.07565011820331\n",
            "Número de quartos é: 6, Valor médio: 20.07565011820331\n",
            "Número de quartos é: 6, Valor médio: 20.07565011820331\n",
            "Número de quartos é: 6, Valor médio: 20.07565011820331\n",
            "Número de quartos é: 6, Valor médio: 20.07565011820331\n",
            "Número de quartos é: 5, Valor médio: 20.07565011820331\n",
            "Número de quartos é: 5, Valor médio: 20.07565011820331\n",
            "Número de quartos é: 6, Valor médio: 20.07565011820331\n",
            "Número de quartos é: 6, Valor médio: 20.07565011820331\n",
            "Número de quartos é: 6, Valor médio: 20.07565011820331\n",
            "Número de quartos é: 6, Valor médio: 20.07565011820331\n",
            "Número de quartos é: 6, Valor médio: 20.07565011820331\n",
            "Número de quartos é: 5, Valor médio: 20.07565011820331\n",
            "Número de quartos é: 6, Valor médio: 20.07565011820331\n",
            "Número de quartos é: 6, Valor médio: 20.07565011820331\n",
            "Número de quartos é: 5, Valor médio: 20.07565011820331\n",
            "Número de quartos é: 6, Valor médio: 20.07565011820331\n",
            "Número de quartos é: 6, Valor médio: 20.07565011820331\n",
            "Número de quartos é: 5, Valor médio: 20.07565011820331\n",
            "Número de quartos é: 5, Valor médio: 20.07565011820331\n",
            "Número de quartos é: 5, Valor médio: 20.07565011820331\n",
            "Número de quartos é: 6, Valor médio: 20.07565011820331\n",
            "Número de quartos é: 5, Valor médio: 20.07565011820331\n",
            "Número de quartos é: 5, Valor médio: 20.07565011820331\n",
            "Número de quartos é: 5, Valor médio: 20.07565011820331\n",
            "Número de quartos é: 5, Valor médio: 20.07565011820331\n",
            "Número de quartos é: 5, Valor médio: 20.07565011820331\n",
            "Número de quartos é: 5, Valor médio: 20.07565011820331\n",
            "Número de quartos é: 6, Valor médio: 20.07565011820331\n",
            "Número de quartos é: 5, Valor médio: 20.07565011820331\n",
            "Número de quartos é: 6, Valor médio: 20.07565011820331\n",
            "Número de quartos é: 6, Valor médio: 20.07565011820331\n",
            "Número de quartos é: 6, Valor médio: 20.07565011820331\n",
            "Número de quartos é: 5, Valor médio: 20.07565011820331\n",
            "Número de quartos é: 5, Valor médio: 20.07565011820331\n",
            "Número de quartos é: 6, Valor médio: 20.07565011820331\n",
            "Número de quartos é: 5, Valor médio: 20.07565011820331\n",
            "Número de quartos é: 6, Valor médio: 20.07565011820331\n",
            "Número de quartos é: 5, Valor médio: 20.07565011820331\n",
            "Número de quartos é: 6, Valor médio: 20.07565011820331\n",
            "Número de quartos é: 6, Valor médio: 20.07565011820331\n",
            "Número de quartos é: 5, Valor médio: 20.07565011820331\n",
            "Número de quartos é: 5, Valor médio: 20.07565011820331\n",
            "Número de quartos é: 5, Valor médio: 20.07565011820331\n",
            "Número de quartos é: 4, Valor médio: 20.07565011820331\n",
            "Número de quartos é: 6, Valor médio: 20.07565011820331\n",
            "Número de quartos é: 5, Valor médio: 20.07565011820331\n",
            "Número de quartos é: 4, Valor médio: 20.07565011820331\n",
            "Número de quartos é: 5, Valor médio: 20.07565011820331\n",
            "Número de quartos é: 5, Valor médio: 20.07565011820331\n",
            "Número de quartos é: 6, Valor médio: 20.07565011820331\n",
            "Número de quartos é: 5, Valor médio: 20.07565011820331\n",
            "Número de quartos é: 5, Valor médio: 20.07565011820331\n",
            "Número de quartos é: 5, Valor médio: 20.07565011820331\n",
            "Número de quartos é: 6, Valor médio: 20.07565011820331\n",
            "Número de quartos é: 6, Valor médio: 20.07565011820331\n",
            "Número de quartos é: 5, Valor médio: 20.07565011820331\n",
            "Número de quartos é: 6, Valor médio: 20.07565011820331\n",
            "Número de quartos é: 6, Valor médio: 20.07565011820331\n",
            "Número de quartos é: 6, Valor médio: 20.07565011820331\n",
            "Número de quartos é: 5, Valor médio: 20.07565011820331\n",
            "Número de quartos é: 6, Valor médio: 20.07565011820331\n",
            "Número de quartos é: 5, Valor médio: 20.07565011820331\n",
            "Número de quartos é: 6, Valor médio: 20.07565011820331\n",
            "Número de quartos é: 6, Valor médio: 20.07565011820331\n",
            "Número de quartos é: 5, Valor médio: 20.07565011820331\n",
            "Número de quartos é: 5, Valor médio: 20.07565011820331\n",
            "Número de quartos é: 5, Valor médio: 20.07565011820331\n",
            "Número de quartos é: 6, Valor médio: 20.07565011820331\n",
            "Número de quartos é: 5, Valor médio: 20.07565011820331\n",
            "Número de quartos é: 6, Valor médio: 20.07565011820331\n",
            "Número de quartos é: 6, Valor médio: 20.07565011820331\n",
            "Número de quartos é: 6, Valor médio: 20.07565011820331\n",
            "Número de quartos é: 6, Valor médio: 20.07565011820331\n",
            "Número de quartos é: 6, Valor médio: 20.07565011820331\n",
            "Número de quartos é: 6, Valor médio: 20.07565011820331\n",
            "Número de quartos é: 6, Valor médio: 20.07565011820331\n",
            "Número de quartos é: 5, Valor médio: 20.07565011820331\n",
            "Número de quartos é: 6, Valor médio: 20.07565011820331\n",
            "Número de quartos é: 6, Valor médio: 20.07565011820331\n",
            "Número de quartos é: 6, Valor médio: 20.07565011820331\n",
            "Número de quartos é: 7, Valor médio: 31.40606060606061\n",
            "Número de quartos é: 6, Valor médio: 20.07565011820331\n",
            "Número de quartos é: 6, Valor médio: 20.07565011820331\n",
            "Número de quartos é: 7, Valor médio: 31.40606060606061\n",
            "Número de quartos é: 6, Valor médio: 20.07565011820331\n",
            "Número de quartos é: 6, Valor médio: 20.07565011820331\n",
            "Número de quartos é: 7, Valor médio: 31.40606060606061\n",
            "Número de quartos é: 7, Valor médio: 31.40606060606061\n",
            "Número de quartos é: 7, Valor médio: 31.40606060606061\n",
            "Número de quartos é: 6, Valor médio: 20.07565011820331\n",
            "Número de quartos é: 7, Valor médio: 31.40606060606061\n",
            "Número de quartos é: 6, Valor médio: 20.07565011820331\n",
            "Número de quartos é: 5, Valor médio: 20.07565011820331\n",
            "Número de quartos é: 6, Valor médio: 20.07565011820331\n",
            "Número de quartos é: 5, Valor médio: 20.07565011820331\n",
            "Número de quartos é: 6, Valor médio: 20.07565011820331\n",
            "Número de quartos é: 5, Valor médio: 20.07565011820331\n",
            "Número de quartos é: 5, Valor médio: 20.07565011820331\n",
            "Número de quartos é: 5, Valor médio: 20.07565011820331\n",
            "Número de quartos é: 5, Valor médio: 20.07565011820331\n",
            "Número de quartos é: 6, Valor médio: 20.07565011820331\n",
            "Número de quartos é: 5, Valor médio: 20.07565011820331\n",
            "Número de quartos é: 6, Valor médio: 20.07565011820331\n",
            "Número de quartos é: 5, Valor médio: 20.07565011820331\n",
            "Número de quartos é: 6, Valor médio: 20.07565011820331\n",
            "Número de quartos é: 5, Valor médio: 20.07565011820331\n",
            "Número de quartos é: 6, Valor médio: 20.07565011820331\n",
            "Número de quartos é: 6, Valor médio: 20.07565011820331\n",
            "Número de quartos é: 6, Valor médio: 20.07565011820331\n",
            "Número de quartos é: 6, Valor médio: 20.07565011820331\n",
            "Número de quartos é: 6, Valor médio: 20.07565011820331\n",
            "Número de quartos é: 7, Valor médio: 31.40606060606061\n",
            "Número de quartos é: 6, Valor médio: 20.07565011820331\n",
            "Número de quartos é: 5, Valor médio: 20.07565011820331\n",
            "Número de quartos é: 7, Valor médio: 31.40606060606061\n",
            "Número de quartos é: 6, Valor médio: 20.07565011820331\n",
            "Número de quartos é: 6, Valor médio: 20.07565011820331\n",
            "Número de quartos é: 6, Valor médio: 20.07565011820331\n",
            "Número de quartos é: 7, Valor médio: 31.40606060606061\n",
            "Número de quartos é: 6, Valor médio: 20.07565011820331\n",
            "Número de quartos é: 6, Valor médio: 20.07565011820331\n",
            "Número de quartos é: 6, Valor médio: 20.07565011820331\n",
            "Número de quartos é: 6, Valor médio: 20.07565011820331\n",
            "Número de quartos é: 6, Valor médio: 20.07565011820331\n",
            "Número de quartos é: 6, Valor médio: 20.07565011820331\n",
            "Número de quartos é: 5, Valor médio: 20.07565011820331\n",
            "Número de quartos é: 5, Valor médio: 20.07565011820331\n",
            "Número de quartos é: 6, Valor médio: 20.07565011820331\n",
            "Número de quartos é: 6, Valor médio: 20.07565011820331\n",
            "Número de quartos é: 6, Valor médio: 20.07565011820331\n",
            "Número de quartos é: 6, Valor médio: 20.07565011820331\n",
            "Número de quartos é: 6, Valor médio: 20.07565011820331\n",
            "Número de quartos é: 6, Valor médio: 20.07565011820331\n",
            "Número de quartos é: 6, Valor médio: 20.07565011820331\n",
            "Número de quartos é: 6, Valor médio: 20.07565011820331\n",
            "Número de quartos é: 5, Valor médio: 20.07565011820331\n",
            "Número de quartos é: 7, Valor médio: 31.40606060606061\n",
            "Número de quartos é: 6, Valor médio: 20.07565011820331\n",
            "Número de quartos é: 7, Valor médio: 31.40606060606061\n",
            "Número de quartos é: 7, Valor médio: 31.40606060606061\n",
            "Número de quartos é: 7, Valor médio: 31.40606060606061\n",
            "Número de quartos é: 5, Valor médio: 20.07565011820331\n",
            "Número de quartos é: 7, Valor médio: 31.40606060606061\n",
            "Número de quartos é: 5, Valor médio: 20.07565011820331\n",
            "Número de quartos é: 5, Valor médio: 20.07565011820331\n",
            "Número de quartos é: 6, Valor médio: 20.07565011820331\n",
            "Número de quartos é: 6, Valor médio: 20.07565011820331\n",
            "Número de quartos é: 7, Valor médio: 31.40606060606061\n",
            "Número de quartos é: 6, Valor médio: 20.07565011820331\n",
            "Número de quartos é: 6, Valor médio: 20.07565011820331\n",
            "Número de quartos é: 7, Valor médio: 31.40606060606061\n",
            "Número de quartos é: 6, Valor médio: 20.07565011820331\n",
            "Número de quartos é: 6, Valor médio: 20.07565011820331\n",
            "Número de quartos é: 6, Valor médio: 20.07565011820331\n",
            "Número de quartos é: 6, Valor médio: 20.07565011820331\n",
            "Número de quartos é: 7, Valor médio: 31.40606060606061\n",
            "Número de quartos é: 6, Valor médio: 20.07565011820331\n",
            "Número de quartos é: 6, Valor médio: 20.07565011820331\n",
            "Número de quartos é: 6, Valor médio: 20.07565011820331\n",
            "Número de quartos é: 6, Valor médio: 20.07565011820331\n",
            "Número de quartos é: 6, Valor médio: 20.07565011820331\n",
            "Número de quartos é: 6, Valor médio: 20.07565011820331\n",
            "Número de quartos é: 6, Valor médio: 20.07565011820331\n",
            "Número de quartos é: 6, Valor médio: 20.07565011820331\n",
            "Número de quartos é: 6, Valor médio: 20.07565011820331\n",
            "Número de quartos é: 6, Valor médio: 20.07565011820331\n",
            "Número de quartos é: 6, Valor médio: 20.07565011820331\n",
            "Número de quartos é: 5, Valor médio: 20.07565011820331\n",
            "Número de quartos é: 6, Valor médio: 20.07565011820331\n",
            "Número de quartos é: 7, Valor médio: 31.40606060606061\n",
            "Número de quartos é: 6, Valor médio: 20.07565011820331\n",
            "Número de quartos é: 6, Valor médio: 20.07565011820331\n",
            "Número de quartos é: 6, Valor médio: 20.07565011820331\n",
            "Número de quartos é: 6, Valor médio: 20.07565011820331\n",
            "Número de quartos é: 7, Valor médio: 31.40606060606061\n",
            "Número de quartos é: 6, Valor médio: 20.07565011820331\n",
            "Número de quartos é: 7, Valor médio: 31.40606060606061\n",
            "Número de quartos é: 6, Valor médio: 20.07565011820331\n",
            "Número de quartos é: 6, Valor médio: 20.07565011820331\n",
            "Número de quartos é: 5, Valor médio: 20.07565011820331\n",
            "Número de quartos é: 4, Valor médio: 20.07565011820331\n",
            "Número de quartos é: 6, Valor médio: 20.07565011820331\n",
            "Número de quartos é: 6, Valor médio: 20.07565011820331\n",
            "Número de quartos é: 6, Valor médio: 20.07565011820331\n",
            "Número de quartos é: 6, Valor médio: 20.07565011820331\n",
            "Número de quartos é: 5, Valor médio: 20.07565011820331\n",
            "Número de quartos é: 5, Valor médio: 20.07565011820331\n",
            "Número de quartos é: 5, Valor médio: 20.07565011820331\n",
            "Número de quartos é: 6, Valor médio: 20.07565011820331\n",
            "Número de quartos é: 6, Valor médio: 20.07565011820331\n",
            "Número de quartos é: 6, Valor médio: 20.07565011820331\n",
            "Número de quartos é: 6, Valor médio: 20.07565011820331\n",
            "Número de quartos é: 6, Valor médio: 20.07565011820331\n",
            "Número de quartos é: 5, Valor médio: 20.07565011820331\n",
            "Número de quartos é: 6, Valor médio: 20.07565011820331\n",
            "Número de quartos é: 6, Valor médio: 20.07565011820331\n",
            "Número de quartos é: 6, Valor médio: 20.07565011820331\n",
            "Número de quartos é: 6, Valor médio: 20.07565011820331\n",
            "Número de quartos é: 5, Valor médio: 20.07565011820331\n",
            "Número de quartos é: 6, Valor médio: 20.07565011820331\n",
            "Número de quartos é: 6, Valor médio: 20.07565011820331\n",
            "Número de quartos é: 5, Valor médio: 20.07565011820331\n",
            "Número de quartos é: 6, Valor médio: 20.07565011820331\n",
            "Número de quartos é: 6, Valor médio: 20.07565011820331\n",
            "Número de quartos é: 6, Valor médio: 20.07565011820331\n",
            "Número de quartos é: 6, Valor médio: 20.07565011820331\n",
            "Número de quartos é: 5, Valor médio: 20.07565011820331\n",
            "Número de quartos é: 5, Valor médio: 20.07565011820331\n",
            "Número de quartos é: 6, Valor médio: 20.07565011820331\n",
            "Número de quartos é: 5, Valor médio: 20.07565011820331\n",
            "Número de quartos é: 5, Valor médio: 20.07565011820331\n",
            "Número de quartos é: 7, Valor médio: 31.40606060606061\n",
            "Número de quartos é: 6, Valor médio: 20.07565011820331\n",
            "Número de quartos é: 6, Valor médio: 20.07565011820331\n",
            "Número de quartos é: 6, Valor médio: 20.07565011820331\n",
            "Número de quartos é: 6, Valor médio: 20.07565011820331\n",
            "Número de quartos é: 5, Valor médio: 20.07565011820331\n",
            "Número de quartos é: 6, Valor médio: 20.07565011820331\n",
            "Número de quartos é: 6, Valor médio: 20.07565011820331\n",
            "Número de quartos é: 6, Valor médio: 20.07565011820331\n",
            "Número de quartos é: 6, Valor médio: 20.07565011820331\n",
            "Número de quartos é: 6, Valor médio: 20.07565011820331\n",
            "Número de quartos é: 5, Valor médio: 20.07565011820331\n",
            "Número de quartos é: 6, Valor médio: 20.07565011820331\n",
            "Número de quartos é: 5, Valor médio: 20.07565011820331\n",
            "Número de quartos é: 5, Valor médio: 20.07565011820331\n",
            "Número de quartos é: 6, Valor médio: 20.07565011820331\n",
            "Número de quartos é: 6, Valor médio: 20.07565011820331\n",
            "Número de quartos é: 6, Valor médio: 20.07565011820331\n",
            "Número de quartos é: 6, Valor médio: 20.07565011820331\n",
            "Número de quartos é: 6, Valor médio: 20.07565011820331\n",
            "Número de quartos é: 6, Valor médio: 20.07565011820331\n",
            "Número de quartos é: 5, Valor médio: 20.07565011820331\n",
            "Número de quartos é: 5, Valor médio: 20.07565011820331\n",
            "Número de quartos é: 8, Valor médio: 31.40606060606061\n",
            "Número de quartos é: 3, Valor médio: 20.07565011820331\n",
            "Número de quartos é: 4, Valor médio: 20.07565011820331\n",
            "Número de quartos é: 3, Valor médio: 20.07565011820331\n",
            "Número de quartos é: 4, Valor médio: 20.07565011820331\n",
            "Número de quartos é: 4, Valor médio: 20.07565011820331\n",
            "Número de quartos é: 7, Valor médio: 31.40606060606061\n",
            "Número de quartos é: 6, Valor médio: 20.07565011820331\n",
            "Número de quartos é: 6, Valor médio: 20.07565011820331\n",
            "Número de quartos é: 6, Valor médio: 20.07565011820331\n",
            "Número de quartos é: 6, Valor médio: 20.07565011820331\n",
            "Número de quartos é: 6, Valor médio: 20.07565011820331\n",
            "Número de quartos é: 6, Valor médio: 20.07565011820331\n",
            "Número de quartos é: 5, Valor médio: 20.07565011820331\n",
            "Número de quartos é: 5, Valor médio: 20.07565011820331\n",
            "Número de quartos é: 4, Valor médio: 20.07565011820331\n",
            "Número de quartos é: 5, Valor médio: 20.07565011820331\n",
            "Número de quartos é: 4, Valor médio: 20.07565011820331\n",
            "Número de quartos é: 5, Valor médio: 20.07565011820331\n",
            "Número de quartos é: 4, Valor médio: 20.07565011820331\n",
            "Número de quartos é: 5, Valor médio: 20.07565011820331\n",
            "Número de quartos é: 5, Valor médio: 20.07565011820331\n",
            "Número de quartos é: 6, Valor médio: 20.07565011820331\n",
            "Número de quartos é: 5, Valor médio: 20.07565011820331\n",
            "Número de quartos é: 6, Valor médio: 20.07565011820331\n",
            "Número de quartos é: 5, Valor médio: 20.07565011820331\n",
            "Número de quartos é: 6, Valor médio: 20.07565011820331\n",
            "Número de quartos é: 6, Valor médio: 20.07565011820331\n",
            "Número de quartos é: 5, Valor médio: 20.07565011820331\n",
            "Número de quartos é: 5, Valor médio: 20.07565011820331\n",
            "Número de quartos é: 5, Valor médio: 20.07565011820331\n",
            "Número de quartos é: 5, Valor médio: 20.07565011820331\n",
            "Número de quartos é: 6, Valor médio: 20.07565011820331\n",
            "Número de quartos é: 6, Valor médio: 20.07565011820331\n",
            "Número de quartos é: 5, Valor médio: 20.07565011820331\n",
            "Número de quartos é: 5, Valor médio: 20.07565011820331\n",
            "Número de quartos é: 5, Valor médio: 20.07565011820331\n",
            "Número de quartos é: 4, Valor médio: 20.07565011820331\n",
            "Número de quartos é: 5, Valor médio: 20.07565011820331\n",
            "Número de quartos é: 5, Valor médio: 20.07565011820331\n",
            "Número de quartos é: 6, Valor médio: 20.07565011820331\n",
            "Número de quartos é: 5, Valor médio: 20.07565011820331\n",
            "Número de quartos é: 6, Valor médio: 20.07565011820331\n",
            "Número de quartos é: 4, Valor médio: 20.07565011820331\n",
            "Número de quartos é: 5, Valor médio: 20.07565011820331\n",
            "Número de quartos é: 4, Valor médio: 20.07565011820331\n",
            "Número de quartos é: 6, Valor médio: 20.07565011820331\n",
            "Número de quartos é: 6, Valor médio: 20.07565011820331\n",
            "Número de quartos é: 5, Valor médio: 20.07565011820331\n",
            "Número de quartos é: 5, Valor médio: 20.07565011820331\n",
            "Número de quartos é: 6, Valor médio: 20.07565011820331\n",
            "Número de quartos é: 6, Valor médio: 20.07565011820331\n",
            "Número de quartos é: 6, Valor médio: 20.07565011820331\n",
            "Número de quartos é: 5, Valor médio: 20.07565011820331\n",
            "Número de quartos é: 6, Valor médio: 20.07565011820331\n",
            "Número de quartos é: 5, Valor médio: 20.07565011820331\n",
            "Número de quartos é: 5, Valor médio: 20.07565011820331\n",
            "Número de quartos é: 5, Valor médio: 20.07565011820331\n",
            "Número de quartos é: 6, Valor médio: 20.07565011820331\n",
            "Número de quartos é: 6, Valor médio: 20.07565011820331\n",
            "Número de quartos é: 6, Valor médio: 20.07565011820331\n",
            "Número de quartos é: 6, Valor médio: 20.07565011820331\n",
            "Número de quartos é: 6, Valor médio: 20.07565011820331\n",
            "Número de quartos é: 6, Valor médio: 20.07565011820331\n",
            "Número de quartos é: 6, Valor médio: 20.07565011820331\n",
            "Número de quartos é: 6, Valor médio: 20.07565011820331\n",
            "Número de quartos é: 6, Valor médio: 20.07565011820331\n",
            "Número de quartos é: 6, Valor médio: 20.07565011820331\n",
            "Número de quartos é: 6, Valor médio: 20.07565011820331\n",
            "Número de quartos é: 5, Valor médio: 20.07565011820331\n",
            "Número de quartos é: 5, Valor médio: 20.07565011820331\n",
            "Número de quartos é: 5, Valor médio: 20.07565011820331\n",
            "Número de quartos é: 6, Valor médio: 20.07565011820331\n",
            "Número de quartos é: 6, Valor médio: 20.07565011820331\n",
            "Número de quartos é: 6, Valor médio: 20.07565011820331\n",
            "Número de quartos é: 5, Valor médio: 20.07565011820331\n",
            "Número de quartos é: 6, Valor médio: 20.07565011820331\n",
            "Número de quartos é: 6, Valor médio: 20.07565011820331\n",
            "Número de quartos é: 6, Valor médio: 20.07565011820331\n",
            "Número de quartos é: 6, Valor médio: 20.07565011820331\n",
            "Número de quartos é: 6, Valor médio: 20.07565011820331\n",
            "Número de quartos é: 6, Valor médio: 20.07565011820331\n",
            "Número de quartos é: 6, Valor médio: 20.07565011820331\n",
            "Número de quartos é: 6, Valor médio: 20.07565011820331\n",
            "Número de quartos é: 7, Valor médio: 31.40606060606061\n",
            "Número de quartos é: 6, Valor médio: 20.07565011820331\n",
            "Número de quartos é: 6, Valor médio: 20.07565011820331\n",
            "Número de quartos é: 5, Valor médio: 20.07565011820331\n",
            "Número de quartos é: 5, Valor médio: 20.07565011820331\n",
            "Número de quartos é: 6, Valor médio: 20.07565011820331\n",
            "Número de quartos é: 6, Valor médio: 20.07565011820331\n",
            "Número de quartos é: 6, Valor médio: 20.07565011820331\n",
            "Número de quartos é: 6, Valor médio: 20.07565011820331\n",
            "Número de quartos é: 6, Valor médio: 20.07565011820331\n",
            "Número de quartos é: 6, Valor médio: 20.07565011820331\n",
            "Número de quartos é: 6, Valor médio: 20.07565011820331\n",
            "Número de quartos é: 5, Valor médio: 20.07565011820331\n",
            "Número de quartos é: 5, Valor médio: 20.07565011820331\n",
            "Número de quartos é: 6, Valor médio: 20.07565011820331\n",
            "Número de quartos é: 5, Valor médio: 20.07565011820331\n",
            "Número de quartos é: 5, Valor médio: 20.07565011820331\n",
            "Número de quartos é: 6, Valor médio: 20.07565011820331\n",
            "Número de quartos é: 6, Valor médio: 20.07565011820331\n",
            "Número de quartos é: 6, Valor médio: 20.07565011820331\n",
            "Número de quartos é: 6, Valor médio: 20.07565011820331\n",
            "Número de quartos é: 5, Valor médio: 20.07565011820331\n",
            "Número de quartos é: 6, Valor médio: 20.07565011820331\n",
            "Número de quartos é: 6, Valor médio: 20.07565011820331\n",
            "Número de quartos é: 5, Valor médio: 20.07565011820331\n",
            "Número de quartos é: 6, Valor médio: 20.07565011820331\n",
            "Número de quartos é: 6, Valor médio: 20.07565011820331\n",
            "Número de quartos é: 6, Valor médio: 20.07565011820331\n",
            "Número de quartos é: 6, Valor médio: 20.07565011820331\n",
            "Número de quartos é: 7, Valor médio: 31.40606060606061\n",
            "Número de quartos é: 5, Valor médio: 20.07565011820331\n",
            "Número de quartos é: 5, Valor médio: 20.07565011820331\n",
            "Número de quartos é: 6, Valor médio: 20.07565011820331\n",
            "Número de quartos é: 6, Valor médio: 20.07565011820331\n",
            "Número de quartos é: 5, Valor médio: 20.07565011820331\n",
            "Número de quartos é: 5, Valor médio: 20.07565011820331\n",
            "Número de quartos é: 5, Valor médio: 20.07565011820331\n",
            "Número de quartos é: 5, Valor médio: 20.07565011820331\n",
            "Número de quartos é: 5, Valor médio: 20.07565011820331\n",
            "Número de quartos é: 5, Valor médio: 20.07565011820331\n",
            "Número de quartos é: 5, Valor médio: 20.07565011820331\n",
            "Número de quartos é: 5, Valor médio: 20.07565011820331\n",
            "Número de quartos é: 5, Valor médio: 20.07565011820331\n",
            "Número de quartos é: 5, Valor médio: 20.07565011820331\n",
            "Número de quartos é: 5, Valor médio: 20.07565011820331\n",
            "Número de quartos é: 6, Valor médio: 20.07565011820331\n",
            "Número de quartos é: 5, Valor médio: 20.07565011820331\n",
            "Número de quartos é: 6, Valor médio: 20.07565011820331\n",
            "Número de quartos é: 6, Valor médio: 20.07565011820331\n",
            "Número de quartos é: 6, Valor médio: 20.07565011820331\n",
            "Número de quartos é: 6, Valor médio: 20.07565011820331\n",
            "Número de quartos é: 6, Valor médio: 20.07565011820331\n",
            "Número de quartos é: 6, Valor médio: 20.07565011820331\n"
          ]
        },
        {
          "output_type": "stream",
          "name": "stderr",
          "text": [
            "<ipython-input-39-5e941942ed92>:1: FutureWarning:\n",
            "\n",
            "iteritems is deprecated and will be removed in a future version. Use .items instead.\n",
            "\n"
          ]
        }
      ]
    },
    {
      "cell_type": "code",
      "source": [
        "data.head()"
      ],
      "metadata": {
        "colab": {
          "base_uri": "https://localhost:8080/",
          "height": 206
        },
        "id": "Mqab1P9tiHy7",
        "outputId": "e09f1947-6742-4b51-e2d2-a1ff25ede1c2"
      },
      "execution_count": null,
      "outputs": [
        {
          "output_type": "execute_result",
          "data": {
            "text/plain": [
              "         TOWN  TRACT     LON      LAT  MEDV     CRIM    ZN  INDUS  CHAS  \\\n",
              "0      Nahant   2011 -70.955  42.2550  24.0  0.00632  18.0   2.31     0   \n",
              "1  Swampscott   2021 -70.950  42.2875  21.6  0.02731   0.0   7.07     0   \n",
              "2  Swampscott   2022 -70.936  42.2830  34.7  0.02729   0.0   7.07     0   \n",
              "3  Marblehead   2031 -70.928  42.2930  33.4  0.03237   0.0   2.18     0   \n",
              "4  Marblehead   2032 -70.922  42.2980  36.2  0.06905   0.0   2.18     0   \n",
              "\n",
              "     NOX  RM   AGE     DIS  RAD  TAX  PTRATIO categorias  \n",
              "0  0.538   6  65.2  4.0900    1  296     15.3      Médio  \n",
              "1  0.469   6  78.9  4.9671    2  242     17.8      Médio  \n",
              "2  0.469   7  61.1  4.9671    2  242     17.8     Grande  \n",
              "3  0.458   6  45.8  6.0622    3  222     18.7      Médio  \n",
              "4  0.458   7  54.2  6.0622    3  222     18.7     Grande  "
            ],
            "text/html": [
              "\n",
              "  <div id=\"df-55b484f6-cc97-4863-a2ee-3825a6870342\">\n",
              "    <div class=\"colab-df-container\">\n",
              "      <div>\n",
              "<style scoped>\n",
              "    .dataframe tbody tr th:only-of-type {\n",
              "        vertical-align: middle;\n",
              "    }\n",
              "\n",
              "    .dataframe tbody tr th {\n",
              "        vertical-align: top;\n",
              "    }\n",
              "\n",
              "    .dataframe thead th {\n",
              "        text-align: right;\n",
              "    }\n",
              "</style>\n",
              "<table border=\"1\" class=\"dataframe\">\n",
              "  <thead>\n",
              "    <tr style=\"text-align: right;\">\n",
              "      <th></th>\n",
              "      <th>TOWN</th>\n",
              "      <th>TRACT</th>\n",
              "      <th>LON</th>\n",
              "      <th>LAT</th>\n",
              "      <th>MEDV</th>\n",
              "      <th>CRIM</th>\n",
              "      <th>ZN</th>\n",
              "      <th>INDUS</th>\n",
              "      <th>CHAS</th>\n",
              "      <th>NOX</th>\n",
              "      <th>RM</th>\n",
              "      <th>AGE</th>\n",
              "      <th>DIS</th>\n",
              "      <th>RAD</th>\n",
              "      <th>TAX</th>\n",
              "      <th>PTRATIO</th>\n",
              "      <th>categorias</th>\n",
              "    </tr>\n",
              "  </thead>\n",
              "  <tbody>\n",
              "    <tr>\n",
              "      <th>0</th>\n",
              "      <td>Nahant</td>\n",
              "      <td>2011</td>\n",
              "      <td>-70.955</td>\n",
              "      <td>42.2550</td>\n",
              "      <td>24.0</td>\n",
              "      <td>0.00632</td>\n",
              "      <td>18.0</td>\n",
              "      <td>2.31</td>\n",
              "      <td>0</td>\n",
              "      <td>0.538</td>\n",
              "      <td>6</td>\n",
              "      <td>65.2</td>\n",
              "      <td>4.0900</td>\n",
              "      <td>1</td>\n",
              "      <td>296</td>\n",
              "      <td>15.3</td>\n",
              "      <td>Médio</td>\n",
              "    </tr>\n",
              "    <tr>\n",
              "      <th>1</th>\n",
              "      <td>Swampscott</td>\n",
              "      <td>2021</td>\n",
              "      <td>-70.950</td>\n",
              "      <td>42.2875</td>\n",
              "      <td>21.6</td>\n",
              "      <td>0.02731</td>\n",
              "      <td>0.0</td>\n",
              "      <td>7.07</td>\n",
              "      <td>0</td>\n",
              "      <td>0.469</td>\n",
              "      <td>6</td>\n",
              "      <td>78.9</td>\n",
              "      <td>4.9671</td>\n",
              "      <td>2</td>\n",
              "      <td>242</td>\n",
              "      <td>17.8</td>\n",
              "      <td>Médio</td>\n",
              "    </tr>\n",
              "    <tr>\n",
              "      <th>2</th>\n",
              "      <td>Swampscott</td>\n",
              "      <td>2022</td>\n",
              "      <td>-70.936</td>\n",
              "      <td>42.2830</td>\n",
              "      <td>34.7</td>\n",
              "      <td>0.02729</td>\n",
              "      <td>0.0</td>\n",
              "      <td>7.07</td>\n",
              "      <td>0</td>\n",
              "      <td>0.469</td>\n",
              "      <td>7</td>\n",
              "      <td>61.1</td>\n",
              "      <td>4.9671</td>\n",
              "      <td>2</td>\n",
              "      <td>242</td>\n",
              "      <td>17.8</td>\n",
              "      <td>Grande</td>\n",
              "    </tr>\n",
              "    <tr>\n",
              "      <th>3</th>\n",
              "      <td>Marblehead</td>\n",
              "      <td>2031</td>\n",
              "      <td>-70.928</td>\n",
              "      <td>42.2930</td>\n",
              "      <td>33.4</td>\n",
              "      <td>0.03237</td>\n",
              "      <td>0.0</td>\n",
              "      <td>2.18</td>\n",
              "      <td>0</td>\n",
              "      <td>0.458</td>\n",
              "      <td>6</td>\n",
              "      <td>45.8</td>\n",
              "      <td>6.0622</td>\n",
              "      <td>3</td>\n",
              "      <td>222</td>\n",
              "      <td>18.7</td>\n",
              "      <td>Médio</td>\n",
              "    </tr>\n",
              "    <tr>\n",
              "      <th>4</th>\n",
              "      <td>Marblehead</td>\n",
              "      <td>2032</td>\n",
              "      <td>-70.922</td>\n",
              "      <td>42.2980</td>\n",
              "      <td>36.2</td>\n",
              "      <td>0.06905</td>\n",
              "      <td>0.0</td>\n",
              "      <td>2.18</td>\n",
              "      <td>0</td>\n",
              "      <td>0.458</td>\n",
              "      <td>7</td>\n",
              "      <td>54.2</td>\n",
              "      <td>6.0622</td>\n",
              "      <td>3</td>\n",
              "      <td>222</td>\n",
              "      <td>18.7</td>\n",
              "      <td>Grande</td>\n",
              "    </tr>\n",
              "  </tbody>\n",
              "</table>\n",
              "</div>\n",
              "      <button class=\"colab-df-convert\" onclick=\"convertToInteractive('df-55b484f6-cc97-4863-a2ee-3825a6870342')\"\n",
              "              title=\"Convert this dataframe to an interactive table.\"\n",
              "              style=\"display:none;\">\n",
              "        \n",
              "  <svg xmlns=\"http://www.w3.org/2000/svg\" height=\"24px\"viewBox=\"0 0 24 24\"\n",
              "       width=\"24px\">\n",
              "    <path d=\"M0 0h24v24H0V0z\" fill=\"none\"/>\n",
              "    <path d=\"M18.56 5.44l.94 2.06.94-2.06 2.06-.94-2.06-.94-.94-2.06-.94 2.06-2.06.94zm-11 1L8.5 8.5l.94-2.06 2.06-.94-2.06-.94L8.5 2.5l-.94 2.06-2.06.94zm10 10l.94 2.06.94-2.06 2.06-.94-2.06-.94-.94-2.06-.94 2.06-2.06.94z\"/><path d=\"M17.41 7.96l-1.37-1.37c-.4-.4-.92-.59-1.43-.59-.52 0-1.04.2-1.43.59L10.3 9.45l-7.72 7.72c-.78.78-.78 2.05 0 2.83L4 21.41c.39.39.9.59 1.41.59.51 0 1.02-.2 1.41-.59l7.78-7.78 2.81-2.81c.8-.78.8-2.07 0-2.86zM5.41 20L4 18.59l7.72-7.72 1.47 1.35L5.41 20z\"/>\n",
              "  </svg>\n",
              "      </button>\n",
              "      \n",
              "  <style>\n",
              "    .colab-df-container {\n",
              "      display:flex;\n",
              "      flex-wrap:wrap;\n",
              "      gap: 12px;\n",
              "    }\n",
              "\n",
              "    .colab-df-convert {\n",
              "      background-color: #E8F0FE;\n",
              "      border: none;\n",
              "      border-radius: 50%;\n",
              "      cursor: pointer;\n",
              "      display: none;\n",
              "      fill: #1967D2;\n",
              "      height: 32px;\n",
              "      padding: 0 0 0 0;\n",
              "      width: 32px;\n",
              "    }\n",
              "\n",
              "    .colab-df-convert:hover {\n",
              "      background-color: #E2EBFA;\n",
              "      box-shadow: 0px 1px 2px rgba(60, 64, 67, 0.3), 0px 1px 3px 1px rgba(60, 64, 67, 0.15);\n",
              "      fill: #174EA6;\n",
              "    }\n",
              "\n",
              "    [theme=dark] .colab-df-convert {\n",
              "      background-color: #3B4455;\n",
              "      fill: #D2E3FC;\n",
              "    }\n",
              "\n",
              "    [theme=dark] .colab-df-convert:hover {\n",
              "      background-color: #434B5C;\n",
              "      box-shadow: 0px 1px 3px 1px rgba(0, 0, 0, 0.15);\n",
              "      filter: drop-shadow(0px 1px 2px rgba(0, 0, 0, 0.3));\n",
              "      fill: #FFFFFF;\n",
              "    }\n",
              "  </style>\n",
              "\n",
              "      <script>\n",
              "        const buttonEl =\n",
              "          document.querySelector('#df-55b484f6-cc97-4863-a2ee-3825a6870342 button.colab-df-convert');\n",
              "        buttonEl.style.display =\n",
              "          google.colab.kernel.accessAllowed ? 'block' : 'none';\n",
              "\n",
              "        async function convertToInteractive(key) {\n",
              "          const element = document.querySelector('#df-55b484f6-cc97-4863-a2ee-3825a6870342');\n",
              "          const dataTable =\n",
              "            await google.colab.kernel.invokeFunction('convertToInteractive',\n",
              "                                                     [key], {});\n",
              "          if (!dataTable) return;\n",
              "\n",
              "          const docLinkHtml = 'Like what you see? Visit the ' +\n",
              "            '<a target=\"_blank\" href=https://colab.research.google.com/notebooks/data_table.ipynb>data table notebook</a>'\n",
              "            + ' to learn more about interactive tables.';\n",
              "          element.innerHTML = '';\n",
              "          dataTable['output_type'] = 'display_data';\n",
              "          await google.colab.output.renderOutput(dataTable, element);\n",
              "          const docLink = document.createElement('div');\n",
              "          docLink.innerHTML = docLinkHtml;\n",
              "          element.appendChild(docLink);\n",
              "        }\n",
              "      </script>\n",
              "    </div>\n",
              "  </div>\n",
              "  "
            ]
          },
          "metadata": {},
          "execution_count": 40
        }
      ]
    },
    {
      "cell_type": "markdown",
      "source": [
        "# Nova seção"
      ],
      "metadata": {
        "id": "HOjXf-Lrd6-t"
      }
    },
    {
      "cell_type": "code",
      "source": [
        "# Variavel 'y é nossa variável alvo\n",
        "y = data['MEDV']"
      ],
      "metadata": {
        "id": "k_g39d2oea8E"
      },
      "execution_count": null,
      "outputs": []
    },
    {
      "cell_type": "code",
      "source": [
        "# Remove as colunas colineares, variável alvo e a coluna categorias\n",
        "x = data.drop(['TOWN','TRACT','LAT','RAD','LON','TAX','MEDV','DIS','AGE','ZN','categorias'], axis=1)"
      ],
      "metadata": {
        "id": "VjW5GhyxeuVk"
      },
      "execution_count": null,
      "outputs": []
    },
    {
      "cell_type": "code",
      "source": [
        "x.head()"
      ],
      "metadata": {
        "colab": {
          "base_uri": "https://localhost:8080/",
          "height": 206
        },
        "id": "dYlIUIfDfFqd",
        "outputId": "e3b57d17-51e3-457e-f5b9-b4779fa6b490"
      },
      "execution_count": null,
      "outputs": [
        {
          "output_type": "execute_result",
          "data": {
            "text/plain": [
              "      CRIM  INDUS  CHAS    NOX  RM  PTRATIO\n",
              "0  0.00632   2.31     0  0.538   6     15.3\n",
              "1  0.02731   7.07     0  0.469   6     17.8\n",
              "2  0.02729   7.07     0  0.469   7     17.8\n",
              "3  0.03237   2.18     0  0.458   6     18.7\n",
              "4  0.06905   2.18     0  0.458   7     18.7"
            ],
            "text/html": [
              "\n",
              "  <div id=\"df-297a8e3e-ca61-406d-96c8-ef8521e3e5e5\">\n",
              "    <div class=\"colab-df-container\">\n",
              "      <div>\n",
              "<style scoped>\n",
              "    .dataframe tbody tr th:only-of-type {\n",
              "        vertical-align: middle;\n",
              "    }\n",
              "\n",
              "    .dataframe tbody tr th {\n",
              "        vertical-align: top;\n",
              "    }\n",
              "\n",
              "    .dataframe thead th {\n",
              "        text-align: right;\n",
              "    }\n",
              "</style>\n",
              "<table border=\"1\" class=\"dataframe\">\n",
              "  <thead>\n",
              "    <tr style=\"text-align: right;\">\n",
              "      <th></th>\n",
              "      <th>CRIM</th>\n",
              "      <th>INDUS</th>\n",
              "      <th>CHAS</th>\n",
              "      <th>NOX</th>\n",
              "      <th>RM</th>\n",
              "      <th>PTRATIO</th>\n",
              "    </tr>\n",
              "  </thead>\n",
              "  <tbody>\n",
              "    <tr>\n",
              "      <th>0</th>\n",
              "      <td>0.00632</td>\n",
              "      <td>2.31</td>\n",
              "      <td>0</td>\n",
              "      <td>0.538</td>\n",
              "      <td>6</td>\n",
              "      <td>15.3</td>\n",
              "    </tr>\n",
              "    <tr>\n",
              "      <th>1</th>\n",
              "      <td>0.02731</td>\n",
              "      <td>7.07</td>\n",
              "      <td>0</td>\n",
              "      <td>0.469</td>\n",
              "      <td>6</td>\n",
              "      <td>17.8</td>\n",
              "    </tr>\n",
              "    <tr>\n",
              "      <th>2</th>\n",
              "      <td>0.02729</td>\n",
              "      <td>7.07</td>\n",
              "      <td>0</td>\n",
              "      <td>0.469</td>\n",
              "      <td>7</td>\n",
              "      <td>17.8</td>\n",
              "    </tr>\n",
              "    <tr>\n",
              "      <th>3</th>\n",
              "      <td>0.03237</td>\n",
              "      <td>2.18</td>\n",
              "      <td>0</td>\n",
              "      <td>0.458</td>\n",
              "      <td>6</td>\n",
              "      <td>18.7</td>\n",
              "    </tr>\n",
              "    <tr>\n",
              "      <th>4</th>\n",
              "      <td>0.06905</td>\n",
              "      <td>2.18</td>\n",
              "      <td>0</td>\n",
              "      <td>0.458</td>\n",
              "      <td>7</td>\n",
              "      <td>18.7</td>\n",
              "    </tr>\n",
              "  </tbody>\n",
              "</table>\n",
              "</div>\n",
              "      <button class=\"colab-df-convert\" onclick=\"convertToInteractive('df-297a8e3e-ca61-406d-96c8-ef8521e3e5e5')\"\n",
              "              title=\"Convert this dataframe to an interactive table.\"\n",
              "              style=\"display:none;\">\n",
              "        \n",
              "  <svg xmlns=\"http://www.w3.org/2000/svg\" height=\"24px\"viewBox=\"0 0 24 24\"\n",
              "       width=\"24px\">\n",
              "    <path d=\"M0 0h24v24H0V0z\" fill=\"none\"/>\n",
              "    <path d=\"M18.56 5.44l.94 2.06.94-2.06 2.06-.94-2.06-.94-.94-2.06-.94 2.06-2.06.94zm-11 1L8.5 8.5l.94-2.06 2.06-.94-2.06-.94L8.5 2.5l-.94 2.06-2.06.94zm10 10l.94 2.06.94-2.06 2.06-.94-2.06-.94-.94-2.06-.94 2.06-2.06.94z\"/><path d=\"M17.41 7.96l-1.37-1.37c-.4-.4-.92-.59-1.43-.59-.52 0-1.04.2-1.43.59L10.3 9.45l-7.72 7.72c-.78.78-.78 2.05 0 2.83L4 21.41c.39.39.9.59 1.41.59.51 0 1.02-.2 1.41-.59l7.78-7.78 2.81-2.81c.8-.78.8-2.07 0-2.86zM5.41 20L4 18.59l7.72-7.72 1.47 1.35L5.41 20z\"/>\n",
              "  </svg>\n",
              "      </button>\n",
              "      \n",
              "  <style>\n",
              "    .colab-df-container {\n",
              "      display:flex;\n",
              "      flex-wrap:wrap;\n",
              "      gap: 12px;\n",
              "    }\n",
              "\n",
              "    .colab-df-convert {\n",
              "      background-color: #E8F0FE;\n",
              "      border: none;\n",
              "      border-radius: 50%;\n",
              "      cursor: pointer;\n",
              "      display: none;\n",
              "      fill: #1967D2;\n",
              "      height: 32px;\n",
              "      padding: 0 0 0 0;\n",
              "      width: 32px;\n",
              "    }\n",
              "\n",
              "    .colab-df-convert:hover {\n",
              "      background-color: #E2EBFA;\n",
              "      box-shadow: 0px 1px 2px rgba(60, 64, 67, 0.3), 0px 1px 3px 1px rgba(60, 64, 67, 0.15);\n",
              "      fill: #174EA6;\n",
              "    }\n",
              "\n",
              "    [theme=dark] .colab-df-convert {\n",
              "      background-color: #3B4455;\n",
              "      fill: #D2E3FC;\n",
              "    }\n",
              "\n",
              "    [theme=dark] .colab-df-convert:hover {\n",
              "      background-color: #434B5C;\n",
              "      box-shadow: 0px 1px 3px 1px rgba(0, 0, 0, 0.15);\n",
              "      filter: drop-shadow(0px 1px 2px rgba(0, 0, 0, 0.3));\n",
              "      fill: #FFFFFF;\n",
              "    }\n",
              "  </style>\n",
              "\n",
              "      <script>\n",
              "        const buttonEl =\n",
              "          document.querySelector('#df-297a8e3e-ca61-406d-96c8-ef8521e3e5e5 button.colab-df-convert');\n",
              "        buttonEl.style.display =\n",
              "          google.colab.kernel.accessAllowed ? 'block' : 'none';\n",
              "\n",
              "        async function convertToInteractive(key) {\n",
              "          const element = document.querySelector('#df-297a8e3e-ca61-406d-96c8-ef8521e3e5e5');\n",
              "          const dataTable =\n",
              "            await google.colab.kernel.invokeFunction('convertToInteractive',\n",
              "                                                     [key], {});\n",
              "          if (!dataTable) return;\n",
              "\n",
              "          const docLinkHtml = 'Like what you see? Visit the ' +\n",
              "            '<a target=\"_blank\" href=https://colab.research.google.com/notebooks/data_table.ipynb>data table notebook</a>'\n",
              "            + ' to learn more about interactive tables.';\n",
              "          element.innerHTML = '';\n",
              "          dataTable['output_type'] = 'display_data';\n",
              "          await google.colab.output.renderOutput(dataTable, element);\n",
              "          const docLink = document.createElement('div');\n",
              "          docLink.innerHTML = docLinkHtml;\n",
              "          element.appendChild(docLink);\n",
              "        }\n",
              "      </script>\n",
              "    </div>\n",
              "  </div>\n",
              "  "
            ]
          },
          "metadata": {},
          "execution_count": 43
        }
      ]
    },
    {
      "cell_type": "code",
      "source": [
        "y.head()"
      ],
      "metadata": {
        "colab": {
          "base_uri": "https://localhost:8080/"
        },
        "id": "jx1KqViEfZwU",
        "outputId": "7d756a7b-ebec-4e1f-fb30-9c478cfe0810"
      },
      "execution_count": null,
      "outputs": [
        {
          "output_type": "execute_result",
          "data": {
            "text/plain": [
              "0    24.0\n",
              "1    21.6\n",
              "2    34.7\n",
              "3    33.4\n",
              "4    36.2\n",
              "Name: MEDV, dtype: float64"
            ]
          },
          "metadata": {},
          "execution_count": 44
        }
      ]
    },
    {
      "cell_type": "code",
      "source": [
        "from sklearn.model_selection import train_test_split"
      ],
      "metadata": {
        "id": "b3flnfFtfjpl"
      },
      "execution_count": null,
      "outputs": []
    },
    {
      "cell_type": "code",
      "source": [
        "# Divide os dados entre o cojunto de treino e teste, 80% e 20% respectivamente.\n",
        "# Define qualquer valor para o parametro random_state.\n",
        "X_train, X_test, y_train, y_test = train_test_split(x, y, test_size = 0.2, random_state=5)"
      ],
      "metadata": {
        "id": "RXeIci4NftCc"
      },
      "execution_count": null,
      "outputs": []
    },
    {
      "cell_type": "code",
      "source": [
        "# Imprime a quantidade de linhas dos conjuntos\n",
        "print('X_train: numero de linhas e colunas: {}'.format(X_train.shape))\n",
        "print('X_test: numero de linhas e colunas: {}'.format(X_test.shape))\n",
        "print('y_train: numero de linhas e colunas: {}'.format(y_train.shape))\n",
        "print('y_test: numero de linhas e colunas: {}'.format(y_test.shape))"
      ],
      "metadata": {
        "colab": {
          "base_uri": "https://localhost:8080/"
        },
        "id": "qEgXTSgHgOmM",
        "outputId": "45da7e74-7ae5-4627-8b95-3dc4cf456c7a"
      },
      "execution_count": null,
      "outputs": [
        {
          "output_type": "stream",
          "name": "stdout",
          "text": [
            "X_train: numero de linhas e colunas: (376, 6)\n",
            "X_test: numero de linhas e colunas: (94, 6)\n",
            "y_train: numero de linhas e colunas: (376,)\n",
            "y_test: numero de linhas e colunas: (94,)\n"
          ]
        }
      ]
    },
    {
      "cell_type": "code",
      "source": [
        "X_test.head()"
      ],
      "metadata": {
        "colab": {
          "base_uri": "https://localhost:8080/",
          "height": 206
        },
        "id": "snUNjdWcg-gb",
        "outputId": "a964691d-cb8d-46ff-d3d1-db327bc5acf5"
      },
      "execution_count": null,
      "outputs": [
        {
          "output_type": "execute_result",
          "data": {
            "text/plain": [
              "        CRIM  INDUS  CHAS    NOX  RM  PTRATIO\n",
              "192  0.08664   3.44     0  0.437   7     15.2\n",
              "471  4.03841  18.10     0  0.532   6     20.2\n",
              "211  0.37578  10.59     1  0.489   5     18.6\n",
              "312  0.26169   9.90     0  0.544   6     18.4\n",
              "460  4.81213  18.10     0  0.713   6     20.2"
            ],
            "text/html": [
              "\n",
              "  <div id=\"df-3fbb09aa-8f27-4164-a9ca-1b271d90ec44\">\n",
              "    <div class=\"colab-df-container\">\n",
              "      <div>\n",
              "<style scoped>\n",
              "    .dataframe tbody tr th:only-of-type {\n",
              "        vertical-align: middle;\n",
              "    }\n",
              "\n",
              "    .dataframe tbody tr th {\n",
              "        vertical-align: top;\n",
              "    }\n",
              "\n",
              "    .dataframe thead th {\n",
              "        text-align: right;\n",
              "    }\n",
              "</style>\n",
              "<table border=\"1\" class=\"dataframe\">\n",
              "  <thead>\n",
              "    <tr style=\"text-align: right;\">\n",
              "      <th></th>\n",
              "      <th>CRIM</th>\n",
              "      <th>INDUS</th>\n",
              "      <th>CHAS</th>\n",
              "      <th>NOX</th>\n",
              "      <th>RM</th>\n",
              "      <th>PTRATIO</th>\n",
              "    </tr>\n",
              "  </thead>\n",
              "  <tbody>\n",
              "    <tr>\n",
              "      <th>192</th>\n",
              "      <td>0.08664</td>\n",
              "      <td>3.44</td>\n",
              "      <td>0</td>\n",
              "      <td>0.437</td>\n",
              "      <td>7</td>\n",
              "      <td>15.2</td>\n",
              "    </tr>\n",
              "    <tr>\n",
              "      <th>471</th>\n",
              "      <td>4.03841</td>\n",
              "      <td>18.10</td>\n",
              "      <td>0</td>\n",
              "      <td>0.532</td>\n",
              "      <td>6</td>\n",
              "      <td>20.2</td>\n",
              "    </tr>\n",
              "    <tr>\n",
              "      <th>211</th>\n",
              "      <td>0.37578</td>\n",
              "      <td>10.59</td>\n",
              "      <td>1</td>\n",
              "      <td>0.489</td>\n",
              "      <td>5</td>\n",
              "      <td>18.6</td>\n",
              "    </tr>\n",
              "    <tr>\n",
              "      <th>312</th>\n",
              "      <td>0.26169</td>\n",
              "      <td>9.90</td>\n",
              "      <td>0</td>\n",
              "      <td>0.544</td>\n",
              "      <td>6</td>\n",
              "      <td>18.4</td>\n",
              "    </tr>\n",
              "    <tr>\n",
              "      <th>460</th>\n",
              "      <td>4.81213</td>\n",
              "      <td>18.10</td>\n",
              "      <td>0</td>\n",
              "      <td>0.713</td>\n",
              "      <td>6</td>\n",
              "      <td>20.2</td>\n",
              "    </tr>\n",
              "  </tbody>\n",
              "</table>\n",
              "</div>\n",
              "      <button class=\"colab-df-convert\" onclick=\"convertToInteractive('df-3fbb09aa-8f27-4164-a9ca-1b271d90ec44')\"\n",
              "              title=\"Convert this dataframe to an interactive table.\"\n",
              "              style=\"display:none;\">\n",
              "        \n",
              "  <svg xmlns=\"http://www.w3.org/2000/svg\" height=\"24px\"viewBox=\"0 0 24 24\"\n",
              "       width=\"24px\">\n",
              "    <path d=\"M0 0h24v24H0V0z\" fill=\"none\"/>\n",
              "    <path d=\"M18.56 5.44l.94 2.06.94-2.06 2.06-.94-2.06-.94-.94-2.06-.94 2.06-2.06.94zm-11 1L8.5 8.5l.94-2.06 2.06-.94-2.06-.94L8.5 2.5l-.94 2.06-2.06.94zm10 10l.94 2.06.94-2.06 2.06-.94-2.06-.94-.94-2.06-.94 2.06-2.06.94z\"/><path d=\"M17.41 7.96l-1.37-1.37c-.4-.4-.92-.59-1.43-.59-.52 0-1.04.2-1.43.59L10.3 9.45l-7.72 7.72c-.78.78-.78 2.05 0 2.83L4 21.41c.39.39.9.59 1.41.59.51 0 1.02-.2 1.41-.59l7.78-7.78 2.81-2.81c.8-.78.8-2.07 0-2.86zM5.41 20L4 18.59l7.72-7.72 1.47 1.35L5.41 20z\"/>\n",
              "  </svg>\n",
              "      </button>\n",
              "      \n",
              "  <style>\n",
              "    .colab-df-container {\n",
              "      display:flex;\n",
              "      flex-wrap:wrap;\n",
              "      gap: 12px;\n",
              "    }\n",
              "\n",
              "    .colab-df-convert {\n",
              "      background-color: #E8F0FE;\n",
              "      border: none;\n",
              "      border-radius: 50%;\n",
              "      cursor: pointer;\n",
              "      display: none;\n",
              "      fill: #1967D2;\n",
              "      height: 32px;\n",
              "      padding: 0 0 0 0;\n",
              "      width: 32px;\n",
              "    }\n",
              "\n",
              "    .colab-df-convert:hover {\n",
              "      background-color: #E2EBFA;\n",
              "      box-shadow: 0px 1px 2px rgba(60, 64, 67, 0.3), 0px 1px 3px 1px rgba(60, 64, 67, 0.15);\n",
              "      fill: #174EA6;\n",
              "    }\n",
              "\n",
              "    [theme=dark] .colab-df-convert {\n",
              "      background-color: #3B4455;\n",
              "      fill: #D2E3FC;\n",
              "    }\n",
              "\n",
              "    [theme=dark] .colab-df-convert:hover {\n",
              "      background-color: #434B5C;\n",
              "      box-shadow: 0px 1px 3px 1px rgba(0, 0, 0, 0.15);\n",
              "      filter: drop-shadow(0px 1px 2px rgba(0, 0, 0, 0.3));\n",
              "      fill: #FFFFFF;\n",
              "    }\n",
              "  </style>\n",
              "\n",
              "      <script>\n",
              "        const buttonEl =\n",
              "          document.querySelector('#df-3fbb09aa-8f27-4164-a9ca-1b271d90ec44 button.colab-df-convert');\n",
              "        buttonEl.style.display =\n",
              "          google.colab.kernel.accessAllowed ? 'block' : 'none';\n",
              "\n",
              "        async function convertToInteractive(key) {\n",
              "          const element = document.querySelector('#df-3fbb09aa-8f27-4164-a9ca-1b271d90ec44');\n",
              "          const dataTable =\n",
              "            await google.colab.kernel.invokeFunction('convertToInteractive',\n",
              "                                                     [key], {});\n",
              "          if (!dataTable) return;\n",
              "\n",
              "          const docLinkHtml = 'Like what you see? Visit the ' +\n",
              "            '<a target=\"_blank\" href=https://colab.research.google.com/notebooks/data_table.ipynb>data table notebook</a>'\n",
              "            + ' to learn more about interactive tables.';\n",
              "          element.innerHTML = '';\n",
              "          dataTable['output_type'] = 'display_data';\n",
              "          await google.colab.output.renderOutput(dataTable, element);\n",
              "          const docLink = document.createElement('div');\n",
              "          docLink.innerHTML = docLinkHtml;\n",
              "          element.appendChild(docLink);\n",
              "        }\n",
              "      </script>\n",
              "    </div>\n",
              "  </div>\n",
              "  "
            ]
          },
          "metadata": {},
          "execution_count": 48
        }
      ]
    },
    {
      "cell_type": "code",
      "source": [
        "# Definindo lista de predições\n",
        "predicoes = []"
      ],
      "metadata": {
        "id": "dKUxkqbKhQjz"
      },
      "execution_count": null,
      "outputs": []
    },
    {
      "cell_type": "code",
      "source": [
        "# Para cada elemento do teste, alimenta a lista de predições\n",
        "for i in X_test.RM.iteritems():\n",
        "  n_quartos = i[1]\n",
        "  predicoes.append(retorna_baseline(n_quartos))"
      ],
      "metadata": {
        "id": "K7Yl7N-mh39r",
        "colab": {
          "base_uri": "https://localhost:8080/"
        },
        "outputId": "e73279cd-d9c3-4e33-a293-a740c0f7e65b"
      },
      "execution_count": null,
      "outputs": [
        {
          "output_type": "stream",
          "name": "stderr",
          "text": [
            "<ipython-input-50-524dc8ac7934>:2: FutureWarning:\n",
            "\n",
            "iteritems is deprecated and will be removed in a future version. Use .items instead.\n",
            "\n"
          ]
        }
      ]
    },
    {
      "cell_type": "code",
      "source": [
        "# Imprime as 10 primeiras linhas da lista de predições\n",
        "predicoes[:10]"
      ],
      "metadata": {
        "colab": {
          "base_uri": "https://localhost:8080/"
        },
        "id": "DOUIa11AinDL",
        "outputId": "f797c6cf-2cac-476f-d797-61d0fe18cd6e"
      },
      "execution_count": null,
      "outputs": [
        {
          "output_type": "execute_result",
          "data": {
            "text/plain": [
              "[31.40606060606061,\n",
              " 20.07565011820331,\n",
              " 20.07565011820331,\n",
              " 20.07565011820331,\n",
              " 20.07565011820331,\n",
              " 20.07565011820331,\n",
              " 20.07565011820331,\n",
              " 20.07565011820331,\n",
              " 20.07565011820331,\n",
              " 20.07565011820331]"
            ]
          },
          "metadata": {},
          "execution_count": 51
        }
      ]
    },
    {
      "cell_type": "code",
      "source": [
        "# cria um data frame vazio\n",
        "df_results = pd.DataFrame()"
      ],
      "metadata": {
        "id": "8AVSLCcwi967"
      },
      "execution_count": null,
      "outputs": []
    },
    {
      "cell_type": "code",
      "source": [
        "df_results['valor_real'] = y_test.values"
      ],
      "metadata": {
        "id": "JqUt95DpjhTb"
      },
      "execution_count": null,
      "outputs": []
    },
    {
      "cell_type": "code",
      "source": [
        "# adiciona a coluna valor_real\n",
        "df_results['valor_predito_baseline'] = predicoes"
      ],
      "metadata": {
        "id": "wD1bSfSgjPST"
      },
      "execution_count": null,
      "outputs": []
    },
    {
      "cell_type": "code",
      "source": [
        "df_results.head(10)"
      ],
      "metadata": {
        "colab": {
          "base_uri": "https://localhost:8080/",
          "height": 363
        },
        "id": "FkCFMydrjaGz",
        "outputId": "09deb798-bdb0-4bcb-d95c-aba4225506e2"
      },
      "execution_count": null,
      "outputs": [
        {
          "output_type": "execute_result",
          "data": {
            "text/plain": [
              "   valor_real  valor_predito_baseline\n",
              "0        36.4               31.406061\n",
              "1        19.6               20.075650\n",
              "2        19.3               20.075650\n",
              "3        19.4               20.075650\n",
              "4        16.4               20.075650\n",
              "5        10.4               20.075650\n",
              "6        30.1               20.075650\n",
              "7        25.2               20.075650\n",
              "8        21.6               20.075650\n",
              "9        21.4               20.075650"
            ],
            "text/html": [
              "\n",
              "  <div id=\"df-c1015fb6-cef9-4767-8a1d-d0d2ea5b0f8b\">\n",
              "    <div class=\"colab-df-container\">\n",
              "      <div>\n",
              "<style scoped>\n",
              "    .dataframe tbody tr th:only-of-type {\n",
              "        vertical-align: middle;\n",
              "    }\n",
              "\n",
              "    .dataframe tbody tr th {\n",
              "        vertical-align: top;\n",
              "    }\n",
              "\n",
              "    .dataframe thead th {\n",
              "        text-align: right;\n",
              "    }\n",
              "</style>\n",
              "<table border=\"1\" class=\"dataframe\">\n",
              "  <thead>\n",
              "    <tr style=\"text-align: right;\">\n",
              "      <th></th>\n",
              "      <th>valor_real</th>\n",
              "      <th>valor_predito_baseline</th>\n",
              "    </tr>\n",
              "  </thead>\n",
              "  <tbody>\n",
              "    <tr>\n",
              "      <th>0</th>\n",
              "      <td>36.4</td>\n",
              "      <td>31.406061</td>\n",
              "    </tr>\n",
              "    <tr>\n",
              "      <th>1</th>\n",
              "      <td>19.6</td>\n",
              "      <td>20.075650</td>\n",
              "    </tr>\n",
              "    <tr>\n",
              "      <th>2</th>\n",
              "      <td>19.3</td>\n",
              "      <td>20.075650</td>\n",
              "    </tr>\n",
              "    <tr>\n",
              "      <th>3</th>\n",
              "      <td>19.4</td>\n",
              "      <td>20.075650</td>\n",
              "    </tr>\n",
              "    <tr>\n",
              "      <th>4</th>\n",
              "      <td>16.4</td>\n",
              "      <td>20.075650</td>\n",
              "    </tr>\n",
              "    <tr>\n",
              "      <th>5</th>\n",
              "      <td>10.4</td>\n",
              "      <td>20.075650</td>\n",
              "    </tr>\n",
              "    <tr>\n",
              "      <th>6</th>\n",
              "      <td>30.1</td>\n",
              "      <td>20.075650</td>\n",
              "    </tr>\n",
              "    <tr>\n",
              "      <th>7</th>\n",
              "      <td>25.2</td>\n",
              "      <td>20.075650</td>\n",
              "    </tr>\n",
              "    <tr>\n",
              "      <th>8</th>\n",
              "      <td>21.6</td>\n",
              "      <td>20.075650</td>\n",
              "    </tr>\n",
              "    <tr>\n",
              "      <th>9</th>\n",
              "      <td>21.4</td>\n",
              "      <td>20.075650</td>\n",
              "    </tr>\n",
              "  </tbody>\n",
              "</table>\n",
              "</div>\n",
              "      <button class=\"colab-df-convert\" onclick=\"convertToInteractive('df-c1015fb6-cef9-4767-8a1d-d0d2ea5b0f8b')\"\n",
              "              title=\"Convert this dataframe to an interactive table.\"\n",
              "              style=\"display:none;\">\n",
              "        \n",
              "  <svg xmlns=\"http://www.w3.org/2000/svg\" height=\"24px\"viewBox=\"0 0 24 24\"\n",
              "       width=\"24px\">\n",
              "    <path d=\"M0 0h24v24H0V0z\" fill=\"none\"/>\n",
              "    <path d=\"M18.56 5.44l.94 2.06.94-2.06 2.06-.94-2.06-.94-.94-2.06-.94 2.06-2.06.94zm-11 1L8.5 8.5l.94-2.06 2.06-.94-2.06-.94L8.5 2.5l-.94 2.06-2.06.94zm10 10l.94 2.06.94-2.06 2.06-.94-2.06-.94-.94-2.06-.94 2.06-2.06.94z\"/><path d=\"M17.41 7.96l-1.37-1.37c-.4-.4-.92-.59-1.43-.59-.52 0-1.04.2-1.43.59L10.3 9.45l-7.72 7.72c-.78.78-.78 2.05 0 2.83L4 21.41c.39.39.9.59 1.41.59.51 0 1.02-.2 1.41-.59l7.78-7.78 2.81-2.81c.8-.78.8-2.07 0-2.86zM5.41 20L4 18.59l7.72-7.72 1.47 1.35L5.41 20z\"/>\n",
              "  </svg>\n",
              "      </button>\n",
              "      \n",
              "  <style>\n",
              "    .colab-df-container {\n",
              "      display:flex;\n",
              "      flex-wrap:wrap;\n",
              "      gap: 12px;\n",
              "    }\n",
              "\n",
              "    .colab-df-convert {\n",
              "      background-color: #E8F0FE;\n",
              "      border: none;\n",
              "      border-radius: 50%;\n",
              "      cursor: pointer;\n",
              "      display: none;\n",
              "      fill: #1967D2;\n",
              "      height: 32px;\n",
              "      padding: 0 0 0 0;\n",
              "      width: 32px;\n",
              "    }\n",
              "\n",
              "    .colab-df-convert:hover {\n",
              "      background-color: #E2EBFA;\n",
              "      box-shadow: 0px 1px 2px rgba(60, 64, 67, 0.3), 0px 1px 3px 1px rgba(60, 64, 67, 0.15);\n",
              "      fill: #174EA6;\n",
              "    }\n",
              "\n",
              "    [theme=dark] .colab-df-convert {\n",
              "      background-color: #3B4455;\n",
              "      fill: #D2E3FC;\n",
              "    }\n",
              "\n",
              "    [theme=dark] .colab-df-convert:hover {\n",
              "      background-color: #434B5C;\n",
              "      box-shadow: 0px 1px 3px 1px rgba(0, 0, 0, 0.15);\n",
              "      filter: drop-shadow(0px 1px 2px rgba(0, 0, 0, 0.3));\n",
              "      fill: #FFFFFF;\n",
              "    }\n",
              "  </style>\n",
              "\n",
              "      <script>\n",
              "        const buttonEl =\n",
              "          document.querySelector('#df-c1015fb6-cef9-4767-8a1d-d0d2ea5b0f8b button.colab-df-convert');\n",
              "        buttonEl.style.display =\n",
              "          google.colab.kernel.accessAllowed ? 'block' : 'none';\n",
              "\n",
              "        async function convertToInteractive(key) {\n",
              "          const element = document.querySelector('#df-c1015fb6-cef9-4767-8a1d-d0d2ea5b0f8b');\n",
              "          const dataTable =\n",
              "            await google.colab.kernel.invokeFunction('convertToInteractive',\n",
              "                                                     [key], {});\n",
              "          if (!dataTable) return;\n",
              "\n",
              "          const docLinkHtml = 'Like what you see? Visit the ' +\n",
              "            '<a target=\"_blank\" href=https://colab.research.google.com/notebooks/data_table.ipynb>data table notebook</a>'\n",
              "            + ' to learn more about interactive tables.';\n",
              "          element.innerHTML = '';\n",
              "          dataTable['output_type'] = 'display_data';\n",
              "          await google.colab.output.renderOutput(dataTable, element);\n",
              "          const docLink = document.createElement('div');\n",
              "          docLink.innerHTML = docLinkHtml;\n",
              "          element.appendChild(docLink);\n",
              "        }\n",
              "      </script>\n",
              "    </div>\n",
              "  </div>\n",
              "  "
            ]
          },
          "metadata": {},
          "execution_count": 55
        }
      ]
    },
    {
      "cell_type": "code",
      "source": [
        "import plotly.graph_objects as go\n",
        "\n",
        "#Create Traces\n",
        "fig = go.Figure()\n",
        "\n",
        "# Linha com os dados de teste\n",
        "fig.add_trace(go.Scatter(x=df_results.index,\n",
        "                         y=df_results.valor_real,\n",
        "                         mode='lines+markers',\n",
        "                         name='Valor Real'))\n",
        "\n",
        "# Linha com os dadospreditos\n",
        "fig.add_trace(go.Scatter(x=df_results.index,\n",
        "                         y=df_results.valor_predito_baseline,\n",
        "                         mode='lines+markers',\n",
        "                         name='Valor Predito Baseline'))\n",
        "\n",
        "fig.show()"
      ],
      "metadata": {
        "colab": {
          "base_uri": "https://localhost:8080/",
          "height": 542
        },
        "id": "BZdQc_QmjxhD",
        "outputId": "257fc57d-9b4d-49f4-b993-708316dd7266"
      },
      "execution_count": null,
      "outputs": [
        {
          "output_type": "display_data",
          "data": {
            "text/html": [
              "<html>\n",
              "<head><meta charset=\"utf-8\" /></head>\n",
              "<body>\n",
              "    <div>            <script src=\"https://cdnjs.cloudflare.com/ajax/libs/mathjax/2.7.5/MathJax.js?config=TeX-AMS-MML_SVG\"></script><script type=\"text/javascript\">if (window.MathJax && window.MathJax.Hub && window.MathJax.Hub.Config) {window.MathJax.Hub.Config({SVG: {font: \"STIX-Web\"}});}</script>                <script type=\"text/javascript\">window.PlotlyConfig = {MathJaxConfig: 'local'};</script>\n",
              "        <script src=\"https://cdn.plot.ly/plotly-2.18.2.min.js\"></script>                <div id=\"27f1b9ca-2df6-4ef2-8dde-f9e669cbd41e\" class=\"plotly-graph-div\" style=\"height:525px; width:100%;\"></div>            <script type=\"text/javascript\">                                    window.PLOTLYENV=window.PLOTLYENV || {};                                    if (document.getElementById(\"27f1b9ca-2df6-4ef2-8dde-f9e669cbd41e\")) {                    Plotly.newPlot(                        \"27f1b9ca-2df6-4ef2-8dde-f9e669cbd41e\",                        [{\"mode\":\"lines+markers\",\"name\":\"Valor Real\",\"x\":[0,1,2,3,4,5,6,7,8,9,10,11,12,13,14,15,16,17,18,19,20,21,22,23,24,25,26,27,28,29,30,31,32,33,34,35,36,37,38,39,40,41,42,43,44,45,46,47,48,49,50,51,52,53,54,55,56,57,58,59,60,61,62,63,64,65,66,67,68,69,70,71,72,73,74,75,76,77,78,79,80,81,82,83,84,85,86,87,88,89,90,91,92,93],\"y\":[36.4,19.6,19.3,19.4,16.4,10.4,30.1,25.2,21.6,21.4,24.7,19.7,16.2,13.4,26.5,21.2,29.4,17.1,13.0,19.3,31.7,23.2,24.7,18.3,14.9,24.1,7.0,15.6,26.6,15.3,20.1,34.9,21.7,7.0,12.0,14.4,21.1,14.6,22.2,33.8,20.4,14.0,10.4,15.6,23.7,24.3,22.4,13.5,27.5,11.9,22.8,19.9,25.0,13.3,10.5,25.0,19.6,24.4,20.2,14.3,13.8,19.4,23.7,25.0,22.6,19.1,17.0,21.4,18.8,23.8,36.1,19.8,21.0,20.6,20.0,31.2,29.6,24.6,16.6,18.9,20.8,21.9,20.4,33.3,23.4,8.5,19.4,14.9,22.6,29.1,20.6,19.4,16.5,19.6],\"type\":\"scatter\"},{\"mode\":\"lines+markers\",\"name\":\"Valor Predito Baseline\",\"x\":[0,1,2,3,4,5,6,7,8,9,10,11,12,13,14,15,16,17,18,19,20,21,22,23,24,25,26,27,28,29,30,31,32,33,34,35,36,37,38,39,40,41,42,43,44,45,46,47,48,49,50,51,52,53,54,55,56,57,58,59,60,61,62,63,64,65,66,67,68,69,70,71,72,73,74,75,76,77,78,79,80,81,82,83,84,85,86,87,88,89,90,91,92,93],\"y\":[31.40606060606061,20.07565011820331,20.07565011820331,20.07565011820331,20.07565011820331,20.07565011820331,20.07565011820331,20.07565011820331,20.07565011820331,20.07565011820331,20.07565011820331,20.07565011820331,20.07565011820331,20.07565011820331,20.07565011820331,20.07565011820331,20.07565011820331,20.07565011820331,20.07565011820331,20.07565011820331,31.40606060606061,20.07565011820331,20.07565011820331,20.07565011820331,20.07565011820331,20.07565011820331,20.07565011820331,20.07565011820331,20.07565011820331,20.07565011820331,20.07565011820331,31.40606060606061,20.07565011820331,20.07565011820331,20.07565011820331,20.07565011820331,20.07565011820331,20.07565011820331,20.07565011820331,31.40606060606061,20.07565011820331,20.07565011820331,20.07565011820331,20.07565011820331,20.07565011820331,20.07565011820331,20.07565011820331,20.07565011820331,20.07565011820331,20.07565011820331,20.07565011820331,20.07565011820331,20.07565011820331,20.07565011820331,20.07565011820331,20.07565011820331,20.07565011820331,20.07565011820331,20.07565011820331,20.07565011820331,20.07565011820331,20.07565011820331,20.07565011820331,20.07565011820331,20.07565011820331,20.07565011820331,20.07565011820331,20.07565011820331,20.07565011820331,20.07565011820331,31.40606060606061,20.07565011820331,20.07565011820331,20.07565011820331,20.07565011820331,20.07565011820331,20.07565011820331,20.07565011820331,20.07565011820331,20.07565011820331,20.07565011820331,20.07565011820331,20.07565011820331,31.40606060606061,20.07565011820331,20.07565011820331,20.07565011820331,20.07565011820331,20.07565011820331,20.07565011820331,20.07565011820331,20.07565011820331,20.07565011820331,20.07565011820331],\"type\":\"scatter\"}],                        {\"template\":{\"data\":{\"histogram2dcontour\":[{\"type\":\"histogram2dcontour\",\"colorbar\":{\"outlinewidth\":0,\"ticks\":\"\"},\"colorscale\":[[0.0,\"#0d0887\"],[0.1111111111111111,\"#46039f\"],[0.2222222222222222,\"#7201a8\"],[0.3333333333333333,\"#9c179e\"],[0.4444444444444444,\"#bd3786\"],[0.5555555555555556,\"#d8576b\"],[0.6666666666666666,\"#ed7953\"],[0.7777777777777778,\"#fb9f3a\"],[0.8888888888888888,\"#fdca26\"],[1.0,\"#f0f921\"]]}],\"choropleth\":[{\"type\":\"choropleth\",\"colorbar\":{\"outlinewidth\":0,\"ticks\":\"\"}}],\"histogram2d\":[{\"type\":\"histogram2d\",\"colorbar\":{\"outlinewidth\":0,\"ticks\":\"\"},\"colorscale\":[[0.0,\"#0d0887\"],[0.1111111111111111,\"#46039f\"],[0.2222222222222222,\"#7201a8\"],[0.3333333333333333,\"#9c179e\"],[0.4444444444444444,\"#bd3786\"],[0.5555555555555556,\"#d8576b\"],[0.6666666666666666,\"#ed7953\"],[0.7777777777777778,\"#fb9f3a\"],[0.8888888888888888,\"#fdca26\"],[1.0,\"#f0f921\"]]}],\"heatmap\":[{\"type\":\"heatmap\",\"colorbar\":{\"outlinewidth\":0,\"ticks\":\"\"},\"colorscale\":[[0.0,\"#0d0887\"],[0.1111111111111111,\"#46039f\"],[0.2222222222222222,\"#7201a8\"],[0.3333333333333333,\"#9c179e\"],[0.4444444444444444,\"#bd3786\"],[0.5555555555555556,\"#d8576b\"],[0.6666666666666666,\"#ed7953\"],[0.7777777777777778,\"#fb9f3a\"],[0.8888888888888888,\"#fdca26\"],[1.0,\"#f0f921\"]]}],\"heatmapgl\":[{\"type\":\"heatmapgl\",\"colorbar\":{\"outlinewidth\":0,\"ticks\":\"\"},\"colorscale\":[[0.0,\"#0d0887\"],[0.1111111111111111,\"#46039f\"],[0.2222222222222222,\"#7201a8\"],[0.3333333333333333,\"#9c179e\"],[0.4444444444444444,\"#bd3786\"],[0.5555555555555556,\"#d8576b\"],[0.6666666666666666,\"#ed7953\"],[0.7777777777777778,\"#fb9f3a\"],[0.8888888888888888,\"#fdca26\"],[1.0,\"#f0f921\"]]}],\"contourcarpet\":[{\"type\":\"contourcarpet\",\"colorbar\":{\"outlinewidth\":0,\"ticks\":\"\"}}],\"contour\":[{\"type\":\"contour\",\"colorbar\":{\"outlinewidth\":0,\"ticks\":\"\"},\"colorscale\":[[0.0,\"#0d0887\"],[0.1111111111111111,\"#46039f\"],[0.2222222222222222,\"#7201a8\"],[0.3333333333333333,\"#9c179e\"],[0.4444444444444444,\"#bd3786\"],[0.5555555555555556,\"#d8576b\"],[0.6666666666666666,\"#ed7953\"],[0.7777777777777778,\"#fb9f3a\"],[0.8888888888888888,\"#fdca26\"],[1.0,\"#f0f921\"]]}],\"surface\":[{\"type\":\"surface\",\"colorbar\":{\"outlinewidth\":0,\"ticks\":\"\"},\"colorscale\":[[0.0,\"#0d0887\"],[0.1111111111111111,\"#46039f\"],[0.2222222222222222,\"#7201a8\"],[0.3333333333333333,\"#9c179e\"],[0.4444444444444444,\"#bd3786\"],[0.5555555555555556,\"#d8576b\"],[0.6666666666666666,\"#ed7953\"],[0.7777777777777778,\"#fb9f3a\"],[0.8888888888888888,\"#fdca26\"],[1.0,\"#f0f921\"]]}],\"mesh3d\":[{\"type\":\"mesh3d\",\"colorbar\":{\"outlinewidth\":0,\"ticks\":\"\"}}],\"scatter\":[{\"fillpattern\":{\"fillmode\":\"overlay\",\"size\":10,\"solidity\":0.2},\"type\":\"scatter\"}],\"parcoords\":[{\"type\":\"parcoords\",\"line\":{\"colorbar\":{\"outlinewidth\":0,\"ticks\":\"\"}}}],\"scatterpolargl\":[{\"type\":\"scatterpolargl\",\"marker\":{\"colorbar\":{\"outlinewidth\":0,\"ticks\":\"\"}}}],\"bar\":[{\"error_x\":{\"color\":\"#2a3f5f\"},\"error_y\":{\"color\":\"#2a3f5f\"},\"marker\":{\"line\":{\"color\":\"#E5ECF6\",\"width\":0.5},\"pattern\":{\"fillmode\":\"overlay\",\"size\":10,\"solidity\":0.2}},\"type\":\"bar\"}],\"scattergeo\":[{\"type\":\"scattergeo\",\"marker\":{\"colorbar\":{\"outlinewidth\":0,\"ticks\":\"\"}}}],\"scatterpolar\":[{\"type\":\"scatterpolar\",\"marker\":{\"colorbar\":{\"outlinewidth\":0,\"ticks\":\"\"}}}],\"histogram\":[{\"marker\":{\"pattern\":{\"fillmode\":\"overlay\",\"size\":10,\"solidity\":0.2}},\"type\":\"histogram\"}],\"scattergl\":[{\"type\":\"scattergl\",\"marker\":{\"colorbar\":{\"outlinewidth\":0,\"ticks\":\"\"}}}],\"scatter3d\":[{\"type\":\"scatter3d\",\"line\":{\"colorbar\":{\"outlinewidth\":0,\"ticks\":\"\"}},\"marker\":{\"colorbar\":{\"outlinewidth\":0,\"ticks\":\"\"}}}],\"scattermapbox\":[{\"type\":\"scattermapbox\",\"marker\":{\"colorbar\":{\"outlinewidth\":0,\"ticks\":\"\"}}}],\"scatterternary\":[{\"type\":\"scatterternary\",\"marker\":{\"colorbar\":{\"outlinewidth\":0,\"ticks\":\"\"}}}],\"scattercarpet\":[{\"type\":\"scattercarpet\",\"marker\":{\"colorbar\":{\"outlinewidth\":0,\"ticks\":\"\"}}}],\"carpet\":[{\"aaxis\":{\"endlinecolor\":\"#2a3f5f\",\"gridcolor\":\"white\",\"linecolor\":\"white\",\"minorgridcolor\":\"white\",\"startlinecolor\":\"#2a3f5f\"},\"baxis\":{\"endlinecolor\":\"#2a3f5f\",\"gridcolor\":\"white\",\"linecolor\":\"white\",\"minorgridcolor\":\"white\",\"startlinecolor\":\"#2a3f5f\"},\"type\":\"carpet\"}],\"table\":[{\"cells\":{\"fill\":{\"color\":\"#EBF0F8\"},\"line\":{\"color\":\"white\"}},\"header\":{\"fill\":{\"color\":\"#C8D4E3\"},\"line\":{\"color\":\"white\"}},\"type\":\"table\"}],\"barpolar\":[{\"marker\":{\"line\":{\"color\":\"#E5ECF6\",\"width\":0.5},\"pattern\":{\"fillmode\":\"overlay\",\"size\":10,\"solidity\":0.2}},\"type\":\"barpolar\"}],\"pie\":[{\"automargin\":true,\"type\":\"pie\"}]},\"layout\":{\"autotypenumbers\":\"strict\",\"colorway\":[\"#636efa\",\"#EF553B\",\"#00cc96\",\"#ab63fa\",\"#FFA15A\",\"#19d3f3\",\"#FF6692\",\"#B6E880\",\"#FF97FF\",\"#FECB52\"],\"font\":{\"color\":\"#2a3f5f\"},\"hovermode\":\"closest\",\"hoverlabel\":{\"align\":\"left\"},\"paper_bgcolor\":\"white\",\"plot_bgcolor\":\"#E5ECF6\",\"polar\":{\"bgcolor\":\"#E5ECF6\",\"angularaxis\":{\"gridcolor\":\"white\",\"linecolor\":\"white\",\"ticks\":\"\"},\"radialaxis\":{\"gridcolor\":\"white\",\"linecolor\":\"white\",\"ticks\":\"\"}},\"ternary\":{\"bgcolor\":\"#E5ECF6\",\"aaxis\":{\"gridcolor\":\"white\",\"linecolor\":\"white\",\"ticks\":\"\"},\"baxis\":{\"gridcolor\":\"white\",\"linecolor\":\"white\",\"ticks\":\"\"},\"caxis\":{\"gridcolor\":\"white\",\"linecolor\":\"white\",\"ticks\":\"\"}},\"coloraxis\":{\"colorbar\":{\"outlinewidth\":0,\"ticks\":\"\"}},\"colorscale\":{\"sequential\":[[0.0,\"#0d0887\"],[0.1111111111111111,\"#46039f\"],[0.2222222222222222,\"#7201a8\"],[0.3333333333333333,\"#9c179e\"],[0.4444444444444444,\"#bd3786\"],[0.5555555555555556,\"#d8576b\"],[0.6666666666666666,\"#ed7953\"],[0.7777777777777778,\"#fb9f3a\"],[0.8888888888888888,\"#fdca26\"],[1.0,\"#f0f921\"]],\"sequentialminus\":[[0.0,\"#0d0887\"],[0.1111111111111111,\"#46039f\"],[0.2222222222222222,\"#7201a8\"],[0.3333333333333333,\"#9c179e\"],[0.4444444444444444,\"#bd3786\"],[0.5555555555555556,\"#d8576b\"],[0.6666666666666666,\"#ed7953\"],[0.7777777777777778,\"#fb9f3a\"],[0.8888888888888888,\"#fdca26\"],[1.0,\"#f0f921\"]],\"diverging\":[[0,\"#8e0152\"],[0.1,\"#c51b7d\"],[0.2,\"#de77ae\"],[0.3,\"#f1b6da\"],[0.4,\"#fde0ef\"],[0.5,\"#f7f7f7\"],[0.6,\"#e6f5d0\"],[0.7,\"#b8e186\"],[0.8,\"#7fbc41\"],[0.9,\"#4d9221\"],[1,\"#276419\"]]},\"xaxis\":{\"gridcolor\":\"white\",\"linecolor\":\"white\",\"ticks\":\"\",\"title\":{\"standoff\":15},\"zerolinecolor\":\"white\",\"automargin\":true,\"zerolinewidth\":2},\"yaxis\":{\"gridcolor\":\"white\",\"linecolor\":\"white\",\"ticks\":\"\",\"title\":{\"standoff\":15},\"zerolinecolor\":\"white\",\"automargin\":true,\"zerolinewidth\":2},\"scene\":{\"xaxis\":{\"backgroundcolor\":\"#E5ECF6\",\"gridcolor\":\"white\",\"linecolor\":\"white\",\"showbackground\":true,\"ticks\":\"\",\"zerolinecolor\":\"white\",\"gridwidth\":2},\"yaxis\":{\"backgroundcolor\":\"#E5ECF6\",\"gridcolor\":\"white\",\"linecolor\":\"white\",\"showbackground\":true,\"ticks\":\"\",\"zerolinecolor\":\"white\",\"gridwidth\":2},\"zaxis\":{\"backgroundcolor\":\"#E5ECF6\",\"gridcolor\":\"white\",\"linecolor\":\"white\",\"showbackground\":true,\"ticks\":\"\",\"zerolinecolor\":\"white\",\"gridwidth\":2}},\"shapedefaults\":{\"line\":{\"color\":\"#2a3f5f\"}},\"annotationdefaults\":{\"arrowcolor\":\"#2a3f5f\",\"arrowhead\":0,\"arrowwidth\":1},\"geo\":{\"bgcolor\":\"white\",\"landcolor\":\"#E5ECF6\",\"subunitcolor\":\"white\",\"showland\":true,\"showlakes\":true,\"lakecolor\":\"white\"},\"title\":{\"x\":0.05},\"mapbox\":{\"style\":\"light\"}}}},                        {\"responsive\": true}                    ).then(function(){\n",
              "                            \n",
              "var gd = document.getElementById('27f1b9ca-2df6-4ef2-8dde-f9e669cbd41e');\n",
              "var x = new MutationObserver(function (mutations, observer) {{\n",
              "        var display = window.getComputedStyle(gd).display;\n",
              "        if (!display || display === 'none') {{\n",
              "            console.log([gd, 'removed!']);\n",
              "            Plotly.purge(gd);\n",
              "            observer.disconnect();\n",
              "        }}\n",
              "}});\n",
              "\n",
              "// Listen for the removal of the full notebook cells\n",
              "var notebookContainer = gd.closest('#notebook-container');\n",
              "if (notebookContainer) {{\n",
              "    x.observe(notebookContainer, {childList: true});\n",
              "}}\n",
              "\n",
              "// Listen for the clearing of the current output cell\n",
              "var outputEl = gd.closest('.output');\n",
              "if (outputEl) {{\n",
              "    x.observe(outputEl, {childList: true});\n",
              "}}\n",
              "\n",
              "                        })                };                            </script>        </div>\n",
              "</body>\n",
              "</html>"
            ]
          },
          "metadata": {}
        }
      ]
    },
    {
      "cell_type": "code",
      "source": [
        "# calcula a métrica rmse\n",
        "from sklearn.metrics import mean_squared_error\n",
        "from math import sqrt"
      ],
      "metadata": {
        "id": "_9kRBAw3m9pa"
      },
      "execution_count": null,
      "outputs": []
    },
    {
      "cell_type": "code",
      "source": [
        "rmse = (np.sqrt(mean_squared_error(y_test, predicoes)))"
      ],
      "metadata": {
        "id": "DtOMBuomnVdp"
      },
      "execution_count": null,
      "outputs": []
    },
    {
      "cell_type": "code",
      "source": [
        "print('Performace do modelo baseline')\n",
        "print('\\nRMSE é: {}'.format(rmse))"
      ],
      "metadata": {
        "colab": {
          "base_uri": "https://localhost:8080/"
        },
        "id": "62SSg9Jln135",
        "outputId": "70b53ecf-4b31-4123-a868-62fa877cd557"
      },
      "execution_count": null,
      "outputs": [
        {
          "output_type": "stream",
          "name": "stdout",
          "text": [
            "Performace do modelo baseline\n",
            "\n",
            "RMSE é: 5.110437659566612\n"
          ]
        }
      ]
    },
    {
      "cell_type": "markdown",
      "source": [
        "# Machine Learning"
      ],
      "metadata": {
        "id": "I-0kWe1L2yz-"
      }
    },
    {
      "cell_type": "markdown",
      "source": [
        "# Regreção Linear\n",
        " - Devido a correlação entre algumas features podemos usar uma regreção linear\n",
        " - Modelo simples e eficiente.\n",
        " - Solução rapida e robusta."
      ],
      "metadata": {
        "id": "tNR0JI0d226c"
      }
    },
    {
      "cell_type": "code",
      "source": [
        "# carrega o pacote LinearRegression\n",
        "from sklearn.linear_model import LinearRegression"
      ],
      "metadata": {
        "id": "3hIb6_Ad2k0X"
      },
      "execution_count": null,
      "outputs": []
    },
    {
      "cell_type": "code",
      "source": [
        "# cria o objeto do tipo LinearRegression\n",
        "lin_model = LinearRegression()"
      ],
      "metadata": {
        "id": "54YdMfzB3XMD"
      },
      "execution_count": null,
      "outputs": []
    },
    {
      "cell_type": "code",
      "source": [
        "# treina o algoritimo regressão linear\n",
        "lin_model.fit(X_train, y_train)"
      ],
      "metadata": {
        "colab": {
          "base_uri": "https://localhost:8080/",
          "height": 52
        },
        "id": "7H9ECIWC3gz7",
        "outputId": "9e11d390-4a99-4ed4-9c2b-9c1bc113048a"
      },
      "execution_count": null,
      "outputs": [
        {
          "output_type": "execute_result",
          "data": {
            "text/plain": [
              "LinearRegression()"
            ],
            "text/html": [
              "<style>#sk-container-id-2 {color: black;background-color: white;}#sk-container-id-2 pre{padding: 0;}#sk-container-id-2 div.sk-toggleable {background-color: white;}#sk-container-id-2 label.sk-toggleable__label {cursor: pointer;display: block;width: 100%;margin-bottom: 0;padding: 0.3em;box-sizing: border-box;text-align: center;}#sk-container-id-2 label.sk-toggleable__label-arrow:before {content: \"▸\";float: left;margin-right: 0.25em;color: #696969;}#sk-container-id-2 label.sk-toggleable__label-arrow:hover:before {color: black;}#sk-container-id-2 div.sk-estimator:hover label.sk-toggleable__label-arrow:before {color: black;}#sk-container-id-2 div.sk-toggleable__content {max-height: 0;max-width: 0;overflow: hidden;text-align: left;background-color: #f0f8ff;}#sk-container-id-2 div.sk-toggleable__content pre {margin: 0.2em;color: black;border-radius: 0.25em;background-color: #f0f8ff;}#sk-container-id-2 input.sk-toggleable__control:checked~div.sk-toggleable__content {max-height: 200px;max-width: 100%;overflow: auto;}#sk-container-id-2 input.sk-toggleable__control:checked~label.sk-toggleable__label-arrow:before {content: \"▾\";}#sk-container-id-2 div.sk-estimator input.sk-toggleable__control:checked~label.sk-toggleable__label {background-color: #d4ebff;}#sk-container-id-2 div.sk-label input.sk-toggleable__control:checked~label.sk-toggleable__label {background-color: #d4ebff;}#sk-container-id-2 input.sk-hidden--visually {border: 0;clip: rect(1px 1px 1px 1px);clip: rect(1px, 1px, 1px, 1px);height: 1px;margin: -1px;overflow: hidden;padding: 0;position: absolute;width: 1px;}#sk-container-id-2 div.sk-estimator {font-family: monospace;background-color: #f0f8ff;border: 1px dotted black;border-radius: 0.25em;box-sizing: border-box;margin-bottom: 0.5em;}#sk-container-id-2 div.sk-estimator:hover {background-color: #d4ebff;}#sk-container-id-2 div.sk-parallel-item::after {content: \"\";width: 100%;border-bottom: 1px solid gray;flex-grow: 1;}#sk-container-id-2 div.sk-label:hover label.sk-toggleable__label {background-color: #d4ebff;}#sk-container-id-2 div.sk-serial::before {content: \"\";position: absolute;border-left: 1px solid gray;box-sizing: border-box;top: 0;bottom: 0;left: 50%;z-index: 0;}#sk-container-id-2 div.sk-serial {display: flex;flex-direction: column;align-items: center;background-color: white;padding-right: 0.2em;padding-left: 0.2em;position: relative;}#sk-container-id-2 div.sk-item {position: relative;z-index: 1;}#sk-container-id-2 div.sk-parallel {display: flex;align-items: stretch;justify-content: center;background-color: white;position: relative;}#sk-container-id-2 div.sk-item::before, #sk-container-id-2 div.sk-parallel-item::before {content: \"\";position: absolute;border-left: 1px solid gray;box-sizing: border-box;top: 0;bottom: 0;left: 50%;z-index: -1;}#sk-container-id-2 div.sk-parallel-item {display: flex;flex-direction: column;z-index: 1;position: relative;background-color: white;}#sk-container-id-2 div.sk-parallel-item:first-child::after {align-self: flex-end;width: 50%;}#sk-container-id-2 div.sk-parallel-item:last-child::after {align-self: flex-start;width: 50%;}#sk-container-id-2 div.sk-parallel-item:only-child::after {width: 0;}#sk-container-id-2 div.sk-dashed-wrapped {border: 1px dashed gray;margin: 0 0.4em 0.5em 0.4em;box-sizing: border-box;padding-bottom: 0.4em;background-color: white;}#sk-container-id-2 div.sk-label label {font-family: monospace;font-weight: bold;display: inline-block;line-height: 1.2em;}#sk-container-id-2 div.sk-label-container {text-align: center;}#sk-container-id-2 div.sk-container {/* jupyter's `normalize.less` sets `[hidden] { display: none; }` but bootstrap.min.css set `[hidden] { display: none !important; }` so we also need the `!important` here to be able to override the default hidden behavior on the sphinx rendered scikit-learn.org. See: https://github.com/scikit-learn/scikit-learn/issues/21755 */display: inline-block !important;position: relative;}#sk-container-id-2 div.sk-text-repr-fallback {display: none;}</style><div id=\"sk-container-id-2\" class=\"sk-top-container\"><div class=\"sk-text-repr-fallback\"><pre>LinearRegression()</pre><b>In a Jupyter environment, please rerun this cell to show the HTML representation or trust the notebook. <br />On GitHub, the HTML representation is unable to render, please try loading this page with nbviewer.org.</b></div><div class=\"sk-container\" hidden><div class=\"sk-item\"><div class=\"sk-estimator sk-toggleable\"><input class=\"sk-toggleable__control sk-hidden--visually\" id=\"sk-estimator-id-2\" type=\"checkbox\" checked><label for=\"sk-estimator-id-2\" class=\"sk-toggleable__label sk-toggleable__label-arrow\">LinearRegression</label><div class=\"sk-toggleable__content\"><pre>LinearRegression()</pre></div></div></div></div></div>"
            ]
          },
          "metadata": {},
          "execution_count": 65
        }
      ]
    },
    {
      "cell_type": "code",
      "source": [
        "# avaliação do modelo nos dados de teste\n",
        "y_pred = lin_model.predict(X_test)"
      ],
      "metadata": {
        "id": "8M-fKufo3vKj"
      },
      "execution_count": null,
      "outputs": []
    },
    {
      "cell_type": "code",
      "source": [
        "rmse = (np.sqrt(mean_squared_error(y_test, y_pred)))"
      ],
      "metadata": {
        "id": "ROTbt_LZ4bgC"
      },
      "execution_count": null,
      "outputs": []
    },
    {
      "cell_type": "code",
      "source": [
        "print('Performace do modelo avaliado com dados de teste')\n",
        "print('\\nRMSE é: {}'.format(rmse))"
      ],
      "metadata": {
        "colab": {
          "base_uri": "https://localhost:8080/"
        },
        "id": "qb0RVzzX4ghD",
        "outputId": "7d79c58c-3ed5-4ec6-bad0-6fcb79aaf290"
      },
      "execution_count": null,
      "outputs": [
        {
          "output_type": "stream",
          "name": "stdout",
          "text": [
            "Performace do modelo avaliado com dados de teste\n",
            "\n",
            "RMSE é: 3.99692124972864\n"
          ]
        }
      ]
    },
    {
      "cell_type": "code",
      "source": [
        "# atribui os resultados no dataframe df_results\n",
        "df_results['Valor_predito_reg_linear'] = lin_model.predict(X_test)"
      ],
      "metadata": {
        "id": "LixpWyrG4rQS"
      },
      "execution_count": null,
      "outputs": []
    },
    {
      "cell_type": "code",
      "source": [
        "df_results.head(10)"
      ],
      "metadata": {
        "colab": {
          "base_uri": "https://localhost:8080/",
          "height": 363
        },
        "id": "Rk1BgcUQ4-Vz",
        "outputId": "705b891b-77cd-437a-d5f3-b3407da155a6"
      },
      "execution_count": null,
      "outputs": [
        {
          "output_type": "execute_result",
          "data": {
            "text/plain": [
              "   valor_real  valor_predito_baseline  Valor_predito_reg_linear\n",
              "0        36.4               31.406061                 30.543930\n",
              "1        19.6               20.075650                 19.464238\n",
              "2        19.3               20.075650                 23.205432\n",
              "3        19.4               20.075650                 22.554506\n",
              "4        16.4               20.075650                 16.536505\n",
              "5        10.4               20.075650                  3.961189\n",
              "6        30.1               20.075650                 26.255023\n",
              "7        25.2               20.075650                 24.067003\n",
              "8        21.6               20.075650                 22.553297\n",
              "9        21.4               20.075650                 16.440244"
            ],
            "text/html": [
              "\n",
              "  <div id=\"df-525ca324-7bee-4207-b5ec-fb7041e031a6\">\n",
              "    <div class=\"colab-df-container\">\n",
              "      <div>\n",
              "<style scoped>\n",
              "    .dataframe tbody tr th:only-of-type {\n",
              "        vertical-align: middle;\n",
              "    }\n",
              "\n",
              "    .dataframe tbody tr th {\n",
              "        vertical-align: top;\n",
              "    }\n",
              "\n",
              "    .dataframe thead th {\n",
              "        text-align: right;\n",
              "    }\n",
              "</style>\n",
              "<table border=\"1\" class=\"dataframe\">\n",
              "  <thead>\n",
              "    <tr style=\"text-align: right;\">\n",
              "      <th></th>\n",
              "      <th>valor_real</th>\n",
              "      <th>valor_predito_baseline</th>\n",
              "      <th>Valor_predito_reg_linear</th>\n",
              "    </tr>\n",
              "  </thead>\n",
              "  <tbody>\n",
              "    <tr>\n",
              "      <th>0</th>\n",
              "      <td>36.4</td>\n",
              "      <td>31.406061</td>\n",
              "      <td>30.543930</td>\n",
              "    </tr>\n",
              "    <tr>\n",
              "      <th>1</th>\n",
              "      <td>19.6</td>\n",
              "      <td>20.075650</td>\n",
              "      <td>19.464238</td>\n",
              "    </tr>\n",
              "    <tr>\n",
              "      <th>2</th>\n",
              "      <td>19.3</td>\n",
              "      <td>20.075650</td>\n",
              "      <td>23.205432</td>\n",
              "    </tr>\n",
              "    <tr>\n",
              "      <th>3</th>\n",
              "      <td>19.4</td>\n",
              "      <td>20.075650</td>\n",
              "      <td>22.554506</td>\n",
              "    </tr>\n",
              "    <tr>\n",
              "      <th>4</th>\n",
              "      <td>16.4</td>\n",
              "      <td>20.075650</td>\n",
              "      <td>16.536505</td>\n",
              "    </tr>\n",
              "    <tr>\n",
              "      <th>5</th>\n",
              "      <td>10.4</td>\n",
              "      <td>20.075650</td>\n",
              "      <td>3.961189</td>\n",
              "    </tr>\n",
              "    <tr>\n",
              "      <th>6</th>\n",
              "      <td>30.1</td>\n",
              "      <td>20.075650</td>\n",
              "      <td>26.255023</td>\n",
              "    </tr>\n",
              "    <tr>\n",
              "      <th>7</th>\n",
              "      <td>25.2</td>\n",
              "      <td>20.075650</td>\n",
              "      <td>24.067003</td>\n",
              "    </tr>\n",
              "    <tr>\n",
              "      <th>8</th>\n",
              "      <td>21.6</td>\n",
              "      <td>20.075650</td>\n",
              "      <td>22.553297</td>\n",
              "    </tr>\n",
              "    <tr>\n",
              "      <th>9</th>\n",
              "      <td>21.4</td>\n",
              "      <td>20.075650</td>\n",
              "      <td>16.440244</td>\n",
              "    </tr>\n",
              "  </tbody>\n",
              "</table>\n",
              "</div>\n",
              "      <button class=\"colab-df-convert\" onclick=\"convertToInteractive('df-525ca324-7bee-4207-b5ec-fb7041e031a6')\"\n",
              "              title=\"Convert this dataframe to an interactive table.\"\n",
              "              style=\"display:none;\">\n",
              "        \n",
              "  <svg xmlns=\"http://www.w3.org/2000/svg\" height=\"24px\"viewBox=\"0 0 24 24\"\n",
              "       width=\"24px\">\n",
              "    <path d=\"M0 0h24v24H0V0z\" fill=\"none\"/>\n",
              "    <path d=\"M18.56 5.44l.94 2.06.94-2.06 2.06-.94-2.06-.94-.94-2.06-.94 2.06-2.06.94zm-11 1L8.5 8.5l.94-2.06 2.06-.94-2.06-.94L8.5 2.5l-.94 2.06-2.06.94zm10 10l.94 2.06.94-2.06 2.06-.94-2.06-.94-.94-2.06-.94 2.06-2.06.94z\"/><path d=\"M17.41 7.96l-1.37-1.37c-.4-.4-.92-.59-1.43-.59-.52 0-1.04.2-1.43.59L10.3 9.45l-7.72 7.72c-.78.78-.78 2.05 0 2.83L4 21.41c.39.39.9.59 1.41.59.51 0 1.02-.2 1.41-.59l7.78-7.78 2.81-2.81c.8-.78.8-2.07 0-2.86zM5.41 20L4 18.59l7.72-7.72 1.47 1.35L5.41 20z\"/>\n",
              "  </svg>\n",
              "      </button>\n",
              "      \n",
              "  <style>\n",
              "    .colab-df-container {\n",
              "      display:flex;\n",
              "      flex-wrap:wrap;\n",
              "      gap: 12px;\n",
              "    }\n",
              "\n",
              "    .colab-df-convert {\n",
              "      background-color: #E8F0FE;\n",
              "      border: none;\n",
              "      border-radius: 50%;\n",
              "      cursor: pointer;\n",
              "      display: none;\n",
              "      fill: #1967D2;\n",
              "      height: 32px;\n",
              "      padding: 0 0 0 0;\n",
              "      width: 32px;\n",
              "    }\n",
              "\n",
              "    .colab-df-convert:hover {\n",
              "      background-color: #E2EBFA;\n",
              "      box-shadow: 0px 1px 2px rgba(60, 64, 67, 0.3), 0px 1px 3px 1px rgba(60, 64, 67, 0.15);\n",
              "      fill: #174EA6;\n",
              "    }\n",
              "\n",
              "    [theme=dark] .colab-df-convert {\n",
              "      background-color: #3B4455;\n",
              "      fill: #D2E3FC;\n",
              "    }\n",
              "\n",
              "    [theme=dark] .colab-df-convert:hover {\n",
              "      background-color: #434B5C;\n",
              "      box-shadow: 0px 1px 3px 1px rgba(0, 0, 0, 0.15);\n",
              "      filter: drop-shadow(0px 1px 2px rgba(0, 0, 0, 0.3));\n",
              "      fill: #FFFFFF;\n",
              "    }\n",
              "  </style>\n",
              "\n",
              "      <script>\n",
              "        const buttonEl =\n",
              "          document.querySelector('#df-525ca324-7bee-4207-b5ec-fb7041e031a6 button.colab-df-convert');\n",
              "        buttonEl.style.display =\n",
              "          google.colab.kernel.accessAllowed ? 'block' : 'none';\n",
              "\n",
              "        async function convertToInteractive(key) {\n",
              "          const element = document.querySelector('#df-525ca324-7bee-4207-b5ec-fb7041e031a6');\n",
              "          const dataTable =\n",
              "            await google.colab.kernel.invokeFunction('convertToInteractive',\n",
              "                                                     [key], {});\n",
              "          if (!dataTable) return;\n",
              "\n",
              "          const docLinkHtml = 'Like what you see? Visit the ' +\n",
              "            '<a target=\"_blank\" href=https://colab.research.google.com/notebooks/data_table.ipynb>data table notebook</a>'\n",
              "            + ' to learn more about interactive tables.';\n",
              "          element.innerHTML = '';\n",
              "          dataTable['output_type'] = 'display_data';\n",
              "          await google.colab.output.renderOutput(dataTable, element);\n",
              "          const docLink = document.createElement('div');\n",
              "          docLink.innerHTML = docLinkHtml;\n",
              "          element.appendChild(docLink);\n",
              "        }\n",
              "      </script>\n",
              "    </div>\n",
              "  </div>\n",
              "  "
            ]
          },
          "metadata": {},
          "execution_count": 69
        }
      ]
    },
    {
      "cell_type": "code",
      "source": [
        "#Create Traces\n",
        "fig = go.Figure()\n",
        "\n",
        "# Linha com os dados de teste\n",
        "fig.add_trace(go.Scatter(x=df_results.index,\n",
        "                         y=df_results.valor_real,\n",
        "                         mode='lines+markers',\n",
        "                         name='Valor Real'))\n",
        "\n",
        "# Linha com os dados de baseline\n",
        "fig.add_trace(go.Scatter(x=df_results.index,\n",
        "                         y=df_results.valor_predito_baseline,\n",
        "                         mode='lines+markers',\n",
        "                         name='Valor Predito Baseline'))\n",
        "\n",
        "# Linha com os dado preditos pela regressão linear\n",
        "fig.add_trace(go.Scatter(x=df_results.index,\n",
        "                         y=df_results.Valor_predito_reg_linear,\n",
        "                         mode='lines',\n",
        "                         name='Valor Predito Reg Linear'))\n",
        "\n",
        "fig.show()"
      ],
      "metadata": {
        "colab": {
          "base_uri": "https://localhost:8080/",
          "height": 542
        },
        "id": "IA3vutFc5TvS",
        "outputId": "2d786ce6-a44d-44af-acab-d6dcd0fa8f81"
      },
      "execution_count": null,
      "outputs": [
        {
          "output_type": "display_data",
          "data": {
            "text/html": [
              "<html>\n",
              "<head><meta charset=\"utf-8\" /></head>\n",
              "<body>\n",
              "    <div>            <script src=\"https://cdnjs.cloudflare.com/ajax/libs/mathjax/2.7.5/MathJax.js?config=TeX-AMS-MML_SVG\"></script><script type=\"text/javascript\">if (window.MathJax && window.MathJax.Hub && window.MathJax.Hub.Config) {window.MathJax.Hub.Config({SVG: {font: \"STIX-Web\"}});}</script>                <script type=\"text/javascript\">window.PlotlyConfig = {MathJaxConfig: 'local'};</script>\n",
              "        <script src=\"https://cdn.plot.ly/plotly-2.18.2.min.js\"></script>                <div id=\"b805768a-4836-4fc7-ac9e-af582cc2ca70\" class=\"plotly-graph-div\" style=\"height:525px; width:100%;\"></div>            <script type=\"text/javascript\">                                    window.PLOTLYENV=window.PLOTLYENV || {};                                    if (document.getElementById(\"b805768a-4836-4fc7-ac9e-af582cc2ca70\")) {                    Plotly.newPlot(                        \"b805768a-4836-4fc7-ac9e-af582cc2ca70\",                        [{\"mode\":\"lines+markers\",\"name\":\"Valor Real\",\"x\":[0,1,2,3,4,5,6,7,8,9,10,11,12,13,14,15,16,17,18,19,20,21,22,23,24,25,26,27,28,29,30,31,32,33,34,35,36,37,38,39,40,41,42,43,44,45,46,47,48,49,50,51,52,53,54,55,56,57,58,59,60,61,62,63,64,65,66,67,68,69,70,71,72,73,74,75,76,77,78,79,80,81,82,83,84,85,86,87,88,89,90,91,92,93],\"y\":[36.4,19.6,19.3,19.4,16.4,10.4,30.1,25.2,21.6,21.4,24.7,19.7,16.2,13.4,26.5,21.2,29.4,17.1,13.0,19.3,31.7,23.2,24.7,18.3,14.9,24.1,7.0,15.6,26.6,15.3,20.1,34.9,21.7,7.0,12.0,14.4,21.1,14.6,22.2,33.8,20.4,14.0,10.4,15.6,23.7,24.3,22.4,13.5,27.5,11.9,22.8,19.9,25.0,13.3,10.5,25.0,19.6,24.4,20.2,14.3,13.8,19.4,23.7,25.0,22.6,19.1,17.0,21.4,18.8,23.8,36.1,19.8,21.0,20.6,20.0,31.2,29.6,24.6,16.6,18.9,20.8,21.9,20.4,33.3,23.4,8.5,19.4,14.9,22.6,29.1,20.6,19.4,16.5,19.6],\"type\":\"scatter\"},{\"mode\":\"lines+markers\",\"name\":\"Valor Predito Baseline\",\"x\":[0,1,2,3,4,5,6,7,8,9,10,11,12,13,14,15,16,17,18,19,20,21,22,23,24,25,26,27,28,29,30,31,32,33,34,35,36,37,38,39,40,41,42,43,44,45,46,47,48,49,50,51,52,53,54,55,56,57,58,59,60,61,62,63,64,65,66,67,68,69,70,71,72,73,74,75,76,77,78,79,80,81,82,83,84,85,86,87,88,89,90,91,92,93],\"y\":[31.40606060606061,20.07565011820331,20.07565011820331,20.07565011820331,20.07565011820331,20.07565011820331,20.07565011820331,20.07565011820331,20.07565011820331,20.07565011820331,20.07565011820331,20.07565011820331,20.07565011820331,20.07565011820331,20.07565011820331,20.07565011820331,20.07565011820331,20.07565011820331,20.07565011820331,20.07565011820331,31.40606060606061,20.07565011820331,20.07565011820331,20.07565011820331,20.07565011820331,20.07565011820331,20.07565011820331,20.07565011820331,20.07565011820331,20.07565011820331,20.07565011820331,31.40606060606061,20.07565011820331,20.07565011820331,20.07565011820331,20.07565011820331,20.07565011820331,20.07565011820331,20.07565011820331,31.40606060606061,20.07565011820331,20.07565011820331,20.07565011820331,20.07565011820331,20.07565011820331,20.07565011820331,20.07565011820331,20.07565011820331,20.07565011820331,20.07565011820331,20.07565011820331,20.07565011820331,20.07565011820331,20.07565011820331,20.07565011820331,20.07565011820331,20.07565011820331,20.07565011820331,20.07565011820331,20.07565011820331,20.07565011820331,20.07565011820331,20.07565011820331,20.07565011820331,20.07565011820331,20.07565011820331,20.07565011820331,20.07565011820331,20.07565011820331,20.07565011820331,31.40606060606061,20.07565011820331,20.07565011820331,20.07565011820331,20.07565011820331,20.07565011820331,20.07565011820331,20.07565011820331,20.07565011820331,20.07565011820331,20.07565011820331,20.07565011820331,20.07565011820331,31.40606060606061,20.07565011820331,20.07565011820331,20.07565011820331,20.07565011820331,20.07565011820331,20.07565011820331,20.07565011820331,20.07565011820331,20.07565011820331,20.07565011820331],\"type\":\"scatter\"},{\"mode\":\"lines\",\"name\":\"Valor Predito Reg Linear\",\"x\":[0,1,2,3,4,5,6,7,8,9,10,11,12,13,14,15,16,17,18,19,20,21,22,23,24,25,26,27,28,29,30,31,32,33,34,35,36,37,38,39,40,41,42,43,44,45,46,47,48,49,50,51,52,53,54,55,56,57,58,59,60,61,62,63,64,65,66,67,68,69,70,71,72,73,74,75,76,77,78,79,80,81,82,83,84,85,86,87,88,89,90,91,92,93],\"y\":[30.543930344958937,19.464238368441993,23.205431736617278,22.554505509588157,16.53650532516172,3.9611887449228327,26.255022720995406,24.067003499366944,22.553297018596204,16.440243804024547,26.90690239918058,23.455251467479584,19.853002921603856,16.237040000147395,21.056915024887715,21.28518724331852,25.456615977927612,15.345976085594305,16.11001643917372,20.308346225923252,27.213018528254764,18.793886590650246,24.906725330834735,18.577808780407146,16.074465745779683,25.91098079783223,5.008202569461439,21.448493498848784,24.535161920022038,19.12420039434828,14.879870439638054,28.17594497229827,21.100338786548907,14.868547711943595,13.763865324869943,14.333646598265755,22.215566871762938,13.4410487887879,22.213803637831894,28.97611732093901,22.69287319918955,17.246653967959148,11.040486087574422,14.436182894432346,19.20183238617447,23.131755339083796,23.230354309623028,20.51941750621132,21.051518460432092,9.468796372407972,22.518158060754693,18.67129154413083,15.695266852814964,18.288008900872505,10.70600837273112,23.150963535101884,17.936194598993616,24.32330921485112,16.37793684912755,16.41566565502464,16.24427474712071,25.008926000272666,26.591590380028425,26.16355240660979,24.876280409476887,14.204191474448503,21.78183585938142,23.567271483382875,16.45132766223815,22.53761020834692,27.517866247202182,26.101485315623787,22.52090977431375,19.677283485352014,23.19601367873069,25.06994479719753,25.02646501277045,25.45856307849853,24.895738906225166,25.84120769049344,13.12821792386671,11.228678757715741,20.310574626738067,33.50864674412301,23.461367783397257,8.373672738166288,21.03345081292298,15.885964119712334,26.098059424385212,28.150351973743533,22.216596210644255,22.19445161507558,26.234258536754144,16.280911809028012],\"type\":\"scatter\"}],                        {\"template\":{\"data\":{\"histogram2dcontour\":[{\"type\":\"histogram2dcontour\",\"colorbar\":{\"outlinewidth\":0,\"ticks\":\"\"},\"colorscale\":[[0.0,\"#0d0887\"],[0.1111111111111111,\"#46039f\"],[0.2222222222222222,\"#7201a8\"],[0.3333333333333333,\"#9c179e\"],[0.4444444444444444,\"#bd3786\"],[0.5555555555555556,\"#d8576b\"],[0.6666666666666666,\"#ed7953\"],[0.7777777777777778,\"#fb9f3a\"],[0.8888888888888888,\"#fdca26\"],[1.0,\"#f0f921\"]]}],\"choropleth\":[{\"type\":\"choropleth\",\"colorbar\":{\"outlinewidth\":0,\"ticks\":\"\"}}],\"histogram2d\":[{\"type\":\"histogram2d\",\"colorbar\":{\"outlinewidth\":0,\"ticks\":\"\"},\"colorscale\":[[0.0,\"#0d0887\"],[0.1111111111111111,\"#46039f\"],[0.2222222222222222,\"#7201a8\"],[0.3333333333333333,\"#9c179e\"],[0.4444444444444444,\"#bd3786\"],[0.5555555555555556,\"#d8576b\"],[0.6666666666666666,\"#ed7953\"],[0.7777777777777778,\"#fb9f3a\"],[0.8888888888888888,\"#fdca26\"],[1.0,\"#f0f921\"]]}],\"heatmap\":[{\"type\":\"heatmap\",\"colorbar\":{\"outlinewidth\":0,\"ticks\":\"\"},\"colorscale\":[[0.0,\"#0d0887\"],[0.1111111111111111,\"#46039f\"],[0.2222222222222222,\"#7201a8\"],[0.3333333333333333,\"#9c179e\"],[0.4444444444444444,\"#bd3786\"],[0.5555555555555556,\"#d8576b\"],[0.6666666666666666,\"#ed7953\"],[0.7777777777777778,\"#fb9f3a\"],[0.8888888888888888,\"#fdca26\"],[1.0,\"#f0f921\"]]}],\"heatmapgl\":[{\"type\":\"heatmapgl\",\"colorbar\":{\"outlinewidth\":0,\"ticks\":\"\"},\"colorscale\":[[0.0,\"#0d0887\"],[0.1111111111111111,\"#46039f\"],[0.2222222222222222,\"#7201a8\"],[0.3333333333333333,\"#9c179e\"],[0.4444444444444444,\"#bd3786\"],[0.5555555555555556,\"#d8576b\"],[0.6666666666666666,\"#ed7953\"],[0.7777777777777778,\"#fb9f3a\"],[0.8888888888888888,\"#fdca26\"],[1.0,\"#f0f921\"]]}],\"contourcarpet\":[{\"type\":\"contourcarpet\",\"colorbar\":{\"outlinewidth\":0,\"ticks\":\"\"}}],\"contour\":[{\"type\":\"contour\",\"colorbar\":{\"outlinewidth\":0,\"ticks\":\"\"},\"colorscale\":[[0.0,\"#0d0887\"],[0.1111111111111111,\"#46039f\"],[0.2222222222222222,\"#7201a8\"],[0.3333333333333333,\"#9c179e\"],[0.4444444444444444,\"#bd3786\"],[0.5555555555555556,\"#d8576b\"],[0.6666666666666666,\"#ed7953\"],[0.7777777777777778,\"#fb9f3a\"],[0.8888888888888888,\"#fdca26\"],[1.0,\"#f0f921\"]]}],\"surface\":[{\"type\":\"surface\",\"colorbar\":{\"outlinewidth\":0,\"ticks\":\"\"},\"colorscale\":[[0.0,\"#0d0887\"],[0.1111111111111111,\"#46039f\"],[0.2222222222222222,\"#7201a8\"],[0.3333333333333333,\"#9c179e\"],[0.4444444444444444,\"#bd3786\"],[0.5555555555555556,\"#d8576b\"],[0.6666666666666666,\"#ed7953\"],[0.7777777777777778,\"#fb9f3a\"],[0.8888888888888888,\"#fdca26\"],[1.0,\"#f0f921\"]]}],\"mesh3d\":[{\"type\":\"mesh3d\",\"colorbar\":{\"outlinewidth\":0,\"ticks\":\"\"}}],\"scatter\":[{\"fillpattern\":{\"fillmode\":\"overlay\",\"size\":10,\"solidity\":0.2},\"type\":\"scatter\"}],\"parcoords\":[{\"type\":\"parcoords\",\"line\":{\"colorbar\":{\"outlinewidth\":0,\"ticks\":\"\"}}}],\"scatterpolargl\":[{\"type\":\"scatterpolargl\",\"marker\":{\"colorbar\":{\"outlinewidth\":0,\"ticks\":\"\"}}}],\"bar\":[{\"error_x\":{\"color\":\"#2a3f5f\"},\"error_y\":{\"color\":\"#2a3f5f\"},\"marker\":{\"line\":{\"color\":\"#E5ECF6\",\"width\":0.5},\"pattern\":{\"fillmode\":\"overlay\",\"size\":10,\"solidity\":0.2}},\"type\":\"bar\"}],\"scattergeo\":[{\"type\":\"scattergeo\",\"marker\":{\"colorbar\":{\"outlinewidth\":0,\"ticks\":\"\"}}}],\"scatterpolar\":[{\"type\":\"scatterpolar\",\"marker\":{\"colorbar\":{\"outlinewidth\":0,\"ticks\":\"\"}}}],\"histogram\":[{\"marker\":{\"pattern\":{\"fillmode\":\"overlay\",\"size\":10,\"solidity\":0.2}},\"type\":\"histogram\"}],\"scattergl\":[{\"type\":\"scattergl\",\"marker\":{\"colorbar\":{\"outlinewidth\":0,\"ticks\":\"\"}}}],\"scatter3d\":[{\"type\":\"scatter3d\",\"line\":{\"colorbar\":{\"outlinewidth\":0,\"ticks\":\"\"}},\"marker\":{\"colorbar\":{\"outlinewidth\":0,\"ticks\":\"\"}}}],\"scattermapbox\":[{\"type\":\"scattermapbox\",\"marker\":{\"colorbar\":{\"outlinewidth\":0,\"ticks\":\"\"}}}],\"scatterternary\":[{\"type\":\"scatterternary\",\"marker\":{\"colorbar\":{\"outlinewidth\":0,\"ticks\":\"\"}}}],\"scattercarpet\":[{\"type\":\"scattercarpet\",\"marker\":{\"colorbar\":{\"outlinewidth\":0,\"ticks\":\"\"}}}],\"carpet\":[{\"aaxis\":{\"endlinecolor\":\"#2a3f5f\",\"gridcolor\":\"white\",\"linecolor\":\"white\",\"minorgridcolor\":\"white\",\"startlinecolor\":\"#2a3f5f\"},\"baxis\":{\"endlinecolor\":\"#2a3f5f\",\"gridcolor\":\"white\",\"linecolor\":\"white\",\"minorgridcolor\":\"white\",\"startlinecolor\":\"#2a3f5f\"},\"type\":\"carpet\"}],\"table\":[{\"cells\":{\"fill\":{\"color\":\"#EBF0F8\"},\"line\":{\"color\":\"white\"}},\"header\":{\"fill\":{\"color\":\"#C8D4E3\"},\"line\":{\"color\":\"white\"}},\"type\":\"table\"}],\"barpolar\":[{\"marker\":{\"line\":{\"color\":\"#E5ECF6\",\"width\":0.5},\"pattern\":{\"fillmode\":\"overlay\",\"size\":10,\"solidity\":0.2}},\"type\":\"barpolar\"}],\"pie\":[{\"automargin\":true,\"type\":\"pie\"}]},\"layout\":{\"autotypenumbers\":\"strict\",\"colorway\":[\"#636efa\",\"#EF553B\",\"#00cc96\",\"#ab63fa\",\"#FFA15A\",\"#19d3f3\",\"#FF6692\",\"#B6E880\",\"#FF97FF\",\"#FECB52\"],\"font\":{\"color\":\"#2a3f5f\"},\"hovermode\":\"closest\",\"hoverlabel\":{\"align\":\"left\"},\"paper_bgcolor\":\"white\",\"plot_bgcolor\":\"#E5ECF6\",\"polar\":{\"bgcolor\":\"#E5ECF6\",\"angularaxis\":{\"gridcolor\":\"white\",\"linecolor\":\"white\",\"ticks\":\"\"},\"radialaxis\":{\"gridcolor\":\"white\",\"linecolor\":\"white\",\"ticks\":\"\"}},\"ternary\":{\"bgcolor\":\"#E5ECF6\",\"aaxis\":{\"gridcolor\":\"white\",\"linecolor\":\"white\",\"ticks\":\"\"},\"baxis\":{\"gridcolor\":\"white\",\"linecolor\":\"white\",\"ticks\":\"\"},\"caxis\":{\"gridcolor\":\"white\",\"linecolor\":\"white\",\"ticks\":\"\"}},\"coloraxis\":{\"colorbar\":{\"outlinewidth\":0,\"ticks\":\"\"}},\"colorscale\":{\"sequential\":[[0.0,\"#0d0887\"],[0.1111111111111111,\"#46039f\"],[0.2222222222222222,\"#7201a8\"],[0.3333333333333333,\"#9c179e\"],[0.4444444444444444,\"#bd3786\"],[0.5555555555555556,\"#d8576b\"],[0.6666666666666666,\"#ed7953\"],[0.7777777777777778,\"#fb9f3a\"],[0.8888888888888888,\"#fdca26\"],[1.0,\"#f0f921\"]],\"sequentialminus\":[[0.0,\"#0d0887\"],[0.1111111111111111,\"#46039f\"],[0.2222222222222222,\"#7201a8\"],[0.3333333333333333,\"#9c179e\"],[0.4444444444444444,\"#bd3786\"],[0.5555555555555556,\"#d8576b\"],[0.6666666666666666,\"#ed7953\"],[0.7777777777777778,\"#fb9f3a\"],[0.8888888888888888,\"#fdca26\"],[1.0,\"#f0f921\"]],\"diverging\":[[0,\"#8e0152\"],[0.1,\"#c51b7d\"],[0.2,\"#de77ae\"],[0.3,\"#f1b6da\"],[0.4,\"#fde0ef\"],[0.5,\"#f7f7f7\"],[0.6,\"#e6f5d0\"],[0.7,\"#b8e186\"],[0.8,\"#7fbc41\"],[0.9,\"#4d9221\"],[1,\"#276419\"]]},\"xaxis\":{\"gridcolor\":\"white\",\"linecolor\":\"white\",\"ticks\":\"\",\"title\":{\"standoff\":15},\"zerolinecolor\":\"white\",\"automargin\":true,\"zerolinewidth\":2},\"yaxis\":{\"gridcolor\":\"white\",\"linecolor\":\"white\",\"ticks\":\"\",\"title\":{\"standoff\":15},\"zerolinecolor\":\"white\",\"automargin\":true,\"zerolinewidth\":2},\"scene\":{\"xaxis\":{\"backgroundcolor\":\"#E5ECF6\",\"gridcolor\":\"white\",\"linecolor\":\"white\",\"showbackground\":true,\"ticks\":\"\",\"zerolinecolor\":\"white\",\"gridwidth\":2},\"yaxis\":{\"backgroundcolor\":\"#E5ECF6\",\"gridcolor\":\"white\",\"linecolor\":\"white\",\"showbackground\":true,\"ticks\":\"\",\"zerolinecolor\":\"white\",\"gridwidth\":2},\"zaxis\":{\"backgroundcolor\":\"#E5ECF6\",\"gridcolor\":\"white\",\"linecolor\":\"white\",\"showbackground\":true,\"ticks\":\"\",\"zerolinecolor\":\"white\",\"gridwidth\":2}},\"shapedefaults\":{\"line\":{\"color\":\"#2a3f5f\"}},\"annotationdefaults\":{\"arrowcolor\":\"#2a3f5f\",\"arrowhead\":0,\"arrowwidth\":1},\"geo\":{\"bgcolor\":\"white\",\"landcolor\":\"#E5ECF6\",\"subunitcolor\":\"white\",\"showland\":true,\"showlakes\":true,\"lakecolor\":\"white\"},\"title\":{\"x\":0.05},\"mapbox\":{\"style\":\"light\"}}}},                        {\"responsive\": true}                    ).then(function(){\n",
              "                            \n",
              "var gd = document.getElementById('b805768a-4836-4fc7-ac9e-af582cc2ca70');\n",
              "var x = new MutationObserver(function (mutations, observer) {{\n",
              "        var display = window.getComputedStyle(gd).display;\n",
              "        if (!display || display === 'none') {{\n",
              "            console.log([gd, 'removed!']);\n",
              "            Plotly.purge(gd);\n",
              "            observer.disconnect();\n",
              "        }}\n",
              "}});\n",
              "\n",
              "// Listen for the removal of the full notebook cells\n",
              "var notebookContainer = gd.closest('#notebook-container');\n",
              "if (notebookContainer) {{\n",
              "    x.observe(notebookContainer, {childList: true});\n",
              "}}\n",
              "\n",
              "// Listen for the clearing of the current output cell\n",
              "var outputEl = gd.closest('.output');\n",
              "if (outputEl) {{\n",
              "    x.observe(outputEl, {childList: true});\n",
              "}}\n",
              "\n",
              "                        })                };                            </script>        </div>\n",
              "</body>\n",
              "</html>"
            ]
          },
          "metadata": {}
        }
      ]
    },
    {
      "cell_type": "markdown",
      "source": [
        "# Arvore de decisão\n",
        "  - Algoritimo de aprendizado supervisionado\n",
        "  - Explicabilidade do Modelo\n",
        "  - Simples"
      ],
      "metadata": {
        "id": "zt0RZUOK6Rd9"
      }
    },
    {
      "cell_type": "code",
      "source": [
        "from sklearn.tree import DecisionTreeRegressor"
      ],
      "metadata": {
        "id": "Rupg2cE66c96"
      },
      "execution_count": null,
      "outputs": []
    },
    {
      "cell_type": "code",
      "source": [
        "regressor = DecisionTreeRegressor()"
      ],
      "metadata": {
        "id": "xZHkYQex6l8y"
      },
      "execution_count": null,
      "outputs": []
    },
    {
      "cell_type": "code",
      "source": [
        "# treina o algoritimo\n",
        "regressor.fit(X_train, y_train)"
      ],
      "metadata": {
        "colab": {
          "base_uri": "https://localhost:8080/",
          "height": 75
        },
        "id": "ORnDPYeR6sVJ",
        "outputId": "f337e952-27ec-404f-b0ef-586a8d0d2209"
      },
      "execution_count": null,
      "outputs": [
        {
          "output_type": "execute_result",
          "data": {
            "text/plain": [
              "DecisionTreeRegressor()"
            ],
            "text/html": [
              "<style>#sk-container-id-4 {color: black;background-color: white;}#sk-container-id-4 pre{padding: 0;}#sk-container-id-4 div.sk-toggleable {background-color: white;}#sk-container-id-4 label.sk-toggleable__label {cursor: pointer;display: block;width: 100%;margin-bottom: 0;padding: 0.3em;box-sizing: border-box;text-align: center;}#sk-container-id-4 label.sk-toggleable__label-arrow:before {content: \"▸\";float: left;margin-right: 0.25em;color: #696969;}#sk-container-id-4 label.sk-toggleable__label-arrow:hover:before {color: black;}#sk-container-id-4 div.sk-estimator:hover label.sk-toggleable__label-arrow:before {color: black;}#sk-container-id-4 div.sk-toggleable__content {max-height: 0;max-width: 0;overflow: hidden;text-align: left;background-color: #f0f8ff;}#sk-container-id-4 div.sk-toggleable__content pre {margin: 0.2em;color: black;border-radius: 0.25em;background-color: #f0f8ff;}#sk-container-id-4 input.sk-toggleable__control:checked~div.sk-toggleable__content {max-height: 200px;max-width: 100%;overflow: auto;}#sk-container-id-4 input.sk-toggleable__control:checked~label.sk-toggleable__label-arrow:before {content: \"▾\";}#sk-container-id-4 div.sk-estimator input.sk-toggleable__control:checked~label.sk-toggleable__label {background-color: #d4ebff;}#sk-container-id-4 div.sk-label input.sk-toggleable__control:checked~label.sk-toggleable__label {background-color: #d4ebff;}#sk-container-id-4 input.sk-hidden--visually {border: 0;clip: rect(1px 1px 1px 1px);clip: rect(1px, 1px, 1px, 1px);height: 1px;margin: -1px;overflow: hidden;padding: 0;position: absolute;width: 1px;}#sk-container-id-4 div.sk-estimator {font-family: monospace;background-color: #f0f8ff;border: 1px dotted black;border-radius: 0.25em;box-sizing: border-box;margin-bottom: 0.5em;}#sk-container-id-4 div.sk-estimator:hover {background-color: #d4ebff;}#sk-container-id-4 div.sk-parallel-item::after {content: \"\";width: 100%;border-bottom: 1px solid gray;flex-grow: 1;}#sk-container-id-4 div.sk-label:hover label.sk-toggleable__label {background-color: #d4ebff;}#sk-container-id-4 div.sk-serial::before {content: \"\";position: absolute;border-left: 1px solid gray;box-sizing: border-box;top: 0;bottom: 0;left: 50%;z-index: 0;}#sk-container-id-4 div.sk-serial {display: flex;flex-direction: column;align-items: center;background-color: white;padding-right: 0.2em;padding-left: 0.2em;position: relative;}#sk-container-id-4 div.sk-item {position: relative;z-index: 1;}#sk-container-id-4 div.sk-parallel {display: flex;align-items: stretch;justify-content: center;background-color: white;position: relative;}#sk-container-id-4 div.sk-item::before, #sk-container-id-4 div.sk-parallel-item::before {content: \"\";position: absolute;border-left: 1px solid gray;box-sizing: border-box;top: 0;bottom: 0;left: 50%;z-index: -1;}#sk-container-id-4 div.sk-parallel-item {display: flex;flex-direction: column;z-index: 1;position: relative;background-color: white;}#sk-container-id-4 div.sk-parallel-item:first-child::after {align-self: flex-end;width: 50%;}#sk-container-id-4 div.sk-parallel-item:last-child::after {align-self: flex-start;width: 50%;}#sk-container-id-4 div.sk-parallel-item:only-child::after {width: 0;}#sk-container-id-4 div.sk-dashed-wrapped {border: 1px dashed gray;margin: 0 0.4em 0.5em 0.4em;box-sizing: border-box;padding-bottom: 0.4em;background-color: white;}#sk-container-id-4 div.sk-label label {font-family: monospace;font-weight: bold;display: inline-block;line-height: 1.2em;}#sk-container-id-4 div.sk-label-container {text-align: center;}#sk-container-id-4 div.sk-container {/* jupyter's `normalize.less` sets `[hidden] { display: none; }` but bootstrap.min.css set `[hidden] { display: none !important; }` so we also need the `!important` here to be able to override the default hidden behavior on the sphinx rendered scikit-learn.org. See: https://github.com/scikit-learn/scikit-learn/issues/21755 */display: inline-block !important;position: relative;}#sk-container-id-4 div.sk-text-repr-fallback {display: none;}</style><div id=\"sk-container-id-4\" class=\"sk-top-container\"><div class=\"sk-text-repr-fallback\"><pre>DecisionTreeRegressor()</pre><b>In a Jupyter environment, please rerun this cell to show the HTML representation or trust the notebook. <br />On GitHub, the HTML representation is unable to render, please try loading this page with nbviewer.org.</b></div><div class=\"sk-container\" hidden><div class=\"sk-item\"><div class=\"sk-estimator sk-toggleable\"><input class=\"sk-toggleable__control sk-hidden--visually\" id=\"sk-estimator-id-4\" type=\"checkbox\" checked><label for=\"sk-estimator-id-4\" class=\"sk-toggleable__label sk-toggleable__label-arrow\">DecisionTreeRegressor</label><div class=\"sk-toggleable__content\"><pre>DecisionTreeRegressor()</pre></div></div></div></div></div>"
            ]
          },
          "metadata": {},
          "execution_count": 87
        }
      ]
    },
    {
      "cell_type": "code",
      "source": [
        "# fazendo as previsões\n",
        "y_pred = regressor.predict(X_test)"
      ],
      "metadata": {
        "id": "QnDWry7E7EsC"
      },
      "execution_count": null,
      "outputs": []
    },
    {
      "cell_type": "code",
      "source": [
        "# adiciona o valor do modelo no dataframe\n",
        "df_results['valor_predito_arvore'] = y_pred\n",
        "df_results.head(10)"
      ],
      "metadata": {
        "colab": {
          "base_uri": "https://localhost:8080/",
          "height": 363
        },
        "id": "e8yFVw0t7h75",
        "outputId": "e2fddef9-8b3c-4a9f-bc6a-fd3def597e9a"
      },
      "execution_count": null,
      "outputs": [
        {
          "output_type": "execute_result",
          "data": {
            "text/plain": [
              "   valor_real  valor_predito_baseline  Valor_predito_reg_linear  \\\n",
              "0        36.4               31.406061                 30.543930   \n",
              "1        19.6               20.075650                 19.464238   \n",
              "2        19.3               20.075650                 23.205432   \n",
              "3        19.4               20.075650                 22.554506   \n",
              "4        16.4               20.075650                 16.536505   \n",
              "5        10.4               20.075650                  3.961189   \n",
              "6        30.1               20.075650                 26.255023   \n",
              "7        25.2               20.075650                 24.067003   \n",
              "8        21.6               20.075650                 22.553297   \n",
              "9        21.4               20.075650                 16.440244   \n",
              "\n",
              "   valor_predito_arvore  \n",
              "0                  34.9  \n",
              "1                  21.2  \n",
              "2                  23.7  \n",
              "3                  15.0  \n",
              "4                  14.1  \n",
              "5                  13.1  \n",
              "6                  23.8  \n",
              "7                  24.5  \n",
              "8                  15.0  \n",
              "9                  17.3  "
            ],
            "text/html": [
              "\n",
              "  <div id=\"df-f3432c4f-5cc2-4c1f-b9fd-196a0b75865d\">\n",
              "    <div class=\"colab-df-container\">\n",
              "      <div>\n",
              "<style scoped>\n",
              "    .dataframe tbody tr th:only-of-type {\n",
              "        vertical-align: middle;\n",
              "    }\n",
              "\n",
              "    .dataframe tbody tr th {\n",
              "        vertical-align: top;\n",
              "    }\n",
              "\n",
              "    .dataframe thead th {\n",
              "        text-align: right;\n",
              "    }\n",
              "</style>\n",
              "<table border=\"1\" class=\"dataframe\">\n",
              "  <thead>\n",
              "    <tr style=\"text-align: right;\">\n",
              "      <th></th>\n",
              "      <th>valor_real</th>\n",
              "      <th>valor_predito_baseline</th>\n",
              "      <th>Valor_predito_reg_linear</th>\n",
              "      <th>valor_predito_arvore</th>\n",
              "    </tr>\n",
              "  </thead>\n",
              "  <tbody>\n",
              "    <tr>\n",
              "      <th>0</th>\n",
              "      <td>36.4</td>\n",
              "      <td>31.406061</td>\n",
              "      <td>30.543930</td>\n",
              "      <td>34.9</td>\n",
              "    </tr>\n",
              "    <tr>\n",
              "      <th>1</th>\n",
              "      <td>19.6</td>\n",
              "      <td>20.075650</td>\n",
              "      <td>19.464238</td>\n",
              "      <td>21.2</td>\n",
              "    </tr>\n",
              "    <tr>\n",
              "      <th>2</th>\n",
              "      <td>19.3</td>\n",
              "      <td>20.075650</td>\n",
              "      <td>23.205432</td>\n",
              "      <td>23.7</td>\n",
              "    </tr>\n",
              "    <tr>\n",
              "      <th>3</th>\n",
              "      <td>19.4</td>\n",
              "      <td>20.075650</td>\n",
              "      <td>22.554506</td>\n",
              "      <td>15.0</td>\n",
              "    </tr>\n",
              "    <tr>\n",
              "      <th>4</th>\n",
              "      <td>16.4</td>\n",
              "      <td>20.075650</td>\n",
              "      <td>16.536505</td>\n",
              "      <td>14.1</td>\n",
              "    </tr>\n",
              "    <tr>\n",
              "      <th>5</th>\n",
              "      <td>10.4</td>\n",
              "      <td>20.075650</td>\n",
              "      <td>3.961189</td>\n",
              "      <td>13.1</td>\n",
              "    </tr>\n",
              "    <tr>\n",
              "      <th>6</th>\n",
              "      <td>30.1</td>\n",
              "      <td>20.075650</td>\n",
              "      <td>26.255023</td>\n",
              "      <td>23.8</td>\n",
              "    </tr>\n",
              "    <tr>\n",
              "      <th>7</th>\n",
              "      <td>25.2</td>\n",
              "      <td>20.075650</td>\n",
              "      <td>24.067003</td>\n",
              "      <td>24.5</td>\n",
              "    </tr>\n",
              "    <tr>\n",
              "      <th>8</th>\n",
              "      <td>21.6</td>\n",
              "      <td>20.075650</td>\n",
              "      <td>22.553297</td>\n",
              "      <td>15.0</td>\n",
              "    </tr>\n",
              "    <tr>\n",
              "      <th>9</th>\n",
              "      <td>21.4</td>\n",
              "      <td>20.075650</td>\n",
              "      <td>16.440244</td>\n",
              "      <td>17.3</td>\n",
              "    </tr>\n",
              "  </tbody>\n",
              "</table>\n",
              "</div>\n",
              "      <button class=\"colab-df-convert\" onclick=\"convertToInteractive('df-f3432c4f-5cc2-4c1f-b9fd-196a0b75865d')\"\n",
              "              title=\"Convert this dataframe to an interactive table.\"\n",
              "              style=\"display:none;\">\n",
              "        \n",
              "  <svg xmlns=\"http://www.w3.org/2000/svg\" height=\"24px\"viewBox=\"0 0 24 24\"\n",
              "       width=\"24px\">\n",
              "    <path d=\"M0 0h24v24H0V0z\" fill=\"none\"/>\n",
              "    <path d=\"M18.56 5.44l.94 2.06.94-2.06 2.06-.94-2.06-.94-.94-2.06-.94 2.06-2.06.94zm-11 1L8.5 8.5l.94-2.06 2.06-.94-2.06-.94L8.5 2.5l-.94 2.06-2.06.94zm10 10l.94 2.06.94-2.06 2.06-.94-2.06-.94-.94-2.06-.94 2.06-2.06.94z\"/><path d=\"M17.41 7.96l-1.37-1.37c-.4-.4-.92-.59-1.43-.59-.52 0-1.04.2-1.43.59L10.3 9.45l-7.72 7.72c-.78.78-.78 2.05 0 2.83L4 21.41c.39.39.9.59 1.41.59.51 0 1.02-.2 1.41-.59l7.78-7.78 2.81-2.81c.8-.78.8-2.07 0-2.86zM5.41 20L4 18.59l7.72-7.72 1.47 1.35L5.41 20z\"/>\n",
              "  </svg>\n",
              "      </button>\n",
              "      \n",
              "  <style>\n",
              "    .colab-df-container {\n",
              "      display:flex;\n",
              "      flex-wrap:wrap;\n",
              "      gap: 12px;\n",
              "    }\n",
              "\n",
              "    .colab-df-convert {\n",
              "      background-color: #E8F0FE;\n",
              "      border: none;\n",
              "      border-radius: 50%;\n",
              "      cursor: pointer;\n",
              "      display: none;\n",
              "      fill: #1967D2;\n",
              "      height: 32px;\n",
              "      padding: 0 0 0 0;\n",
              "      width: 32px;\n",
              "    }\n",
              "\n",
              "    .colab-df-convert:hover {\n",
              "      background-color: #E2EBFA;\n",
              "      box-shadow: 0px 1px 2px rgba(60, 64, 67, 0.3), 0px 1px 3px 1px rgba(60, 64, 67, 0.15);\n",
              "      fill: #174EA6;\n",
              "    }\n",
              "\n",
              "    [theme=dark] .colab-df-convert {\n",
              "      background-color: #3B4455;\n",
              "      fill: #D2E3FC;\n",
              "    }\n",
              "\n",
              "    [theme=dark] .colab-df-convert:hover {\n",
              "      background-color: #434B5C;\n",
              "      box-shadow: 0px 1px 3px 1px rgba(0, 0, 0, 0.15);\n",
              "      filter: drop-shadow(0px 1px 2px rgba(0, 0, 0, 0.3));\n",
              "      fill: #FFFFFF;\n",
              "    }\n",
              "  </style>\n",
              "\n",
              "      <script>\n",
              "        const buttonEl =\n",
              "          document.querySelector('#df-f3432c4f-5cc2-4c1f-b9fd-196a0b75865d button.colab-df-convert');\n",
              "        buttonEl.style.display =\n",
              "          google.colab.kernel.accessAllowed ? 'block' : 'none';\n",
              "\n",
              "        async function convertToInteractive(key) {\n",
              "          const element = document.querySelector('#df-f3432c4f-5cc2-4c1f-b9fd-196a0b75865d');\n",
              "          const dataTable =\n",
              "            await google.colab.kernel.invokeFunction('convertToInteractive',\n",
              "                                                     [key], {});\n",
              "          if (!dataTable) return;\n",
              "\n",
              "          const docLinkHtml = 'Like what you see? Visit the ' +\n",
              "            '<a target=\"_blank\" href=https://colab.research.google.com/notebooks/data_table.ipynb>data table notebook</a>'\n",
              "            + ' to learn more about interactive tables.';\n",
              "          element.innerHTML = '';\n",
              "          dataTable['output_type'] = 'display_data';\n",
              "          await google.colab.output.renderOutput(dataTable, element);\n",
              "          const docLink = document.createElement('div');\n",
              "          docLink.innerHTML = docLinkHtml;\n",
              "          element.appendChild(docLink);\n",
              "        }\n",
              "      </script>\n",
              "    </div>\n",
              "  </div>\n",
              "  "
            ]
          },
          "metadata": {},
          "execution_count": 89
        }
      ]
    },
    {
      "cell_type": "code",
      "source": [
        "#Create Traces\n",
        "fig = go.Figure()\n",
        "\n",
        "# Linha com os dados de teste\n",
        "fig.add_trace(go.Scatter(x=df_results.index,\n",
        "                         y=df_results.valor_real,\n",
        "                         mode='lines+markers',\n",
        "                         name='Valor Real'))\n",
        "\n",
        "# Linha com os dados de baseline\n",
        "fig.add_trace(go.Scatter(x=df_results.index,\n",
        "                         y=df_results.valor_predito_baseline,\n",
        "                         mode='lines+markers',\n",
        "                         name='Valor Predito Baseline'))\n",
        "\n",
        "# Linha com os dado preditos pela regressão linear\n",
        "fig.add_trace(go.Scatter(x=df_results.index,\n",
        "                         y=df_results.Valor_predito_reg_linear,\n",
        "                         mode='lines',\n",
        "                         name='Valor Predito Reg Linear'))\n",
        "\n",
        "# Linha com os dado preditos\n",
        "fig.add_trace(go.Scatter(x=df_results.index,\n",
        "                         y=df_results.valor_predito_arvore,\n",
        "                         mode='lines+markers',\n",
        "                         name='Valor Predito Arvore'))\n",
        "\n",
        "fig.show()"
      ],
      "metadata": {
        "colab": {
          "base_uri": "https://localhost:8080/",
          "height": 542
        },
        "id": "8yoV6pNt8HrB",
        "outputId": "a16ad83c-da1f-4ad5-f0a0-dd946d8932cd"
      },
      "execution_count": null,
      "outputs": [
        {
          "output_type": "display_data",
          "data": {
            "text/html": [
              "<html>\n",
              "<head><meta charset=\"utf-8\" /></head>\n",
              "<body>\n",
              "    <div>            <script src=\"https://cdnjs.cloudflare.com/ajax/libs/mathjax/2.7.5/MathJax.js?config=TeX-AMS-MML_SVG\"></script><script type=\"text/javascript\">if (window.MathJax && window.MathJax.Hub && window.MathJax.Hub.Config) {window.MathJax.Hub.Config({SVG: {font: \"STIX-Web\"}});}</script>                <script type=\"text/javascript\">window.PlotlyConfig = {MathJaxConfig: 'local'};</script>\n",
              "        <script src=\"https://cdn.plot.ly/plotly-2.18.2.min.js\"></script>                <div id=\"a19e9d9a-4173-4a5b-aa84-e9fe9d3ed518\" class=\"plotly-graph-div\" style=\"height:525px; width:100%;\"></div>            <script type=\"text/javascript\">                                    window.PLOTLYENV=window.PLOTLYENV || {};                                    if (document.getElementById(\"a19e9d9a-4173-4a5b-aa84-e9fe9d3ed518\")) {                    Plotly.newPlot(                        \"a19e9d9a-4173-4a5b-aa84-e9fe9d3ed518\",                        [{\"mode\":\"lines+markers\",\"name\":\"Valor Real\",\"x\":[0,1,2,3,4,5,6,7,8,9,10,11,12,13,14,15,16,17,18,19,20,21,22,23,24,25,26,27,28,29,30,31,32,33,34,35,36,37,38,39,40,41,42,43,44,45,46,47,48,49,50,51,52,53,54,55,56,57,58,59,60,61,62,63,64,65,66,67,68,69,70,71,72,73,74,75,76,77,78,79,80,81,82,83,84,85,86,87,88,89,90,91,92,93],\"y\":[36.4,19.6,19.3,19.4,16.4,10.4,30.1,25.2,21.6,21.4,24.7,19.7,16.2,13.4,26.5,21.2,29.4,17.1,13.0,19.3,31.7,23.2,24.7,18.3,14.9,24.1,7.0,15.6,26.6,15.3,20.1,34.9,21.7,7.0,12.0,14.4,21.1,14.6,22.2,33.8,20.4,14.0,10.4,15.6,23.7,24.3,22.4,13.5,27.5,11.9,22.8,19.9,25.0,13.3,10.5,25.0,19.6,24.4,20.2,14.3,13.8,19.4,23.7,25.0,22.6,19.1,17.0,21.4,18.8,23.8,36.1,19.8,21.0,20.6,20.0,31.2,29.6,24.6,16.6,18.9,20.8,21.9,20.4,33.3,23.4,8.5,19.4,14.9,22.6,29.1,20.6,19.4,16.5,19.6],\"type\":\"scatter\"},{\"mode\":\"lines+markers\",\"name\":\"Valor Predito Baseline\",\"x\":[0,1,2,3,4,5,6,7,8,9,10,11,12,13,14,15,16,17,18,19,20,21,22,23,24,25,26,27,28,29,30,31,32,33,34,35,36,37,38,39,40,41,42,43,44,45,46,47,48,49,50,51,52,53,54,55,56,57,58,59,60,61,62,63,64,65,66,67,68,69,70,71,72,73,74,75,76,77,78,79,80,81,82,83,84,85,86,87,88,89,90,91,92,93],\"y\":[31.40606060606061,20.07565011820331,20.07565011820331,20.07565011820331,20.07565011820331,20.07565011820331,20.07565011820331,20.07565011820331,20.07565011820331,20.07565011820331,20.07565011820331,20.07565011820331,20.07565011820331,20.07565011820331,20.07565011820331,20.07565011820331,20.07565011820331,20.07565011820331,20.07565011820331,20.07565011820331,31.40606060606061,20.07565011820331,20.07565011820331,20.07565011820331,20.07565011820331,20.07565011820331,20.07565011820331,20.07565011820331,20.07565011820331,20.07565011820331,20.07565011820331,31.40606060606061,20.07565011820331,20.07565011820331,20.07565011820331,20.07565011820331,20.07565011820331,20.07565011820331,20.07565011820331,31.40606060606061,20.07565011820331,20.07565011820331,20.07565011820331,20.07565011820331,20.07565011820331,20.07565011820331,20.07565011820331,20.07565011820331,20.07565011820331,20.07565011820331,20.07565011820331,20.07565011820331,20.07565011820331,20.07565011820331,20.07565011820331,20.07565011820331,20.07565011820331,20.07565011820331,20.07565011820331,20.07565011820331,20.07565011820331,20.07565011820331,20.07565011820331,20.07565011820331,20.07565011820331,20.07565011820331,20.07565011820331,20.07565011820331,20.07565011820331,20.07565011820331,31.40606060606061,20.07565011820331,20.07565011820331,20.07565011820331,20.07565011820331,20.07565011820331,20.07565011820331,20.07565011820331,20.07565011820331,20.07565011820331,20.07565011820331,20.07565011820331,20.07565011820331,31.40606060606061,20.07565011820331,20.07565011820331,20.07565011820331,20.07565011820331,20.07565011820331,20.07565011820331,20.07565011820331,20.07565011820331,20.07565011820331,20.07565011820331],\"type\":\"scatter\"},{\"mode\":\"lines\",\"name\":\"Valor Predito Reg Linear\",\"x\":[0,1,2,3,4,5,6,7,8,9,10,11,12,13,14,15,16,17,18,19,20,21,22,23,24,25,26,27,28,29,30,31,32,33,34,35,36,37,38,39,40,41,42,43,44,45,46,47,48,49,50,51,52,53,54,55,56,57,58,59,60,61,62,63,64,65,66,67,68,69,70,71,72,73,74,75,76,77,78,79,80,81,82,83,84,85,86,87,88,89,90,91,92,93],\"y\":[30.543930344958937,19.464238368441993,23.205431736617278,22.554505509588157,16.53650532516172,3.9611887449228327,26.255022720995406,24.067003499366944,22.553297018596204,16.440243804024547,26.90690239918058,23.455251467479584,19.853002921603856,16.237040000147395,21.056915024887715,21.28518724331852,25.456615977927612,15.345976085594305,16.11001643917372,20.308346225923252,27.213018528254764,18.793886590650246,24.906725330834735,18.577808780407146,16.074465745779683,25.91098079783223,5.008202569461439,21.448493498848784,24.535161920022038,19.12420039434828,14.879870439638054,28.17594497229827,21.100338786548907,14.868547711943595,13.763865324869943,14.333646598265755,22.215566871762938,13.4410487887879,22.213803637831894,28.97611732093901,22.69287319918955,17.246653967959148,11.040486087574422,14.436182894432346,19.20183238617447,23.131755339083796,23.230354309623028,20.51941750621132,21.051518460432092,9.468796372407972,22.518158060754693,18.67129154413083,15.695266852814964,18.288008900872505,10.70600837273112,23.150963535101884,17.936194598993616,24.32330921485112,16.37793684912755,16.41566565502464,16.24427474712071,25.008926000272666,26.591590380028425,26.16355240660979,24.876280409476887,14.204191474448503,21.78183585938142,23.567271483382875,16.45132766223815,22.53761020834692,27.517866247202182,26.101485315623787,22.52090977431375,19.677283485352014,23.19601367873069,25.06994479719753,25.02646501277045,25.45856307849853,24.895738906225166,25.84120769049344,13.12821792386671,11.228678757715741,20.310574626738067,33.50864674412301,23.461367783397257,8.373672738166288,21.03345081292298,15.885964119712334,26.098059424385212,28.150351973743533,22.216596210644255,22.19445161507558,26.234258536754144,16.280911809028012],\"type\":\"scatter\"},{\"mode\":\"lines+markers\",\"name\":\"Valor Predito Arvore\",\"x\":[0,1,2,3,4,5,6,7,8,9,10,11,12,13,14,15,16,17,18,19,20,21,22,23,24,25,26,27,28,29,30,31,32,33,34,35,36,37,38,39,40,41,42,43,44,45,46,47,48,49,50,51,52,53,54,55,56,57,58,59,60,61,62,63,64,65,66,67,68,69,70,71,72,73,74,75,76,77,78,79,80,81,82,83,84,85,86,87,88,89,90,91,92,93],\"y\":[34.9,21.2,23.7,15.0,14.1,13.1,23.8,24.5,15.0,17.3,34.9,19.6,19.8,19.5,22.0,15.0,29.9,12.6,14.1,18.8,31.5,21.2,24.5,24.5,14.1,22.9,5.0,27.0,28.7,19.4,13.6,33.2,17.4,8.1,27.5,13.2,20.7,17.8,19.0,36.5,25.0,18.0,5.6,14.3,23.0,23.8,21.7,14.5,20.1,27.9,23.1,21.2,22.6,16.1,7.4,20.5,13.9,25.3,14.8,14.8,13.1,17.1,26.6,20.5,22.0,27.5,27.0,20.0,20.5,23.1,33.4,35.4,23.1,19.0,23.7,17.5,37.2,22.5,24.4,19.2,16.8,27.5,18.8,34.6,17.1,5.0,18.6,19.5,36.2,31.6,20.7,20.0,24.0,19.4],\"type\":\"scatter\"}],                        {\"template\":{\"data\":{\"histogram2dcontour\":[{\"type\":\"histogram2dcontour\",\"colorbar\":{\"outlinewidth\":0,\"ticks\":\"\"},\"colorscale\":[[0.0,\"#0d0887\"],[0.1111111111111111,\"#46039f\"],[0.2222222222222222,\"#7201a8\"],[0.3333333333333333,\"#9c179e\"],[0.4444444444444444,\"#bd3786\"],[0.5555555555555556,\"#d8576b\"],[0.6666666666666666,\"#ed7953\"],[0.7777777777777778,\"#fb9f3a\"],[0.8888888888888888,\"#fdca26\"],[1.0,\"#f0f921\"]]}],\"choropleth\":[{\"type\":\"choropleth\",\"colorbar\":{\"outlinewidth\":0,\"ticks\":\"\"}}],\"histogram2d\":[{\"type\":\"histogram2d\",\"colorbar\":{\"outlinewidth\":0,\"ticks\":\"\"},\"colorscale\":[[0.0,\"#0d0887\"],[0.1111111111111111,\"#46039f\"],[0.2222222222222222,\"#7201a8\"],[0.3333333333333333,\"#9c179e\"],[0.4444444444444444,\"#bd3786\"],[0.5555555555555556,\"#d8576b\"],[0.6666666666666666,\"#ed7953\"],[0.7777777777777778,\"#fb9f3a\"],[0.8888888888888888,\"#fdca26\"],[1.0,\"#f0f921\"]]}],\"heatmap\":[{\"type\":\"heatmap\",\"colorbar\":{\"outlinewidth\":0,\"ticks\":\"\"},\"colorscale\":[[0.0,\"#0d0887\"],[0.1111111111111111,\"#46039f\"],[0.2222222222222222,\"#7201a8\"],[0.3333333333333333,\"#9c179e\"],[0.4444444444444444,\"#bd3786\"],[0.5555555555555556,\"#d8576b\"],[0.6666666666666666,\"#ed7953\"],[0.7777777777777778,\"#fb9f3a\"],[0.8888888888888888,\"#fdca26\"],[1.0,\"#f0f921\"]]}],\"heatmapgl\":[{\"type\":\"heatmapgl\",\"colorbar\":{\"outlinewidth\":0,\"ticks\":\"\"},\"colorscale\":[[0.0,\"#0d0887\"],[0.1111111111111111,\"#46039f\"],[0.2222222222222222,\"#7201a8\"],[0.3333333333333333,\"#9c179e\"],[0.4444444444444444,\"#bd3786\"],[0.5555555555555556,\"#d8576b\"],[0.6666666666666666,\"#ed7953\"],[0.7777777777777778,\"#fb9f3a\"],[0.8888888888888888,\"#fdca26\"],[1.0,\"#f0f921\"]]}],\"contourcarpet\":[{\"type\":\"contourcarpet\",\"colorbar\":{\"outlinewidth\":0,\"ticks\":\"\"}}],\"contour\":[{\"type\":\"contour\",\"colorbar\":{\"outlinewidth\":0,\"ticks\":\"\"},\"colorscale\":[[0.0,\"#0d0887\"],[0.1111111111111111,\"#46039f\"],[0.2222222222222222,\"#7201a8\"],[0.3333333333333333,\"#9c179e\"],[0.4444444444444444,\"#bd3786\"],[0.5555555555555556,\"#d8576b\"],[0.6666666666666666,\"#ed7953\"],[0.7777777777777778,\"#fb9f3a\"],[0.8888888888888888,\"#fdca26\"],[1.0,\"#f0f921\"]]}],\"surface\":[{\"type\":\"surface\",\"colorbar\":{\"outlinewidth\":0,\"ticks\":\"\"},\"colorscale\":[[0.0,\"#0d0887\"],[0.1111111111111111,\"#46039f\"],[0.2222222222222222,\"#7201a8\"],[0.3333333333333333,\"#9c179e\"],[0.4444444444444444,\"#bd3786\"],[0.5555555555555556,\"#d8576b\"],[0.6666666666666666,\"#ed7953\"],[0.7777777777777778,\"#fb9f3a\"],[0.8888888888888888,\"#fdca26\"],[1.0,\"#f0f921\"]]}],\"mesh3d\":[{\"type\":\"mesh3d\",\"colorbar\":{\"outlinewidth\":0,\"ticks\":\"\"}}],\"scatter\":[{\"fillpattern\":{\"fillmode\":\"overlay\",\"size\":10,\"solidity\":0.2},\"type\":\"scatter\"}],\"parcoords\":[{\"type\":\"parcoords\",\"line\":{\"colorbar\":{\"outlinewidth\":0,\"ticks\":\"\"}}}],\"scatterpolargl\":[{\"type\":\"scatterpolargl\",\"marker\":{\"colorbar\":{\"outlinewidth\":0,\"ticks\":\"\"}}}],\"bar\":[{\"error_x\":{\"color\":\"#2a3f5f\"},\"error_y\":{\"color\":\"#2a3f5f\"},\"marker\":{\"line\":{\"color\":\"#E5ECF6\",\"width\":0.5},\"pattern\":{\"fillmode\":\"overlay\",\"size\":10,\"solidity\":0.2}},\"type\":\"bar\"}],\"scattergeo\":[{\"type\":\"scattergeo\",\"marker\":{\"colorbar\":{\"outlinewidth\":0,\"ticks\":\"\"}}}],\"scatterpolar\":[{\"type\":\"scatterpolar\",\"marker\":{\"colorbar\":{\"outlinewidth\":0,\"ticks\":\"\"}}}],\"histogram\":[{\"marker\":{\"pattern\":{\"fillmode\":\"overlay\",\"size\":10,\"solidity\":0.2}},\"type\":\"histogram\"}],\"scattergl\":[{\"type\":\"scattergl\",\"marker\":{\"colorbar\":{\"outlinewidth\":0,\"ticks\":\"\"}}}],\"scatter3d\":[{\"type\":\"scatter3d\",\"line\":{\"colorbar\":{\"outlinewidth\":0,\"ticks\":\"\"}},\"marker\":{\"colorbar\":{\"outlinewidth\":0,\"ticks\":\"\"}}}],\"scattermapbox\":[{\"type\":\"scattermapbox\",\"marker\":{\"colorbar\":{\"outlinewidth\":0,\"ticks\":\"\"}}}],\"scatterternary\":[{\"type\":\"scatterternary\",\"marker\":{\"colorbar\":{\"outlinewidth\":0,\"ticks\":\"\"}}}],\"scattercarpet\":[{\"type\":\"scattercarpet\",\"marker\":{\"colorbar\":{\"outlinewidth\":0,\"ticks\":\"\"}}}],\"carpet\":[{\"aaxis\":{\"endlinecolor\":\"#2a3f5f\",\"gridcolor\":\"white\",\"linecolor\":\"white\",\"minorgridcolor\":\"white\",\"startlinecolor\":\"#2a3f5f\"},\"baxis\":{\"endlinecolor\":\"#2a3f5f\",\"gridcolor\":\"white\",\"linecolor\":\"white\",\"minorgridcolor\":\"white\",\"startlinecolor\":\"#2a3f5f\"},\"type\":\"carpet\"}],\"table\":[{\"cells\":{\"fill\":{\"color\":\"#EBF0F8\"},\"line\":{\"color\":\"white\"}},\"header\":{\"fill\":{\"color\":\"#C8D4E3\"},\"line\":{\"color\":\"white\"}},\"type\":\"table\"}],\"barpolar\":[{\"marker\":{\"line\":{\"color\":\"#E5ECF6\",\"width\":0.5},\"pattern\":{\"fillmode\":\"overlay\",\"size\":10,\"solidity\":0.2}},\"type\":\"barpolar\"}],\"pie\":[{\"automargin\":true,\"type\":\"pie\"}]},\"layout\":{\"autotypenumbers\":\"strict\",\"colorway\":[\"#636efa\",\"#EF553B\",\"#00cc96\",\"#ab63fa\",\"#FFA15A\",\"#19d3f3\",\"#FF6692\",\"#B6E880\",\"#FF97FF\",\"#FECB52\"],\"font\":{\"color\":\"#2a3f5f\"},\"hovermode\":\"closest\",\"hoverlabel\":{\"align\":\"left\"},\"paper_bgcolor\":\"white\",\"plot_bgcolor\":\"#E5ECF6\",\"polar\":{\"bgcolor\":\"#E5ECF6\",\"angularaxis\":{\"gridcolor\":\"white\",\"linecolor\":\"white\",\"ticks\":\"\"},\"radialaxis\":{\"gridcolor\":\"white\",\"linecolor\":\"white\",\"ticks\":\"\"}},\"ternary\":{\"bgcolor\":\"#E5ECF6\",\"aaxis\":{\"gridcolor\":\"white\",\"linecolor\":\"white\",\"ticks\":\"\"},\"baxis\":{\"gridcolor\":\"white\",\"linecolor\":\"white\",\"ticks\":\"\"},\"caxis\":{\"gridcolor\":\"white\",\"linecolor\":\"white\",\"ticks\":\"\"}},\"coloraxis\":{\"colorbar\":{\"outlinewidth\":0,\"ticks\":\"\"}},\"colorscale\":{\"sequential\":[[0.0,\"#0d0887\"],[0.1111111111111111,\"#46039f\"],[0.2222222222222222,\"#7201a8\"],[0.3333333333333333,\"#9c179e\"],[0.4444444444444444,\"#bd3786\"],[0.5555555555555556,\"#d8576b\"],[0.6666666666666666,\"#ed7953\"],[0.7777777777777778,\"#fb9f3a\"],[0.8888888888888888,\"#fdca26\"],[1.0,\"#f0f921\"]],\"sequentialminus\":[[0.0,\"#0d0887\"],[0.1111111111111111,\"#46039f\"],[0.2222222222222222,\"#7201a8\"],[0.3333333333333333,\"#9c179e\"],[0.4444444444444444,\"#bd3786\"],[0.5555555555555556,\"#d8576b\"],[0.6666666666666666,\"#ed7953\"],[0.7777777777777778,\"#fb9f3a\"],[0.8888888888888888,\"#fdca26\"],[1.0,\"#f0f921\"]],\"diverging\":[[0,\"#8e0152\"],[0.1,\"#c51b7d\"],[0.2,\"#de77ae\"],[0.3,\"#f1b6da\"],[0.4,\"#fde0ef\"],[0.5,\"#f7f7f7\"],[0.6,\"#e6f5d0\"],[0.7,\"#b8e186\"],[0.8,\"#7fbc41\"],[0.9,\"#4d9221\"],[1,\"#276419\"]]},\"xaxis\":{\"gridcolor\":\"white\",\"linecolor\":\"white\",\"ticks\":\"\",\"title\":{\"standoff\":15},\"zerolinecolor\":\"white\",\"automargin\":true,\"zerolinewidth\":2},\"yaxis\":{\"gridcolor\":\"white\",\"linecolor\":\"white\",\"ticks\":\"\",\"title\":{\"standoff\":15},\"zerolinecolor\":\"white\",\"automargin\":true,\"zerolinewidth\":2},\"scene\":{\"xaxis\":{\"backgroundcolor\":\"#E5ECF6\",\"gridcolor\":\"white\",\"linecolor\":\"white\",\"showbackground\":true,\"ticks\":\"\",\"zerolinecolor\":\"white\",\"gridwidth\":2},\"yaxis\":{\"backgroundcolor\":\"#E5ECF6\",\"gridcolor\":\"white\",\"linecolor\":\"white\",\"showbackground\":true,\"ticks\":\"\",\"zerolinecolor\":\"white\",\"gridwidth\":2},\"zaxis\":{\"backgroundcolor\":\"#E5ECF6\",\"gridcolor\":\"white\",\"linecolor\":\"white\",\"showbackground\":true,\"ticks\":\"\",\"zerolinecolor\":\"white\",\"gridwidth\":2}},\"shapedefaults\":{\"line\":{\"color\":\"#2a3f5f\"}},\"annotationdefaults\":{\"arrowcolor\":\"#2a3f5f\",\"arrowhead\":0,\"arrowwidth\":1},\"geo\":{\"bgcolor\":\"white\",\"landcolor\":\"#E5ECF6\",\"subunitcolor\":\"white\",\"showland\":true,\"showlakes\":true,\"lakecolor\":\"white\"},\"title\":{\"x\":0.05},\"mapbox\":{\"style\":\"light\"}}}},                        {\"responsive\": true}                    ).then(function(){\n",
              "                            \n",
              "var gd = document.getElementById('a19e9d9a-4173-4a5b-aa84-e9fe9d3ed518');\n",
              "var x = new MutationObserver(function (mutations, observer) {{\n",
              "        var display = window.getComputedStyle(gd).display;\n",
              "        if (!display || display === 'none') {{\n",
              "            console.log([gd, 'removed!']);\n",
              "            Plotly.purge(gd);\n",
              "            observer.disconnect();\n",
              "        }}\n",
              "}});\n",
              "\n",
              "// Listen for the removal of the full notebook cells\n",
              "var notebookContainer = gd.closest('#notebook-container');\n",
              "if (notebookContainer) {{\n",
              "    x.observe(notebookContainer, {childList: true});\n",
              "}}\n",
              "\n",
              "// Listen for the clearing of the current output cell\n",
              "var outputEl = gd.closest('.output');\n",
              "if (outputEl) {{\n",
              "    x.observe(outputEl, {childList: true});\n",
              "}}\n",
              "\n",
              "                        })                };                            </script>        </div>\n",
              "</body>\n",
              "</html>"
            ]
          },
          "metadata": {}
        }
      ]
    },
    {
      "cell_type": "code",
      "source": [
        "rmse = (np.sqrt(mean_squared_error(y_test, y_pred)))\n",
        "\n",
        "print('Performace do modelo avaliado com dados de teste')\n",
        "print('\\nRMSE é: {}'.format(rmse))"
      ],
      "metadata": {
        "colab": {
          "base_uri": "https://localhost:8080/"
        },
        "id": "b7CctJo28hth",
        "outputId": "6ffd5d87-5a0b-46b2-f86f-c4a36a2a5cd1"
      },
      "execution_count": null,
      "outputs": [
        {
          "output_type": "stream",
          "name": "stdout",
          "text": [
            "Performace do modelo avaliado com dados de teste\n",
            "\n",
            "RMSE é: 5.22416643050516\n"
          ]
        }
      ]
    },
    {
      "cell_type": "markdown",
      "source": [
        "# Random Forest"
      ],
      "metadata": {
        "id": "BzJgY46n_c8y"
      }
    },
    {
      "cell_type": "code",
      "source": [
        "from sklearn.ensemble import RandomForestRegressor\n",
        "\n",
        "rf_regressor = RandomForestRegressor()\n",
        "# treina o algoritimo\n",
        "rf_regressor.fit(X_train, y_train)"
      ],
      "metadata": {
        "colab": {
          "base_uri": "https://localhost:8080/",
          "height": 75
        },
        "id": "eL5ejYAS_gVn",
        "outputId": "0df4adc9-6d2d-4c87-d543-7fa0633b4d70"
      },
      "execution_count": null,
      "outputs": [
        {
          "output_type": "execute_result",
          "data": {
            "text/plain": [
              "RandomForestRegressor()"
            ],
            "text/html": [
              "<style>#sk-container-id-5 {color: black;background-color: white;}#sk-container-id-5 pre{padding: 0;}#sk-container-id-5 div.sk-toggleable {background-color: white;}#sk-container-id-5 label.sk-toggleable__label {cursor: pointer;display: block;width: 100%;margin-bottom: 0;padding: 0.3em;box-sizing: border-box;text-align: center;}#sk-container-id-5 label.sk-toggleable__label-arrow:before {content: \"▸\";float: left;margin-right: 0.25em;color: #696969;}#sk-container-id-5 label.sk-toggleable__label-arrow:hover:before {color: black;}#sk-container-id-5 div.sk-estimator:hover label.sk-toggleable__label-arrow:before {color: black;}#sk-container-id-5 div.sk-toggleable__content {max-height: 0;max-width: 0;overflow: hidden;text-align: left;background-color: #f0f8ff;}#sk-container-id-5 div.sk-toggleable__content pre {margin: 0.2em;color: black;border-radius: 0.25em;background-color: #f0f8ff;}#sk-container-id-5 input.sk-toggleable__control:checked~div.sk-toggleable__content {max-height: 200px;max-width: 100%;overflow: auto;}#sk-container-id-5 input.sk-toggleable__control:checked~label.sk-toggleable__label-arrow:before {content: \"▾\";}#sk-container-id-5 div.sk-estimator input.sk-toggleable__control:checked~label.sk-toggleable__label {background-color: #d4ebff;}#sk-container-id-5 div.sk-label input.sk-toggleable__control:checked~label.sk-toggleable__label {background-color: #d4ebff;}#sk-container-id-5 input.sk-hidden--visually {border: 0;clip: rect(1px 1px 1px 1px);clip: rect(1px, 1px, 1px, 1px);height: 1px;margin: -1px;overflow: hidden;padding: 0;position: absolute;width: 1px;}#sk-container-id-5 div.sk-estimator {font-family: monospace;background-color: #f0f8ff;border: 1px dotted black;border-radius: 0.25em;box-sizing: border-box;margin-bottom: 0.5em;}#sk-container-id-5 div.sk-estimator:hover {background-color: #d4ebff;}#sk-container-id-5 div.sk-parallel-item::after {content: \"\";width: 100%;border-bottom: 1px solid gray;flex-grow: 1;}#sk-container-id-5 div.sk-label:hover label.sk-toggleable__label {background-color: #d4ebff;}#sk-container-id-5 div.sk-serial::before {content: \"\";position: absolute;border-left: 1px solid gray;box-sizing: border-box;top: 0;bottom: 0;left: 50%;z-index: 0;}#sk-container-id-5 div.sk-serial {display: flex;flex-direction: column;align-items: center;background-color: white;padding-right: 0.2em;padding-left: 0.2em;position: relative;}#sk-container-id-5 div.sk-item {position: relative;z-index: 1;}#sk-container-id-5 div.sk-parallel {display: flex;align-items: stretch;justify-content: center;background-color: white;position: relative;}#sk-container-id-5 div.sk-item::before, #sk-container-id-5 div.sk-parallel-item::before {content: \"\";position: absolute;border-left: 1px solid gray;box-sizing: border-box;top: 0;bottom: 0;left: 50%;z-index: -1;}#sk-container-id-5 div.sk-parallel-item {display: flex;flex-direction: column;z-index: 1;position: relative;background-color: white;}#sk-container-id-5 div.sk-parallel-item:first-child::after {align-self: flex-end;width: 50%;}#sk-container-id-5 div.sk-parallel-item:last-child::after {align-self: flex-start;width: 50%;}#sk-container-id-5 div.sk-parallel-item:only-child::after {width: 0;}#sk-container-id-5 div.sk-dashed-wrapped {border: 1px dashed gray;margin: 0 0.4em 0.5em 0.4em;box-sizing: border-box;padding-bottom: 0.4em;background-color: white;}#sk-container-id-5 div.sk-label label {font-family: monospace;font-weight: bold;display: inline-block;line-height: 1.2em;}#sk-container-id-5 div.sk-label-container {text-align: center;}#sk-container-id-5 div.sk-container {/* jupyter's `normalize.less` sets `[hidden] { display: none; }` but bootstrap.min.css set `[hidden] { display: none !important; }` so we also need the `!important` here to be able to override the default hidden behavior on the sphinx rendered scikit-learn.org. See: https://github.com/scikit-learn/scikit-learn/issues/21755 */display: inline-block !important;position: relative;}#sk-container-id-5 div.sk-text-repr-fallback {display: none;}</style><div id=\"sk-container-id-5\" class=\"sk-top-container\"><div class=\"sk-text-repr-fallback\"><pre>RandomForestRegressor()</pre><b>In a Jupyter environment, please rerun this cell to show the HTML representation or trust the notebook. <br />On GitHub, the HTML representation is unable to render, please try loading this page with nbviewer.org.</b></div><div class=\"sk-container\" hidden><div class=\"sk-item\"><div class=\"sk-estimator sk-toggleable\"><input class=\"sk-toggleable__control sk-hidden--visually\" id=\"sk-estimator-id-5\" type=\"checkbox\" checked><label for=\"sk-estimator-id-5\" class=\"sk-toggleable__label sk-toggleable__label-arrow\">RandomForestRegressor</label><div class=\"sk-toggleable__content\"><pre>RandomForestRegressor()</pre></div></div></div></div></div>"
            ]
          },
          "metadata": {},
          "execution_count": 91
        }
      ]
    },
    {
      "cell_type": "code",
      "source": [
        "# avaliação do modelo nos dados de teste\n",
        "y_pred = rf_regressor.predict(X_test)"
      ],
      "metadata": {
        "id": "E6JEJPcFABmo"
      },
      "execution_count": null,
      "outputs": []
    },
    {
      "cell_type": "code",
      "source": [
        "rmse = (np.sqrt(mean_squared_error(y_test, y_pred)))\n",
        "\n",
        "print('Performace do modelo avaliado com dados de teste')\n",
        "print('\\nRMSE é: {}'.format(rmse))"
      ],
      "metadata": {
        "colab": {
          "base_uri": "https://localhost:8080/"
        },
        "id": "K3agt0urAloQ",
        "outputId": "be2f2a40-8672-4eca-937e-f6d2e9547096"
      },
      "execution_count": null,
      "outputs": [
        {
          "output_type": "stream",
          "name": "stdout",
          "text": [
            "Performace do modelo avaliado com dados de teste\n",
            "\n",
            "RMSE é: 3.776878344865624\n"
          ]
        }
      ]
    },
    {
      "cell_type": "code",
      "source": [
        "# adiciona o valor do modelo no dataframe\n",
        "df_results['valor_predito_random_forest'] = y_pred\n",
        "df_results.head(10)"
      ],
      "metadata": {
        "colab": {
          "base_uri": "https://localhost:8080/",
          "height": 363
        },
        "id": "6g43z6sYANJo",
        "outputId": "32cd99df-d591-4356-f0d5-f170856f19a9"
      },
      "execution_count": null,
      "outputs": [
        {
          "output_type": "execute_result",
          "data": {
            "text/plain": [
              "   valor_real  valor_predito_baseline  Valor_predito_reg_linear  \\\n",
              "0        36.4               31.406061                 30.543930   \n",
              "1        19.6               20.075650                 19.464238   \n",
              "2        19.3               20.075650                 23.205432   \n",
              "3        19.4               20.075650                 22.554506   \n",
              "4        16.4               20.075650                 16.536505   \n",
              "5        10.4               20.075650                  3.961189   \n",
              "6        30.1               20.075650                 26.255023   \n",
              "7        25.2               20.075650                 24.067003   \n",
              "8        21.6               20.075650                 22.553297   \n",
              "9        21.4               20.075650                 16.440244   \n",
              "\n",
              "   valor_predito_arvore  valor_predito_random_forest  \n",
              "0                  34.9                       33.726  \n",
              "1                  21.2                       21.457  \n",
              "2                  23.7                       22.008  \n",
              "3                  15.0                       19.671  \n",
              "4                  14.1                       15.669  \n",
              "5                  13.1                       11.468  \n",
              "6                  23.8                       27.713  \n",
              "7                  24.5                       24.725  \n",
              "8                  15.0                       19.936  \n",
              "9                  17.3                       18.132  "
            ],
            "text/html": [
              "\n",
              "  <div id=\"df-d5064239-1a13-4c55-ba41-6656259be947\">\n",
              "    <div class=\"colab-df-container\">\n",
              "      <div>\n",
              "<style scoped>\n",
              "    .dataframe tbody tr th:only-of-type {\n",
              "        vertical-align: middle;\n",
              "    }\n",
              "\n",
              "    .dataframe tbody tr th {\n",
              "        vertical-align: top;\n",
              "    }\n",
              "\n",
              "    .dataframe thead th {\n",
              "        text-align: right;\n",
              "    }\n",
              "</style>\n",
              "<table border=\"1\" class=\"dataframe\">\n",
              "  <thead>\n",
              "    <tr style=\"text-align: right;\">\n",
              "      <th></th>\n",
              "      <th>valor_real</th>\n",
              "      <th>valor_predito_baseline</th>\n",
              "      <th>Valor_predito_reg_linear</th>\n",
              "      <th>valor_predito_arvore</th>\n",
              "      <th>valor_predito_random_forest</th>\n",
              "    </tr>\n",
              "  </thead>\n",
              "  <tbody>\n",
              "    <tr>\n",
              "      <th>0</th>\n",
              "      <td>36.4</td>\n",
              "      <td>31.406061</td>\n",
              "      <td>30.543930</td>\n",
              "      <td>34.9</td>\n",
              "      <td>33.726</td>\n",
              "    </tr>\n",
              "    <tr>\n",
              "      <th>1</th>\n",
              "      <td>19.6</td>\n",
              "      <td>20.075650</td>\n",
              "      <td>19.464238</td>\n",
              "      <td>21.2</td>\n",
              "      <td>21.457</td>\n",
              "    </tr>\n",
              "    <tr>\n",
              "      <th>2</th>\n",
              "      <td>19.3</td>\n",
              "      <td>20.075650</td>\n",
              "      <td>23.205432</td>\n",
              "      <td>23.7</td>\n",
              "      <td>22.008</td>\n",
              "    </tr>\n",
              "    <tr>\n",
              "      <th>3</th>\n",
              "      <td>19.4</td>\n",
              "      <td>20.075650</td>\n",
              "      <td>22.554506</td>\n",
              "      <td>15.0</td>\n",
              "      <td>19.671</td>\n",
              "    </tr>\n",
              "    <tr>\n",
              "      <th>4</th>\n",
              "      <td>16.4</td>\n",
              "      <td>20.075650</td>\n",
              "      <td>16.536505</td>\n",
              "      <td>14.1</td>\n",
              "      <td>15.669</td>\n",
              "    </tr>\n",
              "    <tr>\n",
              "      <th>5</th>\n",
              "      <td>10.4</td>\n",
              "      <td>20.075650</td>\n",
              "      <td>3.961189</td>\n",
              "      <td>13.1</td>\n",
              "      <td>11.468</td>\n",
              "    </tr>\n",
              "    <tr>\n",
              "      <th>6</th>\n",
              "      <td>30.1</td>\n",
              "      <td>20.075650</td>\n",
              "      <td>26.255023</td>\n",
              "      <td>23.8</td>\n",
              "      <td>27.713</td>\n",
              "    </tr>\n",
              "    <tr>\n",
              "      <th>7</th>\n",
              "      <td>25.2</td>\n",
              "      <td>20.075650</td>\n",
              "      <td>24.067003</td>\n",
              "      <td>24.5</td>\n",
              "      <td>24.725</td>\n",
              "    </tr>\n",
              "    <tr>\n",
              "      <th>8</th>\n",
              "      <td>21.6</td>\n",
              "      <td>20.075650</td>\n",
              "      <td>22.553297</td>\n",
              "      <td>15.0</td>\n",
              "      <td>19.936</td>\n",
              "    </tr>\n",
              "    <tr>\n",
              "      <th>9</th>\n",
              "      <td>21.4</td>\n",
              "      <td>20.075650</td>\n",
              "      <td>16.440244</td>\n",
              "      <td>17.3</td>\n",
              "      <td>18.132</td>\n",
              "    </tr>\n",
              "  </tbody>\n",
              "</table>\n",
              "</div>\n",
              "      <button class=\"colab-df-convert\" onclick=\"convertToInteractive('df-d5064239-1a13-4c55-ba41-6656259be947')\"\n",
              "              title=\"Convert this dataframe to an interactive table.\"\n",
              "              style=\"display:none;\">\n",
              "        \n",
              "  <svg xmlns=\"http://www.w3.org/2000/svg\" height=\"24px\"viewBox=\"0 0 24 24\"\n",
              "       width=\"24px\">\n",
              "    <path d=\"M0 0h24v24H0V0z\" fill=\"none\"/>\n",
              "    <path d=\"M18.56 5.44l.94 2.06.94-2.06 2.06-.94-2.06-.94-.94-2.06-.94 2.06-2.06.94zm-11 1L8.5 8.5l.94-2.06 2.06-.94-2.06-.94L8.5 2.5l-.94 2.06-2.06.94zm10 10l.94 2.06.94-2.06 2.06-.94-2.06-.94-.94-2.06-.94 2.06-2.06.94z\"/><path d=\"M17.41 7.96l-1.37-1.37c-.4-.4-.92-.59-1.43-.59-.52 0-1.04.2-1.43.59L10.3 9.45l-7.72 7.72c-.78.78-.78 2.05 0 2.83L4 21.41c.39.39.9.59 1.41.59.51 0 1.02-.2 1.41-.59l7.78-7.78 2.81-2.81c.8-.78.8-2.07 0-2.86zM5.41 20L4 18.59l7.72-7.72 1.47 1.35L5.41 20z\"/>\n",
              "  </svg>\n",
              "      </button>\n",
              "      \n",
              "  <style>\n",
              "    .colab-df-container {\n",
              "      display:flex;\n",
              "      flex-wrap:wrap;\n",
              "      gap: 12px;\n",
              "    }\n",
              "\n",
              "    .colab-df-convert {\n",
              "      background-color: #E8F0FE;\n",
              "      border: none;\n",
              "      border-radius: 50%;\n",
              "      cursor: pointer;\n",
              "      display: none;\n",
              "      fill: #1967D2;\n",
              "      height: 32px;\n",
              "      padding: 0 0 0 0;\n",
              "      width: 32px;\n",
              "    }\n",
              "\n",
              "    .colab-df-convert:hover {\n",
              "      background-color: #E2EBFA;\n",
              "      box-shadow: 0px 1px 2px rgba(60, 64, 67, 0.3), 0px 1px 3px 1px rgba(60, 64, 67, 0.15);\n",
              "      fill: #174EA6;\n",
              "    }\n",
              "\n",
              "    [theme=dark] .colab-df-convert {\n",
              "      background-color: #3B4455;\n",
              "      fill: #D2E3FC;\n",
              "    }\n",
              "\n",
              "    [theme=dark] .colab-df-convert:hover {\n",
              "      background-color: #434B5C;\n",
              "      box-shadow: 0px 1px 3px 1px rgba(0, 0, 0, 0.15);\n",
              "      filter: drop-shadow(0px 1px 2px rgba(0, 0, 0, 0.3));\n",
              "      fill: #FFFFFF;\n",
              "    }\n",
              "  </style>\n",
              "\n",
              "      <script>\n",
              "        const buttonEl =\n",
              "          document.querySelector('#df-d5064239-1a13-4c55-ba41-6656259be947 button.colab-df-convert');\n",
              "        buttonEl.style.display =\n",
              "          google.colab.kernel.accessAllowed ? 'block' : 'none';\n",
              "\n",
              "        async function convertToInteractive(key) {\n",
              "          const element = document.querySelector('#df-d5064239-1a13-4c55-ba41-6656259be947');\n",
              "          const dataTable =\n",
              "            await google.colab.kernel.invokeFunction('convertToInteractive',\n",
              "                                                     [key], {});\n",
              "          if (!dataTable) return;\n",
              "\n",
              "          const docLinkHtml = 'Like what you see? Visit the ' +\n",
              "            '<a target=\"_blank\" href=https://colab.research.google.com/notebooks/data_table.ipynb>data table notebook</a>'\n",
              "            + ' to learn more about interactive tables.';\n",
              "          element.innerHTML = '';\n",
              "          dataTable['output_type'] = 'display_data';\n",
              "          await google.colab.output.renderOutput(dataTable, element);\n",
              "          const docLink = document.createElement('div');\n",
              "          docLink.innerHTML = docLinkHtml;\n",
              "          element.appendChild(docLink);\n",
              "        }\n",
              "      </script>\n",
              "    </div>\n",
              "  </div>\n",
              "  "
            ]
          },
          "metadata": {},
          "execution_count": 93
        }
      ]
    },
    {
      "cell_type": "code",
      "source": [
        "#Create Traces\n",
        "fig = go.Figure()\n",
        "\n",
        "# Linha com os dados de teste\n",
        "fig.add_trace(go.Scatter(x=df_results.index,\n",
        "                         y=df_results.valor_real,\n",
        "                         mode='markers',\n",
        "                         name='Valor Real'))\n",
        "\n",
        "# Linha com os dados de baseline\n",
        "fig.add_trace(go.Scatter(x=df_results.index,\n",
        "                         y=df_results.valor_predito_baseline,\n",
        "                         mode='lines+markers',\n",
        "                         name='Valor Predito Baseline'))\n",
        "\n",
        "# Linha com os dado preditos pela regressão linear\n",
        "fig.add_trace(go.Scatter(x=df_results.index,\n",
        "                         y=df_results.Valor_predito_reg_linear,\n",
        "                         mode='lines',\n",
        "                         name='Valor Predito Reg Linear'))\n",
        "\n",
        "# Linha com os dado preditos\n",
        "fig.add_trace(go.Scatter(x=df_results.index,\n",
        "                         y=df_results.valor_predito_arvore,\n",
        "                         mode='lines+markers',\n",
        "                         name='Valor Predito Arvore'))\n",
        "\n",
        "# Linha com os random forest\n",
        "fig.add_trace(go.Scatter(x=df_results.index,\n",
        "                         y=df_results.valor_predito_random_forest,\n",
        "                         mode='lines+markers',\n",
        "                         name='Valor Predito Random Forest'))\n",
        "\n",
        "fig.show()"
      ],
      "metadata": {
        "colab": {
          "base_uri": "https://localhost:8080/",
          "height": 542
        },
        "id": "unnFD4QJAQgP",
        "outputId": "f8099551-cfbc-4e48-c717-fa9ee17c4fd0"
      },
      "execution_count": null,
      "outputs": [
        {
          "output_type": "display_data",
          "data": {
            "text/html": [
              "<html>\n",
              "<head><meta charset=\"utf-8\" /></head>\n",
              "<body>\n",
              "    <div>            <script src=\"https://cdnjs.cloudflare.com/ajax/libs/mathjax/2.7.5/MathJax.js?config=TeX-AMS-MML_SVG\"></script><script type=\"text/javascript\">if (window.MathJax && window.MathJax.Hub && window.MathJax.Hub.Config) {window.MathJax.Hub.Config({SVG: {font: \"STIX-Web\"}});}</script>                <script type=\"text/javascript\">window.PlotlyConfig = {MathJaxConfig: 'local'};</script>\n",
              "        <script src=\"https://cdn.plot.ly/plotly-2.18.2.min.js\"></script>                <div id=\"414ace71-c707-4547-9187-a85941c0d5f2\" class=\"plotly-graph-div\" style=\"height:525px; width:100%;\"></div>            <script type=\"text/javascript\">                                    window.PLOTLYENV=window.PLOTLYENV || {};                                    if (document.getElementById(\"414ace71-c707-4547-9187-a85941c0d5f2\")) {                    Plotly.newPlot(                        \"414ace71-c707-4547-9187-a85941c0d5f2\",                        [{\"mode\":\"markers\",\"name\":\"Valor Real\",\"x\":[0,1,2,3,4,5,6,7,8,9,10,11,12,13,14,15,16,17,18,19,20,21,22,23,24,25,26,27,28,29,30,31,32,33,34,35,36,37,38,39,40,41,42,43,44,45,46,47,48,49,50,51,52,53,54,55,56,57,58,59,60,61,62,63,64,65,66,67,68,69,70,71,72,73,74,75,76,77,78,79,80,81,82,83,84,85,86,87,88,89,90,91,92,93],\"y\":[36.4,19.6,19.3,19.4,16.4,10.4,30.1,25.2,21.6,21.4,24.7,19.7,16.2,13.4,26.5,21.2,29.4,17.1,13.0,19.3,31.7,23.2,24.7,18.3,14.9,24.1,7.0,15.6,26.6,15.3,20.1,34.9,21.7,7.0,12.0,14.4,21.1,14.6,22.2,33.8,20.4,14.0,10.4,15.6,23.7,24.3,22.4,13.5,27.5,11.9,22.8,19.9,25.0,13.3,10.5,25.0,19.6,24.4,20.2,14.3,13.8,19.4,23.7,25.0,22.6,19.1,17.0,21.4,18.8,23.8,36.1,19.8,21.0,20.6,20.0,31.2,29.6,24.6,16.6,18.9,20.8,21.9,20.4,33.3,23.4,8.5,19.4,14.9,22.6,29.1,20.6,19.4,16.5,19.6],\"type\":\"scatter\"},{\"mode\":\"lines+markers\",\"name\":\"Valor Predito Baseline\",\"x\":[0,1,2,3,4,5,6,7,8,9,10,11,12,13,14,15,16,17,18,19,20,21,22,23,24,25,26,27,28,29,30,31,32,33,34,35,36,37,38,39,40,41,42,43,44,45,46,47,48,49,50,51,52,53,54,55,56,57,58,59,60,61,62,63,64,65,66,67,68,69,70,71,72,73,74,75,76,77,78,79,80,81,82,83,84,85,86,87,88,89,90,91,92,93],\"y\":[31.40606060606061,20.07565011820331,20.07565011820331,20.07565011820331,20.07565011820331,20.07565011820331,20.07565011820331,20.07565011820331,20.07565011820331,20.07565011820331,20.07565011820331,20.07565011820331,20.07565011820331,20.07565011820331,20.07565011820331,20.07565011820331,20.07565011820331,20.07565011820331,20.07565011820331,20.07565011820331,31.40606060606061,20.07565011820331,20.07565011820331,20.07565011820331,20.07565011820331,20.07565011820331,20.07565011820331,20.07565011820331,20.07565011820331,20.07565011820331,20.07565011820331,31.40606060606061,20.07565011820331,20.07565011820331,20.07565011820331,20.07565011820331,20.07565011820331,20.07565011820331,20.07565011820331,31.40606060606061,20.07565011820331,20.07565011820331,20.07565011820331,20.07565011820331,20.07565011820331,20.07565011820331,20.07565011820331,20.07565011820331,20.07565011820331,20.07565011820331,20.07565011820331,20.07565011820331,20.07565011820331,20.07565011820331,20.07565011820331,20.07565011820331,20.07565011820331,20.07565011820331,20.07565011820331,20.07565011820331,20.07565011820331,20.07565011820331,20.07565011820331,20.07565011820331,20.07565011820331,20.07565011820331,20.07565011820331,20.07565011820331,20.07565011820331,20.07565011820331,31.40606060606061,20.07565011820331,20.07565011820331,20.07565011820331,20.07565011820331,20.07565011820331,20.07565011820331,20.07565011820331,20.07565011820331,20.07565011820331,20.07565011820331,20.07565011820331,20.07565011820331,31.40606060606061,20.07565011820331,20.07565011820331,20.07565011820331,20.07565011820331,20.07565011820331,20.07565011820331,20.07565011820331,20.07565011820331,20.07565011820331,20.07565011820331],\"type\":\"scatter\"},{\"mode\":\"lines\",\"name\":\"Valor Predito Reg Linear\",\"x\":[0,1,2,3,4,5,6,7,8,9,10,11,12,13,14,15,16,17,18,19,20,21,22,23,24,25,26,27,28,29,30,31,32,33,34,35,36,37,38,39,40,41,42,43,44,45,46,47,48,49,50,51,52,53,54,55,56,57,58,59,60,61,62,63,64,65,66,67,68,69,70,71,72,73,74,75,76,77,78,79,80,81,82,83,84,85,86,87,88,89,90,91,92,93],\"y\":[30.543930344958937,19.464238368441993,23.205431736617278,22.554505509588157,16.53650532516172,3.9611887449228327,26.255022720995406,24.067003499366944,22.553297018596204,16.440243804024547,26.90690239918058,23.455251467479584,19.853002921603856,16.237040000147395,21.056915024887715,21.28518724331852,25.456615977927612,15.345976085594305,16.11001643917372,20.308346225923252,27.213018528254764,18.793886590650246,24.906725330834735,18.577808780407146,16.074465745779683,25.91098079783223,5.008202569461439,21.448493498848784,24.535161920022038,19.12420039434828,14.879870439638054,28.17594497229827,21.100338786548907,14.868547711943595,13.763865324869943,14.333646598265755,22.215566871762938,13.4410487887879,22.213803637831894,28.97611732093901,22.69287319918955,17.246653967959148,11.040486087574422,14.436182894432346,19.20183238617447,23.131755339083796,23.230354309623028,20.51941750621132,21.051518460432092,9.468796372407972,22.518158060754693,18.67129154413083,15.695266852814964,18.288008900872505,10.70600837273112,23.150963535101884,17.936194598993616,24.32330921485112,16.37793684912755,16.41566565502464,16.24427474712071,25.008926000272666,26.591590380028425,26.16355240660979,24.876280409476887,14.204191474448503,21.78183585938142,23.567271483382875,16.45132766223815,22.53761020834692,27.517866247202182,26.101485315623787,22.52090977431375,19.677283485352014,23.19601367873069,25.06994479719753,25.02646501277045,25.45856307849853,24.895738906225166,25.84120769049344,13.12821792386671,11.228678757715741,20.310574626738067,33.50864674412301,23.461367783397257,8.373672738166288,21.03345081292298,15.885964119712334,26.098059424385212,28.150351973743533,22.216596210644255,22.19445161507558,26.234258536754144,16.280911809028012],\"type\":\"scatter\"},{\"mode\":\"lines+markers\",\"name\":\"Valor Predito Arvore\",\"x\":[0,1,2,3,4,5,6,7,8,9,10,11,12,13,14,15,16,17,18,19,20,21,22,23,24,25,26,27,28,29,30,31,32,33,34,35,36,37,38,39,40,41,42,43,44,45,46,47,48,49,50,51,52,53,54,55,56,57,58,59,60,61,62,63,64,65,66,67,68,69,70,71,72,73,74,75,76,77,78,79,80,81,82,83,84,85,86,87,88,89,90,91,92,93],\"y\":[34.9,21.2,23.7,15.0,14.1,13.1,23.8,24.5,15.0,17.3,34.9,19.6,19.8,19.5,22.0,15.0,29.9,12.6,14.1,18.8,31.5,21.2,24.5,24.5,14.1,22.9,5.0,27.0,28.7,19.4,13.6,33.2,17.4,8.1,27.5,13.2,20.7,17.8,19.0,36.5,25.0,18.0,5.6,14.3,23.0,23.8,21.7,14.5,20.1,27.9,23.1,21.2,22.6,16.1,7.4,20.5,13.9,25.3,14.8,14.8,13.1,17.1,26.6,20.5,22.0,27.5,27.0,20.0,20.5,23.1,33.4,35.4,23.1,19.0,23.7,17.5,37.2,22.5,24.4,19.2,16.8,27.5,18.8,34.6,17.1,5.0,18.6,19.5,36.2,31.6,20.7,20.0,24.0,19.4],\"type\":\"scatter\"},{\"mode\":\"lines+markers\",\"name\":\"Valor Predito Random Forest\",\"x\":[0,1,2,3,4,5,6,7,8,9,10,11,12,13,14,15,16,17,18,19,20,21,22,23,24,25,26,27,28,29,30,31,32,33,34,35,36,37,38,39,40,41,42,43,44,45,46,47,48,49,50,51,52,53,54,55,56,57,58,59,60,61,62,63,64,65,66,67,68,69,70,71,72,73,74,75,76,77,78,79,80,81,82,83,84,85,86,87,88,89,90,91,92,93],\"y\":[33.72600000000004,21.45699999999999,22.00800000000001,19.670999999999996,15.66899999999999,11.467999999999995,27.712999999999997,24.725,19.935999999999993,18.131999999999984,30.439999999999994,19.233999999999984,19.694999999999975,18.904,21.021000000000004,18.093999999999983,27.757000000000026,13.343000000000002,15.105000000000002,19.133999999999975,31.86099999999998,20.820000000000014,24.899999999999995,23.081999999999997,15.296,27.980000000000015,6.240000000000001,19.209999999999997,26.575000000000028,17.968000000000004,14.336999999999989,33.11000000000002,19.673999999999996,10.704000000000013,22.320999999999998,15.921999999999995,20.969000000000023,15.33999999999998,21.093000000000014,35.172999999999995,24.174,17.927000000000003,7.979999999999998,16.006999999999984,21.74999999999999,23.070999999999998,21.869000000000007,15.382000000000005,19.663999999999984,22.803000000000015,21.90499999999997,20.830999999999996,21.472999999999985,16.745999999999984,8.37,24.460000000000022,15.667000000000021,25.668999999999993,15.884000000000006,16.008000000000003,12.559999999999993,20.480000000000004,25.297999999999988,22.949999999999996,26.216999999999995,19.00399999999999,22.908999999999995,21.223999999999997,20.429999999999996,21.24799999999997,32.07800000000002,31.356000000000023,21.90499999999997,20.10000000000001,22.091000000000008,23.99100000000002,35.68599999999995,26.565000000000023,24.186,20.133999999999986,16.791,17.79699999999999,19.372999999999987,33.001999999999974,18.34899999999998,5.777000000000002,18.896999999999974,17.598999999999993,32.196000000000005,29.106999999999974,20.71200000000002,18.693000000000012,26.335,18.261999999999997],\"type\":\"scatter\"}],                        {\"template\":{\"data\":{\"histogram2dcontour\":[{\"type\":\"histogram2dcontour\",\"colorbar\":{\"outlinewidth\":0,\"ticks\":\"\"},\"colorscale\":[[0.0,\"#0d0887\"],[0.1111111111111111,\"#46039f\"],[0.2222222222222222,\"#7201a8\"],[0.3333333333333333,\"#9c179e\"],[0.4444444444444444,\"#bd3786\"],[0.5555555555555556,\"#d8576b\"],[0.6666666666666666,\"#ed7953\"],[0.7777777777777778,\"#fb9f3a\"],[0.8888888888888888,\"#fdca26\"],[1.0,\"#f0f921\"]]}],\"choropleth\":[{\"type\":\"choropleth\",\"colorbar\":{\"outlinewidth\":0,\"ticks\":\"\"}}],\"histogram2d\":[{\"type\":\"histogram2d\",\"colorbar\":{\"outlinewidth\":0,\"ticks\":\"\"},\"colorscale\":[[0.0,\"#0d0887\"],[0.1111111111111111,\"#46039f\"],[0.2222222222222222,\"#7201a8\"],[0.3333333333333333,\"#9c179e\"],[0.4444444444444444,\"#bd3786\"],[0.5555555555555556,\"#d8576b\"],[0.6666666666666666,\"#ed7953\"],[0.7777777777777778,\"#fb9f3a\"],[0.8888888888888888,\"#fdca26\"],[1.0,\"#f0f921\"]]}],\"heatmap\":[{\"type\":\"heatmap\",\"colorbar\":{\"outlinewidth\":0,\"ticks\":\"\"},\"colorscale\":[[0.0,\"#0d0887\"],[0.1111111111111111,\"#46039f\"],[0.2222222222222222,\"#7201a8\"],[0.3333333333333333,\"#9c179e\"],[0.4444444444444444,\"#bd3786\"],[0.5555555555555556,\"#d8576b\"],[0.6666666666666666,\"#ed7953\"],[0.7777777777777778,\"#fb9f3a\"],[0.8888888888888888,\"#fdca26\"],[1.0,\"#f0f921\"]]}],\"heatmapgl\":[{\"type\":\"heatmapgl\",\"colorbar\":{\"outlinewidth\":0,\"ticks\":\"\"},\"colorscale\":[[0.0,\"#0d0887\"],[0.1111111111111111,\"#46039f\"],[0.2222222222222222,\"#7201a8\"],[0.3333333333333333,\"#9c179e\"],[0.4444444444444444,\"#bd3786\"],[0.5555555555555556,\"#d8576b\"],[0.6666666666666666,\"#ed7953\"],[0.7777777777777778,\"#fb9f3a\"],[0.8888888888888888,\"#fdca26\"],[1.0,\"#f0f921\"]]}],\"contourcarpet\":[{\"type\":\"contourcarpet\",\"colorbar\":{\"outlinewidth\":0,\"ticks\":\"\"}}],\"contour\":[{\"type\":\"contour\",\"colorbar\":{\"outlinewidth\":0,\"ticks\":\"\"},\"colorscale\":[[0.0,\"#0d0887\"],[0.1111111111111111,\"#46039f\"],[0.2222222222222222,\"#7201a8\"],[0.3333333333333333,\"#9c179e\"],[0.4444444444444444,\"#bd3786\"],[0.5555555555555556,\"#d8576b\"],[0.6666666666666666,\"#ed7953\"],[0.7777777777777778,\"#fb9f3a\"],[0.8888888888888888,\"#fdca26\"],[1.0,\"#f0f921\"]]}],\"surface\":[{\"type\":\"surface\",\"colorbar\":{\"outlinewidth\":0,\"ticks\":\"\"},\"colorscale\":[[0.0,\"#0d0887\"],[0.1111111111111111,\"#46039f\"],[0.2222222222222222,\"#7201a8\"],[0.3333333333333333,\"#9c179e\"],[0.4444444444444444,\"#bd3786\"],[0.5555555555555556,\"#d8576b\"],[0.6666666666666666,\"#ed7953\"],[0.7777777777777778,\"#fb9f3a\"],[0.8888888888888888,\"#fdca26\"],[1.0,\"#f0f921\"]]}],\"mesh3d\":[{\"type\":\"mesh3d\",\"colorbar\":{\"outlinewidth\":0,\"ticks\":\"\"}}],\"scatter\":[{\"fillpattern\":{\"fillmode\":\"overlay\",\"size\":10,\"solidity\":0.2},\"type\":\"scatter\"}],\"parcoords\":[{\"type\":\"parcoords\",\"line\":{\"colorbar\":{\"outlinewidth\":0,\"ticks\":\"\"}}}],\"scatterpolargl\":[{\"type\":\"scatterpolargl\",\"marker\":{\"colorbar\":{\"outlinewidth\":0,\"ticks\":\"\"}}}],\"bar\":[{\"error_x\":{\"color\":\"#2a3f5f\"},\"error_y\":{\"color\":\"#2a3f5f\"},\"marker\":{\"line\":{\"color\":\"#E5ECF6\",\"width\":0.5},\"pattern\":{\"fillmode\":\"overlay\",\"size\":10,\"solidity\":0.2}},\"type\":\"bar\"}],\"scattergeo\":[{\"type\":\"scattergeo\",\"marker\":{\"colorbar\":{\"outlinewidth\":0,\"ticks\":\"\"}}}],\"scatterpolar\":[{\"type\":\"scatterpolar\",\"marker\":{\"colorbar\":{\"outlinewidth\":0,\"ticks\":\"\"}}}],\"histogram\":[{\"marker\":{\"pattern\":{\"fillmode\":\"overlay\",\"size\":10,\"solidity\":0.2}},\"type\":\"histogram\"}],\"scattergl\":[{\"type\":\"scattergl\",\"marker\":{\"colorbar\":{\"outlinewidth\":0,\"ticks\":\"\"}}}],\"scatter3d\":[{\"type\":\"scatter3d\",\"line\":{\"colorbar\":{\"outlinewidth\":0,\"ticks\":\"\"}},\"marker\":{\"colorbar\":{\"outlinewidth\":0,\"ticks\":\"\"}}}],\"scattermapbox\":[{\"type\":\"scattermapbox\",\"marker\":{\"colorbar\":{\"outlinewidth\":0,\"ticks\":\"\"}}}],\"scatterternary\":[{\"type\":\"scatterternary\",\"marker\":{\"colorbar\":{\"outlinewidth\":0,\"ticks\":\"\"}}}],\"scattercarpet\":[{\"type\":\"scattercarpet\",\"marker\":{\"colorbar\":{\"outlinewidth\":0,\"ticks\":\"\"}}}],\"carpet\":[{\"aaxis\":{\"endlinecolor\":\"#2a3f5f\",\"gridcolor\":\"white\",\"linecolor\":\"white\",\"minorgridcolor\":\"white\",\"startlinecolor\":\"#2a3f5f\"},\"baxis\":{\"endlinecolor\":\"#2a3f5f\",\"gridcolor\":\"white\",\"linecolor\":\"white\",\"minorgridcolor\":\"white\",\"startlinecolor\":\"#2a3f5f\"},\"type\":\"carpet\"}],\"table\":[{\"cells\":{\"fill\":{\"color\":\"#EBF0F8\"},\"line\":{\"color\":\"white\"}},\"header\":{\"fill\":{\"color\":\"#C8D4E3\"},\"line\":{\"color\":\"white\"}},\"type\":\"table\"}],\"barpolar\":[{\"marker\":{\"line\":{\"color\":\"#E5ECF6\",\"width\":0.5},\"pattern\":{\"fillmode\":\"overlay\",\"size\":10,\"solidity\":0.2}},\"type\":\"barpolar\"}],\"pie\":[{\"automargin\":true,\"type\":\"pie\"}]},\"layout\":{\"autotypenumbers\":\"strict\",\"colorway\":[\"#636efa\",\"#EF553B\",\"#00cc96\",\"#ab63fa\",\"#FFA15A\",\"#19d3f3\",\"#FF6692\",\"#B6E880\",\"#FF97FF\",\"#FECB52\"],\"font\":{\"color\":\"#2a3f5f\"},\"hovermode\":\"closest\",\"hoverlabel\":{\"align\":\"left\"},\"paper_bgcolor\":\"white\",\"plot_bgcolor\":\"#E5ECF6\",\"polar\":{\"bgcolor\":\"#E5ECF6\",\"angularaxis\":{\"gridcolor\":\"white\",\"linecolor\":\"white\",\"ticks\":\"\"},\"radialaxis\":{\"gridcolor\":\"white\",\"linecolor\":\"white\",\"ticks\":\"\"}},\"ternary\":{\"bgcolor\":\"#E5ECF6\",\"aaxis\":{\"gridcolor\":\"white\",\"linecolor\":\"white\",\"ticks\":\"\"},\"baxis\":{\"gridcolor\":\"white\",\"linecolor\":\"white\",\"ticks\":\"\"},\"caxis\":{\"gridcolor\":\"white\",\"linecolor\":\"white\",\"ticks\":\"\"}},\"coloraxis\":{\"colorbar\":{\"outlinewidth\":0,\"ticks\":\"\"}},\"colorscale\":{\"sequential\":[[0.0,\"#0d0887\"],[0.1111111111111111,\"#46039f\"],[0.2222222222222222,\"#7201a8\"],[0.3333333333333333,\"#9c179e\"],[0.4444444444444444,\"#bd3786\"],[0.5555555555555556,\"#d8576b\"],[0.6666666666666666,\"#ed7953\"],[0.7777777777777778,\"#fb9f3a\"],[0.8888888888888888,\"#fdca26\"],[1.0,\"#f0f921\"]],\"sequentialminus\":[[0.0,\"#0d0887\"],[0.1111111111111111,\"#46039f\"],[0.2222222222222222,\"#7201a8\"],[0.3333333333333333,\"#9c179e\"],[0.4444444444444444,\"#bd3786\"],[0.5555555555555556,\"#d8576b\"],[0.6666666666666666,\"#ed7953\"],[0.7777777777777778,\"#fb9f3a\"],[0.8888888888888888,\"#fdca26\"],[1.0,\"#f0f921\"]],\"diverging\":[[0,\"#8e0152\"],[0.1,\"#c51b7d\"],[0.2,\"#de77ae\"],[0.3,\"#f1b6da\"],[0.4,\"#fde0ef\"],[0.5,\"#f7f7f7\"],[0.6,\"#e6f5d0\"],[0.7,\"#b8e186\"],[0.8,\"#7fbc41\"],[0.9,\"#4d9221\"],[1,\"#276419\"]]},\"xaxis\":{\"gridcolor\":\"white\",\"linecolor\":\"white\",\"ticks\":\"\",\"title\":{\"standoff\":15},\"zerolinecolor\":\"white\",\"automargin\":true,\"zerolinewidth\":2},\"yaxis\":{\"gridcolor\":\"white\",\"linecolor\":\"white\",\"ticks\":\"\",\"title\":{\"standoff\":15},\"zerolinecolor\":\"white\",\"automargin\":true,\"zerolinewidth\":2},\"scene\":{\"xaxis\":{\"backgroundcolor\":\"#E5ECF6\",\"gridcolor\":\"white\",\"linecolor\":\"white\",\"showbackground\":true,\"ticks\":\"\",\"zerolinecolor\":\"white\",\"gridwidth\":2},\"yaxis\":{\"backgroundcolor\":\"#E5ECF6\",\"gridcolor\":\"white\",\"linecolor\":\"white\",\"showbackground\":true,\"ticks\":\"\",\"zerolinecolor\":\"white\",\"gridwidth\":2},\"zaxis\":{\"backgroundcolor\":\"#E5ECF6\",\"gridcolor\":\"white\",\"linecolor\":\"white\",\"showbackground\":true,\"ticks\":\"\",\"zerolinecolor\":\"white\",\"gridwidth\":2}},\"shapedefaults\":{\"line\":{\"color\":\"#2a3f5f\"}},\"annotationdefaults\":{\"arrowcolor\":\"#2a3f5f\",\"arrowhead\":0,\"arrowwidth\":1},\"geo\":{\"bgcolor\":\"white\",\"landcolor\":\"#E5ECF6\",\"subunitcolor\":\"white\",\"showland\":true,\"showlakes\":true,\"lakecolor\":\"white\"},\"title\":{\"x\":0.05},\"mapbox\":{\"style\":\"light\"}}}},                        {\"responsive\": true}                    ).then(function(){\n",
              "                            \n",
              "var gd = document.getElementById('414ace71-c707-4547-9187-a85941c0d5f2');\n",
              "var x = new MutationObserver(function (mutations, observer) {{\n",
              "        var display = window.getComputedStyle(gd).display;\n",
              "        if (!display || display === 'none') {{\n",
              "            console.log([gd, 'removed!']);\n",
              "            Plotly.purge(gd);\n",
              "            observer.disconnect();\n",
              "        }}\n",
              "}});\n",
              "\n",
              "// Listen for the removal of the full notebook cells\n",
              "var notebookContainer = gd.closest('#notebook-container');\n",
              "if (notebookContainer) {{\n",
              "    x.observe(notebookContainer, {childList: true});\n",
              "}}\n",
              "\n",
              "// Listen for the clearing of the current output cell\n",
              "var outputEl = gd.closest('.output');\n",
              "if (outputEl) {{\n",
              "    x.observe(outputEl, {childList: true});\n",
              "}}\n",
              "\n",
              "                        })                };                            </script>        </div>\n",
              "</body>\n",
              "</html>"
            ]
          },
          "metadata": {}
        }
      ]
    },
    {
      "cell_type": "code",
      "source": [
        "x['MEDV'] = y"
      ],
      "metadata": {
        "id": "3AcTFKJdBO5-"
      },
      "execution_count": null,
      "outputs": []
    },
    {
      "cell_type": "code",
      "source": [
        "x.head()"
      ],
      "metadata": {
        "colab": {
          "base_uri": "https://localhost:8080/",
          "height": 206
        },
        "id": "MuidnogUBZ9f",
        "outputId": "eb39f04b-792b-4ab7-bebf-8d8559cb5d8a"
      },
      "execution_count": null,
      "outputs": [
        {
          "output_type": "execute_result",
          "data": {
            "text/plain": [
              "      CRIM  INDUS  CHAS    NOX  RM  PTRATIO  MEDV\n",
              "0  0.00632   2.31     0  0.538   6     15.3  24.0\n",
              "1  0.02731   7.07     0  0.469   6     17.8  21.6\n",
              "2  0.02729   7.07     0  0.469   7     17.8  34.7\n",
              "3  0.03237   2.18     0  0.458   6     18.7  33.4\n",
              "4  0.06905   2.18     0  0.458   7     18.7  36.2"
            ],
            "text/html": [
              "\n",
              "  <div id=\"df-2bfae71b-33ff-4a74-9e7a-7814ba33bef1\">\n",
              "    <div class=\"colab-df-container\">\n",
              "      <div>\n",
              "<style scoped>\n",
              "    .dataframe tbody tr th:only-of-type {\n",
              "        vertical-align: middle;\n",
              "    }\n",
              "\n",
              "    .dataframe tbody tr th {\n",
              "        vertical-align: top;\n",
              "    }\n",
              "\n",
              "    .dataframe thead th {\n",
              "        text-align: right;\n",
              "    }\n",
              "</style>\n",
              "<table border=\"1\" class=\"dataframe\">\n",
              "  <thead>\n",
              "    <tr style=\"text-align: right;\">\n",
              "      <th></th>\n",
              "      <th>CRIM</th>\n",
              "      <th>INDUS</th>\n",
              "      <th>CHAS</th>\n",
              "      <th>NOX</th>\n",
              "      <th>RM</th>\n",
              "      <th>PTRATIO</th>\n",
              "      <th>MEDV</th>\n",
              "    </tr>\n",
              "  </thead>\n",
              "  <tbody>\n",
              "    <tr>\n",
              "      <th>0</th>\n",
              "      <td>0.00632</td>\n",
              "      <td>2.31</td>\n",
              "      <td>0</td>\n",
              "      <td>0.538</td>\n",
              "      <td>6</td>\n",
              "      <td>15.3</td>\n",
              "      <td>24.0</td>\n",
              "    </tr>\n",
              "    <tr>\n",
              "      <th>1</th>\n",
              "      <td>0.02731</td>\n",
              "      <td>7.07</td>\n",
              "      <td>0</td>\n",
              "      <td>0.469</td>\n",
              "      <td>6</td>\n",
              "      <td>17.8</td>\n",
              "      <td>21.6</td>\n",
              "    </tr>\n",
              "    <tr>\n",
              "      <th>2</th>\n",
              "      <td>0.02729</td>\n",
              "      <td>7.07</td>\n",
              "      <td>0</td>\n",
              "      <td>0.469</td>\n",
              "      <td>7</td>\n",
              "      <td>17.8</td>\n",
              "      <td>34.7</td>\n",
              "    </tr>\n",
              "    <tr>\n",
              "      <th>3</th>\n",
              "      <td>0.03237</td>\n",
              "      <td>2.18</td>\n",
              "      <td>0</td>\n",
              "      <td>0.458</td>\n",
              "      <td>6</td>\n",
              "      <td>18.7</td>\n",
              "      <td>33.4</td>\n",
              "    </tr>\n",
              "    <tr>\n",
              "      <th>4</th>\n",
              "      <td>0.06905</td>\n",
              "      <td>2.18</td>\n",
              "      <td>0</td>\n",
              "      <td>0.458</td>\n",
              "      <td>7</td>\n",
              "      <td>18.7</td>\n",
              "      <td>36.2</td>\n",
              "    </tr>\n",
              "  </tbody>\n",
              "</table>\n",
              "</div>\n",
              "      <button class=\"colab-df-convert\" onclick=\"convertToInteractive('df-2bfae71b-33ff-4a74-9e7a-7814ba33bef1')\"\n",
              "              title=\"Convert this dataframe to an interactive table.\"\n",
              "              style=\"display:none;\">\n",
              "        \n",
              "  <svg xmlns=\"http://www.w3.org/2000/svg\" height=\"24px\"viewBox=\"0 0 24 24\"\n",
              "       width=\"24px\">\n",
              "    <path d=\"M0 0h24v24H0V0z\" fill=\"none\"/>\n",
              "    <path d=\"M18.56 5.44l.94 2.06.94-2.06 2.06-.94-2.06-.94-.94-2.06-.94 2.06-2.06.94zm-11 1L8.5 8.5l.94-2.06 2.06-.94-2.06-.94L8.5 2.5l-.94 2.06-2.06.94zm10 10l.94 2.06.94-2.06 2.06-.94-2.06-.94-.94-2.06-.94 2.06-2.06.94z\"/><path d=\"M17.41 7.96l-1.37-1.37c-.4-.4-.92-.59-1.43-.59-.52 0-1.04.2-1.43.59L10.3 9.45l-7.72 7.72c-.78.78-.78 2.05 0 2.83L4 21.41c.39.39.9.59 1.41.59.51 0 1.02-.2 1.41-.59l7.78-7.78 2.81-2.81c.8-.78.8-2.07 0-2.86zM5.41 20L4 18.59l7.72-7.72 1.47 1.35L5.41 20z\"/>\n",
              "  </svg>\n",
              "      </button>\n",
              "      \n",
              "  <style>\n",
              "    .colab-df-container {\n",
              "      display:flex;\n",
              "      flex-wrap:wrap;\n",
              "      gap: 12px;\n",
              "    }\n",
              "\n",
              "    .colab-df-convert {\n",
              "      background-color: #E8F0FE;\n",
              "      border: none;\n",
              "      border-radius: 50%;\n",
              "      cursor: pointer;\n",
              "      display: none;\n",
              "      fill: #1967D2;\n",
              "      height: 32px;\n",
              "      padding: 0 0 0 0;\n",
              "      width: 32px;\n",
              "    }\n",
              "\n",
              "    .colab-df-convert:hover {\n",
              "      background-color: #E2EBFA;\n",
              "      box-shadow: 0px 1px 2px rgba(60, 64, 67, 0.3), 0px 1px 3px 1px rgba(60, 64, 67, 0.15);\n",
              "      fill: #174EA6;\n",
              "    }\n",
              "\n",
              "    [theme=dark] .colab-df-convert {\n",
              "      background-color: #3B4455;\n",
              "      fill: #D2E3FC;\n",
              "    }\n",
              "\n",
              "    [theme=dark] .colab-df-convert:hover {\n",
              "      background-color: #434B5C;\n",
              "      box-shadow: 0px 1px 3px 1px rgba(0, 0, 0, 0.15);\n",
              "      filter: drop-shadow(0px 1px 2px rgba(0, 0, 0, 0.3));\n",
              "      fill: #FFFFFF;\n",
              "    }\n",
              "  </style>\n",
              "\n",
              "      <script>\n",
              "        const buttonEl =\n",
              "          document.querySelector('#df-2bfae71b-33ff-4a74-9e7a-7814ba33bef1 button.colab-df-convert');\n",
              "        buttonEl.style.display =\n",
              "          google.colab.kernel.accessAllowed ? 'block' : 'none';\n",
              "\n",
              "        async function convertToInteractive(key) {\n",
              "          const element = document.querySelector('#df-2bfae71b-33ff-4a74-9e7a-7814ba33bef1');\n",
              "          const dataTable =\n",
              "            await google.colab.kernel.invokeFunction('convertToInteractive',\n",
              "                                                     [key], {});\n",
              "          if (!dataTable) return;\n",
              "\n",
              "          const docLinkHtml = 'Like what you see? Visit the ' +\n",
              "            '<a target=\"_blank\" href=https://colab.research.google.com/notebooks/data_table.ipynb>data table notebook</a>'\n",
              "            + ' to learn more about interactive tables.';\n",
              "          element.innerHTML = '';\n",
              "          dataTable['output_type'] = 'display_data';\n",
              "          await google.colab.output.renderOutput(dataTable, element);\n",
              "          const docLink = document.createElement('div');\n",
              "          docLink.innerHTML = docLinkHtml;\n",
              "          element.appendChild(docLink);\n",
              "        }\n",
              "      </script>\n",
              "    </div>\n",
              "  </div>\n",
              "  "
            ]
          },
          "metadata": {},
          "execution_count": 99
        }
      ]
    },
    {
      "cell_type": "code",
      "source": [
        "x.to_csv('data.csv', index=False)"
      ],
      "metadata": {
        "id": "8evG5ADyBcUY"
      },
      "execution_count": null,
      "outputs": []
    }
  ]
}